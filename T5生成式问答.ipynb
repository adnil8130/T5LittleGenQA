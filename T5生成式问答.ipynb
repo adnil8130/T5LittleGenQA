{
  "nbformat": 4,
  "nbformat_minor": 0,
  "metadata": {
    "colab": {
      "provenance": [],
      "gpuType": "T4",
      "mount_file_id": "12NvBPm1DDB9sqWlDCEC6WOvfpGljDozn",
      "authorship_tag": "ABX9TyMB6vmwi7n7WgleMGZn5FtC",
      "include_colab_link": true
    },
    "kernelspec": {
      "name": "python3",
      "display_name": "Python 3"
    },
    "language_info": {
      "name": "python"
    },
    "widgets": {
      "application/vnd.jupyter.widget-state+json": {
        "9661677ac78d43abae73c7d746acde0f": {
          "model_module": "@jupyter-widgets/controls",
          "model_name": "HBoxModel",
          "model_module_version": "1.5.0",
          "state": {
            "_dom_classes": [],
            "_model_module": "@jupyter-widgets/controls",
            "_model_module_version": "1.5.0",
            "_model_name": "HBoxModel",
            "_view_count": null,
            "_view_module": "@jupyter-widgets/controls",
            "_view_module_version": "1.5.0",
            "_view_name": "HBoxView",
            "box_style": "",
            "children": [
              "IPY_MODEL_62e1db40a06e42a2a9e620a111c16a29",
              "IPY_MODEL_5b3b4e5c4e5e4fb8a4421b345efac712",
              "IPY_MODEL_f0126ab4f2964c89a5026e3efa8cd6b9"
            ],
            "layout": "IPY_MODEL_4926a756365543da95f0cb050f4cc70d"
          }
        },
        "62e1db40a06e42a2a9e620a111c16a29": {
          "model_module": "@jupyter-widgets/controls",
          "model_name": "HTMLModel",
          "model_module_version": "1.5.0",
          "state": {
            "_dom_classes": [],
            "_model_module": "@jupyter-widgets/controls",
            "_model_module_version": "1.5.0",
            "_model_name": "HTMLModel",
            "_view_count": null,
            "_view_module": "@jupyter-widgets/controls",
            "_view_module_version": "1.5.0",
            "_view_name": "HTMLView",
            "description": "",
            "description_tooltip": null,
            "layout": "IPY_MODEL_b17f0b210202428e99552f1530d173db",
            "placeholder": "​",
            "style": "IPY_MODEL_09e25c868b02453f9e15df5855deac02",
            "value": "100%"
          }
        },
        "5b3b4e5c4e5e4fb8a4421b345efac712": {
          "model_module": "@jupyter-widgets/controls",
          "model_name": "FloatProgressModel",
          "model_module_version": "1.5.0",
          "state": {
            "_dom_classes": [],
            "_model_module": "@jupyter-widgets/controls",
            "_model_module_version": "1.5.0",
            "_model_name": "FloatProgressModel",
            "_view_count": null,
            "_view_module": "@jupyter-widgets/controls",
            "_view_module_version": "1.5.0",
            "_view_name": "ProgressView",
            "bar_style": "success",
            "description": "",
            "description_tooltip": null,
            "layout": "IPY_MODEL_dcd926dc6f604d369ac8983c3dc87ec1",
            "max": 16,
            "min": 0,
            "orientation": "horizontal",
            "style": "IPY_MODEL_7578f46f2d8a4a9ca0aac3e5e5742d5d",
            "value": 16
          }
        },
        "f0126ab4f2964c89a5026e3efa8cd6b9": {
          "model_module": "@jupyter-widgets/controls",
          "model_name": "HTMLModel",
          "model_module_version": "1.5.0",
          "state": {
            "_dom_classes": [],
            "_model_module": "@jupyter-widgets/controls",
            "_model_module_version": "1.5.0",
            "_model_name": "HTMLModel",
            "_view_count": null,
            "_view_module": "@jupyter-widgets/controls",
            "_view_module_version": "1.5.0",
            "_view_name": "HTMLView",
            "description": "",
            "description_tooltip": null,
            "layout": "IPY_MODEL_fefbfced60e3449d9e50a8214470781c",
            "placeholder": "​",
            "style": "IPY_MODEL_6cb26c372eae49619c1783e89a1e523b",
            "value": " 16/16 [03:00&lt;00:00,  9.26s/it]"
          }
        },
        "4926a756365543da95f0cb050f4cc70d": {
          "model_module": "@jupyter-widgets/base",
          "model_name": "LayoutModel",
          "model_module_version": "1.2.0",
          "state": {
            "_model_module": "@jupyter-widgets/base",
            "_model_module_version": "1.2.0",
            "_model_name": "LayoutModel",
            "_view_count": null,
            "_view_module": "@jupyter-widgets/base",
            "_view_module_version": "1.2.0",
            "_view_name": "LayoutView",
            "align_content": null,
            "align_items": null,
            "align_self": null,
            "border": null,
            "bottom": null,
            "display": null,
            "flex": null,
            "flex_flow": null,
            "grid_area": null,
            "grid_auto_columns": null,
            "grid_auto_flow": null,
            "grid_auto_rows": null,
            "grid_column": null,
            "grid_gap": null,
            "grid_row": null,
            "grid_template_areas": null,
            "grid_template_columns": null,
            "grid_template_rows": null,
            "height": null,
            "justify_content": null,
            "justify_items": null,
            "left": null,
            "margin": null,
            "max_height": null,
            "max_width": null,
            "min_height": null,
            "min_width": null,
            "object_fit": null,
            "object_position": null,
            "order": null,
            "overflow": null,
            "overflow_x": null,
            "overflow_y": null,
            "padding": null,
            "right": null,
            "top": null,
            "visibility": null,
            "width": null
          }
        },
        "b17f0b210202428e99552f1530d173db": {
          "model_module": "@jupyter-widgets/base",
          "model_name": "LayoutModel",
          "model_module_version": "1.2.0",
          "state": {
            "_model_module": "@jupyter-widgets/base",
            "_model_module_version": "1.2.0",
            "_model_name": "LayoutModel",
            "_view_count": null,
            "_view_module": "@jupyter-widgets/base",
            "_view_module_version": "1.2.0",
            "_view_name": "LayoutView",
            "align_content": null,
            "align_items": null,
            "align_self": null,
            "border": null,
            "bottom": null,
            "display": null,
            "flex": null,
            "flex_flow": null,
            "grid_area": null,
            "grid_auto_columns": null,
            "grid_auto_flow": null,
            "grid_auto_rows": null,
            "grid_column": null,
            "grid_gap": null,
            "grid_row": null,
            "grid_template_areas": null,
            "grid_template_columns": null,
            "grid_template_rows": null,
            "height": null,
            "justify_content": null,
            "justify_items": null,
            "left": null,
            "margin": null,
            "max_height": null,
            "max_width": null,
            "min_height": null,
            "min_width": null,
            "object_fit": null,
            "object_position": null,
            "order": null,
            "overflow": null,
            "overflow_x": null,
            "overflow_y": null,
            "padding": null,
            "right": null,
            "top": null,
            "visibility": null,
            "width": null
          }
        },
        "09e25c868b02453f9e15df5855deac02": {
          "model_module": "@jupyter-widgets/controls",
          "model_name": "DescriptionStyleModel",
          "model_module_version": "1.5.0",
          "state": {
            "_model_module": "@jupyter-widgets/controls",
            "_model_module_version": "1.5.0",
            "_model_name": "DescriptionStyleModel",
            "_view_count": null,
            "_view_module": "@jupyter-widgets/base",
            "_view_module_version": "1.2.0",
            "_view_name": "StyleView",
            "description_width": ""
          }
        },
        "dcd926dc6f604d369ac8983c3dc87ec1": {
          "model_module": "@jupyter-widgets/base",
          "model_name": "LayoutModel",
          "model_module_version": "1.2.0",
          "state": {
            "_model_module": "@jupyter-widgets/base",
            "_model_module_version": "1.2.0",
            "_model_name": "LayoutModel",
            "_view_count": null,
            "_view_module": "@jupyter-widgets/base",
            "_view_module_version": "1.2.0",
            "_view_name": "LayoutView",
            "align_content": null,
            "align_items": null,
            "align_self": null,
            "border": null,
            "bottom": null,
            "display": null,
            "flex": null,
            "flex_flow": null,
            "grid_area": null,
            "grid_auto_columns": null,
            "grid_auto_flow": null,
            "grid_auto_rows": null,
            "grid_column": null,
            "grid_gap": null,
            "grid_row": null,
            "grid_template_areas": null,
            "grid_template_columns": null,
            "grid_template_rows": null,
            "height": null,
            "justify_content": null,
            "justify_items": null,
            "left": null,
            "margin": null,
            "max_height": null,
            "max_width": null,
            "min_height": null,
            "min_width": null,
            "object_fit": null,
            "object_position": null,
            "order": null,
            "overflow": null,
            "overflow_x": null,
            "overflow_y": null,
            "padding": null,
            "right": null,
            "top": null,
            "visibility": null,
            "width": null
          }
        },
        "7578f46f2d8a4a9ca0aac3e5e5742d5d": {
          "model_module": "@jupyter-widgets/controls",
          "model_name": "ProgressStyleModel",
          "model_module_version": "1.5.0",
          "state": {
            "_model_module": "@jupyter-widgets/controls",
            "_model_module_version": "1.5.0",
            "_model_name": "ProgressStyleModel",
            "_view_count": null,
            "_view_module": "@jupyter-widgets/base",
            "_view_module_version": "1.2.0",
            "_view_name": "StyleView",
            "bar_color": null,
            "description_width": ""
          }
        },
        "fefbfced60e3449d9e50a8214470781c": {
          "model_module": "@jupyter-widgets/base",
          "model_name": "LayoutModel",
          "model_module_version": "1.2.0",
          "state": {
            "_model_module": "@jupyter-widgets/base",
            "_model_module_version": "1.2.0",
            "_model_name": "LayoutModel",
            "_view_count": null,
            "_view_module": "@jupyter-widgets/base",
            "_view_module_version": "1.2.0",
            "_view_name": "LayoutView",
            "align_content": null,
            "align_items": null,
            "align_self": null,
            "border": null,
            "bottom": null,
            "display": null,
            "flex": null,
            "flex_flow": null,
            "grid_area": null,
            "grid_auto_columns": null,
            "grid_auto_flow": null,
            "grid_auto_rows": null,
            "grid_column": null,
            "grid_gap": null,
            "grid_row": null,
            "grid_template_areas": null,
            "grid_template_columns": null,
            "grid_template_rows": null,
            "height": null,
            "justify_content": null,
            "justify_items": null,
            "left": null,
            "margin": null,
            "max_height": null,
            "max_width": null,
            "min_height": null,
            "min_width": null,
            "object_fit": null,
            "object_position": null,
            "order": null,
            "overflow": null,
            "overflow_x": null,
            "overflow_y": null,
            "padding": null,
            "right": null,
            "top": null,
            "visibility": null,
            "width": null
          }
        },
        "6cb26c372eae49619c1783e89a1e523b": {
          "model_module": "@jupyter-widgets/controls",
          "model_name": "DescriptionStyleModel",
          "model_module_version": "1.5.0",
          "state": {
            "_model_module": "@jupyter-widgets/controls",
            "_model_module_version": "1.5.0",
            "_model_name": "DescriptionStyleModel",
            "_view_count": null,
            "_view_module": "@jupyter-widgets/base",
            "_view_module_version": "1.2.0",
            "_view_name": "StyleView",
            "description_width": ""
          }
        },
        "b9a10baf36b941d59ac2867dfe340e62": {
          "model_module": "@jupyter-widgets/controls",
          "model_name": "HBoxModel",
          "model_module_version": "1.5.0",
          "state": {
            "_dom_classes": [],
            "_model_module": "@jupyter-widgets/controls",
            "_model_module_version": "1.5.0",
            "_model_name": "HBoxModel",
            "_view_count": null,
            "_view_module": "@jupyter-widgets/controls",
            "_view_module_version": "1.5.0",
            "_view_name": "HBoxView",
            "box_style": "",
            "children": [
              "IPY_MODEL_605a0f2dfdcc492aab7b9f3dff08e227",
              "IPY_MODEL_b9193fa863d24ba8bdad4a18f241420f",
              "IPY_MODEL_b2d36d69de5e44eb8ab246305c1b4a40"
            ],
            "layout": "IPY_MODEL_8c4424b226d14248b419d3a919e0c8d4"
          }
        },
        "605a0f2dfdcc492aab7b9f3dff08e227": {
          "model_module": "@jupyter-widgets/controls",
          "model_name": "HTMLModel",
          "model_module_version": "1.5.0",
          "state": {
            "_dom_classes": [],
            "_model_module": "@jupyter-widgets/controls",
            "_model_module_version": "1.5.0",
            "_model_name": "HTMLModel",
            "_view_count": null,
            "_view_module": "@jupyter-widgets/controls",
            "_view_module_version": "1.5.0",
            "_view_name": "HTMLView",
            "description": "",
            "description_tooltip": null,
            "layout": "IPY_MODEL_0af4d1d62ff9485b8268bfc54caf561f",
            "placeholder": "​",
            "style": "IPY_MODEL_b31d9cba3a11497d83fd743adf070e3d",
            "value": "loss: 7.485049: 100%"
          }
        },
        "b9193fa863d24ba8bdad4a18f241420f": {
          "model_module": "@jupyter-widgets/controls",
          "model_name": "FloatProgressModel",
          "model_module_version": "1.5.0",
          "state": {
            "_dom_classes": [],
            "_model_module": "@jupyter-widgets/controls",
            "_model_module_version": "1.5.0",
            "_model_name": "FloatProgressModel",
            "_view_count": null,
            "_view_module": "@jupyter-widgets/controls",
            "_view_module_version": "1.5.0",
            "_view_name": "ProgressView",
            "bar_style": "",
            "description": "",
            "description_tooltip": null,
            "layout": "IPY_MODEL_af9f1f5e6bb54afe9815fb1afd95a804",
            "max": 1634,
            "min": 0,
            "orientation": "horizontal",
            "style": "IPY_MODEL_24fd153053844fba8ae6c47a646b89a1",
            "value": 1634
          }
        },
        "b2d36d69de5e44eb8ab246305c1b4a40": {
          "model_module": "@jupyter-widgets/controls",
          "model_name": "HTMLModel",
          "model_module_version": "1.5.0",
          "state": {
            "_dom_classes": [],
            "_model_module": "@jupyter-widgets/controls",
            "_model_module_version": "1.5.0",
            "_model_name": "HTMLModel",
            "_view_count": null,
            "_view_module": "@jupyter-widgets/controls",
            "_view_module_version": "1.5.0",
            "_view_name": "HTMLView",
            "description": "",
            "description_tooltip": null,
            "layout": "IPY_MODEL_f10bc627dd0743fba3a58c2f6c053b43",
            "placeholder": "​",
            "style": "IPY_MODEL_641029f4a5a240598f390bc65e61dacb",
            "value": " 1634/1634 [13:26&lt;00:00,  2.32it/s]"
          }
        },
        "8c4424b226d14248b419d3a919e0c8d4": {
          "model_module": "@jupyter-widgets/base",
          "model_name": "LayoutModel",
          "model_module_version": "1.2.0",
          "state": {
            "_model_module": "@jupyter-widgets/base",
            "_model_module_version": "1.2.0",
            "_model_name": "LayoutModel",
            "_view_count": null,
            "_view_module": "@jupyter-widgets/base",
            "_view_module_version": "1.2.0",
            "_view_name": "LayoutView",
            "align_content": null,
            "align_items": null,
            "align_self": null,
            "border": null,
            "bottom": null,
            "display": null,
            "flex": null,
            "flex_flow": null,
            "grid_area": null,
            "grid_auto_columns": null,
            "grid_auto_flow": null,
            "grid_auto_rows": null,
            "grid_column": null,
            "grid_gap": null,
            "grid_row": null,
            "grid_template_areas": null,
            "grid_template_columns": null,
            "grid_template_rows": null,
            "height": null,
            "justify_content": null,
            "justify_items": null,
            "left": null,
            "margin": null,
            "max_height": null,
            "max_width": null,
            "min_height": null,
            "min_width": null,
            "object_fit": null,
            "object_position": null,
            "order": null,
            "overflow": null,
            "overflow_x": null,
            "overflow_y": null,
            "padding": null,
            "right": null,
            "top": null,
            "visibility": null,
            "width": null
          }
        },
        "0af4d1d62ff9485b8268bfc54caf561f": {
          "model_module": "@jupyter-widgets/base",
          "model_name": "LayoutModel",
          "model_module_version": "1.2.0",
          "state": {
            "_model_module": "@jupyter-widgets/base",
            "_model_module_version": "1.2.0",
            "_model_name": "LayoutModel",
            "_view_count": null,
            "_view_module": "@jupyter-widgets/base",
            "_view_module_version": "1.2.0",
            "_view_name": "LayoutView",
            "align_content": null,
            "align_items": null,
            "align_self": null,
            "border": null,
            "bottom": null,
            "display": null,
            "flex": null,
            "flex_flow": null,
            "grid_area": null,
            "grid_auto_columns": null,
            "grid_auto_flow": null,
            "grid_auto_rows": null,
            "grid_column": null,
            "grid_gap": null,
            "grid_row": null,
            "grid_template_areas": null,
            "grid_template_columns": null,
            "grid_template_rows": null,
            "height": null,
            "justify_content": null,
            "justify_items": null,
            "left": null,
            "margin": null,
            "max_height": null,
            "max_width": null,
            "min_height": null,
            "min_width": null,
            "object_fit": null,
            "object_position": null,
            "order": null,
            "overflow": null,
            "overflow_x": null,
            "overflow_y": null,
            "padding": null,
            "right": null,
            "top": null,
            "visibility": null,
            "width": null
          }
        },
        "b31d9cba3a11497d83fd743adf070e3d": {
          "model_module": "@jupyter-widgets/controls",
          "model_name": "DescriptionStyleModel",
          "model_module_version": "1.5.0",
          "state": {
            "_model_module": "@jupyter-widgets/controls",
            "_model_module_version": "1.5.0",
            "_model_name": "DescriptionStyleModel",
            "_view_count": null,
            "_view_module": "@jupyter-widgets/base",
            "_view_module_version": "1.2.0",
            "_view_name": "StyleView",
            "description_width": ""
          }
        },
        "af9f1f5e6bb54afe9815fb1afd95a804": {
          "model_module": "@jupyter-widgets/base",
          "model_name": "LayoutModel",
          "model_module_version": "1.2.0",
          "state": {
            "_model_module": "@jupyter-widgets/base",
            "_model_module_version": "1.2.0",
            "_model_name": "LayoutModel",
            "_view_count": null,
            "_view_module": "@jupyter-widgets/base",
            "_view_module_version": "1.2.0",
            "_view_name": "LayoutView",
            "align_content": null,
            "align_items": null,
            "align_self": null,
            "border": null,
            "bottom": null,
            "display": null,
            "flex": null,
            "flex_flow": null,
            "grid_area": null,
            "grid_auto_columns": null,
            "grid_auto_flow": null,
            "grid_auto_rows": null,
            "grid_column": null,
            "grid_gap": null,
            "grid_row": null,
            "grid_template_areas": null,
            "grid_template_columns": null,
            "grid_template_rows": null,
            "height": null,
            "justify_content": null,
            "justify_items": null,
            "left": null,
            "margin": null,
            "max_height": null,
            "max_width": null,
            "min_height": null,
            "min_width": null,
            "object_fit": null,
            "object_position": null,
            "order": null,
            "overflow": null,
            "overflow_x": null,
            "overflow_y": null,
            "padding": null,
            "right": null,
            "top": null,
            "visibility": null,
            "width": null
          }
        },
        "24fd153053844fba8ae6c47a646b89a1": {
          "model_module": "@jupyter-widgets/controls",
          "model_name": "ProgressStyleModel",
          "model_module_version": "1.5.0",
          "state": {
            "_model_module": "@jupyter-widgets/controls",
            "_model_module_version": "1.5.0",
            "_model_name": "ProgressStyleModel",
            "_view_count": null,
            "_view_module": "@jupyter-widgets/base",
            "_view_module_version": "1.2.0",
            "_view_name": "StyleView",
            "bar_color": null,
            "description_width": ""
          }
        },
        "f10bc627dd0743fba3a58c2f6c053b43": {
          "model_module": "@jupyter-widgets/base",
          "model_name": "LayoutModel",
          "model_module_version": "1.2.0",
          "state": {
            "_model_module": "@jupyter-widgets/base",
            "_model_module_version": "1.2.0",
            "_model_name": "LayoutModel",
            "_view_count": null,
            "_view_module": "@jupyter-widgets/base",
            "_view_module_version": "1.2.0",
            "_view_name": "LayoutView",
            "align_content": null,
            "align_items": null,
            "align_self": null,
            "border": null,
            "bottom": null,
            "display": null,
            "flex": null,
            "flex_flow": null,
            "grid_area": null,
            "grid_auto_columns": null,
            "grid_auto_flow": null,
            "grid_auto_rows": null,
            "grid_column": null,
            "grid_gap": null,
            "grid_row": null,
            "grid_template_areas": null,
            "grid_template_columns": null,
            "grid_template_rows": null,
            "height": null,
            "justify_content": null,
            "justify_items": null,
            "left": null,
            "margin": null,
            "max_height": null,
            "max_width": null,
            "min_height": null,
            "min_width": null,
            "object_fit": null,
            "object_position": null,
            "order": null,
            "overflow": null,
            "overflow_x": null,
            "overflow_y": null,
            "padding": null,
            "right": null,
            "top": null,
            "visibility": null,
            "width": null
          }
        },
        "641029f4a5a240598f390bc65e61dacb": {
          "model_module": "@jupyter-widgets/controls",
          "model_name": "DescriptionStyleModel",
          "model_module_version": "1.5.0",
          "state": {
            "_model_module": "@jupyter-widgets/controls",
            "_model_module_version": "1.5.0",
            "_model_name": "DescriptionStyleModel",
            "_view_count": null,
            "_view_module": "@jupyter-widgets/base",
            "_view_module_version": "1.2.0",
            "_view_name": "StyleView",
            "description_width": ""
          }
        }
      }
    },
    "accelerator": "GPU"
  },
  "cells": [
    {
      "cell_type": "markdown",
      "metadata": {
        "id": "view-in-github",
        "colab_type": "text"
      },
      "source": [
        "<a href=\"https://colab.research.google.com/github/adnil8130/T5LittleGenQA/blob/main/T5%E7%94%9F%E6%88%90%E5%BC%8F%E9%97%AE%E7%AD%94.ipynb\" target=\"_parent\"><img src=\"https://colab.research.google.com/assets/colab-badge.svg\" alt=\"Open In Colab\"/></a>"
      ]
    },
    {
      "cell_type": "markdown",
      "source": [
        "# 目标\n",
        "训练一个生成式问答模型，base模型采用Google T5-Base(\"uer/t5-base-chinese-cluecorpussmall\")\n",
        "\n",
        "预训练模型地址：https://huggingface.co/uer/t5-base-chinese-cluecorpussmall\n",
        "\n",
        "模型的评价指标采用BLEU-1，BLEU-2，BLEU-3，BLEU-4。"
      ],
      "metadata": {
        "id": "XB0rQXT6RK7Z"
      }
    },
    {
      "cell_type": "markdown",
      "source": [],
      "metadata": {
        "id": "dJQKxYENR7ug"
      }
    },
    {
      "cell_type": "markdown",
      "source": [
        "# 数据集\n",
        "数据集：链接：https://pan.quark.cn/s/6d4a98cd65f2    \n",
        "\n",
        "提取码：bzne\n",
        "\n",
        "数据的格式如下：\n",
        "```\n",
        "{\"context\": \"违规分为:一般违规扣分、严重违规扣分、出售假冒商品违规扣分,淘宝网每年12月31日24:00点会对符合条件的扣分做清零处理,详情如下:|温馨提醒:由于出售假冒商品24≤N<48分,当年的24分不清零,所以会存在第一年和第二年的不同计分情况。\", \"answer\": \"12月31日24:00\", \"question\": \"淘宝扣分什么时候清零\", \"id\": 203}\n",
        "```"
      ],
      "metadata": {
        "id": "9-mM3YxoRqpe"
      }
    },
    {
      "cell_type": "markdown",
      "source": [
        "# 1. 准备数据"
      ],
      "metadata": {
        "id": "elmV_poiR3ZE"
      }
    },
    {
      "cell_type": "code",
      "source": [
        "import transformers\n",
        "import numpy as np\n",
        "import torch\n",
        "print(transformers.__version__)\n",
        "print(torch.__version__)\n",
        "from torch.utils.data import Dataset, random_split\n",
        "import json"
      ],
      "metadata": {
        "id": "GQKExfTQ5uJn",
        "colab": {
          "base_uri": "https://localhost:8080/"
        },
        "outputId": "c5085f44-d360-4de2-ddb8-06b7637f781d"
      },
      "execution_count": 1,
      "outputs": [
        {
          "output_type": "stream",
          "name": "stdout",
          "text": [
            "4.48.3\n",
            "2.5.1+cu124\n"
          ]
        }
      ]
    },
    {
      "cell_type": "code",
      "source": [
        "max_context_len = 0\n",
        "max_question_len = 0\n",
        "max_answer_len = 0\n",
        "context = \"\"\n",
        "questiont = \"\"\n",
        "answer = \"\"\n",
        "\n",
        "save_path_file = '/content/drive/MyDrive'\n",
        "train_data_address = save_path_file + '/train.json'\n",
        "dev_data_address = save_path_file + '/dev.json'\n",
        "\n",
        "with open(train_data_address, 'rt', encoding='utf-8') as f:\n",
        "  for idx, line in enumerate(f):\n",
        "    sample = json.loads(line.strip())\n",
        "    if len(sample[\"context\"]) > max_question_len:\n",
        "        max_context_len = len(sample[\"context\"])\n",
        "        context = sample[\"context\"]\n",
        "    if len(sample[\"question\"]) > max_question_len:\n",
        "        max_question_len = len(sample[\"question\"])\n",
        "        question = sample[\"question\"]\n",
        "    if len(sample[\"answer\"]) > max_answer_len:\n",
        "        max_answer_len = len(sample[\"answer\"])\n",
        "        answer = sample[\"answer\"]\n",
        "\n",
        "with open(dev_data_address, 'rt', encoding='utf-8') as f:\n",
        "  for idx, line in enumerate(f):\n",
        "    sample = json.loads(line.strip())\n",
        "    if len(sample[\"context\"]) > max_question_len:\n",
        "        max_context_len = len(sample[\"context\"])\n",
        "        context = sample[\"context\"]\n",
        "    if len(sample[\"question\"]) > max_question_len:\n",
        "        max_question_len = len(sample[\"question\"])\n",
        "        question = sample[\"question\"]\n",
        "    if len(sample[\"answer\"]) > max_answer_len:\n",
        "        max_answer_len = len(sample[\"answer\"])\n",
        "        answer = sample[\"answer\"]\n",
        "\n",
        "print(\"最长context\", max_context_len, context)\n",
        "print(\"最长question\", max_question_len, question)\n",
        "print(\"最长answer\", max_answer_len, answer)"
      ],
      "metadata": {
        "id": "o1EUw3OTY-vk",
        "colab": {
          "base_uri": "https://localhost:8080/"
        },
        "outputId": "664ef5ed-5a03-4bdc-af14-3ef22bedad3a"
      },
      "execution_count": 2,
      "outputs": [
        {
          "output_type": "stream",
          "name": "stdout",
          "text": [
            "最长context 107 2015下半年教师资格证考试时间为11月1日，考生可于2015年10月26日—10月31日登录报名系统，根据提示下载pdf准考证文件。下载后，仔细核对个人信息，并直接打印成准考，按准考证上的要求到指定地点参加考试。\n",
            "最长question 42 痞子猪身上是什么字母? (问题由猫小逗提供)【答题格式为da+答案,例如答案是爱消除\n",
            "最长answer 110 如果下雨的时候你拖着行李箱子站在屋檐下面那么其实我没有足够的时间找一个好一点的理由抛弃家里面的狗坐上K667次列车到你在的地方找个商店买一把伞然后给我妹妹弹吉他因为她要参加比赛所以我回不去了我也不会给你说我泡面的碗还没洗\n"
          ]
        }
      ]
    },
    {
      "cell_type": "markdown",
      "source": [
        "## 构建数据集"
      ],
      "metadata": {
        "id": "BUS6E7I3STnw"
      }
    },
    {
      "cell_type": "code",
      "source": [
        "train_ratio = 0.9\n",
        "max_dataset_size = 22000\n",
        "train_set_size = 20000\n",
        "valid_set_size = 2000\n",
        "\n",
        "class GenQA(Dataset):\n",
        "  def __init__(self, data_file):\n",
        "    self.data = self.load_data(data_file)\n",
        "\n",
        "  def load_data(self, data_file):\n",
        "    Data = {}\n",
        "    with open(data_file, 'rt', encoding='utf-8') as f:\n",
        "      for idx, line in enumerate(f):\n",
        "        if idx >= max_dataset_size:\n",
        "            break\n",
        "        sample = json.loads(line.strip())\n",
        "        Data[idx] = sample\n",
        "    return Data\n",
        "\n",
        "  def __len__(self):\n",
        "    return len(self.data)\n",
        "\n",
        "  def __getitem__(self, idx):\n",
        "    return self.data[idx]\n",
        "\n",
        "data = GenQA(train_data_address)\n",
        "data_size = len(data)\n",
        "\n",
        "train_size = int(train_ratio * data_size)\n",
        "valid_size = data_size - train_size\n",
        "train_data, valid_data = random_split(data, [train_size, valid_size])\n",
        "test_data = GenQA(dev_data_address)"
      ],
      "metadata": {
        "id": "Z8ogSFxcSKWm"
      },
      "execution_count": 3,
      "outputs": []
    },
    {
      "cell_type": "code",
      "source": [
        "print(f'train set size: {len(train_data)}')\n",
        "print(f'valid set size: {len(valid_data)}')\n",
        "print(f'test set size: {len(test_data)}')\n",
        "print(next(iter(train_data)))"
      ],
      "metadata": {
        "colab": {
          "base_uri": "https://localhost:8080/"
        },
        "id": "zo_XnYqUSxi4",
        "outputId": "4aeb5a0a-6356-4c3f-a5d3-6488a64e30e4"
      },
      "execution_count": 4,
      "outputs": [
        {
          "output_type": "stream",
          "name": "stdout",
          "text": [
            "train set size: 13068\n",
            "valid set size: 1452\n",
            "test set size: 984\n",
            "{'context': 'comxx的回答真是................该怎么说呢，他不知道妖精格斗是什么个东西吧.....已发，请查收|comxx的回答真是................该怎么说呢，他不知道妖精格斗是什么个东西吧.....已发，请查收|日系格斗游戏？就是主要空连的那种？叫FATE什么来的，无限代码，PSP平台PC也有，叫啥忘了什么什么伪装吧。啊致命伪装。', 'answer': '致命伪装', 'question': '类似于妖精格斗的游戏', 'id': 8068}\n"
          ]
        }
      ]
    },
    {
      "cell_type": "markdown",
      "source": [
        "## 数据预处理"
      ],
      "metadata": {
        "id": "jnqpVHVbU8NO"
      }
    },
    {
      "cell_type": "code",
      "source": [
        "from transformers import AutoTokenizer\n",
        "model_checkpoint = 'uer/t5-base-chinese-cluecorpussmall'\n",
        "# model_checkpoint = 'uer/t5-small-chinese-cluecorpussmall'\n",
        "tokenizer = AutoTokenizer.from_pretrained(model_checkpoint,return_token_type_ids=False)"
      ],
      "metadata": {
        "id": "Le1FG7QBU-O0"
      },
      "execution_count": 20,
      "outputs": []
    },
    {
      "cell_type": "code",
      "source": [
        "context = train_data[0][\"context\"]\n",
        "question = train_data[0][\"question\"]\n",
        "answer = train_data[0][\"answer\"]\n",
        "\n",
        "inputs = tokenizer(context, question)\n",
        "targets = tokenizer(answer)"
      ],
      "metadata": {
        "id": "GY1qyko-VQKd"
      },
      "execution_count": 21,
      "outputs": []
    },
    {
      "cell_type": "code",
      "source": [
        "print(tokenizer.convert_ids_to_tokens(inputs[\"input_ids\"]))\n",
        "print(tokenizer.convert_ids_to_tokens(targets[\"input_ids\"]))"
      ],
      "metadata": {
        "colab": {
          "base_uri": "https://localhost:8080/"
        },
        "id": "caY0L8I9Vies",
        "outputId": "988a7d38-7e7e-41e5-a34f-13b8cf7991ea"
      },
      "execution_count": 22,
      "outputs": [
        {
          "output_type": "stream",
          "name": "stdout",
          "text": [
            "['[CLS]', 'com', '##xx', '的', '回', '答', '真', '是', '.', '.', '.', '.', '.', '.', '.', '.', '.', '.', '.', '.', '.', '.', '.', '.', '该', '怎', '么', '说', '呢', '，', '他', '不', '知', '道', '妖', '精', '格', '斗', '是', '什', '么', '个', '东', '西', '吧', '.', '.', '.', '.', '.', '已', '发', '，', '请', '查', '收', '|', 'com', '##xx', '的', '回', '答', '真', '是', '.', '.', '.', '.', '.', '.', '.', '.', '.', '.', '.', '.', '.', '.', '.', '.', '该', '怎', '么', '说', '呢', '，', '他', '不', '知', '道', '妖', '精', '格', '斗', '是', '什', '么', '个', '东', '西', '吧', '.', '.', '.', '.', '.', '已', '发', '，', '请', '查', '收', '|', '日', '系', '格', '斗', '游', '戏', '？', '就', '是', '主', '要', '空', '连', '的', '那', '种', '？', '叫', '[UNK]', '什', '么', '来', '的', '，', '无', '限', '代', '码', '，', '[UNK]', '平', '台', '[UNK]', '也', '有', '，', '叫', '啥', '忘', '了', '什', '么', '什', '么', '伪', '装', '吧', '。', '啊', '致', '命', '伪', '装', '。', '[SEP]', '类', '似', '于', '妖', '精', '格', '斗', '的', '游', '戏', '[SEP]']\n",
            "['[CLS]', '致', '命', '伪', '装', '[SEP]']\n"
          ]
        }
      ]
    },
    {
      "cell_type": "code",
      "source": [
        "import torch\n",
        "\n",
        "max_input_length = 256\n",
        "max_target_length = 256\n",
        "sample_cnt = 4\n",
        "\n",
        "inputs = [train_data[s_idx][\"context\"] + train_data[s_idx][\"question\"] for s_idx in range(sample_cnt)]\n",
        "targets = [train_data[s_idx][\"answer\"] for s_idx in range(sample_cnt)]\n",
        "\n",
        "model_inputs = tokenizer(\n",
        "    inputs,\n",
        "    padding=True,\n",
        "    max_length=max_input_length,\n",
        "    truncation=True,\n",
        "    return_tensors=\"pt\",\n",
        "    return_token_type_ids=False\n",
        ")\n",
        "labels = tokenizer(\n",
        "    text_target=targets,\n",
        "    padding=True,\n",
        "    max_length=max_target_length,\n",
        "    truncation=True,\n",
        "    return_tensors=\"pt\",\n",
        "    return_token_type_ids=False\n",
        ")[\"input_ids\"]\n",
        "\n",
        "end_token_index = torch.where(labels == 102)[-1]\n",
        "for idx, end_idx in enumerate(end_token_index):\n",
        "    labels[idx][end_idx+1:] = -100\n",
        "\n",
        "print('batch_X shape:', {k: v.shape for k, v in model_inputs.items()})\n",
        "print('batch_y shape:', labels.shape)\n",
        "print(model_inputs)\n",
        "print(labels)"
      ],
      "metadata": {
        "colab": {
          "base_uri": "https://localhost:8080/"
        },
        "collapsed": true,
        "id": "MjjjsKUBVu36",
        "outputId": "a0f60f24-b116-482f-a13b-ac75db1fecd5"
      },
      "execution_count": 23,
      "outputs": [
        {
          "output_type": "stream",
          "name": "stdout",
          "text": [
            "batch_X shape: {'input_ids': torch.Size([4, 256]), 'attention_mask': torch.Size([4, 256])}\n",
            "batch_y shape: torch.Size([4, 8])\n",
            "{'input_ids': tensor([[ 101, 8134, 9517,  ...,    0,    0,    0],\n",
            "        [ 101, 7452, 1343,  ..., 4638, 6716,  102],\n",
            "        [ 101, 7599, 5034,  ..., 8024,  704,  102],\n",
            "        [ 101, 3315, 3144,  ..., 4924, 1403,  102]]), 'attention_mask': tensor([[1, 1, 1,  ..., 0, 0, 0],\n",
            "        [1, 1, 1,  ..., 1, 1, 1],\n",
            "        [1, 1, 1,  ..., 1, 1, 1],\n",
            "        [1, 1, 1,  ..., 1, 1, 1]])}\n",
            "tensor([[  101,  5636,  1462,   841,  6163,   102,  -100,  -100],\n",
            "        [  101,  4549,  4565,   102,  -100,  -100,  -100,  -100],\n",
            "        [  101,  2255,   691,  4689,  4047,  1773,  2356,   102],\n",
            "        [  101,  5276, 11003,   119,   123,  1062,  7027,   102]])\n"
          ]
        }
      ]
    },
    {
      "cell_type": "markdown",
      "source": [],
      "metadata": {
        "id": "XBitfLngKwq2"
      }
    },
    {
      "cell_type": "code",
      "source": [
        "import torch\n",
        "from torch.utils.data import DataLoader\n",
        "from transformers import AutoModelForSeq2SeqLM\n",
        "import gc\n",
        "\n",
        "\n",
        "max_length = 256\n",
        "train_batch_size = 8\n",
        "test_batch_size = 64\n",
        "\n",
        "device = 'cuda' if torch.cuda.is_available() else 'cpu'\n",
        "print(f'Using {device} device')\n",
        "\n",
        "def clean_cuda(device):\n",
        "    if device == 'cuda':\n",
        "        # 清理无用变量\n",
        "        gc.collect()\n",
        "        torch.cuda.empty_cache()\n",
        "\n",
        "        # 查看清理后剩余显存\n",
        "        print(f\"释放后可用显存: {torch.cuda.mem_get_info()[0]/1024**3:.2f} GB\")\n",
        "\n",
        "clean_cuda(device)\n",
        "model = AutoModelForSeq2SeqLM.from_pretrained(model_checkpoint)\n",
        "model = model.to(device)\n",
        "\n",
        "def collote_fn(batch_samples):\n",
        "    batch_inputs, batch_targets = [], []\n",
        "    for sample in batch_samples:\n",
        "        batch_inputs.append(sample[\"context\"] + sample[\"question\"])\n",
        "        batch_targets.append(sample['answer'])\n",
        "    batch_data = tokenizer(\n",
        "        batch_inputs,\n",
        "        text_target=batch_targets,\n",
        "        padding=True,\n",
        "        max_length=max_length,\n",
        "        truncation=True,\n",
        "        return_tensors=\"pt\",\n",
        "        return_token_type_ids=False\n",
        "    )\n",
        "    batch_data['decoder_input_ids'] = model.prepare_decoder_input_ids_from_labels(batch_data['labels'])\n",
        "    end_token_index = torch.where(batch_data['labels'] == 102)[-1]\n",
        "    for idx, end_idx in enumerate(end_token_index):\n",
        "        batch_data['labels'][idx][end_idx+1:] = -100\n",
        "    return batch_data\n",
        "\n",
        "train_dataloader = DataLoader(train_data, batch_size=train_batch_size, shuffle=True, collate_fn=collote_fn)\n",
        "valid_dataloader = DataLoader(valid_data, batch_size=test_batch_size, shuffle=False, collate_fn=collote_fn)"
      ],
      "metadata": {
        "colab": {
          "base_uri": "https://localhost:8080/"
        },
        "id": "9WBkuH4sdMOq",
        "outputId": "99d71270-470b-4a21-d128-3f1ae5dc6405"
      },
      "execution_count": 24,
      "outputs": [
        {
          "output_type": "stream",
          "name": "stdout",
          "text": [
            "Using cuda device\n",
            "释放后可用显存: 10.38 GB\n"
          ]
        }
      ]
    },
    {
      "cell_type": "code",
      "source": [
        "batch = next(iter(train_dataloader))\n",
        "print(batch.keys())\n",
        "print('batch shape:', {k: v.shape for k, v in batch.items()})\n",
        "print(batch)"
      ],
      "metadata": {
        "colab": {
          "base_uri": "https://localhost:8080/"
        },
        "id": "lR9ghtPidvfn",
        "outputId": "e48e0e00-ea5c-409c-f4cf-10f46e7fe334"
      },
      "execution_count": 25,
      "outputs": [
        {
          "output_type": "stream",
          "name": "stdout",
          "text": [
            "dict_keys(['input_ids', 'attention_mask', 'labels', 'decoder_input_ids'])\n",
            "batch shape: {'input_ids': torch.Size([8, 246]), 'attention_mask': torch.Size([8, 246]), 'labels': torch.Size([8, 10]), 'decoder_input_ids': torch.Size([8, 10])}\n",
            "{'input_ids': tensor([[ 101, 7471, 3862,  ...,    0,    0,    0],\n",
            "        [ 101, 3300,  117,  ...,    0,    0,    0],\n",
            "        [ 101, 1762, 1059,  ...,    0,    0,    0],\n",
            "        ...,\n",
            "        [ 101, 4500, 6814,  ..., 1962, 4500,  102],\n",
            "        [ 101, 1921, 6178,  ...,    0,    0,    0],\n",
            "        [ 101, 4583, 4555,  ...,    0,    0,    0]]), 'attention_mask': tensor([[1, 1, 1,  ..., 0, 0, 0],\n",
            "        [1, 1, 1,  ..., 0, 0, 0],\n",
            "        [1, 1, 1,  ..., 0, 0, 0],\n",
            "        ...,\n",
            "        [1, 1, 1,  ..., 1, 1, 1],\n",
            "        [1, 1, 1,  ..., 0, 0, 0],\n",
            "        [1, 1, 1,  ..., 0, 0, 0]]), 'labels': tensor([[  101,   128,  3299,   129,  3299,   102,  -100,  -100,  -100,  -100],\n",
            "        [  101,  8135,  1039,   120,  2399,   102,  -100,  -100,  -100,  -100],\n",
            "        [  101,  8298,   100,   100,   100,   102,  -100,  -100,  -100,  -100],\n",
            "        [  101,  7942,  5344,  1352,  5682,  5296,   102,  -100,  -100,  -100],\n",
            "        [  101,   122,  2207,  3198,  8121,  1146,  7164,   102,  -100,  -100],\n",
            "        [  101,  7440,  4510,   102,  -100,  -100,  -100,  -100,  -100,  -100],\n",
            "        [  101, 11868,   702,   102,  -100,  -100,  -100,  -100,  -100,  -100],\n",
            "        [  101,  7270,  3763,  3867,  7344,   683,  4906,  1278,  7368,   102]]), 'decoder_input_ids': tensor([[  101,   101,   128,  3299,   129,  3299,   102,     0,     0,     0],\n",
            "        [  101,   101,  8135,  1039,   120,  2399,   102,     0,     0,     0],\n",
            "        [  101,   101,  8298,   100,   100,   100,   102,     0,     0,     0],\n",
            "        [  101,   101,  7942,  5344,  1352,  5682,  5296,   102,     0,     0],\n",
            "        [  101,   101,   122,  2207,  3198,  8121,  1146,  7164,   102,     0],\n",
            "        [  101,   101,  7440,  4510,   102,     0,     0,     0,     0,     0],\n",
            "        [  101,   101, 11868,   702,   102,     0,     0,     0,     0,     0],\n",
            "        [  101,   101,  7270,  3763,  3867,  7344,   683,  4906,  1278,  7368]])}\n"
          ]
        }
      ]
    },
    {
      "cell_type": "markdown",
      "source": [
        "# 2. 模型训练"
      ],
      "metadata": {
        "id": "VJdOb5nxesPB"
      }
    },
    {
      "cell_type": "markdown",
      "source": [
        "## 优化模型参数"
      ],
      "metadata": {
        "id": "ZHyz8nghijIG"
      }
    },
    {
      "cell_type": "code",
      "source": [
        "from tqdm.auto import tqdm\n",
        "import random\n",
        "\n",
        "def train_loop(dataloader, model, optimizer, lr_scheduler, epoch, total_loss, sample_ovserve_ratio=0.01):\n",
        "    progress_bar = tqdm(range(len(dataloader)))\n",
        "    progress_bar.set_description(f'loss: {0:>7f}')\n",
        "    finish_batch_num = (epoch-1) * len(dataloader)\n",
        "\n",
        "    model.train()\n",
        "    loss_record_step = []\n",
        "    for batch, batch_data in enumerate(dataloader, start=1):\n",
        "        batch_data = batch_data.to(device)\n",
        "        outputs = model(**batch_data)\n",
        "\n",
        "        random_number = random.uniform(0, 1)\n",
        "        if random_number < sample_ovserve_ratio:\n",
        "            print(\"input:\", tokenizer.batch_decode(batch_data[\"input_ids\"].cpu().numpy(), skip_special_tokens=True))\n",
        "            # print(\"output:\", outputs)\n",
        "\n",
        "\n",
        "        loss = outputs.loss\n",
        "\n",
        "        optimizer.zero_grad()\n",
        "        loss.backward()\n",
        "        optimizer.step()\n",
        "        lr_scheduler.step()\n",
        "\n",
        "        total_loss += loss.item()\n",
        "        loss_record_step.append(loss.item())\n",
        "        progress_bar.set_description(f'loss: {total_loss/(finish_batch_num + batch):>7f}')\n",
        "        progress_bar.update(1)\n",
        "    return total_loss, loss_record_step"
      ],
      "metadata": {
        "id": "CRDgt2jwey54"
      },
      "execution_count": 26,
      "outputs": []
    },
    {
      "cell_type": "markdown",
      "source": [
        "## 评估指标"
      ],
      "metadata": {
        "id": "ehnFChOsio3D"
      }
    },
    {
      "cell_type": "code",
      "source": [
        "! pip install sacrebleu"
      ],
      "metadata": {
        "collapsed": true,
        "id": "LpRNVcWRfiEO",
        "colab": {
          "base_uri": "https://localhost:8080/"
        },
        "outputId": "bff62db6-8458-425d-baa5-ee72210cfe5d"
      },
      "execution_count": 27,
      "outputs": [
        {
          "output_type": "stream",
          "name": "stdout",
          "text": [
            "Requirement already satisfied: sacrebleu in /usr/local/lib/python3.11/dist-packages (2.5.1)\n",
            "Requirement already satisfied: portalocker in /usr/local/lib/python3.11/dist-packages (from sacrebleu) (3.1.1)\n",
            "Requirement already satisfied: regex in /usr/local/lib/python3.11/dist-packages (from sacrebleu) (2024.11.6)\n",
            "Requirement already satisfied: tabulate>=0.8.9 in /usr/local/lib/python3.11/dist-packages (from sacrebleu) (0.9.0)\n",
            "Requirement already satisfied: numpy>=1.17 in /usr/local/lib/python3.11/dist-packages (from sacrebleu) (1.26.4)\n",
            "Requirement already satisfied: colorama in /usr/local/lib/python3.11/dist-packages (from sacrebleu) (0.4.6)\n",
            "Requirement already satisfied: lxml in /usr/local/lib/python3.11/dist-packages (from sacrebleu) (5.3.1)\n"
          ]
        }
      ]
    },
    {
      "cell_type": "code",
      "source": [
        "from sacrebleu.metrics import BLEU\n",
        "\n",
        "predictions = [\n",
        "    \"This plugin lets you translate web pages between several languages automatically.\"\n",
        "]\n",
        "bad_predictions_1 = [\"This This This This\"]\n",
        "bad_predictions_2 = [\"This plugin\"]\n",
        "references = [\n",
        "    [\n",
        "        \"This plugin allows you to automatically translate web pages between several languages.\"\n",
        "    ]\n",
        "]\n",
        "\n",
        "bleu1 = BLEU(max_ngram_order=1)\n",
        "print(\"==========BLEU-1==========\")\n",
        "print(bleu1.corpus_score(predictions, references).score)\n",
        "print(bleu1.corpus_score(bad_predictions_1, references).score)\n",
        "print(bleu1.corpus_score(bad_predictions_2, references).score)\n",
        "\n",
        "bleu2 = BLEU(max_ngram_order=2)\n",
        "print(\"==========BLEU-2==========\")\n",
        "print(bleu2.corpus_score(predictions, references).score)\n",
        "print(bleu2.corpus_score(bad_predictions_1, references).score)\n",
        "print(bleu2.corpus_score(bad_predictions_2, references).score)\n",
        "\n",
        "bleu3 = BLEU(max_ngram_order=3)\n",
        "print(\"==========BLEU-3==========\")\n",
        "print(bleu3.corpus_score(predictions, references).score)\n",
        "print(bleu3.corpus_score(bad_predictions_1, references).score)\n",
        "print(bleu3.corpus_score(bad_predictions_2, references).score)\n",
        "\n",
        "bleu4 = BLEU(max_ngram_order=4)\n",
        "print(\"==========BLEU-4==========\")\n",
        "print(bleu4.corpus_score(predictions, references).score)\n",
        "print(bleu4.corpus_score(bad_predictions_1, references).score)\n",
        "print(bleu4.corpus_score(bad_predictions_2, references).score)"
      ],
      "metadata": {
        "colab": {
          "base_uri": "https://localhost:8080/"
        },
        "id": "IB3M-Slvffim",
        "outputId": "3b36d501-cb37-41bc-c98a-3eab6fb20b6b"
      },
      "execution_count": 28,
      "outputs": [
        {
          "output_type": "stream",
          "name": "stdout",
          "text": [
            "==========BLEU-1==========\n",
            "84.33740467435464\n",
            "2.634980614046608\n",
            "0.40867714384640685\n",
            "==========BLEU-2==========\n",
            "65.05696445772017\n",
            "2.1514526621798953\n",
            "0.40867714384640685\n",
            "==========BLEU-3==========\n",
            "53.804523766396244\n",
            "1.8269935164445736\n",
            "0.0\n",
            "==========BLEU-4==========\n",
            "46.750469682990165\n",
            "1.683602693167689\n",
            "0.0\n"
          ]
        }
      ]
    },
    {
      "cell_type": "code",
      "source": [
        "import random\n",
        "\n",
        "def test_loop(dataloader, model, sample_ovserve_ratio=0.05):\n",
        "    preds, labels = [], []\n",
        "\n",
        "    model.eval()\n",
        "    for batch_data in tqdm(dataloader):\n",
        "        batch_data = batch_data.to(device)\n",
        "        with torch.no_grad():\n",
        "            generated_tokens = model.generate(\n",
        "                batch_data[\"input_ids\"],\n",
        "                attention_mask=batch_data[\"attention_mask\"],\n",
        "                max_length=max_length,\n",
        "            ).cpu().numpy()\n",
        "        label_tokens = batch_data[\"labels\"].cpu().numpy()\n",
        "\n",
        "        decoded_preds = tokenizer.batch_decode(generated_tokens, skip_special_tokens=True)\n",
        "\n",
        "        random_number = random.uniform(0, 1)\n",
        "        if random_number < sample_ovserve_ratio:\n",
        "            print(\"input:\", tokenizer.batch_decode(batch_data[\"input_ids\"].cpu().numpy(), skip_special_tokens=True))\n",
        "            print(\"output:\", decoded_preds)\n",
        "\n",
        "        label_tokens = np.where(label_tokens != -100, label_tokens, tokenizer.pad_token_id)\n",
        "        decoded_labels = tokenizer.batch_decode(label_tokens, skip_special_tokens=True)\n",
        "\n",
        "        preds += [pred.strip() for pred in decoded_preds]\n",
        "        labels += [[label.strip()] for label in decoded_labels]\n",
        "    return bleu1.corpus_score(preds, labels).score, bleu2.corpus_score(preds, labels).score, bleu3.corpus_score(preds, labels).score, bleu4.corpus_score(preds, labels).score"
      ],
      "metadata": {
        "id": "VxlqEdXEhvlq"
      },
      "execution_count": 29,
      "outputs": []
    },
    {
      "cell_type": "markdown",
      "source": [
        "## 保存模型"
      ],
      "metadata": {
        "id": "L46eosJXsuju"
      }
    },
    {
      "cell_type": "code",
      "source": [
        "test_data = GenQA(dev_data_address)\n",
        "test_dataloader = DataLoader(test_data, batch_size=test_batch_size, shuffle=False, collate_fn=collote_fn)\n",
        "\n",
        "test_loop(test_dataloader, model)"
      ],
      "metadata": {
        "id": "gI25jCsQwp7w",
        "colab": {
          "base_uri": "https://localhost:8080/",
          "height": 67,
          "referenced_widgets": [
            "9661677ac78d43abae73c7d746acde0f",
            "62e1db40a06e42a2a9e620a111c16a29",
            "5b3b4e5c4e5e4fb8a4421b345efac712",
            "f0126ab4f2964c89a5026e3efa8cd6b9",
            "4926a756365543da95f0cb050f4cc70d",
            "b17f0b210202428e99552f1530d173db",
            "09e25c868b02453f9e15df5855deac02",
            "dcd926dc6f604d369ac8983c3dc87ec1",
            "7578f46f2d8a4a9ca0aac3e5e5742d5d",
            "fefbfced60e3449d9e50a8214470781c",
            "6cb26c372eae49619c1783e89a1e523b"
          ]
        },
        "outputId": "6f40cc20-cbb2-4aa3-9662-015bec0e50a7"
      },
      "execution_count": 31,
      "outputs": [
        {
          "output_type": "display_data",
          "data": {
            "text/plain": [
              "  0%|          | 0/16 [00:00<?, ?it/s]"
            ],
            "application/vnd.jupyter.widget-view+json": {
              "version_major": 2,
              "version_minor": 0,
              "model_id": "9661677ac78d43abae73c7d746acde0f"
            }
          },
          "metadata": {}
        },
        {
          "output_type": "execute_result",
          "data": {
            "text/plain": [
              "(0.0, 0.0, 0.0, 0.0)"
            ]
          },
          "metadata": {},
          "execution_count": 31
        }
      ]
    },
    {
      "cell_type": "code",
      "source": [
        "import matplotlib.pyplot as plt\n",
        "import numpy as np\n",
        "\n",
        "def save_data_and_plot(data, txt_file_path, img_file_path):\n",
        "    # ===================== 写入文件部分 =====================\n",
        "    # 追加写入数据（自动创建文件）\n",
        "    with open(txt_file_path, 'a') as f:\n",
        "        # 将数字转为字符串并换行写入\n",
        "        f.write('\\n'.join(map(str, data)))\n",
        "        f.write('\\n')  # 添加换行符分隔不同写入批次\n",
        "\n",
        "    # ===================== 读取文件部分 =====================\n",
        "    # 从文件读取所有数字\n",
        "    loaded_data = []\n",
        "    try:\n",
        "        with open(txt_file_path, 'r') as f:\n",
        "            for line in f:\n",
        "                # 去除空白字符并尝试转换为浮点数\n",
        "                cleaned_line = line.strip()\n",
        "                if cleaned_line:\n",
        "                    loaded_data.append(float(cleaned_line))\n",
        "    except FileNotFoundError:\n",
        "        print(\"错误：文件不存在\")\n",
        "        exit()\n",
        "\n",
        "    # ===================== 绘图部分 =====================\n",
        "    plt.figure(figsize=(10, 6))\n",
        "    plt.plot(loaded_data,\n",
        "            color='green',\n",
        "            linestyle='--',\n",
        "            marker='s',\n",
        "            markersize=8,\n",
        "            linewidth=2)\n",
        "\n",
        "    # 图表装饰\n",
        "    plt.title(\"数值变化曲线\", fontsize=14, pad=20)\n",
        "    plt.xlabel(\"数据索引\", fontsize=12, labelpad=10)\n",
        "    plt.ylabel(\"测量值\", fontsize=12, labelpad=10)\n",
        "    plt.grid(True, alpha=0.4, linestyle=':')\n",
        "\n",
        "    # 自动调整坐标轴范围\n",
        "    plt.xlim(0, len(loaded_data)-1)\n",
        "    plt.ylim(min(loaded_data)-1, max(loaded_data)+1)\n",
        "\n",
        "    # 保存和显示\n",
        "    plt.savefig(img_file_path, dpi=300, bbox_inches='tight')\n",
        "    plt.close()  # 关闭图表释放内存\n",
        "\n",
        "    print(\"操作结果：\")\n",
        "    print(f\"- 数据已保存至 {txt_file_path}\")\n",
        "    print(f\"- 生成曲线图：{img_file_path}\")\n",
        "    print(f\"- 加载数据量：{len(loaded_data)} 条\")"
      ],
      "metadata": {
        "id": "byUCeeMq3r7v"
      },
      "execution_count": 1,
      "outputs": []
    },
    {
      "cell_type": "code",
      "source": [
        "from transformers import AdamW, get_scheduler\n",
        "\n",
        "learning_rate = 2e-5\n",
        "epoch_num = 50\n",
        "\n",
        "optimizer = AdamW(model.parameters(), lr=learning_rate)\n",
        "lr_scheduler = get_scheduler(\n",
        "    \"linear\",\n",
        "    optimizer=optimizer,\n",
        "    num_warmup_steps=0,\n",
        "    num_training_steps=epoch_num*len(train_dataloader),\n",
        ")\n",
        "\n",
        "total_loss = 0.\n",
        "best_bleu1 = 0.\n",
        "best_bleu2 = 0.\n",
        "best_bleu3 = 0.\n",
        "best_bleu4 = 0.\n",
        "best_bleu_weighted_add = 0.\n",
        "txt_file_path = save_path_file + '/lossdata.txt'\n",
        "img_file_path = save_path_file + '/lossdata.png'\n",
        "model_parm_path = None\n",
        "\n",
        "if model_parm_path is not None:\n",
        "    model.load_state_dict(torch.load(model_parm_path))\n",
        "\n",
        "for t in range(epoch_num):\n",
        "    clean_cuda(device)\n",
        "    print(f\"Epoch {t+1}/{epoch_num}\\n-------------------------------\")\n",
        "\n",
        "    total_loss, loss_record_step = train_loop(train_dataloader, model, optimizer, lr_scheduler, t+1, total_loss)\n",
        "    save_data_and_plot(loss_record_step, txt_file_path, img_file_path)\n",
        "    clean_cuda(device)\n",
        "    valid_bleu1, valid_bleu2, valid_bleu3, valid_bleu4 = test_loop(valid_dataloader, model)\n",
        "    print(f\"BLEU1: {valid_bleu1:>0.2f}\\n\")\n",
        "    if valid_bleu1 > best_bleu1:\n",
        "        best_bleu1 = valid_bleu1\n",
        "    print(f\"BLEU2: {valid_bleu2:>0.2f}\\n\")\n",
        "    if valid_bleu2 > best_bleu2:\n",
        "        best_bleu2 = valid_bleu2\n",
        "    print(f\"BLEU3: {valid_bleu3:>0.2f}\\n\")\n",
        "    if valid_bleu3 > best_bleu3:\n",
        "        best_bleu3 = valid_bleu3\n",
        "    print(f\"BLEU4: {valid_bleu4:>0.2f}\\n\")\n",
        "    if valid_bleu4 > best_bleu4:\n",
        "        best_bleu4 = valid_bleu4\n",
        "\n",
        "    valid_bleu = 0.1 * valid_bleu1 + 0.2 * valid_bleu2 + 0.3 * valid_bleu3 + 0.4 * valid_bleu4\n",
        "    if valid_bleu > best_bleu_weighted_add or epoch_num % 2 == 0:\n",
        "        best_bleu_weighted_add = valid_bleu\n",
        "        print('saving new weights...\\n')\n",
        "        torch.save(model.state_dict(), save_path_file + f'/epoch_{t+1}_loss_{loss_record_step[-1]:0.7f}_valid_bleu_{valid_bleu:0.2f}_model_weights.bin')\n",
        "    clean_cuda(device)\n",
        "print(\"Done!\")"
      ],
      "metadata": {
        "colab": {
          "base_uri": "https://localhost:8080/",
          "height": 768,
          "referenced_widgets": [
            "b9a10baf36b941d59ac2867dfe340e62",
            "605a0f2dfdcc492aab7b9f3dff08e227",
            "b9193fa863d24ba8bdad4a18f241420f",
            "b2d36d69de5e44eb8ab246305c1b4a40",
            "8c4424b226d14248b419d3a919e0c8d4",
            "0af4d1d62ff9485b8268bfc54caf561f",
            "b31d9cba3a11497d83fd743adf070e3d",
            "af9f1f5e6bb54afe9815fb1afd95a804",
            "24fd153053844fba8ae6c47a646b89a1",
            "f10bc627dd0743fba3a58c2f6c053b43",
            "641029f4a5a240598f390bc65e61dacb"
          ]
        },
        "id": "2UZZUYopsts1",
        "outputId": "d1fff859-9ef5-44de-9549-6a4ffc83e1b4"
      },
      "execution_count": 33,
      "outputs": [
        {
          "output_type": "stream",
          "name": "stderr",
          "text": [
            "/usr/local/lib/python3.11/dist-packages/transformers/optimization.py:591: FutureWarning: This implementation of AdamW is deprecated and will be removed in a future version. Use the PyTorch implementation torch.optim.AdamW instead, or set `no_deprecation_warning=True` to disable this warning\n",
            "  warnings.warn(\n"
          ]
        },
        {
          "output_type": "stream",
          "name": "stdout",
          "text": [
            "释放后可用显存: 13.25 GB\n",
            "Epoch 1/50\n",
            "-------------------------------\n"
          ]
        },
        {
          "output_type": "display_data",
          "data": {
            "text/plain": [
              "  0%|          | 0/1634 [00:00<?, ?it/s]"
            ],
            "application/vnd.jupyter.widget-view+json": {
              "version_major": 2,
              "version_minor": 0,
              "model_id": "b9a10baf36b941d59ac2867dfe340e62"
            }
          },
          "metadata": {}
        },
        {
          "output_type": "stream",
          "name": "stdout",
          "text": [
            "input: ['二 哈 多 少 钱 一 只 、 二 哈 价 格 在 1600 - 3500 哈 士 奇 在 看 到 主 人 回 家 时, 会 兴 奋 地 跑 来 迎 接, 除 了 高 兴 地 摇 尾 巴 之 外, 还 像 是 尿 失 禁 一 样, 突 然 尿 了 出 来 。 这 种 奇 怪 的 行 为 常 会 让 人 搞 不 清 楚 哈 士 奇 到 底 是 怎 么 了 。 其 实 这 种 一 兴 奋 就 尿 尿 的 行 为 常 被 行 为 学 家 认 为 是 所 谓 的 服 从 性 尿 尿 二 哈 多 少 钱 一 只 价 格, 哈 士 奇 ( 西 伯 利 亚 雪 橇 犬 ), 体 重 介 于 25～60 磅 ( 16～27kg ) 之 间, 身 高 大 约 20～23. 5 英 寸 ( 51～1500px ), 是 一 种 中 型 犬 。 哈 士 奇 是 原 始 的 古 老 犬 种, 在 西 伯 利 亚 东 北 部 、 格 陵 兰 南 部 生 活 。 哈 士 奇 名 字 的 由 来, 是 源 自 其 独 特 的 嘶 哑 叫 声 。 哈 士 奇 性 格 多 变, 有 的 极 端 胆 小, 有 的 极 端 暴', '管 家 琪 。 1960 年 出 生 于 台 北 市 ， 祖 籍 江 苏 盐 城 。 辅 仁 大 学 历 史 系 毕 业 。 曾 任 《 民 生 报 》 记 者 。 现 专 职 写 作 ， 以 儿 童 文 学 创 作 为 主 。 已 出 版 童 话 、 少 年 小 说 、 翻 译 及 改 写 作 品 两 百 余 册 。 在 中 国 大 陆 、 香 港 和 马 来 西 亚 也 各 有 数 十 册 作 品 出 版 。 其 中 ， 长 篇 少 年 小 说 《 小 婉 心 》 获 1992 年 金 鼎 奖 ， 短 篇 少 年 小 说 集 《 珍 珠 奶 茶 的 诱 惑 》 入 选 1996 年 德 国 法 兰 克 福 书 展 最 佳 童 书 ， 短 篇 少 年 小 说 集 《 真 情 苹 果 派 》 入 选 1998 年 香 港 书 展 百 大 好 书 。 部 分 作 品 曾 被 译 介 成 英 文 、 日 文 、 韩 文 及 德 文 。 毕 业 于 台 湾 辅 仁 大 学 历 史 系 ， 曾 任 台 湾 《 民 生 报 》 记 者 。 1991 年 5 月 底 辞 掉 记 者 工 作 之 后 ， 在 家 专 职 写 作 ， 以 儿 童', '《 人 民 的 名 义 》 热 播, 引 发 全 民 追 剧 潮 。 万 万 没 想 到, 最 先 火 起 来 的 不 是 颜 值 担 当 陆 毅, 不 是 演 技 爆 表 的 侯 勇, 而 是 他 达 康 书 记 。 上 有 前 任 留 的 债, 左 右 还 有 同 僚 踩, 堪 称 全 剧 第 一 背 锅 侠 。 凭 借 个 人 魅 力 和 实 力 演 技 强 势 圈 粉, 被 迷 妹 狂 甩 表 情 包, 一 夜 之 间 成 为 中 老 年 网 红 爆 款 。 火 到 什 么 程 度? 演 员 都 被 做 成 了 表 情 包! 表 情 包 1 表 情 包 2 第 一 集, 对 贪 官 丁 义 珍 是 批 捕 还 是 双 规, 市 委 、 市 政 府 、 检 察 院 进 行 了 大 讨 论 。 讨 论 期 间, 李 达 康 曾 短 暂 离 开, 这 个 细 节 让 大 家 都 以 为 他 就 是 丁 义 珍 外 逃 的 幕 后 主 使 。 可 这 戏 接 着 看 下 去, 大 家 发 现, 一 直 奔 走 在 道 路 上 的 达 康 书 记, 虽 然', '日 本 靠 左 行 驶 ， 日 本 国 家 的 汽 车 的 方 向 盘 在 右 边 。 汽 车 方 向 盘 在 哪 边 ， 交 通 规 定 靠 左 还 是 靠 右 行 驶 这 个 以 国 家 交 通 体 制 规 定 的 不 同 而 不 同 ， 在 中 国 是 在 左 边 好 ， 因 为 中 国 的 马 路 是 靠 右 行 驶 ， 所 以 在 左 边 视 野 开 阔 方 便 行 驶 。 但 是 在 外 国 的 一 些 国 家 是 ， 车 辆 是 靠 左 行 驶 ， 这 样 的 话 方 向 盘 就 得 在 右 边 了 。 靠 右 行 驶 的 国 家 ： 多 是 典 型 大 陆 国 家 ， 如 美 国 、 加 拿 大 、 中 国 、 俄 罗 斯 、 德 国 、 法 国 、 巴 西 等 等 。 靠 左 行 驶 的 国 家 ： 英 国 、 日 本 、 新 加 坡 、 印 度 、 巴 基 斯 坦 、 印 尼 、 泰 国 、 澳 大 利 亚 、 新 西 兰 等 。 日 本 汽 车 方 向 盘 在 哪 边', '索 尼 电 视 在 接 口 配 置 上 非 常 齐 全 ， 为 了 更 好 满 足 广 大 消 费 者 的 日 常 使 用 需 求 ， 还 加 入 了 多 组 接 口 ， 例 如 接 口 、 接 口 、 接 口 以 及 网 络 接 口 等 。 机 身 背 面 提 供 了 基 本 操 作 按 钮 ， 用 户 在 找 不 到 遥 控 器 的 情 况 下 也 能 对 电 视 进 行 控 制 。 | 索 尼 - 电 视 可 以 说 更 加 符 合 人 眼 观 看 习 惯 ， 通 过 曲 面 屏 幕 可 以 让 用 户 看 到 更 加 宽 广 、 真 实 的 画 面 内 容 。 该 款 产 品 在 画 质 方 面 表 现 不 俗 ， 喜 欢 的 朋 友 可 以 考 虑 下 。 | 三 星 采 用 纤 薄 的 边 框 、 金 属 支 架 和 极 具 质 感 的 金 属 抛 光 面 呈 现 出 简 约 主 义 的 设 计 风 格 ， 设 计 时 尚 雅 致 。 亮 的 金 属 表 面 月 牙 弓 形 的 时 尚 底 座 ， 展 现 卓 尔 不 凡 的 独 特 外 观 ， 散 发 出', '（ 一 ） 腾 讯 微 云 中 上 传 的 文 件 没 有 期 限 的 限 制 ， 只 要 上 传 者 一 直 保 留 文 件 在 微 云 网 盘 中 即 可 ； （ 二 ） 腾 讯 微 云 中 上 传 的 文 件 的 方 法 ： 一 般 人 经 常 都 会 在 电 脑 上 登 录 着 qq ， 在 qq 主 界 面 右 下 角 点 击 打 开 应 用 管 理 器 ； 在 个 人 工 具 类 ， 点 击 第 二 个 选 项 微 云 ， 即 可 打 开 微 云 的 界 面 了 ； 在 微 云 的 界 面 上 ， 点 击 左 上 角 的 添 加 ， 选 择 文 件 或 者 文 件 夹 ； 在 打 开 的 窗 口 上 找 到 并 且 选 中 需 要 上 传 的 文 件 ， 点 击 打 开 即 可 上 传 文 件 了 。 微 云 保 存 多 久', '文 章 1984 年 出 生 于 陕 西 省 西 安 市 。 上 高 三 的 时 候 ， 文 章 被 保 送 到 四 川 师 范 大 学 艺 术 学 院 学 习 影 视 表 演 ， 但 是 他 并 未 进 入 这 个 学 校 ， 而 是 决 心 去 北 京 学 习 。 在 填 写 大 学 志 愿 之 前 ， 文 章 专 门 去 北 京 考 察 了 中 国 两 大 艺 术 院 校 北 京 电 影 学 院 和 中 央 戏 剧 学 院 。 回 到 西 安 之 后 ， 文 章 不 顾 父 母 阻 拦 ， 将 大 学 志 愿 从 一 本 到 专 科 总 共 八 个 志 愿 全 部 填 成 中 央 戏 剧 学 院 。 2002 年 文 章 被 中 央 戏 剧 学 院 表 演 系 录 取 。 文 章 是 哪 里 人', '1. 蒂 芬 尼 ( 1837 年 纽 约 ， 以 银 制 餐 具 出 名 ， 珠 宝 界 的 皇 后 ， 以 钻 石 和 银 制 品 著 称 于 世 ) | 品 牌 介 绍 ： 蒂 芬 尼 ， 钻 石 之 王 ， 世 界 上 最 著 名 最 昂 贵 的 银 制 品 。 &. 1837 年 创 建 于 美 国 纽 约 ， 刚 开 始 是 以 银 制 餐 具 出 名 ， 在 1851 年 推 出 了 银 制 925 装 饰 品 而 更 加 著 名 。 1886 年 ， 蒂 芬 尼 推 出 了 最 为 经 典 的 系 列 钻 戒 。 它 的 六 爪 铂 金 设 计 将 钻 石 镶 在 戒 环 上 ， 最 大 限 度 地 衬 托 出 了 钻 石 ， 使 其 得 以 全 方 位 折 射 。 六 爪 镶 嵌 法 面 世 后 ， 立 刻 成 为 订 婚 钻 戒 镶 嵌 的 国 际 标 准 。 到 19 世 纪 末 ， 蒂 芬 尼 的 实 力 已 经 与 欧 洲 珠 宝 商 不 相 上 下 ， 它 的 顾 客 中 包 含 有 欧 洲 王 室 与 富 豪 ， 创 始 人 查 尔 斯 蒂 芬 尼 则 被 美 国']\n",
            "input: ['没 有 外 接 供 电 接 口, 可 以 直 接 插 上 主 板 。 注 意 : 不 是 最 多 功 耗, 最 大 功 耗 估 计 是 120 瓦 。 300 瓦 电 源 都 能 稳 定 使 用 。 | 没 有 外 接 供 电 的, 功 耗 不 到, 对 供 电 要 求 不 高, 参 数 如 下 显 存 容 量 : 显 存 位 宽 : 128bit 核 心 频 率 : 1354 / 显 存 频 率 : 未 来 的 网 吧 卡 | 不 到 的 功 耗, 不 需 要 外 接 供 电, 参 数 : 1050 的 流 处 理 器 为 640 个, 显 存, 为 。 1050 的 流 处 理 器 为 768 个, 显 存, 同 样 为 。 取 代 上 代 / 960, 没 有 辅 助 供 电 | 1050 的 是 640 个, 显 存 是, 功 耗 非 常 低, 仅 为, 而 且 最 重 要 的 是 没 有 外 接 供 电! 这 就 意 味 着 可 以 在 原 有 的 组 装 配 置 上 直 接 升 级 显 卡! 其 他 非', '无 语 了 ， 这 种 提 问 ， 还 有 专 人 回 答 问 题 。 楼 下 那 人 我 看 你 回 答 了 几 次 了 ， 你 这 个 托 儿 也 太 不 专 业 了 ， 起 码 换 一 个 吧 。 这 种 骗 局 ， 这 么 明 显 ， 居 然 还 有 人 信 。 哎 ， 也 难 怪 ， 你 们 专 骗 老 人 ， 太 没 良 心 了 。 这 些 打 着 包 治 万 病 的 东 西 ， 咋 可 能 是 真 的 。 糖 尿 病 ， 世 界 难 题 ， 你 这 一 个 小 东 西 就 能 治 疗 ， 你 当 全 世 界 的 医 生 都 是 白 痴 呀 。 | 其 实 以 前 我 的 想 法 跟 他 也 是 差 不 多 。 不 过 我 年 前 跟 我 姥 爷 买 了 正 安 牌 的 那 个 激 光 治 疗 仪 后 。 效 果 还 可 以 。 可 以 尝 试 下 | 一 刻 通 激 光 心 脑 血 管 治 疗 仪 在 全 国 有 几 百 个 体 验 店 ， 光 我 们 汉 中 有 18 个 ， 开 店 5 年 多 ， 用 户 3000 多 ， 没 有 哪 个 用 户 说 不 好 ， 这 就 是 事 实 ！', '第 一 套 房 ， 指 的 是 在 你 的 名 下 或 者 夫 妻 双 方 名 下 没 有 别 的 住 房 。 那 么 你 现 在 所 买 的 房 子 就 是 首 套 房 ， 也 就 是 第 一 套 房 。 如 果 以 前 买 过 房 子 但 是 现 在 已 经 卖 掉 了 ， 也 算 首 套 房 。 如 果 是 第 一 套 房 ， 那 么 在 交 契 税 的 时 候 能 够 享 受 1 % 的 优 惠 。 首 付 第 一 套 房 的 话 一 般 是 成 交 价 的 20 % 。 如 果 是 一 般 40 % 如 果 买 的 是 二 手 房 的 话 ， 那 么 贷 款 的 话 可 以 贷 到 评 估 价 的 70 % ， 其 余 的 部 分 都 要 算 首 付 的 。 买 房 首 付 一 般 是 多 少', '首 先 要 打 开 手 机 百 度 云, 百 度 云 的 界 面 下 方 我 们 选 择 发 现 按 钮 打 开 。 发 现 界 面 中, 大 家 选 择 这 里 的 离 线 下 载 选 项 进 入 。 免 流 量 离 线 下 载 中 选 择 这 里 的 新 建 任 务 。 选 择 文 件 中, 大 家 下 方 可 以 点 击 自 动 扫 描 本 地 种 子 文 件 。 扫 描 到 种 子 文 件 后, 找 到 你 要 下 载 的 种 子 文 件 点 击 打 开 。 这 里 选 择 你 要 下 载 的 文 件, 然 后 点 击 下 方 的 保 存 到 云 按 钮 。 这 时 候 我 们 可 以 直 接 点 击 这 个 种 子 文 件 进 入 。 现 在 我 们 可 以 直 接 点 击 这 个 文 件 进 行 播 放, 当 然 如 果 是 视 频 才 可 。 或 者 我 们 可 以 选 择 这 个 文 件, 然 后 点 击 下 载 按 钮 下 载 到 手 机 苹 果 bt 下 载 工 具 有 哪 些', '戒 指 的 英 文 单 词 ： ringring [ 英 ] [ r & # 618 ; & # 331 ; ] [ 美 ] [ r & # 618 ; & # 331 ; ] n. 戒 指 ， 指 环 ; 铃 声 ， 钟 声 ; 环 形 物 ; 拳 击 场 ; vt. 形 成 环 状 ; 环 绕 ; 使 （ 例 如 铃 ） 响 ; 打 电 话 给 ; vi. 按 铃 ， 敲 钟 ; 回 响 ; 成 环 形 ; 第 三 人 称 单 数 ： rings 过 去 分 词 ： ringedrung 复 数 ： rings 现 在 进 行 时 ： ringing 过 去 式 ： ringedrang 例 句 : 1. got an engagement ring for christmas. 圣 诞 节 的 时 候 我 戴 上 了 订 婚 戒 指 。 2. can also use a ring to remind yourself of your goal. 你 也 可 以 用 一 枚 戒 指 来 提 醒 自 己 记 住 目 标 。 戒 指 的 英 文', '谢 谢 亲 ^ _ ^ 回 复 伴 我 多 久 2016 - 04 - 30 22 : 25 : 51 发 表 的 我 用 的 南 娜 山 羊 奶 皂 | 嗯 可 以 考 虑 看 看 回 复 继 续 走 下 去 n 2016 - 05 - 01 08 : 39 : 50 发 表 的 泉 立 方 洗 衣 片 不 错, 不 含 莹 光 剂 的 | 嗯, 我 在 卖, 了 解 可 以 + w15946945975 回 复 亲 爱 的 健 忘 症 2016 - 05 - 01 08 : 40 : 37 发 表 的 嗯 可 以 考 虑 看 看 不 含 三 氯 卡 班 的 婴 儿 皂', '一 、 根 据 《 住 宅 设 计 规 范 》 50096 - 1999 （ 2003 年 版 ） 的 4. 1. 4 楼 梯 平 台 净 宽 不 应 小 于 楼 梯 梯 段 净 宽 ， 并 不 得 小 于 1. 20m 。 二 、 根 据 《 民 用 建 筑 设 计 通 则 》 50352 2005 的 6 ． 7 ． 3 梯 段 改 变 方 向 时 ， 扶 手 转 向 端 处 的 平 台 最 小 宽 度 不 应 小 于 梯 段 宽 度 ， 并 不 得 小 于 1. 20m ， 当 有 搬 运 大 型 物 件 需 要 时 应 适 量 加 宽 。 1. 2m 是 实 际 完 成 后 验 收 净 宽 度 ， 作 的 时 候 要 考 虑 抹 灰 厚 度 的 影 响 。 梯 段 宽 度 是 指 扶 手 中 心 线 到 对 面 墙 表 面 的 距 离 ， 所 以 从 规 范 理 解 ， 楼 梯 休 息 平 台 宽 度 是 指 楼 梯 转 角 处 扶 手 中 心 线 距 墙 表 面 的 距 离 。 楼 梯 平 台 宽 度', '这 辆 与 众 不 同 的 匠 心 之 作 当 然 也 是 有 限 量 的, 全 球 仅 限 20 辆, 612 匹 马 力 的 6. 双 涡 轮 增 压 发 动 机, 性 能 强 劲 可 观 。 由 于 这 款 车 子 是 纯 手 工 打 造, 因 此 造 价 很 贵, 最 后 定 出 售 价 约 为 386 万 美 元, 约 合 人 民 币 2500 万 。 迈 巴 赫 62s 全 球 有 几 辆']\n",
            "input: ['申 请 机 动 车 驾 驶 证 科 目 三 考 试 ， 考 试 不 合 格 的 需 要 间 隔 十 日 以 后 就 可 以 重 新 预 约 考 试 驾 驶 证 考 试 根 据 《 机 动 车 驾 驶 证 申 领 和 使 用 规 定 》 第 三 十 七 条 每 个 科 目 考 试 一 次 ， 考 试 不 合 格 的 ， 可 以 补 考 一 次 。 不 参 加 补 考 或 者 补 考 仍 不 合 格 的 ， 本 次 考 试 终 止 ， 申 请 人 应 当 重 新 预 约 考 试 ， 但 科 目 二 、 科 目 三 考 试 应 当 在 十 日 后 预 约 。 科 目 三 安 全 文 明 驾 驶 常 识 考 试 不 合 格 的 ， 已 通 过 的 道 路 驾 驶 技 能 考 试 成 绩 有 效 。 在 驾 驶 技 能 准 考 证 明 有 效 期 内 ， 科 目 二 和 科 目 三 道 路 驾 驶 技 能 考 试 预 约 考 试 的 次 数 不 得 超 过 五 次 。 第 五 次 预 约 考 试 仍 不 合 格 的 ， 已 考 试 合 格 的 其 他 科 目 成 绩 作 废 。 深 圳 科 目 三 不 合 格', '根 据 机 场 的 等 级 不 同, 跑 道 的 长 度 有 变 化. 国 内 民 用 机 场 的 跑 道 长 度 大 多 在 3000 米 以 上 。 跑 道 的 长 度 还 跟 海 拔 有 关 系 ， 海 拔 高 的 地 方 所 需 的 滑 行 距 离 长 ， 所 以 跑 道 长 。 我 国 的 西 藏 昌 都 邦 达 机 场 是 世 界 上 长 度 最 长 的 机 场 之 一 ， 跑 道 长 4200 米 。 客 机 跑 道 长 度', '12 。 长 度 单 位 一 英 尺 等 于 12 英 寸 ， 重 量 单 位 一 磅 等 于 12 盎 司 ， 一 先 令 等 于 12 便 士 ， 就 连 足 球 比 赛 罚 点 球 的 英 制 长 度 也 是 12 码 。 十 二 进 制 来 源 : 传 说 是 十 个 手 指 头 加 两 只 脚 。 这 是 过 去 规 定 的 ， 现 在 规 定 一 打 dozen 为 10 个 。 规 定 一 打 12 个 是 一 种 12 进 制 。 一 打 是 多 少', '目 前 的 手 机 贴 膜 主 要 有 四 种 材 质 ： pp 材 质 、 pvc 材 质 、 pet 材 质 、 arm 材 质 。 pp 材 质 的 贴 膜 比 较 软 ， 透 光 性 也 很 差 ， 起 不 到 防 刮 花 、 防 磨 损 的 作 用 ， 只 可 防 灰 尘 ， 由 于 效 果 不 好 ， 现 在 基 本 被 消 费 者 抛 弃 了 。 pvc 材 质 贴 膜 比 较 柔 软 ， 容 易 粘 贴 ， 但 比 较 厚 ， 透 光 性 能 不 是 很 好 。 而 且 如 果 撕 下 贴 膜 ， 会 在 手 机 屏 幕 上 留 下 残 胶 ， 影 响 美 观 。 pet 材 质 的 贴 膜 ， 具 有 较 高 的 透 光 性 ， 撕 下 后 也 没 有 残 胶 ， 也 不 太 容 易 出 现 贴 膜 中 间 的 小 气 泡 。 但 是 ， 这 种 贴 膜 的 反 光 度 较 高 ， 会 导 致 使 用 者 看 不 清 屏 幕 上 的 字 ， 同 时 也 容 易 在 表 面 上 留 下 指 纹 等 痕 迹 。 arm 材 质 ， 这 种 材 质 的 膜 表 面 经 过 最 新 工 艺 处 理 ， 具 备 耐 磨', '放 在 你 家 里 经 常 接 入 线 的 位 置 ， 就 是 那 个 地 方 最 方 便 布 线 到 其 他 房 间 这 样 子 ， 或 者 用 无 线 路 由 器 ， 信 号 摆 放 位 置 离 你 经 常 用 移 动 设 备 最 近 最 方 便 的 地 方 就 好 。 一 般 家 里 放 在 客 厅 比 较 多 ， 贪 玩 点 的 放 在 卧 室 也 有 ， 不 过 建 议 不 要 放 卧 室 ， 多 少 有 点 电 辐 射 的 。 路 由 器 放 在 什 么 位 置 好', '露 娜 的 强 大 真 的 不 是 能 够 用 语 言 来 形 容 的 。 做 为 一 名 法 师 可 以 连 续 不 断 地 使 用 大 招 来 打 出 伤 害 ; 作 为 一 名 战 士 可 以 利 用 大 招 来 进 行 非 常 灵 活 的 走 位 ; 作 为 一 名 刺 客 英 雄 来 说, 她 能 不 断 利 用 二 技 能 来 控 制 敌 人 并 给 自 己 增 加 护 盾, 保 证 自 己 的 生 存 能 力 。 这 些 全 面 的 属 性 全 部 集 中 在 一 名 英 雄 身 上, 反 问 这 名 英 雄 怎 么 会 不 火 呢? | 貂 蝉 是 当 前 版 本 的 法 师 一 姐, 在 日 常 匹 配 娱 乐 的 时 候 我 们 会 经 常 见 到 这 一 名 英 雄, 而 在 排 位 赛 中 这 名 英 雄 却 并 不 多 见 。 并 不 是 因 为 她 不 够 强, 恰 恰 相 反 貂 蝉 实 在 是 太 强 了 。 | 在 钻 石 分 段 以 上 的 排 位 赛 中 貂 蝉 根 本 就 不 会 被 放 出 来, 甚 至 可 以 把 貂 蝉 看 做 是 系 统', '苏 州 城 始 建 于 公 元 前 514 年 ， 距 今 已 有 2500 多 年 历 史 。 目 前 仍 坐 落 在 春 秋 时 代 的 位 置 上 ， 基 本 保 持 着 水 陆 并 行 、 河 街 相 邻 的 双 棋 盘 格 局 ， 三 纵 三 横 一 环 的 河 道 水 系 和 小 桥 流 水 、 粉 墙 黛 瓦 、 史 迹 名 园 的 独 特 风 貌 。 一 直 以 鱼 米 之 乡 著 称 的 苏 州 ， 通 过 产 业 层 次 的 提 升 、 高 新 技 术 产 业 的 布 局 ， 让 素 有 上 有 天 堂 ， 下 有 苏 杭 美 誉 的 千 年 东 方 水 城 ， 焕 发 出 强 劲 的 经 济 动 力 。 苏 州 在 2016 年 就 稳 坐 江 苏 省 总 量 排 名 第 一 ， 人 均 总 值 最 高 。 除 了 著 名 的 经 济 实 力 ， 苏 州 还 是 中 国 外 籍 人 才 眼 中 最 具 吸 引 力 的 十 大 城 市 之 一 ， 可 见 苏 州 对 高 端 人 才 的 吸 引 已 经 渐 成 规 模 效 应 ， 逐 渐 成 为', '1. 排 骨 洗 净 切 成 小 块, 把 所 有 调 料 倒 入 排 骨 中 ， 加 少 许 水 拌 匀, 腌 制 20 分 钟, 时 间 长 点 更 好 。 2. 蒸 锅 里 水 先 烧 开 再 放 入 排 骨 ， 猛 火 蒸 10 到 15 分 钟 ， 清 蒸 排 骨 出 炉 | 食 材 明 细 排 骨 半 斤 阳 江 豆 鼓 20 粒 腐 竹 3 条 青 椒 1 条 红 椒 1 条 蒜 3 瓣 盐 5 克 生 抽 少 量 鸡 精 5 克 白 糖 半 汤 匙 胡 椒 粉 少 量 花 生 油 适 量 清 淡 口 味 蒸 工 艺 一 小 时 耗 时 普 通 难 度 清 蒸 排 骨 的 做 法 步 骤 清 蒸 排 骨 的 做 法 步 骤 ： 11 准 备 好 食 材 。 清 蒸 排 骨 的 做 法 步 骤 ： 22 把 排 骨 洗 干 净 后 用 冷 水 浸 泡 ， 目 的 泡 出 血 水 ， 腐 竹 浸 泡 ， 也 可 用 香 芋 代 替 腐 竹 。 清 蒸 排 骨 的 做 法 步 骤 ： 33 排 骨 浸 泡 1 小 时 候 ， 拧 干 水 分 。 清 蒸 排 骨 的 做 法 步 骤 ： 44 准 备']\n",
            "input: ['基 层 军 事 法 院 设 在 军 级 单 位 ， 属 政 治 部 管 辖 ， 级 别 正 团 。 基 层 军 事 法 院 包 括 陆 军 军 级 单 位 军 事 法 院 ， 各 省 军 区 军 事 法 院 ， 海 军 舰 队 军 事 法 院 ， 大 军 区 空 军 军 事 法 院 ， 在 京 直 属 部 队 军 事 法 院 等 ， 其 职 权 是 ： （ 1 ） 审 判 正 营 职 以 下 人 员 犯 罪 ， 可 能 判 处 无 期 徒 刑 以 下 刑 罚 的 第 一 审 案 件 ； （ 2 ） 上 级 军 事 法 院 授 权 或 指 定 审 判 的 第 一 审 案 件 。 | 当 然 不 是 。 基 层 军 事 法 院 设 在 军 级 单 位 ， 属 政 治 部 管 辖 ， 级 别 正 团 。 院 长 为 文 职 人 员 ， 级 别 在 文 职 7 级 到 3 级 ， 相 当 于 正 团 到 副 军 级 。 一 般 都 是 师 级 。 | 是 在 军 级 单 位 才 设 置 有 军 事 法 院 。 军 事 法 院 一 般 都 属 于 政 治 部 的 内 设 机 构 。 基 本 上 是 一 套 班', '12 个 0. 65 的 和 比 3. 6 的 十 分 之 六 多 多 少 ？ \\\\ x0a12x0. 65 - 3. 6x6 / 10 = 5. 64 \\\\ x0a8 与 2. 4 的 差 是 1. 4 的 多 少 倍 \\\\ x0a （ 8 - 2. 4 ） ÷1. 4 = 4 | 0. 65×12 一 3. 6×6 / 10 = 5. 64 \\\\ x0a ( 8 一 2. 4 ) ÷1. 4 = 4 倍 。 8 与 2. 4 的 差 是 1. 4 的 多 少 倍', '三 线.. 一 线 城 市 主 要 按 照 城 市 综 合 实 力 和 竞 争 力 来 划 分 ， 另 有 说 法 指 四 大 直 辖 市 。 此 外 在 商 业 活 动 中 ， 企 业 也 会 将 具 有 重 要 市 场 地 位 的 城 市 称 为 一 线 城 市 。 二 线 线 城 市 指 对 本 国 的 经 济 和 社 会 具 有 较 大 影 响 作 用 的 大 都 市 ， 相 对 于 一 线 城 市 影 响 小 些 ， 主 要 是 地 域 性 影 响 。 在 城 市 规 模 、 基 建 、 文 化 、 消 费 等 层 面 ， 二 线 城 市 一 般 均 领 先 于 本 区 域 其 他 城 市 。 三 线 城 市 是 指 比 较 发 达 的 中 小 城 市 ， 指 有 战 略 意 义 的 大 中 城 市 和 经 济 总 量 较 大 的 小 城 市 宜 春 几 线 城 市', '屈 原 其 实 是 一 个 生 性 浪 漫 之 人 ， 他 一 生 中 写 过 很 多 篇 情 诗 ， 《 湘 夫 人 》 就 是 其 中 很 有 名 的 一 篇 。 从 诗 中 可 以 推 断 ， 此 女 美 貌 惊 人 ， 而 且 比 屈 原 拥 有 更 高 的 地 位 ， 所 以 不 少 人 纷 纷 猜 测 ， 《 湘 夫 人 》 写 的 是 楚 怀 王 的 宠 妃 郑 袖 。 好 吧 ， 既 然 是 宠 妃 ， 楚 怀 王 怎 么 能 忍 受 有 人 爱 慕 她 呢 ？ ！ 于 是 ， 屈 原 就 被 放 逐 了 。 为 了 防 止 两 人 关 系 继 续 ， 楚 怀 王 还 特 意 留 命 令 追 杀 屈 原 ， 于 是 在 汨 罗 江 畔 ， 屈 原 被 士 兵 们 杀 害 。 屈 原 爱 慕 的 对 象 是', '第 一 ， 生 于 乱 世 ， 死 于 盛 世 的 人 都 可 以 说 是 生 于 忧 患 死 于 安 乐 的 ， 那 么 这 些 人 往 往 是 在 经 历 了 王 朝 更 替 的 。 或 者 帮 助 王 朝 更 替 自 己 却 能 够 全 身 而 退 的 人 。 春 秋 范 蠡 算 一 个 ， 越 国 灭 亡 到 重 新 崛 起 ， 他 自 己 从 亡 国 大 夫 到 新 国 功 臣 ， 到 自 己 全 身 而 退 ， 成 为 了 当 时 富 豪 陶 朱 公 。 第 二 ， 因 为 有 忧 患 意 识 居 安 思 危 的 人 活 得 更 好 更 有 成 就 ， 而 过 于 安 逸 缺 乏 忧 患 意 识 而 逐 渐 颓 败 腐 朽 甚 至 被 杀 死 的 人 。 前 者 如 开 国 帝 王 ， 比 如 东 汉 光 武 帝 刘 秀 中 兴 汉 朝 ， 后 者 如 很 多 亡 国 之 君 ， 比 如 宋 徽 宗 赵 佶 一 心 醉 心 书 画 却 被 俘 虏 成 了 亡 国 之 君 。 生 于 忧 患 死 于 安 乐 的 人 物', '音 乐 胎 教 ， 是 通 过 对 胎 儿 不 断 地 施 以 适 当 的 乐 声 刺 激 ， 促 使 其 神 经 元 的 轴 突 、 树 突 及 突 触 的 发 育 ， 为 优 化 后 天 的 智 力 及 发 展 音 乐 天 赋 奠 定 基 础 。 在 生 理 作 用 方 面 ， 胎 教 音 乐 通 过 悦 耳 怡 人 的 音 响 效 果 对 孕 妇 和 胎 儿 听 觉 神 经 器 官 的 刺 激 引 起 大 脑 细 胞 的 兴 奋 ， 改 变 下 丘 脑 递 质 的 释 放 ， 促 使 母 体 分 泌 出 一 些 有 益 于 健 康 的 激 素 如 酶 、 乙 酰 胆 碱 等 ， 使 身 体 保 持 极 佳 状 态 ， 促 进 腹 中 的 胎 儿 健 康 成 长 。 | 但 它 的 时 间 也 是 有 规 定 的 ， 太 早 太 晚 都 不 好 。 一 般 怀 孕 24 周 ， 胎 儿 的 听 觉 功 能 已 经 完 全 建 立 。 母 亲 的 说 话 声 不 但 可 以 传 递 给 胎 儿 ， 而 且 胸 腔 的 振 动 对 胎 儿 也 有 一 定 影 响 。 孕 妇 进 行 胎 教 时 的 注', '轻 质 隔 墙 板 可 以 套 北 京 建 筑 与 装 饰 2012 定 额 12 - 502 ， 该 配 额 要 用 到 水 泥 抽 孔 、 隔 墙 板 （ 属 于 轻 质 隔 墙 板 ） 。 隔 墙 板 是 指 / - 2005 《 建 筑 隔 墙 用 轻 质 条 板 》 规 定 的 用 于 建 筑 物 内 部 隔 墙 的 墙 体 预 制 条 板 ， 隔 墙 板 包 括 玻 璃 纤 维 增 强 水 泥 条 板 、 玻 璃 纤 维 增 强 石 膏 空 心 条 板 、 钢 丝 ( 钢 丝 网 ） 增 强 水 泥 条 板 、 轻 混 凝 土 条 板 、 复 合 夹 芯 轻 质 条 板 等 等 。 全 称 是 建 筑 隔 墙 用 轻 质 条 板 ， 作 为 一 般 工 业 建 筑 、 居 住 建 筑 、 公 共 建 筑 工 程 的 非 承 重 内 隔 墙 主 要 材 料 。 轻 质 隔 墙 板 套 什 么 定 额', '内 部 文 件 ！ 沪 昆 高 铁 延 至 12 月 28 日 开 通 ！ 最 全 线 路 图 时 刻 表 \\\\ x0a 互 联 网 11 - 09 12 : 16 \\\\ x0a 日 前 ， 流 传 出 铁 路 系 统 多 份 内 部 文 件 ， 盖 着 大 红 章 ， 明 确 了 高 铁 开 通 的 时 间 ， 以 及 详 细 的 高 铁 站 点 表 ， 以 及 云 南 相 关 铁 路 调 整 的 重 大 信 息 ！ \\\\ x0a \\\\ x0a 序 号 车 次 运 行 区 域 运 行 距 离 始 发 时 间 终 到 时 间 用 时 \\\\ x0a1 济 南 西 - 昆 明 南 2636 8 : 14 22 : 14 14 时 00 分 \\\\ x0a2 昆 明 南 - 济 南 西 7 : 29 21 : 33 14 时 04 分 \\\\ x0a3 北 京 西 - 昆 明 南 2644 7 : 05 19 : 58 12 时 53 分 \\\\ x0a4 昆 明 南 - 北 京 西 8 : 43 21 : 56 13 时 13 分 \\\\ x0a5 北 京 西 - 昆 明 南 10 : 05 22 : 24 12 时 19 分 \\\\ x0a']\n",
            "input: ['太 多 太 多 了 国 服 第 一 蛮 子 - - 赏 金 术 士 。 国 服 第 一 拉 克 丝 _ _ _ _ _ _ _ _ 张 小 爆 。 国 服 第 一 亡 灵 _ _ _ _ _ _ _ _ 霸 哥 啊 。 国 服 第 一 索 拉 卡 _ _ _ _ _ _ _ _ _ _ 冰 芯 灵 。 国 服 第 一 雷 克 顿 _ _ 神 超 。 国 服 第 一 卡 特 _ _ _ _ _ _ 法 师 。 国 服 第 一 黑 默 丁 格 _ _ _ _ _ _ _ _ 武 灬 。 国 服 第 一 阿 卡 利 _ _ _ _ _ _ 誓 约 胜 利 之 剑 。 国 服 第 一 送 头 魔 王 _ _ _ _ _ _ _ 女 孩 可 儿 还 有 太 多 就 不 一 一 说 明 了 手 打 这 么 多 请 点 赞 吧 亲 国 服 第 一 拉 克 丝 是 谁', '赴 美 生 子 最 低 消 费 是 10 万 左 右 。 当 然 赴 美 生 子 不 是 一 次 性 开 销 ， 如 果 回 来 读 不 了 公 立 学 校 ， 那 得 读 私 立 或 者 国 际 学 校 ， 考 虑 未 来 出 国 肯 定 不 可 能 读 最 差 的 吧 ， 那 么 一 年 读 书 一 般 要 5 - 15 万 左 右 ， 一 线 城 市 更 高 。 如 果 不 考 虑 未 来 出 国 ， 赴 美 生 子 没 必 要 。 赴 美 生 子 费 用', '客 服 热 线 是 0755 - 83768788, 您 拨 通 后, 根 据 语 音 提 示 输 入 手 机 号 码, 选 择 4 后 再 按 提 示 选 0, 接 入 人 工 服 务 。 | 微 信 公 众 平 台 认 证 电 话 0755 - 83768788, 接 入 后 按 4, 根 据 提 示 按 0, 等 待 人 工 服 务, 它 会 告 诉 你 坐 席 全 忙, 继 续 等 待 请 按 0, 接 下 来 会 说 服 务 满 了, 重 听 请 按 #, 否 则 请 挂 机 。 没 错, 你 根 本 接 不 进 去, 想 让 腾 讯 服 务 你, 他 妈 的 比 登 天 还 难 。 以 前 我 还 觉 得 腾 讯 还 可 以, 自 从 打 了 这 客 服 电 话 才 知 道, 他 妈 的 坑 死 你 。 微 信 公 众 号 客 服 人 工 服 务 电 话', '辐 射 系 列 总 共 有 6 部 作 品 。 其 中 的 辐 射 战 略 版 ， 我 不 了 解 所 以 这 里 就 不 做 介 绍 ， 应 该 是 减 少 了 要 素 ， 主 打 战 斗 战 旗 策 略 类 的 。 而 辐 射 1 、 2 是 的 复 古 ， 按 照 现 在 人 的 眼 光 可 能 很 难 有 耐 心 玩 下 去 ， 战 斗 是 回 合 制 ， 平 时 探 索 节 奏 也 比 较 拖 沓 ， 但 整 体 剧 情 和 代 入 感 非 常 强 ， 在 上 世 纪 九 十 年 代 这 两 部 影 响 力 是 核 弹 级 别 的 。 而 辐 射 3 则 是 上 古 卷 轴 的 开 发 商 社 从 黑 岛 那 里 接 手 辐 射 系 列 的 首 部 作 品 ， 老 滚 式 的 开 放 世 界 ， 绝 佳 的 玩 法 ， 非 常 好 玩 ， 虽 然 剧 情 深 度 不 如 辐 射 1, 2 ， 但 媒 体 平 均 分 90 以 上 ， 多 家 媒 体 年 度 最 佳 游 戏 ， 说 明 这 部 游 戏 也 已 经 是 神 作 级 别 。 辐 射 ： 新 维 加 斯 ，', '高 邮 哪 家 男 科 医 院 口 碑 比 较 好? 【 ★ 高 邮 同 济 医 院 ★ 全 年 365 天 无 假 日 门 诊 医 院 ★ 】 我 们 三 个 人 都 呆 住 了 ， 男 孩 的 父 亲 高 声 叫 着 儿 子 的 名 字 ， 但 他 的 声 音 被 淹 没 在 河 水 的 怒 吼 声 中 。 保 罗 涉 水 到 达 对 岸 示 意 我 们 鲑 鱼 被 逮 住 了 。 他 把 枯 树 枝 拨 向 一 边 ， 男 孩 儿 紧 抱 着 来 之 不 易 的 鲑 鱼 从 树 丛 里 倒 退 着 出 来 ， 努 力 保 持 着 平 衡 。 | 生 活 最 遗 憾 的 莫 过 于 ： 轻 易 地 放 弃 了 不 该 放 弃 的 ， 固 执 地 坚 持 了 不 该 坚 持 的 。 最 终 也 统 统 流 逝 到 时 间 的 变 迁 中 。 世 界 上 没 有 什 么 东 西 可 以 永 恒 ， 包 括 记 忆 。 如 果 它 流 动 ， 它 就 流 走 ， 如 果 它 存 在 ， 它 就 干 涸 ， 如 果 它 生 长 它 就 调 零 。 生 活 就 是 这 样 地 令 人 烦 恼 。 | 高 邮', '作 为 可 再 生 资 源 ， 竹 子 有 很 大 的 发 展 空 间 ， 最 近 了 解 到 铭 派 竹 木 门 很 不 错 ， 如 果 你 感 兴 趣 可 以 找 一 下 他 们 。 竹 子 的 硬 度 可 达 （ 榉 木 ） ， 密 度 高 每 cm3 达 0. 79g - 0. 95g （ 榉 木 0. 63g ）, 抗 压 强 度 达 1271kg / cm2 ( 榉 木 ≤600kgs ), 具 有 优 越 的 物 理 性 能 ， 并 且 具 有 吸 水 膨 胀 系 数 小 、 不 干 裂 和 不 变 形 的 优 点 。 竹 子 的 硬 度', '高 的 人 气 带 给 他 的 是 更 多 的 商 业 代 言 。 1999 年 孔 令 辉 以 80 万 元 为 安 踏 品 牌 代 言 。 当 时 安 踏 的 年 利 润 只 有 400 万, 80 万 的 代 言 费 是 安 踏 年 利 润 的 1 / 5 。 事 实 证 明 安 踏 没 有 选 错, 我 选 择 、 我 喜 欢 的 广 告 词 为 安 踏 在 品 牌 创 造 的 初 期 挖 来 了 第 一 桶 金, 也 给 安 踏 带 来 了 更 多 的 关 注 和 订 单 。 孔 令 辉 收 入', '美 国 的 电 话 号 码 共 有 10 位 数 字 ， 前 3 位 为 区 域 号 码 ， 后 7 位 数 为 电 话 号 码 。 这 个 和 国 内 的 电 话 号 码 设 置 比 较 相 似 ， 例 如 ： 北 京 ( 010 ) 66665555 ， 上 海 ( 021 ) 5555 6666 。 | 美 国 国 土 面 积 广 阔 跨 度 大 ， 大 至 本 土 分 成 为 太 平 洋 时 区 ( ) 、 山 地 时 区 ( ) 、 中 部 时 区 ( ) 、 东 部 时 区 ( ) 等 4 个 不 同 的 时 区 ( ) ; 当 你 打 长 途 电 话 时 ， 首 先 要 确 定 对 方 的 时 区 ， 以 免 打 得 太 早 或 太 晚 ， 打 扰 到 别 人 或 无 法 找 到 要 找 的 人 。 | 美 国 的 电 话 系 统 非 常 完 善 且 可 信 度 高 ， 全 国 有 一 千 五 百 多 家 地 区 性 电 话 公 司 和 十 几 家 长 途 电 话 公 司 ， 比 较 著 名 的 有 & 、 、 、 、 等 。 | 直 拔 7 位 数 电 话']\n",
            "input: ['胡 太 阳, 从 事 男 科 临 床 工 作 多 年, 擅 长 治 疗 早 泄 、 阳 痿 、 龟 头 炎 等 各 种 感 染 疾 病... [ 详 细 ] | 天 津 阿 波 罗 男 科 医 院 拥 有 国 内 男 科 领 域 较 高 学 术 造 诣 和 丰 富 临 床 经 验 的 专 家 团 队 。 定 期 邀 请 国 内 知 名 男 科 专 家, 切 实 解 决 患 者 看 名 医 的 个 性 需 要 。 。 | 天 津 早 泄 怎 么 办 。 在 生 活 中 男 人 们 大 多 数 都 会 碰 到 早 泄 的 情 况, 早 泄 也 就 是 指 男 人 阴 茎 在 进 入 女 性 阴 道 之 后 的 运 动 没... 详 细 > > 天 津 市 那 个 医 院 看 男 科 好 点', '（ 1 ） 氧 化 铁 的 相 对 分 子 质 量 为 56×2 + 16×3 = 160 ． （ 2 ） 氧 化 铁 中 氧 元 素 和 铁 元 素 的 质 量 比 （ 16×3 ） ： （ 56×2 ） = 3 ： 7 ． （ 3 ） 氧 元 素 、 铁 元 素 的 质 量 分 数 分 别 是 16×3160×100 % = 30 % 、 56×2160×100 % = 70 % ． （ 4 ） 16g 氧 化 铁 中 含 铁 元 素 的 质 量 是 16g×70 % = 11. 2g ． （ 5 ） 设 需 要 氧 化 铁 的 质 量 为 x ， 则 46. 4g×56×356×3 + 16×4×100 % = x×70 % ， x = 48g ． （ 6 ） 需 要 氧 化 铁 的 质 量 为 22. 4g÷70 % = 32g ． 答 ： （ 1 ） 氧 化 铁 的 相 对 分 子 质 量 为 160 ； （ 2 ） 氧 、 铁 两 种 元 素 的 质 量 比 3 ： 7 ； （ 3 ） ） 氧 元 素 、 铁 元 素 的 质 量 分 数 分 别 是 30 % 、 70 % ； （ 4 ） 16g 氧', '在 至 高 岭 西 部 的 高 山 上, 位 置 如 图 所 示 : 猎 人 可 以 在 达 拉 然 克 拉 苏 斯 平 台 公 用 飞 行 点 对 面 的 大 雕 那 里 通 过 对 话 快 速 抵 达, 也 可 以 在 环 绕 世 界 地 图 中 特 殊 的 飞 行 路 线 到 达 。 | 神 射 手 营 地 简 介 神 射 手 营 地 为 所 有 猎 人 提 供 了 仅 供 他 们 使 用 的 飞 行 通 道 。 在 这 里 你 可 以 与 各 位 远 行 者, 游 侠 和 黑 暗 游 侠 同 行 欢 聚 一 堂 。 位 置 : 在 至 高 岭 的 中 部 靠 左 边 如 何 前 往 : 解 锁 之 后, 你 可 以 召 唤 一 只 巨 鹰, 将 你 带 往 营 地 。 著 名 猎 人 : 赫 米 特 · 奈 辛 瓦 里, 温 雷 萨 · 风 行 者, 以 及 雷 克 萨 过 去 的 话 是 通 过 达 拉 然 的 直 接 传 送 的 ( 仅 限 猎 人 职 业 ) 。 一 般 来 说 猎 人 到 达 新 达 拉 然 后 会 有 一 个 猫 头 鹰 过 来 给 你 一 个 橙', '儿 童 口 腔 正 畸 一 般 针 对 儿 童 牙 列 异 常 ， 牙 列 异 常 多 发 生 在 恒 牙 ， 所 以 儿 童 口 腔 正 畸 最 佳 年 龄 12 - 14 岁 。 因 为 这 个 时 期 儿 童 口 腔 内 牙 列 基 本 都 是 恒 牙 ， 乳 牙 基 本 都 已 经 替 换 完 ， 进 行 口 腔 正 畸 不 容 易 复 发 。 12 - 14 岁 是 儿 童 发 育 的 快 速 期 ， 这 个 时 期 进 行 牙 齿 矫 治 比 较 稳 妥 ， 而 且 不 容 易 复 发 。 儿 童 牙 齿 矫 正 时 间', '最 好 是 有 基 础 ， 因 为 hadoop 是 用 java 编 写 的 ， 所 以 懂 java 能 够 帮 助 理 解 hadoop 原 理 ， 当 然 也 提 供 了 其 他 语 言 的 api 。 另 外 实 战 确 实 很 重 要 ， 找 一 个 能 够 互 动 答 疑 的 才 是 关 键 hadoop 用 什 么 语 言 开 发', '个 人 感 觉 原 版 比 较 好 玩 ， 任 务 多 ， 不 过 也 很 多 ， 要 做 好 存 档 突 然 消 失 的 心 理 准 备 。 死 亡 岛 ： 激 流 感 觉 像 死 亡 岛 加 强 版 ， 加 了 个 人 物 、 交 通 工 具 船 和 几 种 武 器 以 外 没 什 么 改 变 ， 感 觉 没 有 什 么 新 意 ， 不 过 少 了 很 多 。 两 个 版 本 都 可 以 开 车 ， 激 流 还 能 开 船 。 望 采 纳 死 亡 岛 哪 个 好 玩', '你 好 朋 友 新 车 免 检 6 年 。 但 是 需 要 每 隔 两 年 去 车 管 所 领 一 次 年 检 标 志 和 环 保 标 志 。 去 的 时 候 ， 带 上 车 主 身 份 证 ， 行 车 证 ， 还 有 保 险 单 。 连 购 3 次 年 检 标 志 以 后 ， 就 需 要 上 检 测 线 验 车 了 。 希 望 我 的 回 答 能 够 帮 助 到 你 如 果 你 还 有 什 么 疑 问 ， 随 时 可 以 联 系 我 。 奔 驰 宝 马 奥 迪 维 修 祝 您 生 活 幸 福 ， 万 事 如 意 ， 财 源 滚 滚 ！ 新 车 几 年 免 检', '你 好 ， 根 据 你 的 情 况 分 析 嫁 接 比 较 安 全, 因 为 嫁 接 是 粘 的, 没 有 风 险, 但 保 持 时 间 不 长 ~ 嫁 接 的 一 般 也 就 50 左 右 吧. 能 保 持 3 个 月 嫁 接 起 来 眼 睛 很 漂 亮 ， 但 是 不 舒 服 ， 眼 睛 痒 痒 的 ， 又 不 能 揉 眼 睛 ， 一 揉 就 掉 的 快 没 了 啊 希 望 我 的 回 答 对 你 有 帮 助 ， 祝 您 健 康 。 嫁 接 眉 毛 多 少 钱']\n",
            "input: ['据 小 编 了 解, 近 日, 全 长 88 公 里 的 贵 州 省 花 ( 溪 ) 安 ( 顺 ) 高 速 公 路 施 工 进 入 尾 声, 预 计 于 今 年 6 月 初 通 车 。 花 安 高 速 公 路 是 贵 阳 与 安 顺 间 的 第 二 条 快 速 通 道, 将 串 联 起 青 岩 古 镇 、 龙 宫 、 黄 果 树 3 个 贵 州 省 级 景 区 。 通 车 后, 从 花 溪 到 安 顺 仅 需 40 分 钟, 将 有 效 缓 解 现 有 沪 昆 高 速 公 路 的 通 行 压 力, 拓 展 贵 阳 与 安 顺 间 城 市 带 、 产 业 带 的 辐 射 范 围, 提 高 区 域 物 流 能 力 与 运 输 效 率 。 花 安 高 速 具 体 通 车 时 间', '估 计 要 等 到 情 人 节 才 能 买 ， 圣 诞 狂 欢 第 一 弹 圣 诞 登 录 领 好 礼 ！ 活 动 期 间 ： 12 月 23 日 ~ 12 月 25 日 ， 活 动 期 间 登 录 游 戏 的 玩 家 ， 即 可 领 取 钻 石 * 150 ， 是 不 是 感 觉 离 韩 信 ， 教 廷 圣 使 更 近 了 一 步 ， 仿 佛 再 也 不 是 无 法 实 现 的 梦 啦 ！ 王 者 荣 耀 不 光 是 竞 技 战 斗 ， 还 有 师 徒 系 统 和 结 婚 系 统 哦 ， 不 会 让 你 感 觉 枯 燥 无 味 。 还 有 征 战 模 式 可 以 自 己 选 取 三 个 英 雄 来 通 关 不 同 的 难 度 ， 会 奖 励 大 量 的 金 币 和 钻 石 符 文 ， 这 样 离 想 买 的 英 雄 有 近 了 一 步 ， 总 之 这 游 戏 可 玩 性 很 高 也 不 也 不 会 这 么 火 爆 了 王 者 荣 耀 小 乔 皮 肤 纯 白 花 嫁 什 么 时 候 能 买', '上 呼 吸 道 感 染, 因 外 界 和 鼻 咽 部 细 菌 、 病 毒 感 染 造 成 。 小 儿 营 养 不 良, 通 风 不 好, 冷 暖 不 当 等 因 素, 引 起 免 疫 功 能 降 低 。 向 下 感 染, 可 以 并 发 气 管 、 支 气 管 炎, 甚 至 小 儿 肺 炎 。 治 疗 着 重 于 减 轻 症 状, 缩 短 病 程, 防 止 并 发 症 。 增 强 抵 抗 力, 防 止 着 凉 是 预 防 的 关 键 。 有 些 抗 菌 药 物 尽 量 少 用 这 样 对 孩 子 的 生 长 发 育 有 好 处 。 对 初 期 和 久 治 不 愈 的 小 儿 咳 嗽 最 好 用 金 海 太 医 小 儿 止 咳 茶, 有 立 竿 见 影 的 效 果, 一 般 口 服 1 - 2 次 痊 愈 。 宝 宝 咳 嗽 吃 什 么 药 好 2 岁 感 冒 有', '说 到 香 港 八 九 十 年 代 的 那 些 美 女 明 星 ， 大 家 都 会 说 关 之 琳 、 黎 姿 、 王 祖 贤 、 朱 茵 之 类 的 ， 但 是 大 家 不 知 还 记 不 记 得 蓝 洁 瑛 这 位 美 女 呢 ？ 就 是 在 电 影 《 大 话 西 游 》 里 蜘 蛛 精 的 扮 演 者 。 她 在 出 道 时 就 颇 受 追 捧 ， 曾 有 过 靓 绝 五 台 山 的 称 号 。 大 话 西 游 里 的 蜘 蛛 精 是 谁 演 的', '答 案 : 老 虎 。 三 生 有 幸 【 解 释 】 三 生 : 佛 家 指 前 生 、 今 生 、 来 生 ; 幸 : 幸 运 。 三 世 都 很 幸 运 。 比 喻 非 常 幸 运 。 【 出 处 】 元 · 吴 昌 龄 《 东 坡 梦 》 第 一 折 : 久 闻 老 师 父 大 名, 今 日 得 睹 尊 颜, 三 生 有 幸 。 【 结 构 】 主 谓 式 。 【 用 法 】 用 作 褒 义 。 一 般 作 谓 语 。 【 正 音 】 生 ; 不 能 读 作 。 【 辨 形 】 幸 ; 不 能 写 作 辛 。 【 近 义 词 】 吉 星 高 照 、 洪 福 齐 天 【 反 义 词 】 天 不 作 美 、 生 不 逢 时 【 辨 析 】 ～ 和 福 星 高 照 都 有 非 常 幸 运 、 幸 福 之 意 。 但 ～ 多 用 于 见 面 时 的 恭 维 之 语 ; 而 福 星 高 照 多 是 用 于 祝 愿 某 人 的 。 【 例 句 】 ( 1 ) 能 和 您 一 起 学 习 ; 真 是 ～ 。 ( 2 ) 久 仰 大 名 ; 今 日', '怎 么 回 答 你 呢? - - - 英 国 一 位 妇 女 因 每 天 平 均 十 几 次 莫 名 其 妙 地 高 潮, 而 难 以 承 受 带 给 自 己 的 疲 惫, 2 个 月 前 自 杀 了 。 据 国 外 性 工 作 者 说, 每 天 7 次 以 内, 对 女 人 来 说, 算 能 承 受 。 多 了 就 崩 溃 了 。 上 帝 把 时 间 分 7 天 一 星 期, 7 这 个 数 字 是 有 道 理 的 。 香 港 30 年 前 发 生 一 个 团 伙 骗 保 的 事 件 。 他 们 钻 保 险 法 的 空 子, 从 贫 困 地 区 找 来 身 体 健 康 ( 上 人 身 保 险 前 需 要 体 检 的 ) 的 男 子, 然 后 关 在 别 墅 里, 整 天 做 爱, 这 些 健 壮 的 男 人 连 续 三 个 星 期 21 天 里 每 天 做 3 - 4 次, 精 尽 而 亡 。 目 前 还 没 听 说 超 过 这 个 记 录 的 。 如 果 是 不 经 常 在 一 起, 小 别 胜 新 婚 。 我 单 位 有 个 40 岁 的 男 人, 夫 妻 探 亲, 连', '剑 网 3 正 式 服 长 歌 门 什 么 时 候 出? 长 歌 门 正 式 服 上 线 时 间 是 什 么 时 候? 剑 网 3 长 歌 门 的 预 告 也 有 很 长 时 间 啦, 那 么 长 歌 门 在 正 式 服 到 底 什 么 时 候 才 会 上 线 呢? 下 面 就 是 斗 蟹 攻 略 带 来 的 长 歌 门 正 式 服 上 线 时 间 。 | 10 月 26 日, 目 前 官 方 已 经 确 定 了 会 在 10 月 26 日 进 行 新 版 本 剑 胆 琴 心 的 公 测, 介 时 小 伙 伴 们 就 都 能 够 体 验 到 新 门 派 长 歌 门 啦, 小 伙 伴 们 是 否 期 待 了 非 常 久 呢? | 以 上 就 是 斗 蟹 攻 略 带 来 的 剑 网 3 正 式 服 长 歌 门 什 么 时 候 出 长 歌 门 正 式 服 上 线 时 间 。 希 望 能 够 帮 助 到 大 家, 祝 大 家 游 戏 愉 快 。 剑 网 三 长 歌 门 什 么 时 候 出', '根 据 规 定, 第 四 十 二 条 年 龄 在 60 周 岁 以 上, 在 一 个 记 分 周 期 结 束 后 一 年 内 未 提 交 身 体 条 件 证 明 的, 车 辆 管 理 所 应 当 注 销 其 机 动 车 驾 驶 证 。 也 就 是 每 年 需 提 交 身 体 条 件 证 明, 可 以 延 期 一 年 内 提 交, 超 过 一 年 驾 驶 证 末 提 交 身 体 条 件 证 明 会 被 注 销 的 。 年 龄 在 60 以 上 多 长 时 间 提 交 一 次 身 体 证 明']\n",
            "input: ['现 在 激 光 去 斑 一 般 是 几 百 元 到 3000 元 左 右 一 次 ， 至 于 总 价 就 要 看 治 疗 的 次 数 。 而 治 疗 的 次 数 则 是 根 据 斑 的 性 质 和 严 重 程 度 决 定 的 。 激 光 去 斑 多 少 钱 主 要 跟 以 下 几 个 方 面 因 素 有 关 ： 1 、 斑 点 大 小 ： 每 个 求 美 者 色 斑 情 况 是 不 同 的 ， 针 对 斑 点 比 较 大 的 求 美 者 要 想 达 到 理 想 的 祛 斑 效 果 ， 就 需 要 多 次 的 治 疗 ， 那 么 治 疗 的 价 格 自 然 不 同 。 2 、 治 疗 设 备 ： 激 光 祛 斑 的 设 备 有 先 进 的 和 传 统 的 ， 进 口 的 设 备 不 管 是 效 果 ， 还 是 安 全 性 都 远 远 比 传 统 的 设 备 好 ， 因 此 其 成 本 自 然 比 较 高 。 3 、 医 院 的 资 质 ： 求 美 者 对 不 同 医 院 的 选 择 ， 价 格 也 就 不 同 。 不 同 的 住 院 环 境 、 手 术 器 械 、 专 家 团 队 、 整 形 服 务 等 多', '想 在 网 上 学 习 会 计 ， 网 上 学 习 有 两 种 个 情 况 ， 可 以 自 己 选 择 ： 第 一 种 ， 网 上 自 学 型 具 体 方 法 ： 网 上 获 取 通 俗 易 懂 的 会 计 从 业 资 格 课 件 ， 自 己 看 ， 自 己 复 习 ， 遇 到 问 题 自 己 研 究 ， 此 方 法 适 用 于 有 一 定 会 计 基 础 且 有 一 定 学 习 能 力 的 同 学 。 第 二 种 ， 全 程 答 疑 ， 全 程 辅 导 型 具 体 方 法 ： 网 上 获 取 通 俗 易 懂 的 会 计 从 业 资 格 课 件 ， 与 提 供 课 件 的 一 点 通 网 校 商 讨 学 习 计 划 ， 一 旦 商 讨 确 定 下 来 ， 严 格 执 行 ， 最 好 每 天 汇 报 学 习 进 度 ， 汇 报 方 法 ： 计 划 应 该 到 哪 ， 实 际 到 哪 ， 完 不 成 进 度 ， 要 严 厉 批 评 。 学 习 过 程 中 ， 要 求 章 节 练 习 结 果 要 截 图 汇 报 ， 并 把 做 题 过 程 中 遇 到 问 题 提 请 辅 导 老 师 辅 导 答 疑 。 一', '出 于 华 为 在 全 球 出 货 量 和 市 场 占 有 率 的 提 高, 的 发 货 量 已 经 突 破 了 500 万 台, 在 国 际 高 端 市 场 上 拥 有 一 席 之 地, 在 国 际 上 的 影 响 力 也 越 来 越 大, 系 列 作 为 500 美 元 以 上 档 位 定 价 的 手 机, 与 同 样 定 位 旗 舰 的 华 为 系 列, 华 为 在 全 球 高 端 市 场 份 额 提 升 至 9. 7 % 在 高 端 市 场 份 额 上 可 以 和 三 星, 苹 果 看 齐 了 。 mate9 销 量', '大 庆 到 秦 皇 岛 自 驾 游 最 佳 路 线 ： 大 庆 到 秦 皇 岛 自 驾 游 1000 公 里 ， 从 大 庆 上 大 广 高 速 长 深 高 速 阜 锦 高 速 京 哈 高 速 秦 皇 岛 ， 途 径 松 原 ， 在 康 平 县 转 入 长 深 高 速 ， 到 阜 新 后 转 入 阜 锦 高 速 ， 到 锦 州 后 转 入 京 哈 高 速 ， 一 直 到 秦 皇 岛 。 如 果 到 秦 皇 岛 市 内 可 以 选 择 秦 皇 岛 东 出 口 ， 到 秦 皇 岛 开 发 区 的 话 ， 就 选 择 开 发 区 出 口 ， 如 果 您 到 北 戴 河 或 南 戴 河 ， 则 需 继 续 前 行 到 北 戴 河 出 口 下 高 速 。 大 庆 到 秦 皇 岛 多 少 公 里', '佛 山 日 报 讯 记 者 叶 晨 报 道 : 住 房 城 乡 建 设 部 等 三 部 委 去 年 10 月 公 布 的 公 积 金 贷 款 新 规, 今 日 ( 1 月 15 日 ) 落 地 佛 山 。 佛 山 市 住 房 公 积 金 管 理 中 心 昨 日 宣 布, 公 积 金 缴 存 6 个 月 以 上 即 可 申 请 公 积 金 贷 款, 此 外, 个 人 贷 款 最 高 额 度 再 次 上 调 到 40 万 元, 二 套 房 公 积 金 贷 款 利 率 将 与 首 套 房 持 平 。 修 订 后 的 住 房 公 积 金 新 规 将 于 今 年 3 月 1 日 起 实 施 。 佛 山 公 积 金 贷 款 额 度', '最 早 出 自 元 代 刘 岳 申 《 申 斋 集 》 中 的 《 王 遵 墓 志 铭 》 ， 其 文 曰 ： 生 于 斯 ， 死 于 斯 ， 铭 于 斯 ， 其 魂 气 无 不 之 也 ， 其 死 而 有 不 者 矣 。 意 思 是 王 遵 生 在 这 里 （ 庐 陵 即 今 江 西 吉 安 ） ， 死 在 这 里 ， （ 葬 在 这 里 ） ， （ 他 的 ） 铭 文 也 刻 在 这 里 ， 他 的 魂 魄 也 应 该 在 这 里 ， 这 样 ， 他 虽 然 死 了 ， 也 算 是 死 而 不 朽 吧 。 生 于 斯 长 于 斯 的 出 处', '有 的 壳 虫 藏 在 多 肉 的 根 茎 结 合 部, 药 喷 不 到, 也 看 不 见, 用 生 物 链 法 则 来 克 敌 制 胜 是 最 好 的 办 法 了 。 大 家 都 知 道, 七 星 瓢 虫 是 壳 虫 的 天 敌, 利 用 七 星 瓢 虫 来 吃 壳 虫 是 最 生 态 的 多 肉 害 虫 防 治 方 法, 不 过 想 要 达 成 这 个 条 件, 需 要 特 定 的 地 域 与 养 护 环 境 。 什 么 虫 子 吃 壳 虫', \": 12192 mm ( ) 2438 mm ( ) 2591 mm ( ) : 12192 mm ( ) 2438 mm ( ) 2896 mm ( ) | 40'的 箱 外 尺 寸 ： 12. 192m ( 长 ) x2. 438m ( 宽 ) x2. 591m ( 高 ) 。 40'的 箱 外 尺 寸 ： 12. 192m ( 长 ) x2. 438m ( 宽 ) x2. 896m ( 高 ) 。 理 论 标 准 箱 内 尺 寸 是 以 下 ： 40'的 精 确 箱 内 尺 寸 ： 12. 032m ( 长 ) x2. 352m ( 宽 ) x2. 393m ( 高 ) 。 40'的 精 确 箱 内 尺 寸 ： 12. 032m ( 长 ) x2. 352m ( 宽 ) x2. 698m ( 高 ) 。 实 际 上 由 于 生 产 误 差 和 零 件 变 形 ， 实 际 箱 内 尺 寸 如 下 ： 40'的 实 测 箱 内 尺 寸 ： 12. 017m ( 长 ) x2. 342m ( 宽 ) x2. 388m ( 高 ) 。 40'的 实 测 箱\"]\n",
            "input: ['笔 者 曾 在 苹 果 售 后 工 作 。 \\\\ x0a 屏 碎 了 ， 官 方 授 权 的 售 后 要 返 厂 维 修 ， 分 2 种 情 况 ， 厂 家 说 了 算 ， 一 种 是 换 屏 ， & # 165 ; 948 ， 一 种 是 换 整 机 ， & # 165 ; 2298 。 \\\\ x0a 如 果 是 去 苹 果 直 营 店 ， 可 现 场 换 屏 ， & # 165 ; 948 。 | 不 同 型 号 根 据 其 维 修 实 际 情 况 计 算 维 修 费 用 ， 大 致 在 788 元 左 右 。 你 可 以 参 考 apple 官 网 iphone6 售 后 换 屏 幕 多 少 钱', '在 暴 风 成 的 那 个 爱 人 区 有 3 个, 一 个 在 打 铁 那, 两 个 在 酒 吧 那 西 部 荒 野 把 所 有 的 \" 迪 菲 亚 兄 弟 什 么 什 么 \" 的 任 务 都 做 完 后, 最 后 一 个 任 务 是 死 矿 里 的 任 务 | 一 收 集 记 忆 任 务 等 级 : 18 需 要 最 小 等 级 : 14 任 务 类 型 : 副 本 阵 营 : 联 盟 开 始 : 维 尔 德 · 蓟 草 结 束 : 维 尔 德 · 蓟 草 二 我 的 兄 弟 任 务 等 级 : 20 需 要 最 小 等 级 : 15 任 务 类 型 : 副 本 阵 营 : 联 盟 开 始 : 维 尔 德 · 蓟 草 结 束 : 维 尔 德 · 蓟 草 三 地 底 突 袭 任 务 等 级 : 20 需 要 最 小 等 级 : 15 任 务 类 型 : 副 本 阵 营 : 联 盟 开 始 : 沉 默 的 舒 尼 结 束 : 沉 默 的 舒 尼 系 列 任 务 [ 1 ] 沉 默 的 舒 尼 [ 2 ] 地 底 突 袭 四 迪 菲 亚 兄 弟 会 任 务 等 级 : 22 需 要 最', '一 部 长 篇 小 说, 究 竟 每 章 多 少 字 比 较 合 适? 数 年 前 我 就 经 常 在 想 这 个 问 题, 经 过 不 断 的 摸 索 、 借 鉴 和 思 考, 终 于 得 出 了 一 个 自 认 为 比 较 合 适 的 字 数 范 围 : 3000 - 6000 字 。 探 讨 章 节 字 数, 必 需 先 弄 清 楚 章 节 的 作 用 。 我 总 结, 章 节 应 该 具 有 以 下 三 种 功 能 。 1 、 概 括 内 容 、 刺 激 读 者 的 功 能 。 记 得 小 时 候 看 过 一 本 杂 志 叫 做 《 章 回 小 说 》, 那 是 我 第 一 次 接 触 章 回 的 概 念 。 每 章 每 回 的 名 字 都 十 分 吸 引 人, 什 么 一 声 惊 雷 煞 星 惊 现 啦, 什 么 洞 内 春 光 啦, 什 么 亡 命 徒 劫 持 少 女 勇 刑 警 舍 身 相 救 啦 等 等 等 等 。 我 想, 分 章 节 的 作 用 之 一, 就 是 不 断 地 用 诱 人 的 章 节 名 称, 刺 激 起 读 者 的 阅', '昨 日, 轨 道 交 通 环 线 关 键 性 工 程 上 桥 站 至 重 庆 西 站 区 间 隧 道 双 线 顺 利 贯 通 。 这 是 轨 道 交 通 环 线 一 期 22 个 区 间 隧 道 中, 第 4 个 实 现 双 线 贯 通 的 区 间 隧 道 。 | 据 介 绍, 轨 道 交 通 环 线 上 桥 站 至 重 庆 西 站 区 间 隧 道 左 线 长 1571 米, 右 线 长 1565 米 。 | 轨 道 交 通 环 线 施 工 方 相 关 负 责 人 表 示, 为 避 免 隧 道 施 工 对 周 围 环 境 影 响, 该 区 间 隧 道 采 用 单 护 盾 隧 道 掘 进 机 ( ) 施 工, 特 别 是 采 用 远 程 自 动 化 监 测 系 统, 最 大 限 度 地 消 除 项 目 施 工 误 差 因 素, 确 保 了 隧 道 安 全 掘 进 和 掘 进 的 精 确 线 路 。 | 据 介 绍, 轨 道 交 通 环 线 全 长 约 51 公 里, 全 线 共 设 33 座 车 站, 是 重 庆 轨 道 交 通 线 网 中 惟 一 的 闭 合 环 形 线 路', '视 频 都 是 越 小 质 量 越 烂 的 ， 这 主 要 是 由 比 特 率 决 定 的 。 一 般 来 说 基 本 上 是 无 损 ， 所 以 质 量 最 好 ， 体 积 最 大 。 而 可 以 说 是 质 量 和 体 积 比 比 较 高 的 一 个 了 ， 所 以 没 有 太 高 要 求 的 影 片 一 般 来 说 是 格 式 的 。 至 于 ， 是 属 于 体 积 偏 小 的 ， 质 量 已 经 无 法 保 证 。 什 么 格 式 视 频 小', '含 有 歌 词 为 寂 寞 的 夜 空 画 上 一 个 月 亮 的 歌 曲 是 《 画 》 歌 名 ： 画 作 词 ： 赵 雷 作 曲 ： 赵 雷 演 唱 ： 赵 雷 为 寂 寞 的 夜 空 画 上 一 个 月 亮 把 我 画 在 那 月 亮 下 面 歌 唱 为 冷 清 的 房 子 画 上 一 扇 大 窗 再 画 上 一 张 床 画 一 个 姑 娘 陪 着 我 再 画 个 花 边 的 被 窝 画 上 灶 炉 与 柴 火 我 们 一 起 生 来 一 起 活 画 一 群 鸟 儿 围 着 我 再 画 上 绿 岭 和 青 坡 画 上 宁 静 与 祥 和 雨 点 儿 在 稻 田 上 飘 落 画 上 有 你 能 用 手 触 到 的 彩 虹 画 中 有 我 决 定 不 灭 的 星 空 画 上 弯 曲 无 尽 平 坦 的 小 路 尽 头 的 人 家 梦 一 路 画 上 母 亲 安 详 的 姿 势 还 有 橡 皮 能 擦 去 的 争 执 画 上 四 季 都 不 愁 的 粮 食 悠 闲 的 人 从 没 心 事 我 没 有 擦 去 争 吵 的 橡 皮 只 有 一 支 画 着 孤 独 的 笔 那 夜 空 的 月 也', '西 峡 每 天 早 上 6 点 ， 8 点 50 ， 下 午 2 点 有 发 往 郑 州 的 班 车 ， 全 程 将 近 400 公 里 ， 行 驶 5 - 6 个 小 时 ， 票 价 75 块 左 右 。 | 路 线 啊 是 说 全 程 高 速 吗 ？ 在 车 站 坐 车 一 般 是 127 吧 不 过 在 站 外 就 是 另 一 个 价 钱 了 坐 火 车 的 话 得 先 到 南 阳 然 后 转 车 不 过 比 在 站 里 便 宜 就 是 要 花 费 的 时 间 多 一 些 | 从 西 峡 土 门 车 站 门 口 坐 去 郑 州 的 车 ， 一 般 半 小 时 都 会 发 一 趟 的 ， 和 司 机 讲 价 一 般 70 可 以 搞 定 西 峡 到 郑 州 坐 车 要 多 少 钱', '这 个 情 况 主 要 是 高 血 压 ， 高 血 压 就 会 导 致 出 现 有 头 痛 头 晕 ， 头 部 胀 痛 这 个 疾 病 主 要 是 因 为 遗 传 的 原 因 导 致 也 有 肥 胖 有 关 系 ， 这 种 情 况 要 控 制 饮 食 ， 少 吃 油 腻 的 食 物 ， 可 以 到 医 院 里 看 一 个 心 血 管 内 科 ， 通 过 服 用 硝 苯 地 平 缓 释 片 的 可 以 帮 助 降 低 血 压 。 头 疼 血 压 高 看 什 么 科']\n",
            "input: ['1. 地 震 烈 度 同 地 震 震 级 有 严 格 的 区 别 ， 不 可 互 相 混 淆 。 2. 震 级 代 表 地 震 本 身 的 大 小 强 弱 ， 它 由 震 源 发 出 的 地 震 波 能 量 来 决 定 ， 对 于 同 一 次 地 震 只 应 有 一 个 数 值 。 3. 烈 度 在 同 一 次 地 震 中 是 因 地 而 异 的 ， 它 受 着 当 地 各 种 自 然 和 人 为 条 件 的 影 响 。 对 震 级 相 同 的 地 震 来 说 ， 如 果 震 源 越 浅 ， 震 中 距 越 短 ， 则 烈 度 一 般 就 越 高 。 同 样 ， 当 地 的 地 质 构 造 是 否 稳 定 ， 土 壤 结 构 是 否 坚 实 ， 房 屋 和 其 他 构 筑 物 是 否 坚 固 耐 震 ， 对 于 当 地 的 烈 度 高 或 低 有 着 直 接 的 关 系 。 4. 烈 度 分 1 - 12 度 。 抗 震 烈 度 划 分', '两 颗 心 的 话 ， 需 要 11 ~ 40 分 。 就 是 正 常 交 易 11 笔 ~ 40 笔 且 买 家 给 了 好 评 。 4 分 - 10 分 1 心 11 分 - 40 分 2 心 41 分 - 90 分 3 心 91 分 - 150 分 4 心 151 分 - 250 分 5 心 251 分 - 500 分 1 钻 501 分 - 1000 分 2 钻 1001 分 - 2000 分 3 钻 2001 分 - 5000 分 4 钻 5001 分 - 10000 分 5 钻 10001 分 - 20000 分 1 皇 冠 20001 分 - 50000 分 2 皇 冠 50001 分 - 100000 分 3 皇 冠 100001 分 - 200000 分 4 皇 冠 200001 分 - 500000 分 5 皇 冠 500001 分 - 1000000 分 1 黄 冠 1000001 分 - 2000000 分 2 黄 冠 2000001 分 - 5000000 分 3 黄 冠 5000001 分 - 10000000 分 4 黄 冠 10000001 分 以 上 5 黄 冠 淘 宝 两 颗 心 是 多 少 笔 交 易', '产 后 六 个 月 黄 金 收 复 时 期 ， 这 个 时 候 穿 收 复 衣 ， 效 果 也 非 常 明 显 ， 宝 妈 产 后 是 需 要 穿 哦 。 不 仅 可 以 瘦 身 ， 还 能 预 防 内 脏 下 垂 ， 促 进 子 宫 收 缩 自 我 管 理 的 好 ， 灰 复 到 少 女 身 才 也 是 分 分 钟 的 事 儿 ， 如 果 不 注 意 ， 脏 器 下 垂 ， 很 容 易 诱 发 妇 科 病 产 妇 多 久 能 恢 复', '楼 主 也 是 柯 南 和 海 贼 的 迷 ， 我 也 在 追 这 两 部 呢 ， 柯 南 的 话 可 以 在 看 ， 目 前 已 经 更 到 713 集 了 ， 中 文 字 幕 日 语 发 音 ， 剧 场 版 收 集 的 也 很 全 喔 。 海 贼 王 的 话 ， 搜 狐 视 频 是 独 家 播 放 的 ， 目 前 已 经 更 到 601 话 。 希 望 能 够 帮 到 楼 主 吧 ！ 用 什 么 看 海 贼 王', '在 姜 育 恒 出 道 的 那 个 年 代 ， 颤 音 是 很 多 老 一 辈 歌 手 惯 用 的 演 唱 技 巧 ， 而 姜 育 恒 更 是 将 它 发 挥 到 了 顶 峰 。 姜 育 恒 的 颤 音 可 谓 是 最 有 自 己 风 格 的 ， 既 短 又 急 ， 几 乎 每 一 个 字 都 在 抖 ， 而 且 幅 度 还 相 当 大 。 可 以 仔 细 听 《 再 回 首 》 ， 几 乎 每 个 字 都 在 颤 ， 真 是 绝 了 。 带 颤 音 的 歌 曲', '点 击 查 看 美 国 在 世 界 人 口 排 名 ： http : / / www. chamiji. com / countryrank | 根 据 美 国 人 口 普 查 局 的 人 口 统 计 ， 2016 年 美 国 人 口 （ 2016 年 12 月 ） 估 计 接 近 3. 25 亿 人 。 这 与 联 合 国 估 计 的 3. 241 亿 人 口 很 接 近 。 | 按 人 口 计 算 ， 美 国 是 世 界 第 三 大 国 ， 远 远 落 后 于 中 国 （ 14 亿 ） 和 印 度 （ 13 亿 ） 。 其 人 口 最 多 的 州 是 加 利 福 尼 亚 州 （ 3900 万 ） 和 得 克 萨 斯 州 （ 2700 万 ） ， 人 口 最 多 的 城 市 是 纽 约 市 （ 850 万 ） 。 美 国 多 少 人 口?', '我 也 是 一 名 资 深 痘 友 ， 之 前 为 了 治 痘 痘 吃 过 中 药 ， 西 药 ， \\\\ x0a 还 有 家 里 介 ◆ 绍 的 各 种 土 方 法 ， 没 少 花 冤 枉 钱 ， 走 了 不 少 弯 路 ， \\\\ x0a 几 乎 都 要 放 弃 了 ， 心 情 也 是 低 落 到 极 点 ， \\\\ x0a 学 习 成 绩 也 是 一 落 千 丈 ， 家 里 人 只 能 干 着 急 。 \\\\ x0a 后 来 偶 然 的 机 会 加 了 丹 姐 的 & # 7 ; & # 7 ; 信 & # 7 ; ： d & # 7 ; d & # 7 ; q & # 7 ; d & # 7 ; 1 & # 7 ; 6 & # 7 ; 8 & # 7 ; 8 & # 7 ;, 经 过 她 的 帮 助 ， \\\\ x0a 给 我 配 置 了 一 个 疗 程 的 药 ， 还 没 有 用 完 ， \\\\ x0a 痘 痘 都 奇 迹 般 的 消 下 去 了 ， 到 现 在 都 没 有 长 过 了 。 \\\\ x0a \\\\ x0a 保 证 充 足 的 睡 眠 ， 肌 肤 才 会 呈 现 好 的', '健 康 指 导 ： 因 为 柠 檬 含 有 丰 富 的 维 生 素 ， 所 以 是 酸 的 。 一 般 来 说 柠 檬 片 用 冷 开 水 或 者 冰 水 泡 ， 才 不 会 苦 涩 。 最 重 要 的 是 柠 檬 富 含 维 生 素 ， 而 维 生 素 在 高 温 下 会 很 容 易 失 去 活 性 ， 使 柠 檬 的 药 用 价 值 大 为 下 降 ， 所 以 建 议 你 用 凉 水 泡 。 干 柠 檬 用 热 水 还 是 冷 水 泡']\n",
            "input: ['王 为 念 总 共 有 两 个 孩 子 ， 王 为 念 的 第 一 段 婚 姻 是 在 老 家 ， 两 人 育 有 一 子 。 王 为 念 的 第 二 段 婚 姻 ， 是 和 豫 剧 表 演 艺 术 家 小 香 玉 ， 两 人 育 有 一 子 。 王 为 念 ， 1959 年 5 月 1 日 出 生 于 山 西 省 太 原 市 ， 中 国 内 地 导 演 ， 主 持 人 。 希 望 对 你 有 帮 助 ， 请 采 纳 ， 谢 谢 王 为 念 有 几 个 孩 子', '微 信 相 册 封 面 图 是 不 管 传 多 小 的 图 片, 都 会 被 自 动 扩 大 为 长 宽 为 480 * 300 左 右, 所 以, 在 找 到 合 适 的 图 片 内 容 的 话, 最 好 是 保 持 480 * 300 左 右 的 尺 寸 上 传 就 行 了 。 | 微 信 相 册 封 面 图 是 不 管 传 多 小 的 图 片, 都 会 被 自 动 扩 大 为 长 宽 为 480 * 300 左 右, 所 以, 在 找 到 合 适 的 图 片 内 容 的 话, 最 好 是 保 持 480 * 300 左 右 的 尺 寸 上 传 就 行 了 。 | 微 信 相 册 封 面 图 是 不 管 你 传 多 小 的 图 片, 都 会 被 自 动 扩 大 为 480 * 300 左 右, 所 以, 你 在 找 到 合 适 的 图 片 内 容 的 话, 最 好 是 保 持 480 * 300 左 右 的 尺 寸 上 传 就 行 了 。 朋 友 圈 封 面 图 片 尺 寸', '白 鹿 原 是 古 地 名, 其 位 置 大 致 在 今 天 陕 西 省 西 安 市 东 南 方 向 10 公 里, 灞 河 和 河 之 间 。 为 几 百 万 年 沉 淀 形 成 的 土 状 堆 积 形 黄 土 台 原 。 曾 是 古 代 咸 阳 、 长 安 附 近 军 事 要 地 。 因 传 说 周 平 王 迁 都 洛 阳 途 中, 曾 见 原 上 有 白 鹿 游 弋 而 得 名 。 汉 文 帝 灞 陵 位 于 塬 上, 故 亦 称 灞 陵 原 。 又 因 居 灞 水 ( 灞 河 ) 之 上, 故 古 代 又 称 灞 上 。 供 参 考 。 白 鹿 原 是 哪 里', '苹 果 4s 店 ， 或 者 专 门 的 维 修 中 心 ， 你 看 你 买 手 机 时 配 套 的 一 本 小 本 子 上 面 写 了 全 国 各 地 的 苹 果 维 修 中 心 地 点 站 ， 700 就 好 ， 只 要 其 他 地 方 没 坏 ， 就 外 壳 的 话 不 贵 ， 屏 幕 坏 了 另 算 。 硬 件 损 坏 问 题 解 决 方 法 具 体 如 下 ： 1. 屏 幕 碎 裂 或 是 弯 曲 通 常 来 说 ， 这 两 种 问 题 都 属 于 人 为 损 坏 ， 用 户 只 能 前 往 进 行 付 费 维 修 或 更 换 。 不 过 ， 针 对 6 的 弯 曲 是 否 是 设 计 问 题 还 无 定 论 ， 但 新 批 次 机 型 几 乎 已 经 没 有 这 个 问 题 。 如 果 你 的 6 是 首 批 机 型 并 已 经 弯 曲 ， 可 以 尝 试 与 苹 果 客 服 人 员 沟 通 ， 很 可 能 会 得 到 免 费 更 换 服 务 。 2. 麦 克 风 和 耳 机 问 题 如 果 在 使 用 过 程 中 发 现 很 难 听 到 对 方 声 音 或 是 充', '我 自 己 学 习 的 是 cctv 中 学 生 频 道 的 网 校, 上 面 的 每 节 课 只 有 12 分 钟, 学 习 不 会 觉 得 很 累, 我 每 周 都 会 坚 持 学 习 我 在 学 校, 没 有 学 懂 的 知 识 点 。 感 觉 还 是 挺 好 的, 我 的 数 学 成 绩 提 升 比 较 多 ( 以 前 只 有 80 分 左 右 现 在 是 100 分 左 右 满 分 150 ), 我 自 己 觉 得 还 是 不 错 的 。 | 初 中 生 比 较 适 宜 趣 味 性 + 学 习 性 完 美 结 合 的 网 校, 比 如 简 单, 增 加 了 老 师 的 漫 画 头 像 等, 趣 味 性 大 大 增 加 。 | 可 以 用 用 简 单 学 习 网, 先 去 试 听 下, 看 看 是 不 是 适 合 自 己, 我 现 在 高 中, 简 单 学 习 网 的 课 对 我 很 有 用 处, 我 觉 得 初 中 的 也 不 会 差 。 中 小 学 网 校 哪 个 好', '1 、 男 士 穿 31 码 裤 子 腰 围 尺 寸 2 尺 4, 即 80 厘 米 。 2 、 计 算 方 法 31 - 7 = 24 寸, 24 / 10 = 2. 4 尺, 2. 4 * 33. 33 = 80 厘 米 3 、 尺 码 对 照 表 26 码 = 1. 9 尺 腰 27 码 = 2 尺 腰 28 码 = 2. 1 尺 腰 29 码 = 2. 2 尺 腰 30 码 = 2. 3 尺 腰 31 码 = 2. 4 尺 腰 32 码 = 2. 5 尺 腰 33 码 = 2. 6 尺 腰 34 码 = 2. 7 尺 腰 36 码 = 2. 8 尺 腰 38 码 = 2. 9 尺 腰 40 码 = 3. 0 尺 腰 31 的 裤 子 腰 围 是 多 少 厘 米', '游 戏 。 fate / stay night 本 身 是 型 月 社 制 作 的 文 字 冒 险 游 戏 ， 分 为 三 条 线 ， 三 条 线 女 主 角 不 同 。 fate 线 （ saber ） ， ubw 线 （ 远 坂 凛 ） ， hf 线 （ 远 坂 樱 ） ， 由 于 主 角 做 出 的 选 择 不 同 ， 对 剧 情 也 会 造 成 一 定 程 度 的 变 化 ， 黑 化 的 saber 出 自 hf 线 。 是 因 为 樱 黑 化 之 后 获 得 了 saber ， 从 而 影 响 了 saber ， 可 以 无 限 使 用 咖 喱 棒 ！ 黑 化 saber 出 自 哪', '手 表 表 面 大 概 分 为 几 种 ： 普 通 玻 璃 ， 一 般 不 耐 磨 ， 较 为 廉 价 。 水 晶 表 面 ， 一 般 配 备 几 百 元 上 千 元 的 手 表 ， 较 耐 磨 。 另 一 种 是 高 强 度 矿 物 质 ， 档 次 低 与 水 晶 ， 大 多 用 于 运 动 手 表 ， 价 格 在 几 百 元 。 最 高 档 的 为 蓝 宝 石 镜 面 ， 耐 磨 ， 强 度 硬 度 高 ， 但 尽 量 避 免 水 泥 棱 角 之 类 。 多 用 于 瑞 士 产 高 档 表 。 高 强 度 矿 物 玻 璃 的 ， 比 较 实 用 。 | 其 实 都 一 样, 蓝 宝 石 就 是 水 晶 石 ， 很 耐 磨 的 一 种 材 料 ， 现 在 市 场 上 这 就 是 最 好 的 了. 如 果 滴 水 不 散 就 是 蓝 宝 石 表 面 手 表 镜 面 什 么 材 质 好']\n",
            "input: ['根 据 地 区 、 位 置 、 房 子 类 型 。 价 格 是 不 定 的 。 以 三 亚 为 例 。 如 果 只 是 为 了 维 持 自 己 工 资 水 平 的 盈 利 。 投 资 15 万 左 右 。 但 是 民 宿 本 身 并 不 是 暴 力 行 业 ， 它 是 个 讲 情 怀 的 行 业 ， 如 果 你 是 抱 着 想 赚 大 钱 快 钱 的 心 态 我 不 建 议 你 做 民 宿 。 你 可 以 考 虑 做 客 栈 、 做 短 租 。 开 一 家 民 宿 预 算 多 少 钱', '每 年 的 11 月 下 旬 至 来 年 2 月 是 最 好 的 季 节 ， 彼 时 正 值 澳 洲 的 夏 季 ， 黄 金 海 岸 、 大 堡 礁 什 么 的 阳 光 明 媚 ， 适 合 潜 水 冲 浪 。 而 每 年 5 至 7 月 是 澳 洲 的 秋 冬 季 ， 很 适 合 滑 雪 ， 墨 尔 本 的 就 很 棒 ！ 另 外 ， 秋 天 去 红 酒 庄 别 有 一 番 风 味 ， 主 要 是 看 你 想 玩 什 么 了 。 澳 大 利 亚 什 么 时 候 去 好', '宋 朝 : 960 年 1279 年 在 这 期 间 ， 欧 洲 还 是 中 世 纪 （ 约 公 元 476 年 ~ 公 元 1453 年 ） ， 文 艺 复 兴 从 13 世 纪 （ 年 ） 开 始 在 意 大 利 兴 起 ， 最 早 也 就 赶 上 了 南 宋 的 尾 巴 ， 所 以 其 实 和 文 艺 复 兴 没 什 么 关 系 ， 除 了 著 名 诗 人 阿 利 盖 利 · 但 丁 于 1265 年 出 生 ， 以 及 中 世 纪 为 文 艺 复 兴 打 下 的 一 些 基 础 。 回 正 题 。 关 于 这 段 时 期 的 欧 洲 ， 引 用 一 下 百 度 百 科 ： 中 世 纪 一 词 是 从 15 世 纪 后 期 的 人 文 主 义 者 开 始 使 用 的 。 这 个 时 期 的 欧 洲 没 有 一 个 强 有 力 的 政 权 来 统 治 。 封 建 割 据 带 来 频 繁 的 战 争 ， 造 成 科 技 和 生 产 力 发 展 停 滞 ， 人 民 生 活 在 毫 无 希 望 的 痛 苦 中 ， 所 以 中 世 纪 或 者 中 世 纪 的 早 期 在 欧 美 普 遍 称 作 黑', '征 途 2 现 在 还 在 删 档 内 测 中 。 对 外 内 测 可 能 要 到 年 底 才 行 ！ 《 征 途 2 》 《 巨 人 》 《 仙 途 》 《 龙 魂 》 都 可 以 绑 定 推 广 账 号 : tg1665 - - - - - - - - - - - - - - - - - - - - - - - - - - - - - - - - - - - - - - - - - - - - - - - - - - - - 华 丽 的 分 割 线 - - - - - - - - - - - - - - - - - - - - - - - - - - - - - - - - - - - - - - - - - - - - - - - - - - 《 仙 途 》 进 入 游 戏 后 找 唐 僧 （ 进 入 游 戏 长 安 城 第 一 个 唐 僧 ） 选 择 第 三 项 ， 填 写 仙 途 推 荐 号 : tg1665 就 可 以 获 得 系 统 赠 送 的 超 值 道 具 。 继 续 选 择 唐 僧 选 择 第 一 项 填 写 新 手 卡 ： mt2qbz 可', 's50 原 材 料 硬 度 为 ； 建 议 热 处 理 后 管 控 硬 度 为 。 钢 材 通 过 实 行 球 化 处 理 ， 可 以 改 善 这 类 碳 钢 的 切 削 性 能 。 该 钢 通 常 回 火 到 硬 度 19 ~ 以 后 使 用 ， 以 增 加 其 切 削 加 工 性 能 。 钢 材 伸 长 率 δ5 ： ≥14 ( % ) ； 收 缩 率 ψ ： ≥40 ( % ) ； 冲 击 功 ： ≥31 ( 4 ) kv ( ) ； 是 高 级 优 质 中 碳 钢 ， 采 用 由 电 炉 、 平 炉 或 纯 氧 转 炉 炼 钢 法 制 造 的 全 静 钢 ， 具 有 金 相 组 织 均 匀 的 特 点 。 该 钢 含 碳 量 （ 质 量 分 数 ， % ） ≥0. 4 ， 耐 磨 性 优 良 ， 延 展 性 减 少 ， 淬 火 易 变 形 和 开 裂 ， 故 淬 火 极 为 重 要 ， 切 回 火 后 必 须 急 冷 ， 以 避 免 发 生 回 火 脆 性 。 力 学 性 能 硬 度 ： 未 热 处 理 ， ; 退 火 钢 ， 试 样 尺 寸 ： 试', '普 卡 年 费 50 元 。 每 年 划 卡 消 费 五 次 或 累 计 消 费 5000 元 即 可 免 当 年 年 费 。 2016 年 11 月 30 日 前 申 请 并 成 功 消 费 一 笔 即 可 免 有 效 期 内 八 年 年 费 。 下 卡 两 张, 一 张 多 币 种 卡, 可 以 在 外 国 网 站 或 出 国 使 用 。 一 张 银 联 人 民 币 卡, 可 以 在 国 内 消 费 。 工 行 环 球 旅 行 信 用 卡 年 费', '忘 不 了 改 善 记 忆 的 效 果 还 是 不 错 的 ， 高 中 的 时 候 连 续 吃 了 两 年 ， 那 段 时 间 熬 夜 复 习 ， 还 能 保 持 精 力 充 沛 也 是 多 亏 了 忘 不 了 。 副 作 用 倒 是 没 有 发 现 ， 忘 不 了 是 深 海 鱼 提 取 的 鱼 油 营 养 成 分 ， 长 期 吃 会 更 好 的 养 护 大 脑 ， 不 会 有 副 作 用 的 ， 可 以 放 心 食 用 的 。 3a 忘 不 了 副 作 用', '2 月 18 日 上 午 ， 省 厅 在 泰 兴 市 局 召 开 全 市 系 统 干 部 大 会 ， 宣 布 厅 党 组 对 泰 兴 市 局 主 要 负 责 同 志 的 任 免 决 定 。 孙 红 东 同 志 任 泰 兴 市 国 土 资 源 局 局 长 、 党 委 书 记 。 省 厅 副 厅 长 、 厅 党 组 副 书 记 魏 红 军 ， 泰 兴 市 委 书 记 孙 耀 灿 出 席 会 议 并 分 别 讲 话 。 泰 兴 市 国 土 局 局 长 是 谁']\n",
            "input: ['铁 桶 江 山 ， 读 音 是 ， 汉 语 词 语 ， 出 自 赵 树 理 《 小 二 黑 结 婚 》 ， 比 喻 牢 固 的 政 权 或 地 位 。 | 铁 桶 江 山 发 音 解 释 比 喻 牢 固 的 政 权 或 地 位 。 出 处 赵 树 理 《 小 二 黑 结 婚 》 ： 村 里 的 干 部 虽 然 调 换 了 几 个 ， 而 他 两 个 却 好 像 铁 桶 江 山 。 桶 的 成 语', '倒 库 时 在 内 侧 后 视 镜 里 面 看 到 内 侧 后 轮 距 离 库 边 比 较 近 小 于 的 时 候 ， 回 半 圈 。 右 倒 车 入 库 ： 观 察 右 后 视 镜 ， 看 最 右 边 库 线 露 出 后 ， 始 终 保 持 车 身 与 库 角 距 离 大 概 30 厘 米 ， 小 于 30 厘 米 时 回 半 圈 。 左 倒 车 入 库 ： 观 察 左 后 视 镜 ， 看 最 左 边 库 线 露 出 后 ， 始 终 保 持 车 身 与 库 角 距 离 大 概 30 厘 米 ， 小 于 30 厘 米 时 回 半 圈 。 右 倒 库 ： 挂 倒 档 ， 松 手 刹 ， 轻 抬 离 合 使 车 后 移 ， 控 制 好 车 速 ， 看 左 后 视 镜 ， 当 右 起 点 感 应 线 出 现 在 左 后 视 镜 位 置 时 把 转 向 盘 右 打 死 。 转 向 盘 一 直 打 死 着 继 续 后 移 ， 中 间 不 能 停 车 ， 扭 头 观 察 右 后 视 镜 ， 看 最 右 边 线 露 出 后 ， 始 终 保 持 车 身 与 库 角 距 离 大 概 30 厘 米 ， 小 于 30 厘 米 时', '人 参 之 乡 吉 林 省 抚 松 县 三 七 之 乡 云 南 省 文 山 壮 族 苗 族 自 治 州 ; 黄 连 之 乡 四 川 省 石 柱 县 ; 党 参 之 乡 山 西 省 长 治 县 ; 当 归 之 乡 甘 肃 省 岷 县 ; 甘 草 之 乡 内 蒙 古 自 治 区 杭 锦 旗 ; 枸 杞 之 乡 宁 夏 回 族 自 治 区 中 宁 县 ; 银 花 之 乡 山 东 省 平 邑 县 ; 茯 苓 之 乡 湖 北 省 罗 田 县 ; 银 耳 之 乡 四 川 省 通 江 县 ; 浙 贝 之 乡 浙 江 省 鄞 县 ; 玄 胡 之 乡 浙 江 省 东 阳 市 ; 杭 菊 之 乡 浙 江 省 桐 乡 市 ; 麦 冬 之 乡 浙 江 省 慈 溪 市 ; 白 术 之 乡 浙 江 省 磐 安 县 ; 山 药 之 乡 山 西 省 平 遥 县 ; 枳 壳 之 乡 江 西 省 靖 安 县 ; 木 瓜 之 乡', '古 惑 仔 是 粤 语 独 有 的 一 个 词 ， 本 意 是 指 狡 猾 精 明 ， 后 来 引 申 为 对 具 有 某 类 怪 异 行 为 的 青 少 年 的 称 谓. 经 济 比 较 发 达 的 大 都 市 中 ， 经 常 可 以 看 到 这 样 一 些 青 少 年 ： 他 们 不 爱 读 书 ， 喜 欢 奇 装 异 服 ， 耳 上 钻 孔 ， 裤 子 挖 洞 ， 讲 义 气 ， 爱 打 架 ， 外 表 古 里 古 怪 ， 脾 气 喜 怒 无 常 。 这 样 一 群 行 为 有 些 另 类 的 青 少 年 ， 社 会 上 一 般 称 为 问 题 青 少 年 ， 在 广 州 和 香 港 等 地 则 被 称 为 古 惑 仔 。 古 惑 仔 在 人 们 的 言 谈 之 中 多 少 带 有 些 贬 义 ， 被 当 作 是 另 类 的 代 名 词 。 对 于 古 惑 仔 ， 学 术 上 并 没 有 具 体 的 界 定 ， 但 是 总 结 近 年 来 的 有 关 调 查 研 究 就 可 以 发 现 ， 这 个 群 体 具 有 以 下 这 些 特 点 ：', '， 读 作 ： 。 汉 字 基 本 字 义 古 同 地 。 地 形 声 。 从 土, 也 声 。 本 义 : 大 地 。 笔 画 编 码 部 外 笔 画 : 7, 总 笔 画 : 10 五 笔 86 & 98 : 仓 颉 : 笔 顺 编 号 ： 2522534121 四 角 号 码 ： 22104 : 统 一 汉 字 + 康 熙 字 典 【 丑 集 中 】 【 土 字 部 】 【 玉 篇 】 古 地 字 。 注 详 三 画 。 【 前 汉 · 赵 充 国 传 】 令 不 得 归 肥 饶 之 。 ○ 按 《 类 篇 》 谓 唐 武 后 作 ， 非 。 山 水 土 读 什 么', '一 般 是 ( 黑 ), 一 般 是 ( 绿 ), 一 般 是 ( 白 ), 一 般 是 ( 丈 青 色 ) 的 话 还 不 是 很 清 楚 是 什 么 颜 色 。 | 看 到 网 上 吉 他 的 颜 色 、 、 、 、 都 是 指 什 么 颜 色 啊 ？ ？ 木 色 日 落 色 兰 色 白 色 也 有 可 能 是 红 色 黑 色 nv 是 什 么 颜 色', '其 实 各 个 牌 子 （ 针 对 进 口 来 说 ， 因 为 目 前 国 产 的 机 器 做 的 东 西 还 不 好 ， 很 难 真 正 投 入 使 用 ） 所 针 对 的 行 业 也 有 所 差 别 ， 所 以 要 看 你 是 在 什 么 行 业 ， 否 则 很 难 一 下 子 说 哪 个 公 司 的 东 西 好 。 | 建 议 你 直 接 在 官 网 购 买 ， 国 内 的 都 山 寨 ， 机 器 品 质 差 ， 打 印 精 度 差 ， 就 是 便 宜 ， 本 人 正 在 用 ， 各 种 问 题 ， 很 是 不 爽 ！ | 绝 对 是 品 牌 ， 打 印 精 度 为 0. 1 毫 米 ， 非 常 细 腻 。 总 代 理 在 北 京 。 在 百 度 搜 索 makerbot 就 能 找 到 。 | 打 印 机 品 牌 相 对 还 是 国 外 的 好 ， 看 你 主 要 应 用 在 什 么 样 的 领 域 ， 及 根 据 你 投 入 成 本 来 衡 量 。 目 前 的 形 式 国 外 的 技 术 比 国 内 的 相 对 领 先 一 些 ， 且 打 印 机 （ www. hori3d.', '自 体 脂 肪 颗 粒 注 射 移 植 隆 胸 术 是 用 抽 脂 器 从 身 体 脂 肪 堆 积 处 ( 如 腹 部 、 大 腿 部 ) 抽 取 脂 肪, 所 抽 取 的 脂 肪 经 过 滤 和 分 离 后 成 为 较 纯 的 脂 肪, 再 用 注 射 器 将 脂 肪 颗 粒 注 射 到 乳 房 腺 体 后 间 隙 及 ( 或 ) 腺 体 表 面 。 自 体 脂 肪 颗 粒 注 射 移 植 隆 胸 术 价 格 约 为 20000 - 40000 元, 该 手 术 后 受 术 者 需 要 休 息 1 - 4 天, 多 7 - 14 天 。 自 体 丰 胸 价 格']\n",
            "input: ['二 区 期 刊 名 字 期 刊 - 05782015 - 2016 最 新 影 响 因 子 2. 600 是 否 开 放 访 问 通 讯 方 式, 360,,,, 10010 - 1710 涉 及 的 研 究 方 向 工 程 技 术 - 工 程 ： 综 合 出 版 国 家 或 地 区 出 版 周 期 出 版 年 份 1962 年 文 章 数 223isa transactions 几 区', '韩 国 进 口 丝 珂 丽 雅 烫 发 水 ， 市 面 所 有 高 端 烫 发 水 。 小 测 试 ： 此 药 水 可 涂 抹 1 号 剂 在 皮 肤 待 完 全 吸 收 ， 皮 肤 不 红 ， 不 起 褶 。 特 点 ： 1 ， 既 可 用 作 冷 烫 ， 也 可 热 烫 。 2 ， 既 可 传 统 先 软 化 ， 也 可 作 为 快 速 烫 。 3 ， 操 作 时 无 须 带 手 套 ， 对 皮 肤 无 损 害 ， 1 号 剂 免 冲 洗 。 4 ， 建 议 用 于 低 温 热 烫 （ 70 - 80 度 内 加 热 ） ， 更 好 的 保 护 秀 发 。 5 ， 烫 后 一 个 月 ， 头 发 不 干 不 毛 不 躁 ， 给 予 头 发 应 有 的 飘 逸 。 自 然 头 发 还 可 保 留 头 发 韧 性 、 弹 性 。 6 ， 自 然 发 质 不 可 能 烫 糟 烫 坏 。 什 么 烫 发 药 水 好', '证 券 从 业 资 格 考 试 通 过 率 怎 么 样 呢 ？ 对 于 证 券 从 业 资 格 考 试 通 过 率 ， 可 以 分 为 科 目 来 看 ， 不 同 的 科 目 的 证 券 从 业 资 格 考 试 通 过 率 都 不 一 样 。 从 证 券 从 业 资 格 开 考 以 来 ， 据 相 关 证 券 业 协 会 的 一 些 数 据 显 示 ， 证 券 从 业 资 格 考 试 通 过 率 平 均 在 30 % 左 右 ， 这 在 各 种 职 业 资 格 的 考 试 当 中 并 不 是 很 高 的 一 个 通 过 率 。 接 下 来 我 们 就 来 看 看 每 个 科 目 的 通 过 率 。 证 券 从 业 资 格 考 试 分 为 了 以 下 几 个 科 目 ： 证 券 基 础 知 识 、 证 券 交 易 证 券 发 行 与 销 售 、 证 券 投 资 分 析 与 证 券 投 资 基 金 。 从 历 年 来 看 ， 这 五 个 科 目 中 ， 证 券 从 业 资 格 考 试 通 过 率 最 高 的 为 证 券 交 易 ， 而 证 券 从 业 资 格 考 试 通 过 率 最 低 为 证 券 投 资', '@ 1 、 前 四 后 八 ， 4 轴 车 上 路 交 通 部 门 的 要 求 是 车 货 总 重 不 超 过 40 吨 。 @ 2 、 交 警 的 要 求 拉 的 更 少 ， 建 议 还 是 合 法 装 载 ， 不 然 挣 的 运 费 还 不 够 交 罚 款 。 拓 展 ： 1 、 前 四 后 八 简 单 通 俗 的 说 是 商 用 车 的 一 种 类 别 ， 即 前 转 向 轮 为 两 轴 四 轮 ， 后 驱 动 轮 为 两 轴 （ 桥 ） 每 组 双 轮 共 八 轮 ， 常 见 的 前 四 后 八 的 车 辆 有 各 种 自 卸 货 车 ， 重 型 卡 车 ， 拖 挂 卡 车 等 。 2 、 简 单 通 俗 的 说 是 商 用 车 的 一 种 类 别. 即 前 转 向 轮 为 两 轴 四 轮, 后 驱 动 轮 为 两 轴 ( 桥 ) 每 组 双 轮 共 八 轮 。 3 、 所 谓 前 四 后 八 就 是 说 前 面 是 四 个 轮 后 面 是 8 个 轮 ， 前 4 ， 就 是 前 面 是 双 桥 4 个 轮 ， 后 八 也 是 双 桥 ， 就 是 8 个 轮 子 驱 动 ， 每 个', '农 村 集 市 日 用 品 最 好 卖 ， 因 为 不 管 你 是 谁 ， 日 用 品 每 天 都 在 用 人 人 都 在 用 。 不 过 现 在 日 用 品 店 也 不 少 要 想 人 家 来 买 你 的 东 西 ， 那 你 的 产 品 质 量 必 须 要 好 ， 价 格 实 惠 。 我 现 在 就 在 做 日 用 品 生 意 ， 国 际 品 牌 ， 价 格 廉 宜 。 很 多 人 都 在 用 。 如 有 兴 趣 可 以 交 流 。 农 村 卖 什 么 东 西 赚 钱', '健 康 的 成 年 男 子 的 精 子 一 般 能 够 存 活 2 - - 3 天 ， 如 果 女 方 不 在 排 卵 期 ， 精 子 就 遇 不 到 卵 子 ， 就 不 会 导 致 怀 孕 。 每 个 女 性 的 排 卵 期 也 是 不 一 样 的 ， 卵 子 每 月 排 一 次 ， 通 常 会 存 活 1 - - 2 天 ， 但 医 学 上 也 不 排 除 有 特 殊 案 例 的 可 能 。 \\\\ x0d 所 以 建 议 你 如 果 不 想 要 孩 子 的 话 ， 采 取 避 孕 措 施 比 较 妥 当 。 精 子 存 活 多 长 时 间', '一 般 京 东 规 定 交 易 达 成 后 24 小 时 内 发 货 ， 才 不 算 延 迟 发 货 。 如 果 京 东 延 迟 发 货 ， 根 据 《 京 东 开 放 平 台 卖 家 积 分 管 理 规 则 》 进 行 处 理 ， 对 商 家 每 单 扣 1 分 （ 7 日 内 不 超 过 25 分 ） 的 处 理 。 另 外 ， 京 东 开 放 平 台 不 允 许 卖 家 出 现 订 单 生 成 后 因 缺 货 而 无 法 发 货 的 情 况 发 生 ， 卖 家 应 及 时 查 看 库 存 并 更 改 系 统 信 息 ， 下 架 缺 货 商 品 。 如 卖 家 发 生 缺 货 无 法 发 货 的 情 形 ， 需 在 客 户 订 单 生 成 后 24 小 时 内 电 话 联 系 客 户 ， 需 调 货 的 ， 告 知 客 户 商 品 的 到 货 时 间 ， 无 法 调 货 的 ， 需 明 确 征 得 客 户 同 意 ， 并 与 24 小 时 内 提 交 删 单 申 请 。 如 因 未 联 系 客 户 或 因 卖 家 缺 货 导 致 客 户 投 诉 的 ， 京 东 将 根 据 《 京 东 开 放 平 台 卖', '标 准 合 约 为 1000 克 / 手 ， 交 割 的 金 锭 为 1000 克 规 格 的 金 锭 或 3000 克 规 格 的 金 锭 ， 按 照 其 基 准 价 209. 99 而 言 ， 其 价 值 为 209990 元 和 629970 元 。 张 学 良 的 应 该 是 大 的 金 条 吧 不 可 能 是 小 的 所 以 应 该 是 3000 克 的 。 。 。 民 国 时 期 一 根 金 条 多 少 钱']\n",
            "input: ['广 州 美 联 商 务 英 语 培 训 班 为 有 英 语 外 贸 需 要 的 学 员 设 计, 力 求 在 短 的 时 间 内 打 破 您 与 欧 美 客 户 的 交 流 障 碍, 明 显 提 高 学 员 的 商 务 沟 通 能 力 与 翻 译 能 力, 广 州 美 联 商 务 英 语 培 训 班 通 过 小 班 课 和 活 动 课 的 学 习 让 您 在 语 言 技 巧 和 商 务 技 巧 上 得 到 均 衡 的 发 展 。 广 州 学 职 场 英 语 哪 里 好', '第 一 季 一 骑 当 千 第 二 季 一 骑 当 千 ( 一 骑 当 千 ) 第 三 季 一 骑 当 千 ( 一 骑 当 千 ) 第 四 季 一 骑 当 千 ( 一 骑 当 千 ) 一 骑 当 千 dd 是 第 几 季', '正 常 成 人 每 天 需 要 的 热 卡 数 量 一 般 在 2000 至 3500 卡 之 间 ， 计 算 起 来 比 较 麻 烦 。 您 如 果 想 要 算 的 话 ， 可 以 买 本 营 养 学 的 工 具 书 参 考 一 下 。 具 体 算 法 大 致 是 这 样 的 ： 第 一 步 ， 统 计 你 一 天 中 参 加 各 种 活 动 的 时 间 ， 比 如 ： 睡 眠 、 走 路 、 脑 力 工 作 、 体 力 工 作 （ 含 工 作 强 度 ） 等 等 ， 分 得 很 细 的 ， 记 录 每 项 活 动 多 长 时 间 。 第 二 步 ， 查 表 ， 根 据 每 项 活 动 平 均 消 耗 的 热 卡 数 和 每 项 活 动 的 时 间 ， 还 要 结 合 你 自 己 的 体 重 、 年 龄 等 因 素 ， 最 后 计 算 出 每 天 消 耗 的 热 卡 值 。 第 三 步 ， 查 表 ， 按 照 每 种 食 物 所 含 单 位 热 卡 值 制 定 食 谱 ， 使 每 天 摄 入 的 热 卡 数 与 每 天 消 耗 的 热 卡 数 平 衡 ， 就 可 以 保 证 不 增 减 体 重 ； 如 果 要', '大 家 都 知 道 死 神 方 便 ， 在 武 林 风 有 50 场 不 败 神 话 ， 这 点 连 人 气 最 旺 的 武 僧 一 龙 也 没 有 办 法 比 ， 毕 竟 一 龙 还 是 输 过 一 些 比 赛 的 ， 很 多 人 可 能 认 为 方 便 就 是 无 敌 的 ， 不 可 战 胜 的 ， 其 实 错 了 ， 没 有 不 败 神 话 ， 方 便 也 是 输 过 的 ， 只 是 很 多 人 不 知 道 而 已 。 武 林 风 方 便 打 了 多 少 场', '如 果 从 女 孩 阴 道 中 流 出 像 鸡 蛋 清 一 样 透 明 、 无 色 无 味 而 略 带 粘 稠 的 液 体 ， 预 示 2 - 3 年 后 月 经 初 潮 即 将 到 来 。 您 的 情 况 应 该 是 快 要 来 月 经 了 。 保 持 良 好 的 情 绪 ， 不 要 过 度 焦 虑 ， 祝 您 健 康 。 | 1. 做 好 经 期 保 护 。 初 潮 时 应 避 免 参 加 剧 烈 的 体 育 运 动 ， 避 月 经 期 间 剧 烈 活 动 可 引 起 疾 病 ， 最 常 见 的 是 子 宫 内 膜 异 位 症 、 痛 经 、 月 经 过 多 等 。 2. 保 持 良 好 情 绪 。 这 时 应 该 注 意 保 持 冷 静 与 克 制 ， 并 尽 可 能 自 我 放 松 ， 防 止 因 紧 张 与 冲 动 导 致 月 经 疾 病 。 3. 注 意 生 殖 卫 生 。 月 经 初 潮 ， 要 注 意 生 殖 卫 生 ， 不 要 使 用 不 洁 净 的 卫 生 巾 ， 每 天 使 用 干 净 水 清 洗 外 阴 ， 注 意 局 部 清 洁 卫 生 ， 防 止 出 现 细 菌 感', '扬 州 到 青 岛 用 时 最 长 大 概 为 ： 7. 56 小 时 （ 始 发 车 站 ： 扬 州 汽 车 西 站 ， 发 车 时 间 ： 07 : 50 ， 票 价 ： 188 元 ， 里 程 ： 605 公 里 ， 车 型 ： 大 型 高 一 ） ， 用 时 最 短 大 概 为 ： 7. 56 小 时 （ 始 发 车 站 ： 扬 州 汽 车 西 站 ， 发 车 时 间 ： 07 : 50 ， 票 价 ： 188 元 ， 里 程 ： 605 公 里 ， 车 型 ： 大 型 高 一 ） 扬 州 到 青 岛 汽 车 多 长 时 间', '雷 霆 战 机 10 月 12 日 的 每 日 一 题 更 新 啦 ， 题 目 是 ： 活 动 关 卡 ： 导 弹 猎 场 每 日 可 以 挑 战 几 次? 答 案 ： lt2 次 ， 你 答 对 了 吗 ？ 对 于 这 一 块 还 不 是 太 了 解 的 玩 家 ， 一 起 随 易 玩 网 小 编 了 解 一 下 吧 | 活 动 关 卡 ： 导 弹 猎 场 每 日 可 以 挑 战 2 次 喔 ， 所 以 10 月 12 日 雷 霆 战 机 每 日 一 题 答 案 就 是 lt2 次 导 弹 猎 场 每 日 可 以 挑 战 几 次', '宋 威 龙 被 粉 丝 称 作 长 腿 老 头 ， 大 概 是 因 为 宋 威 龙 的 腿 很 长 吧 ， 而 且 也 有 一 丝 不 属 于 他 这 个 年 纪 的 成 熟 。 小 编 最 初 看 到 宋 威 龙 的 时 候 ， 还 以 为 宋 威 龙 已 经 二 十 多 了 ， 不 过 宋 威 龙 现 在 还 是 一 个 18 岁 的 少 年 呢 。 宋 威 龙 演 的 容 止 很 有 魏 晋 风 流 的 感 觉 ， 总 体 来 说 宋 威 龙 的 表 现 并 不 差 ， 不 过 有 关 晓 彤 这 个 玛 丽 苏 之 光 加 持 ， 这 部 剧 实 在 是 被 黑 的 太 厉 害 了 。 长 腿 老 头 是 谁']\n",
            "input: ['内 蒙 古 人 事 考 试 信 息 网 消 息 : 2017 年 内 蒙 古 公 务 员 考 试 笔 试 4 月 22 日 结 束, 很 多 考 生 关 注 2017 年 内 蒙 古 公 公 务 员 考 试 笔 试 成 绩 查 询 时 间, 据 悉, 2017 年 内 蒙 古 公 务 员 成 绩 时 间 预 计 5 月 中 旬, 届 时, 华 图 教 育 将 及 时 开 通 2017 年 内 蒙 古 公 务 员 成 绩 查 询 入 口 。 内 蒙 古 公 务 员 成 绩 查 询 时 间', '一 个 月 ， 这 是 规 定 的 时 间 段 ， 也 就 是 说 至 少 30 天 。 给 的 回 归 奖 励 还 是 很 不 错 的 ： 一 ， 回 归 之 星 称 号 。 二 ， 回 归 礼 盒 ， 里 面 有 永 久 的 灵 跃 武 器 ， 灵 跃 武 器 + 10 卷 ， 和 + 5 灵 跃 煅 造 卷 。 三 ， 20 个 格 斗 家 人 偶 。 四 ， 2 天 的 技 能 点 重 置 契 约 。 五 ， 3 天 左 右 的 四 大 契 约 。 注 意 ： 虽 然 官 方 说 是 30 天 ， 但 是 最 好 还 是 在 第 31 或 者 32 天 登 陆 为 好 ， 可 以 避 免 差 一 天 而 没 得 到 奖 励 的 情 况 。 dnf 多 久 不 登 是 回 归 玩 家', '靳 怎 么 读 ？ 我 们 在 生 活 中 见 到 靳 这 个 字 的 时 候 ， 大 部 分 应 该 是 在 人 名 中 ， 遇 到 靳 这 个 词, 大 家 都 不 知 道 怎 么 读 这 个 生 僻 字 。 你 想 知 道 这 些 有 趣 的 生 僻 字 怎 么 读 吗? 靳 的 读 音 是 ， 作 为 动 词 是 吝 惜 的 意 思 ， 悔 不 小 靳, 可 至 千 万 ， 出 自 《 后 汉 书 · 崔 石 传 》 。 靳 念 什 么', '塑 性 填 料 ( 以 下 简 称 ) 塑 性 嵌 缝 材 料 系 填 在 周 边 缝 顶 部 预 留 倒 △ 形 槽 内 ， 必 须 粘 紧 密 实 ， 并 呈 弧 形 向 上 隆 起 ， 以 便 能 更 好 地 适 应 面 板 变 形 ， 在 其 表 面 采 用 聚 氯 乙 烯 塑 料 带 包 盖 密 封 ( 死 水 位 以 上 采 用 钢 片 ) ， 要 用 角 钢 通 过 螺 栓 将 其 嵌 固 在 砼 上 。 塑 性 嵌 缝 材 料 施 工 前 应 先 将 其 与 砼 结 合 部 位 用 钢 丝 刷 刷 去 砼 表 面 的 乳 皮 ， 然 后 用 高 压 水 枪 冲 洗 干 净 ， 风 干 后 再 用 ， ( 1 ) 施 工 准 备 用 钢 筋 台 车 将 塑 性 填 料 、 防 渗 盖 板 、 电 镀 角 钢 及 电 镀 膨 胀 螺 栓 等 运 至 相 应 的 施 工 部 位 。 ( 2 ) 嵌 缝 处 理 用 钢 刷 将 预 留 v 槽 内 两 侧 清 理 干 净 ， 再 用 水 冲 洗 槽 内 外 ， 除 去 缝 面 上 的 灰 砂', '高 考 成 绩 一 般 在 6 月 20 - 6 月 26 公 布 ， 具 体 时 间 每 年 、 每 个 地 方 都 略 有 差 异 。 高 考 后 两 周 左 右 可 以 问 一 下 老 师 。 高 考 状 元 学 习 法 参 考 ： 1 、 最 基 本 的 ： 要 端 正 学 习 态 度 。 学 习 是 自 己 的 事 ， 只 有 积 极 主 动 地 学 习 方 能 感 受 到 学 习 的 乐 趣 ， 学 有 所 成 。 主 动 地 吸 取 和 被 动 的 接 受 是 有 本 质 的 区 别 的 。 2 、 上 课 专 心 听 讲 。 课 前 做 好 预 习 工 作 ， 课 上 动 脑 动 手 ， 集 中 注 意 力 。 因 为 一 般 来 讲 ， 老 师 教 授 的 知 识 都 是 根 据 教 学 大 纲 、 考 试 大 纲 来 进 行 的 ， 所 以 上 课 的 专 心 很 重 要 。 3 、 提 高 学 习 效 率 。 学 习 效 率 低 就 意 味 着 掌 握 同 一 个 知 识 需 要 花 费 的 时 间 是 别 人 的 几 倍 ， 这 样 长 此 以 往 ， 学 习 只 会 越 来 越', '喷 绘 布 的 价 格 一 般 都 是 7 - 12 元 / 平 方 。 喷 绘 布, 俗 称 灯 箱 布, 是 一 种 以 为 原 材 料 经 过 一 定 的 制 作 工 艺 生 产 的, 主 要 用 于 户 外 广 告 喷 绘 制 作 的 一 种 喷 绘 材 料. 制 作 工 艺 精 良 ， 透 光 性 强 ， 柔 韧 性 好 ， 特 别 适 合 彩 色 喷 绘 。 根 据 户 外 使 用 的 要 求 ， 喷 绘 布 可 达 到 防 水 ， 防 霉 变 ， 阻 燃 ， 康 海 耐 高 温 ， 抗 紫 外 线 等 特 点 。 喷 绘 布 使 用 方 法 介 绍 ： 刀 刮 法 刀 刮 法 灯 箱 布 工 艺 是 将 液 态 浆 料 用 若 干 反 刮 刀 均 匀 的 乔 涂 于 基 布 的 正 反 两 面 ， 然 后 通 过 烘 干 工 艺 使 其 完 全 结 合 成 一 个 整 体 ， 之 后 冷 却 成 形 。 其 特 点 是 防 渗 透 性 、 抗 拉 力 、 抗 剥 离 能 力 较 强 。 由 于 刀 刮 法 产 品 上 下 是 一 个 整 体 ， 使 剥 离 现 象 得 以', '啊 ， 上 市 还 早 ， 楼 上 说 的 应 该 是 。 是 7 人 座 ， 吉 利 价 格 定 位 在 15 到 20w 。 比 高 个 级 别 。 定 价 在 10 到 ， 不 过 比 亚 迪 以 那 么 低 的 定 价 上 市 ， 吉 利 肯 定 会 下 调 定 价 的 。 | 裸 车 在 10 ~ 15 万 之 间 ， 不 同 配 置 价 格 也 不 一 样 ！ 不 过 9 月 份 就 正 式 上 市 了 ， 敬 请 期 待 ！ 帝 豪 ex8 大 概 多 少 钱', '经 销 商 报 价 : 8. 88 - 14. 68 万 官 方 指 导 价 : 8. 88 - 14. 68 万 分 期 购 车 : 畅 享 超 低 利 息 > > 车 主 评 分 : | 经 销 商 报 价 : 36. 98 - 62. 53 万 官 方 指 导 价 : 36. 98 - 62. 53 万 分 期 购 车 : 畅 享 超 低 利 息 > > 车 主 评 分 : | 经 销 商 报 价 : 8. 68 - 11. 88 万 官 方 指 导 价 : 8. 68 - 11. 88 万 分 期 购 车 : 畅 享 超 低 利 息 > > 车 主 评 分 : | 经 销 商 报 价 : 12. 28 - 17. 18 万 官 方 指 导 价 : 12. 28 - 17. 18 万 分 期 购 车 : 畅 享 超 低 利 息 > > 车 主 评 分 : | 经 销 商 报 价 : 26. 58 - 36. 08 万 官 方 指 导 价 : 26. 58 - 36. 08 万 分 期 购 车 : 畅 享 超 低 利 息 > > 车 主 评 分 : | 经 销 商 报 价 : 12. 98 - 16. 98 万 官 方 指 导 价']\n"
          ]
        },
        {
          "output_type": "error",
          "ename": "NameError",
          "evalue": "name 'original_data' is not defined",
          "traceback": [
            "\u001b[0;31m---------------------------------------------------------------------------\u001b[0m",
            "\u001b[0;31mNameError\u001b[0m                                 Traceback (most recent call last)",
            "\u001b[0;32m<ipython-input-33-6b8526d60e7f>\u001b[0m in \u001b[0;36m<cell line: 0>\u001b[0;34m()\u001b[0m\n\u001b[1;32m     30\u001b[0m \u001b[0;34m\u001b[0m\u001b[0m\n\u001b[1;32m     31\u001b[0m     \u001b[0mtotal_loss\u001b[0m\u001b[0;34m,\u001b[0m \u001b[0mloss_record_step\u001b[0m \u001b[0;34m=\u001b[0m \u001b[0mtrain_loop\u001b[0m\u001b[0;34m(\u001b[0m\u001b[0mtrain_dataloader\u001b[0m\u001b[0;34m,\u001b[0m \u001b[0mmodel\u001b[0m\u001b[0;34m,\u001b[0m \u001b[0moptimizer\u001b[0m\u001b[0;34m,\u001b[0m \u001b[0mlr_scheduler\u001b[0m\u001b[0;34m,\u001b[0m \u001b[0mt\u001b[0m\u001b[0;34m+\u001b[0m\u001b[0;36m1\u001b[0m\u001b[0;34m,\u001b[0m \u001b[0mtotal_loss\u001b[0m\u001b[0;34m)\u001b[0m\u001b[0;34m\u001b[0m\u001b[0;34m\u001b[0m\u001b[0m\n\u001b[0;32m---> 32\u001b[0;31m     \u001b[0msave_data_and_plot\u001b[0m\u001b[0;34m(\u001b[0m\u001b[0mloss_record_step\u001b[0m\u001b[0;34m,\u001b[0m \u001b[0mtxt_file_path\u001b[0m\u001b[0;34m,\u001b[0m \u001b[0mimg_file_path\u001b[0m\u001b[0;34m)\u001b[0m\u001b[0;34m\u001b[0m\u001b[0;34m\u001b[0m\u001b[0m\n\u001b[0m\u001b[1;32m     33\u001b[0m     \u001b[0mclean_cuda\u001b[0m\u001b[0;34m(\u001b[0m\u001b[0mdevice\u001b[0m\u001b[0;34m)\u001b[0m\u001b[0;34m\u001b[0m\u001b[0;34m\u001b[0m\u001b[0m\n\u001b[1;32m     34\u001b[0m     \u001b[0mvalid_bleu1\u001b[0m\u001b[0;34m,\u001b[0m \u001b[0mvalid_bleu2\u001b[0m\u001b[0;34m,\u001b[0m \u001b[0mvalid_bleu3\u001b[0m\u001b[0;34m,\u001b[0m \u001b[0mvalid_bleu4\u001b[0m \u001b[0;34m=\u001b[0m \u001b[0mtest_loop\u001b[0m\u001b[0;34m(\u001b[0m\u001b[0mvalid_dataloader\u001b[0m\u001b[0;34m,\u001b[0m \u001b[0mmodel\u001b[0m\u001b[0;34m)\u001b[0m\u001b[0;34m\u001b[0m\u001b[0;34m\u001b[0m\u001b[0m\n",
            "\u001b[0;32m<ipython-input-32-8fd002b3323c>\u001b[0m in \u001b[0;36msave_data_and_plot\u001b[0;34m(data, txt_file_path, img_file_path)\u001b[0m\n\u001b[1;32m      7\u001b[0m     \u001b[0;32mwith\u001b[0m \u001b[0mopen\u001b[0m\u001b[0;34m(\u001b[0m\u001b[0mtxt_file_path\u001b[0m\u001b[0;34m,\u001b[0m \u001b[0;34m'a'\u001b[0m\u001b[0;34m)\u001b[0m \u001b[0;32mas\u001b[0m \u001b[0mf\u001b[0m\u001b[0;34m:\u001b[0m\u001b[0;34m\u001b[0m\u001b[0;34m\u001b[0m\u001b[0m\n\u001b[1;32m      8\u001b[0m         \u001b[0;31m# 将数字转为字符串并换行写入\u001b[0m\u001b[0;34m\u001b[0m\u001b[0;34m\u001b[0m\u001b[0m\n\u001b[0;32m----> 9\u001b[0;31m         \u001b[0mf\u001b[0m\u001b[0;34m.\u001b[0m\u001b[0mwrite\u001b[0m\u001b[0;34m(\u001b[0m\u001b[0;34m'\\n'\u001b[0m\u001b[0;34m.\u001b[0m\u001b[0mjoin\u001b[0m\u001b[0;34m(\u001b[0m\u001b[0mmap\u001b[0m\u001b[0;34m(\u001b[0m\u001b[0mstr\u001b[0m\u001b[0;34m,\u001b[0m \u001b[0moriginal_data\u001b[0m\u001b[0;34m)\u001b[0m\u001b[0;34m)\u001b[0m\u001b[0;34m)\u001b[0m\u001b[0;34m\u001b[0m\u001b[0;34m\u001b[0m\u001b[0m\n\u001b[0m\u001b[1;32m     10\u001b[0m         \u001b[0mf\u001b[0m\u001b[0;34m.\u001b[0m\u001b[0mwrite\u001b[0m\u001b[0;34m(\u001b[0m\u001b[0;34m'\\n'\u001b[0m\u001b[0;34m)\u001b[0m  \u001b[0;31m# 添加换行符分隔不同写入批次\u001b[0m\u001b[0;34m\u001b[0m\u001b[0;34m\u001b[0m\u001b[0m\n\u001b[1;32m     11\u001b[0m \u001b[0;34m\u001b[0m\u001b[0m\n",
            "\u001b[0;31mNameError\u001b[0m: name 'original_data' is not defined"
          ]
        }
      ]
    },
    {
      "cell_type": "code",
      "source": [
        "test_data = GenQA(dev_data_address)\n",
        "test_dataloader = DataLoader(test_data, batch_size=test_batch_size, shuffle=False, collate_fn=collote_fn)\n",
        "\n",
        "import json\n",
        "\n",
        "model.load_state_dict(torch.load('epoch_1_valid_bleu_53.38_model_weights.bin'))\n",
        "\n",
        "model.eval()\n",
        "with torch.no_grad():\n",
        "    print('evaluating on test set...')\n",
        "    sources, preds, labels = [], [], []\n",
        "    for batch_data in tqdm(test_dataloader):\n",
        "        batch_data = batch_data.to(device)\n",
        "        generated_tokens = model.generate(\n",
        "            batch_data[\"input_ids\"],\n",
        "            attention_mask=batch_data[\"attention_mask\"],\n",
        "            max_length=max_length,\n",
        "        ).cpu().numpy()\n",
        "        label_tokens = batch_data[\"labels\"].cpu().numpy()\n",
        "\n",
        "        decoded_sources = tokenizer.batch_decode(\n",
        "            batch_data[\"input_ids\"].cpu().numpy(),\n",
        "            skip_special_tokens=True,\n",
        "            use_source_tokenizer=True\n",
        "        )\n",
        "        decoded_preds = tokenizer.batch_decode(generated_tokens, skip_special_tokens=True)\n",
        "        print(\"input:\", decoded_sources)\n",
        "        print(\"output:\", decoded_preds)\n",
        "        label_tokens = np.where(label_tokens != -100, label_tokens, tokenizer.pad_token_id)\n",
        "        decoded_labels = tokenizer.batch_decode(label_tokens, skip_special_tokens=True)\n",
        "        print(\"labels:\", decoded_labels)\n",
        "\n",
        "        sources += [source.strip() for source in decoded_sources]\n",
        "        preds += [pred.strip() for pred in decoded_preds]\n",
        "        labels += [[label.strip()] for label in decoded_labels]\n",
        "    bleu_score = bleu.corpus_score(preds, labels).score\n",
        "    print(f\"Test BLEU: {bleu_score:>0.2f}\\n\")\n",
        "    results = []\n",
        "    print('saving predicted results...')\n",
        "    for source, pred, label in zip(sources, preds, labels):\n",
        "        results.append({\n",
        "            \"sentence\": source,\n",
        "            \"prediction\": pred,\n",
        "            \"translation\": label[0]\n",
        "        })\n",
        "    with open('test_data_pred.json', 'wt', encoding='utf-8') as f:\n",
        "        for exapmle_result in results:\n",
        "            f.write(json.dumps(exapmle_result, ensure_ascii=False) + '\\n')"
      ],
      "metadata": {
        "id": "-HT0VGC_AVML"
      },
      "execution_count": null,
      "outputs": []
    },
    {
      "cell_type": "code",
      "source": [],
      "metadata": {
        "id": "T3TOFYQRKYjP"
      },
      "execution_count": null,
      "outputs": []
    }
  ]
}