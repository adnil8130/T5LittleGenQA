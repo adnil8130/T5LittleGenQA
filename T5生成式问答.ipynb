{
  "cells": [
    {
      "cell_type": "markdown",
      "metadata": {
        "id": "view-in-github",
        "colab_type": "text"
      },
      "source": [
        "<a href=\"https://colab.research.google.com/github/adnil8130/T5LittleGenQA/blob/main/T5%E7%94%9F%E6%88%90%E5%BC%8F%E9%97%AE%E7%AD%94.ipynb\" target=\"_parent\"><img src=\"https://colab.research.google.com/assets/colab-badge.svg\" alt=\"Open In Colab\"/></a>"
      ]
    },
    {
      "cell_type": "markdown",
      "metadata": {
        "id": "XB0rQXT6RK7Z"
      },
      "source": [
        "# 目标\n",
        "训练一个生成式问答模型，base模型采用Google T5-Base(\"uer/t5-base-chinese-cluecorpussmall\")\n",
        "\n",
        "预训练模型地址：https://huggingface.co/uer/t5-base-chinese-cluecorpussmall\n",
        "\n",
        "模型的评价指标采用BLEU-1，BLEU-2，BLEU-3，BLEU-4。"
      ]
    },
    {
      "cell_type": "code",
      "source": [
        "from google.colab import drive\n",
        "drive.mount('/content/drive')"
      ],
      "metadata": {
        "id": "qKP6SwsEb2g9"
      },
      "execution_count": null,
      "outputs": []
    },
    {
      "cell_type": "markdown",
      "metadata": {
        "id": "9-mM3YxoRqpe"
      },
      "source": [
        "# 数据集\n",
        "数据集：链接：https://pan.quark.cn/s/6d4a98cd65f2    \n",
        "\n",
        "提取码：bzne\n",
        "\n",
        "数据的格式如下：\n",
        "```\n",
        "{\"context\": \"违规分为:一般违规扣分、严重违规扣分、出售假冒商品违规扣分,淘宝网每年12月31日24:00点会对符合条件的扣分做清零处理,详情如下:|温馨提醒:由于出售假冒商品24≤N<48分,当年的24分不清零,所以会存在第一年和第二年的不同计分情况。\", \"answer\": \"12月31日24:00\", \"question\": \"淘宝扣分什么时候清零\", \"id\": 203}\n",
        "```"
      ]
    },
    {
      "cell_type": "markdown",
      "metadata": {
        "id": "elmV_poiR3ZE"
      },
      "source": [
        "# 1. 准备数据"
      ]
    },
    {
      "cell_type": "code",
      "execution_count": 13,
      "metadata": {
        "id": "Anm9f4W9-kOB",
        "scrolled": true
      },
      "outputs": [],
      "source": [
        "# ! pip install transformers"
      ]
    },
    {
      "cell_type": "code",
      "execution_count": 14,
      "metadata": {
        "colab": {
          "base_uri": "https://localhost:8080/"
        },
        "id": "GQKExfTQ5uJn",
        "outputId": "7da57b6b-b19d-4ced-fcab-4df8073e3773"
      },
      "outputs": [
        {
          "output_type": "stream",
          "name": "stdout",
          "text": [
            "4.48.3\n",
            "2.5.1+cu124\n"
          ]
        }
      ],
      "source": [
        "import transformers\n",
        "import numpy as np\n",
        "import torch\n",
        "print(transformers.__version__)\n",
        "print(torch.__version__)\n",
        "from torch.utils.data import Dataset, random_split\n",
        "import json"
      ]
    },
    {
      "cell_type": "code",
      "execution_count": 17,
      "metadata": {
        "colab": {
          "base_uri": "https://localhost:8080/"
        },
        "id": "o1EUw3OTY-vk",
        "outputId": "4d254364-376f-4ea3-ecbd-d0a428a1ea39"
      },
      "outputs": [
        {
          "output_type": "stream",
          "name": "stdout",
          "text": [
            "最长context 1881 孩子几点睡觉最能长高个？现在很多家长已经意识到孩子的身高不完全是受父母遗传的因 素所决定，后天的饮食、锻炼、睡眠对身高的影响也很大。以往，饮 食是影响身高的最主要因素，而如今，学习负担造成了很多孩子的睡 眠不足，所以睡眠对身高也有着很大的影响。\f“生长激素”是影响人体身高的重要因素，而生长激素不像人体的其 他激素在白天分泌，它是呈脉冲式分泌，主要在晚上分泌，分泌得越 多，就越有助于长高。21：00-凌晨 1：00 是生长激素分泌高峰，一 旦晚睡错过了， 就再也补不回来了。 生长激素是由人的脑垂体分泌的， 脑垂体一天的工作量很大， 除了要分泌生长激素外， 还要分泌性激素、 促肾上腺皮质激素等人体所需的多种激素，也因为“太忙了”，所以 它并不是 24 小时都在分泌生长激素。婴儿期是个例外。婴儿期时，不管是白天还是晚上，脑垂体在不断地 分泌生长激素，所以 1 岁以前的婴儿，长得特别快。幼儿后，生长激 素在白天的分泌量就非常少了，分泌量主要集中在晚上入睡时。其中 有两个时间段对长高至关重要，一个是晚 9 点至第二天凌晨 1 点， 特别是晚上 10 点以后，生长激素的分泌量达到最高，可以达到白天 的 5-7 倍。另外，早上 6 点前后的一两个小时，生长激素也有一个 分泌小高峰。\f不过并不是一到晚上 9 点， 生长激素就开始按时大量分泌， 它的大量 分泌必须有个前提：只有在深度睡眠时才会发生。如果这个时间还没 上床，或者已经上床但还没睡着，又或者已经睡着但还没进入深睡眠\f状态，那么它的分泌量就会大大降低。所以睡得越迟，分泌的生长激 素就越少， 对孩子的身高越不利。 而人一般在入睡后半小时至 1 小时， 才进入深度睡眠状态， 所以生长发育专家的建议是： 想要孩子长得高， 最好在晚上 8：30 前就上床，最迟不要超过晚 9：30，早上 7 点以 后再起床。 不同年龄段的睡眠时间表 年龄段 适宜睡眠时间 新生儿 20-22 小时2 月婴儿 18-20 小时 1岁 2岁 3-4 岁 5-7 岁 8-12 岁 15 小时 14 小时 13 小时 12 小时 10 小时13-18 岁 9 小时另外，阳光中有大量的天然钙剂，因此在阳光充足的时候，要带着孩 子多参与户外活动。21：00-凌晨1：00？现在很多家长已经意识到孩子的身高不完全是受父母遗传的因 素所决定，后天的饮食、锻炼、睡眠对身高的影响也很大。以往，饮 食是影响身高的最主要因素，而如今，学习负担造成了很多孩子的睡 眠不足，所以睡眠对身高也有着很大的影响。\f“生长激素”是影响人体身高的重要因素，而生长激素不像人体的其 他激素在白天分泌，它是呈脉冲式分泌，主要在晚上分泌，分泌得越 多，就越有助于长高。21：00-凌晨 1：00 是生长激素分泌高峰，一 旦晚睡错过了， 就再也补不回来了。 生长激素是由人的脑垂体分泌的， 脑垂体一天的工作量很大， 除了要分泌生长激素外， 还要分泌性激素、 促肾上腺皮质激素等人体所需的多种激素，也因为“太忙了”，所以 它并不是 24 小时都在分泌生长激素。婴儿期是个例外。婴儿期时，不管是白天还是晚上，脑垂体在不断地 分泌生长激素，所以 1 岁以前的婴儿，长得特别快。幼儿后，生长激 素在白天的分泌量就非常少了，分泌量主要集中在晚上入睡时。其中 有两个时间段对长高至关重要，一个是晚 9 点至第二天凌晨 1 点， 特别是晚上 10 点以后，生长激素的分泌量达到最高，可以达到白天 的 5-7 倍。另外，早上 6 点前后的一两个小时，生长激素也有一个 分泌小高峰。\f不过并不是一到晚上 9 点， 生长激素就开始按时大量分泌， 它的大量 分泌必须有个前提：只有在深度睡眠时才会发生。如果这个时间还没 上床，或者已经上床但还没睡着，又或者已经睡着但还没进入深睡眠\f状态，那么它的分泌量就会大大降低。所以睡得越迟，分泌的生长激 素就越少， 对孩子的身高越不利。 而人一般在入睡后半小时至 1 小时， 才进入深度睡眠状态， 所以生长发育专家的建议是： 想要孩子长得高， 最好在晚上 8：30 前就上床，最迟不要超过晚 9：30，早上 7 点以 后再起床。 不同年龄段的睡眠时间表 年龄段 适宜睡眠时间 新生儿 20-22 小时2 月婴儿 18-20 小时 1岁 2岁 3-4 岁 5-7 岁 8-12 岁 15 小时 14 小时 13 小时 12 小时 10 小时13-18 岁 9 小时另外，阳光中有大量的天然钙剂，因此在阳光充足的时候，要带着孩 子多参与户外活动。\n",
            "最长question 42 痞子猪身上是什么字母? (问题由猫小逗提供)【答题格式为da+答案,例如答案是爱消除\n",
            "最长answer 110 如果下雨的时候你拖着行李箱子站在屋檐下面那么其实我没有足够的时间找一个好一点的理由抛弃家里面的狗坐上K667次列车到你在的地方找个商店买一把伞然后给我妹妹弹吉他因为她要参加比赛所以我回不去了我也不会给你说我泡面的碗还没洗\n"
          ]
        }
      ],
      "source": [
        "max_context_len = 0\n",
        "max_question_len = 0\n",
        "max_answer_len = 0\n",
        "context = \"\"\n",
        "questiont = \"\"\n",
        "answer = \"\"\n",
        "\n",
        "context_len = []\n",
        "question_len = []\n",
        "answer_len = []\n",
        "\n",
        "save_path_file = '/content/drive/MyDrive'\n",
        "train_data_address = save_path_file + '/train.json'\n",
        "dev_data_address = save_path_file + '/dev.json'\n",
        "\n",
        "with open(train_data_address, 'rt', encoding='utf-8') as f:\n",
        "  for idx, line in enumerate(f):\n",
        "    sample = json.loads(line.strip())\n",
        "    context_len.append(len(sample['context']))\n",
        "    question_len.append(len(sample['question']))\n",
        "    answer_len.append(len(sample['answer']))\n",
        "    if len(sample[\"context\"]) > max_context_len:\n",
        "        max_context_len = len(sample[\"context\"])\n",
        "        context = sample[\"context\"]\n",
        "    if len(sample[\"question\"]) > max_question_len:\n",
        "        max_question_len = len(sample[\"question\"])\n",
        "        question = sample[\"question\"]\n",
        "    if len(sample[\"answer\"]) > max_answer_len:\n",
        "        max_answer_len = len(sample[\"answer\"])\n",
        "        answer = sample[\"answer\"]\n",
        "\n",
        "with open(dev_data_address, 'rt', encoding='utf-8') as f:\n",
        "  for idx, line in enumerate(f):\n",
        "    sample = json.loads(line.strip())\n",
        "    context_len.append(len(sample['context']))\n",
        "    question_len.append(len(sample['question']))\n",
        "    answer_len.append(len(sample['answer']))\n",
        "    if len(sample[\"context\"]) > max_context_len:\n",
        "        max_context_len = len(sample[\"context\"])\n",
        "        context = sample[\"context\"]\n",
        "    if len(sample[\"question\"]) > max_question_len:\n",
        "        max_question_len = len(sample[\"question\"])\n",
        "        question = sample[\"question\"]\n",
        "    if len(sample[\"answer\"]) > max_answer_len:\n",
        "        max_answer_len = len(sample[\"answer\"])\n",
        "        answer = sample[\"answer\"]\n",
        "\n",
        "print(\"最长context\", max_context_len, context)\n",
        "print(\"最长question\", max_question_len, question)\n",
        "print(\"最长answer\", max_answer_len, answer)"
      ]
    },
    {
      "cell_type": "code",
      "execution_count": 18,
      "metadata": {
        "colab": {
          "base_uri": "https://localhost:8080/"
        },
        "id": "YiwZrmhcNsK_",
        "outputId": "1dba31db-e8b4-4c88-fbb8-634cab8c4765"
      },
      "outputs": [
        {
          "output_type": "stream",
          "name": "stdout",
          "text": [
            "平均值: 283.3061790505676\n",
            "总体标准差: 193.44619621148513\n",
            "样本标准差: 193.45243510320984\n",
            "\n",
            "平均值: 9.270510835913313\n",
            "总体标准差: 2.770987527086612\n",
            "样本标准差: 2.771076895042615\n",
            "\n",
            "平均值: 5.562113003095975\n",
            "总体标准差: 4.073706442947103\n",
            "样本标准差: 4.073837825284484\n",
            "\n"
          ]
        }
      ],
      "source": [
        "import numpy as np\n",
        "\n",
        "def print_mean_std(data):\n",
        "    # 转换为 NumPy 数组\n",
        "    arr = np.array(data)\n",
        "\n",
        "    # 计算平均值\n",
        "    mean = np.mean(arr)\n",
        "    print(\"平均值:\", mean)  # 输出: 3.0\n",
        "\n",
        "    # 计算标准差\n",
        "    std_dev = np.std(arr)                # 默认计算总体标准差 (ddof=0)\n",
        "    sample_std_dev = np.std(arr, ddof=1) # 样本标准差 (ddof=1)\n",
        "\n",
        "    print(\"总体标准差:\", std_dev)        # 输出: 1.41421356\n",
        "    print(\"样本标准差:\", sample_std_dev)  # 输出: 1.58113883\n",
        "    print(\"\")\n",
        "\n",
        "print_mean_std(context_len)\n",
        "print_mean_std(question_len)\n",
        "print_mean_std(answer_len)"
      ]
    },
    {
      "cell_type": "code",
      "execution_count": 19,
      "metadata": {
        "id": "Vu9DI9NeNsK_"
      },
      "outputs": [],
      "source": [
        "import matplotlib.pyplot as plt\n",
        "from collections import Counter\n",
        "\n",
        "def plt_hist(data):\n",
        "    # 统计数字出现次数\n",
        "    counter = Counter(data)\n",
        "    numbers = list(counter.keys())    # 横轴数字\n",
        "    counts = list(counter.values())  # 纵轴次数\n",
        "\n",
        "    # 绘制条形图\n",
        "    plt.figure(figsize=(8, 5))\n",
        "    bars = plt.bar(numbers, counts, color='skyblue', edgecolor='black', width=0.8)\n",
        "\n",
        "    # 添加数值标签\n",
        "    for bar in bars:\n",
        "        height = bar.get_height()\n",
        "        plt.text(bar.get_x() + bar.get_width()/2, height,\n",
        "                 f'{height}', ha='center', va='bottom')\n",
        "\n",
        "    # 设置坐标轴和标题\n",
        "    plt.xlabel(\"数字\")\n",
        "    plt.ylabel(\"出现次数\")\n",
        "    plt.title(\"数字出现次数统计图\")\n",
        "    plt.xticks(numbers)  # 确保横轴刻度为具体数字\n",
        "    plt.grid(axis='y', linestyle='--', alpha=0.5)\n",
        "\n",
        "    plt.show()"
      ]
    },
    {
      "cell_type": "code",
      "execution_count": 20,
      "metadata": {
        "colab": {
          "base_uri": "https://localhost:8080/",
          "height": 773
        },
        "id": "gl61Kf0GNsK_",
        "outputId": "8fd23cac-c887-4940-db92-5b2519e70037"
      },
      "outputs": [
        {
          "output_type": "stream",
          "name": "stderr",
          "text": [
            "/usr/local/lib/python3.11/dist-packages/IPython/core/pylabtools.py:151: UserWarning: Glyph 20986 (\\N{CJK UNIFIED IDEOGRAPH-51FA}) missing from font(s) DejaVu Sans.\n",
            "  fig.canvas.print_figure(bytes_io, **kw)\n",
            "/usr/local/lib/python3.11/dist-packages/IPython/core/pylabtools.py:151: UserWarning: Glyph 29616 (\\N{CJK UNIFIED IDEOGRAPH-73B0}) missing from font(s) DejaVu Sans.\n",
            "  fig.canvas.print_figure(bytes_io, **kw)\n",
            "/usr/local/lib/python3.11/dist-packages/IPython/core/pylabtools.py:151: UserWarning: Glyph 27425 (\\N{CJK UNIFIED IDEOGRAPH-6B21}) missing from font(s) DejaVu Sans.\n",
            "  fig.canvas.print_figure(bytes_io, **kw)\n",
            "/usr/local/lib/python3.11/dist-packages/IPython/core/pylabtools.py:151: UserWarning: Glyph 25968 (\\N{CJK UNIFIED IDEOGRAPH-6570}) missing from font(s) DejaVu Sans.\n",
            "  fig.canvas.print_figure(bytes_io, **kw)\n",
            "/usr/local/lib/python3.11/dist-packages/IPython/core/pylabtools.py:151: UserWarning: Glyph 23383 (\\N{CJK UNIFIED IDEOGRAPH-5B57}) missing from font(s) DejaVu Sans.\n",
            "  fig.canvas.print_figure(bytes_io, **kw)\n",
            "/usr/local/lib/python3.11/dist-packages/IPython/core/pylabtools.py:151: UserWarning: Glyph 32479 (\\N{CJK UNIFIED IDEOGRAPH-7EDF}) missing from font(s) DejaVu Sans.\n",
            "  fig.canvas.print_figure(bytes_io, **kw)\n",
            "/usr/local/lib/python3.11/dist-packages/IPython/core/pylabtools.py:151: UserWarning: Glyph 35745 (\\N{CJK UNIFIED IDEOGRAPH-8BA1}) missing from font(s) DejaVu Sans.\n",
            "  fig.canvas.print_figure(bytes_io, **kw)\n",
            "/usr/local/lib/python3.11/dist-packages/IPython/core/pylabtools.py:151: UserWarning: Glyph 22270 (\\N{CJK UNIFIED IDEOGRAPH-56FE}) missing from font(s) DejaVu Sans.\n",
            "  fig.canvas.print_figure(bytes_io, **kw)\n"
          ]
        },
        {
          "output_type": "display_data",
          "data": {
            "text/plain": [
              "<Figure size 800x500 with 1 Axes>"
            ],
            "image/png": "[encoded data removed]"
          },
          "metadata": {}
        }
      ],
      "source": [
        "plt_hist(context_len)"
      ]
    },
    {
      "cell_type": "code",
      "execution_count": 21,
      "metadata": {
        "colab": {
          "base_uri": "https://localhost:8080/",
          "height": 487
        },
        "id": "wT-ENp06NsLA",
        "outputId": "c07bf5de-76b3-439a-96cc-3caad5cbefd2"
      },
      "outputs": [
        {
          "output_type": "display_data",
          "data": {
            "text/plain": [
              "<Figure size 800x500 with 1 Axes>"
            ],
            "image/png": "[encoded data removed]"
          },
          "metadata": {}
        }
      ],
      "source": [
        "plt_hist(question_len)"
      ]
    },
    {
      "cell_type": "code",
      "execution_count": 22,
      "metadata": {
        "colab": {
          "base_uri": "https://localhost:8080/",
          "height": 487
        },
        "id": "lVT6TlrPNsLA",
        "outputId": "156e6e3b-f404-4502-93fc-100274418ba0"
      },
      "outputs": [
        {
          "output_type": "display_data",
          "data": {
            "text/plain": [
              "<Figure size 800x500 with 1 Axes>"
            ],
            "image/png": "[encoded data removed]"
          },
          "metadata": {}
        }
      ],
      "source": [
        "plt_hist(answer_len)"
      ]
    },
    {
      "cell_type": "markdown",
      "metadata": {
        "id": "BUS6E7I3STnw"
      },
      "source": [
        "## 构建数据集"
      ]
    },
    {
      "cell_type": "code",
      "execution_count": 24,
      "metadata": {
        "id": "Z8ogSFxcSKWm"
      },
      "outputs": [],
      "source": [
        "train_ratio = 0.9\n",
        "max_dataset_size = 22000\n",
        "train_set_size = 20000\n",
        "valid_set_size = 2000\n",
        "\n",
        "class GenQA(Dataset):\n",
        "  def __init__(self, data_file):\n",
        "    self.data = self.load_data(data_file)\n",
        "\n",
        "  def load_data(self, data_file):\n",
        "    Data = {}\n",
        "    with open(data_file, 'rt', encoding='utf-8') as f:\n",
        "      for idx, line in enumerate(f):\n",
        "        if idx >= max_dataset_size:\n",
        "            break\n",
        "        sample = json.loads(line.strip())\n",
        "        Data[idx] = sample\n",
        "    return Data\n",
        "\n",
        "  def __len__(self):\n",
        "    return len(self.data)\n",
        "\n",
        "  def __getitem__(self, idx):\n",
        "    return self.data[idx]\n",
        "\n",
        "data = GenQA(train_data_address)\n",
        "data_size = len(data)\n",
        "\n",
        "train_size = int(train_ratio * data_size)\n",
        "valid_size = data_size - train_size\n",
        "train_data, valid_data = random_split(data, [train_size, valid_size])\n",
        "test_data = GenQA(dev_data_address)"
      ]
    },
    {
      "cell_type": "code",
      "execution_count": 25,
      "metadata": {
        "colab": {
          "base_uri": "https://localhost:8080/"
        },
        "id": "zo_XnYqUSxi4",
        "outputId": "1ae94370-ee48-4f46-9f2e-b7a0b5a926d9"
      },
      "outputs": [
        {
          "output_type": "stream",
          "name": "stdout",
          "text": [
            "train set size: 13068\n",
            "valid set size: 1452\n",
            "test set size: 984\n",
            "{'context': '小时代一共4部，分别叫《小时代1.0折纸时代》, 《小时代2.0虚铜时代》, 《小时代3.0刺金时代》,《小时代4.0灵魂尽头》。《小时代1.0折纸时代》是2008年长江文艺出版社出版的图书，作者是郭敬明。《小时代1.0折纸时代》是郭敬明《小时代》系列丛书第一部。主要讲述了四个从小感情深厚、有着不同价值观和人生观的林萧、南湘、顾里、唐宛如所经历的友情、爱情，乃至亲情的巨大转变的故事。《小时代2.0虚铜时代》(修订本)以经济飞速发展的上海这座风光而时尚的城市为背景，讲述了林萧、南湘、顾里、唐宛如四个从小感情深厚、有着不同价值观和人生观的女生，先后所经历的友情、爱情，乃至亲情的巨大转变，是一部当下时尚年轻人生活的真实写照。《小时代:刺金时代》继续讲述林萧、顾里、南湘、唐宛如四位主角，以及顾源、简溪、宫洺、周崇光、Neil、卫海这一群人，他们挥手作别青春校园步入职场后，随着自身环境的变化和人生阅历的不断增长，围绕友谊、爱情和职场，日益融入生活的滚滚洪流之中的迷失、怅惘、怀念却又不能不勇往直前的故事。《小时代4：灵魂尽头》是由郭敬明执导，杨幂、郭采洁、陈学冬、郭碧婷、谢依霖等主演的青春时尚都市电影。该片是《小时代》系列电影的第四部。该片改编自郭敬明小说《小时代》，影片围绕林萧、顾里、南湘、唐宛如四姐妹展开，讲述了顾里癌症、顾源坐牢、姐妹反目及这一群人的友谊方向是如何发展的的各种故事。', 'answer': '4部', 'question': '小时代几部', 'id': 7642}\n"
          ]
        }
      ],
      "source": [
        "print(f'train set size: {len(train_data)}')\n",
        "print(f'valid set size: {len(valid_data)}')\n",
        "print(f'test set size: {len(test_data)}')\n",
        "print(next(iter(train_data)))"
      ]
    },
    {
      "cell_type": "markdown",
      "metadata": {
        "id": "jnqpVHVbU8NO"
      },
      "source": [
        "## 数据预处理"
      ]
    },
    {
      "cell_type": "code",
      "execution_count": 26,
      "metadata": {
        "id": "Le1FG7QBU-O0",
        "colab": {
          "base_uri": "https://localhost:8080/",
          "height": 252,
          "referenced_widgets": [
            "9b360dc688ee4e748c5310a32fa03b37",
            "884f64006e7447fb88bd105bae135a92",
            "d490271a3142413895cf4022ecb897c8",
            "fab7fb44db2a4a9783941dea34f61679",
            "5aa7143f14104ccf9974f486cdebbf13",
            "385eae9b6e764b1183a36be3d91163c5",
            "3a8dd41a8cde41d7a6b66458514e8ac1",
            "3b7350ce812b482498abed3e95c43a37",
            "7a8ab8bbeec646e783b7965a8ea29fae",
            "4f3942c9f9fe4a4e98dc27e72feb5e99",
            "122a43d7c11248e299cfc44bb6fb41cf",
            "ca59dac6eed3460aa687579d9fea309e",
            "29c26f202aa44b5aa795dbc43bc87666",
            "5faf682c6991496e8bcd0d643626b795",
            "a6b62ae46e68422ea405ffcf477f8433",
            "9fccae3bf38e4347937f4a5d14fe4ad4",
            "89125ce6c6514a6b9bc84825d6fbee0d",
            "c6d34fb0c23c41d1a8308372b490d230",
            "0a83b7acca0f465287d4061669cbbf2b",
            "d0fa1493b1a0483c805e4150054f67c2",
            "af42f7448ef040ef91722a2ac6b572f4",
            "fa6e9b062002422a93d13f4898f1f48f",
            "771022b36c0d43758edeb9681ea9e342",
            "bce88e1d92c74dbca5428d9cfe6ebd8e",
            "7629d19d5d554d0ab00da747d3534124",
            "72d67dda395843cf8db2e27b9773e78a",
            "7b15d76cef9a4f1ca384c9f2ff5060d5",
            "6e7cf4f3ad1d483aa786d265f9e93881",
            "f708ec9eee824ea5a9348b6ec75dbab7",
            "58595f5de7aa4c6ca9b75cb7575f7c30",
            "da51750ebce74c47a69271fbb4e99407",
            "b00c08b6b706454b9301109aeba76e8f",
            "903263274aff40c6bf800b6d69720c3a",
            "4d46d6e086914940a1099a6b24a5d728",
            "c4697ae6c8f94e53879ac2affbbd48bf",
            "fe44368d090b44dfa73649238019d004",
            "8b5599c0df524948a41f691fa3ae8234",
            "e437668415a7452fac69d073d626d5cb",
            "382fe774150d46e8831273d14923948d",
            "e516a1a24610483faa3bcd198f359c92",
            "39eac137657f41d18d87b5bc0ace9073",
            "c92880dc15bf45eb9a33f830a26e3b69",
            "a1b4e076df84484baacacb9e04b86637",
            "677494827bef4eec91c83531aebcaa95"
          ]
        },
        "outputId": "9a5eb0df-9a7d-49ab-def4-d0a0d5845c5b"
      },
      "outputs": [
        {
          "output_type": "stream",
          "name": "stderr",
          "text": [
            "/usr/local/lib/python3.11/dist-packages/huggingface_hub/utils/_auth.py:94: UserWarning: \n",
            "The secret `HF_TOKEN` does not exist in your Colab secrets.\n",
            "To authenticate with the Hugging Face Hub, create a token in your settings tab (https://huggingface.co/settings/tokens), set it as secret in your Google Colab and restart your session.\n",
            "You will be able to reuse this secret in all of your notebooks.\n",
            "Please note that authentication is recommended but still optional to access public models or datasets.\n",
            "  warnings.warn(\n"
          ]
        },
        {
          "output_type": "display_data",
          "data": {
            "text/plain": [
              "tokenizer_config.json:   0%|          | 0.00/263 [00:00<?, ?B/s]"
            ],
            "application/vnd.jupyter.widget-view+json": {
              "version_major": 2,
              "version_minor": 0,
              "model_id": "9b360dc688ee4e748c5310a32fa03b37"
            }
          },
          "metadata": {}
        },
        {
          "output_type": "display_data",
          "data": {
            "text/plain": [
              "config.json:   0%|          | 0.00/460 [00:00<?, ?B/s]"
            ],
            "application/vnd.jupyter.widget-view+json": {
              "version_major": 2,
              "version_minor": 0,
              "model_id": "ca59dac6eed3460aa687579d9fea309e"
            }
          },
          "metadata": {}
        },
        {
          "output_type": "display_data",
          "data": {
            "text/plain": [
              "vocab.txt:   0%|          | 0.00/110k [00:00<?, ?B/s]"
            ],
            "application/vnd.jupyter.widget-view+json": {
              "version_major": 2,
              "version_minor": 0,
              "model_id": "771022b36c0d43758edeb9681ea9e342"
            }
          },
          "metadata": {}
        },
        {
          "output_type": "display_data",
          "data": {
            "text/plain": [
              "special_tokens_map.json:   0%|          | 0.00/112 [00:00<?, ?B/s]"
            ],
            "application/vnd.jupyter.widget-view+json": {
              "version_major": 2,
              "version_minor": 0,
              "model_id": "4d46d6e086914940a1099a6b24a5d728"
            }
          },
          "metadata": {}
        }
      ],
      "source": [
        "from transformers import AutoTokenizer\n",
        "model_checkpoint = 'uer/t5-base-chinese-cluecorpussmall'\n",
        "# model_checkpoint = 'uer/t5-small-chinese-cluecorpussmall'\n",
        "tokenizer = AutoTokenizer.from_pretrained(model_checkpoint,return_token_type_ids=False)"
      ]
    },
    {
      "cell_type": "code",
      "execution_count": 27,
      "metadata": {
        "id": "GY1qyko-VQKd"
      },
      "outputs": [],
      "source": [
        "context = train_data[0][\"context\"]\n",
        "question = train_data[0][\"question\"]\n",
        "answer = train_data[0][\"answer\"]\n",
        "\n",
        "inputs = tokenizer(context, question)\n",
        "targets = tokenizer(answer)"
      ]
    },
    {
      "cell_type": "code",
      "execution_count": 28,
      "metadata": {
        "colab": {
          "base_uri": "https://localhost:8080/"
        },
        "id": "caY0L8I9Vies",
        "outputId": "478389fc-ad49-4296-ea27-a4b1f82f42c4"
      },
      "outputs": [
        {
          "output_type": "stream",
          "name": "stdout",
          "text": [
            "['[CLS]', '小', '时', '代', '一', '共', '4', '部', '，', '分', '别', '叫', '《', '小', '时', '代', '1', '.', '0', '折', '纸', '时', '代', '》', ',', '《', '小', '时', '代', '2', '.', '0', '虚', '铜', '时', '代', '》', ',', '《', '小', '时', '代', '3', '.', '0', '刺', '金', '时', '代', '》', ',', '《', '小', '时', '代', '4', '.', '0', '灵', '魂', '尽', '头', '》', '。', '《', '小', '时', '代', '1', '.', '0', '折', '纸', '时', '代', '》', '是', '2008', '年', '长', '江', '文', '艺', '出', '版', '社', '出', '版', '的', '图', '书', '，', '作', '者', '是', '郭', '敬', '明', '。', '《', '小', '时', '代', '1', '.', '0', '折', '纸', '时', '代', '》', '是', '郭', '敬', '明', '《', '小', '时', '代', '》', '系', '列', '丛', '书', '第', '一', '部', '。', '主', '要', '讲', '述', '了', '四', '个', '从', '小', '感', '情', '深', '厚', '、', '有', '着', '不', '同', '价', '值', '观', '和', '人', '生', '观', '的', '林', '萧', '、', '南', '湘', '、', '顾', '里', '、', '唐', '宛', '如', '所', '经', '历', '的', '友', '情', '、', '爱', '情', '，', '乃', '至', '亲', '情', '的', '巨', '大', '转', '变', '的', '故', '事', '。', '《', '小', '时', '代', '2', '.', '0', '虚', '铜', '时', '代', '》', '(', '修', '订', '本', ')', '以', '经', '济', '飞', '速', '发', '展', '的', '上', '海', '这', '座', '风', '光', '而', '时', '尚', '的', '城', '市', '为', '背', '景', '，', '讲', '述', '了', '林', '萧', '、', '南', '湘', '、', '顾', '里', '、', '唐', '宛', '如', '四', '个', '从', '小', '感', '情', '深', '厚', '、', '有', '着', '不', '同', '价', '值', '观', '和', '人', '生', '观', '的', '女', '生', '，', '先', '后', '所', '经', '历', '的', '友', '情', '、', '爱', '情', '，', '乃', '至', '亲', '情', '的', '巨', '大', '转', '变', '，', '是', '一', '部', '当', '下', '时', '尚', '年', '轻', '人', '生', '活', '的', '真', '实', '写', '照', '。', '《', '小', '时', '代', ':', '刺', '金', '时', '代', '》', '继', '续', '讲', '述', '林', '萧', '、', '顾', '里', '、', '南', '湘', '、', '唐', '宛', '如', '四', '位', '主', '角', '，', '以', '及', '顾', '源', '、', '简', '溪', '、', '宫', '[UNK]', '、', '周', '崇', '光', '、', '[UNK]', '、', '卫', '海', '这', '一', '群', '人', '，', '他', '们', '挥', '手', '作', '别', '青', '春', '校', '园', '步', '入', '职', '场', '后', '，', '随', '着', '自', '身', '环', '境', '的', '变', '化', '和', '人', '生', '阅', '历', '的', '不', '断', '增', '长', '，', '围', '绕', '友', '谊', '、', '爱', '情', '和', '职', '场', '，', '日', '益', '融', '入', '生', '活', '的', '滚', '滚', '洪', '流', '之', '中', '的', '迷', '失', '、', '怅', '惘', '、', '怀', '念', '却', '又', '不', '能', '不', '勇', '往', '直', '前', '的', '故', '事', '。', '《', '小', '时', '代', '4', '：', '灵', '魂', '尽', '头', '》', '是', '由', '郭', '敬', '明', '执', '导', '，', '杨', '幂', '、', '郭', '采', '洁', '、', '陈', '学', '冬', '、', '郭', '碧', '婷', '、', '谢', '依', '霖', '等', '主', '演', '的', '青', '春', '时', '尚', '都', '市', '电', '影', '。', '该', '片', '是', '《', '小', '时', '代', '》', '系', '列', '电', '影', '的', '第', '四', '部', '。', '该', '片', '改', '编', '自', '郭', '敬', '明', '小', '说', '《', '小', '时', '代', '》', '，', '影', '片', '围', '绕', '林', '萧', '、', '顾', '里', '、', '南', '湘', '、', '唐', '宛', '如', '四', '姐', '妹', '展', '开', '，', '讲', '述', '了', '顾', '里', '癌', '症', '、', '顾', '源', '坐', '牢', '、', '姐', '妹', '反', '目', '及', '这', '一', '群', '人', '的', '友', '谊', '方', '向', '是', '如', '何', '发', '展', '的', '的', '各', '种', '故', '事', '。', '[SEP]', '小', '时', '代', '几', '部', '[SEP]']\n",
            "['[CLS]', '4', '部', '[SEP]']\n"
          ]
        }
      ],
      "source": [
        "print(tokenizer.convert_ids_to_tokens(inputs[\"input_ids\"]))\n",
        "print(tokenizer.convert_ids_to_tokens(targets[\"input_ids\"]))"
      ]
    },
    {
      "cell_type": "code",
      "source": [
        "tokenizer.sep_token"
      ],
      "metadata": {
        "colab": {
          "base_uri": "https://localhost:8080/",
          "height": 35
        },
        "id": "rHTAtE0aO4eV",
        "outputId": "9f05a133-ea7a-435f-b5c0-3575328529dc"
      },
      "execution_count": 29,
      "outputs": [
        {
          "output_type": "execute_result",
          "data": {
            "text/plain": [
              "'[SEP]'"
            ],
            "application/vnd.google.colaboratory.intrinsic+json": {
              "type": "string"
            }
          },
          "metadata": {},
          "execution_count": 29
        }
      ]
    },
    {
      "cell_type": "code",
      "execution_count": 92,
      "metadata": {
        "colab": {
          "base_uri": "https://localhost:8080/"
        },
        "id": "MjjjsKUBVu36",
        "outputId": "42e5a170-fb9e-4e4a-b7ea-0e4d8b3ca588",
        "collapsed": true
      },
      "outputs": [
        {
          "output_type": "stream",
          "name": "stdout",
          "text": [
            "batch_X shape: {'input_ids': torch.Size([4, 512]), 'attention_mask': torch.Size([4, 512])}\n",
            "batch_y shape: torch.Size([4, 12])\n",
            "{'input_ids': tensor([[ 101, 7309, 7579,  ..., 6421, 4275,  102],\n",
            "        [ 101, 7309, 7579,  ...,    0,    0,    0],\n",
            "        [ 101, 7309, 7579,  ..., 2338, 4638,  102],\n",
            "        [ 101, 7309, 7579,  ..., 1057, 3173,  102]]), 'attention_mask': tensor([[1, 1, 1,  ..., 1, 1, 1],\n",
            "        [1, 1, 1,  ..., 0, 0, 0],\n",
            "        [1, 1, 1,  ..., 1, 1, 1],\n",
            "        [1, 1, 1,  ..., 1, 1, 1]])}\n",
            "tensor([[ 101, 5031, 3428, 8038,  125, 6956,  102,    0,    0,    0,    0,    0],\n",
            "        [ 101, 5031, 3428, 8038, 8176, 7415,  102,    0,    0,    0,    0,    0],\n",
            "        [ 101, 5031, 3428, 8038, 3217, 3314, 1909, 1159,  722, 2108,  102,    0],\n",
            "        [ 101, 5031, 3428, 8038, 5276, 8411, 8158,  119,  122, 1062, 7027,  102]])\n"
          ]
        }
      ],
      "source": [
        "import torch\n",
        "\n",
        "max_input_length = 512\n",
        "max_target_length = 32\n",
        "sample_cnt = 4\n",
        "\n",
        "inputs = [\"问题：\"+ train_data[s_idx][\"question\"] + \"?\" + tokenizer.sep_token + \"原文：\" + train_data[s_idx][\"context\"] for s_idx in range(sample_cnt)]\n",
        "targets = [\"答案：\" + train_data[s_idx][\"answer\"] for s_idx in range(sample_cnt)]\n",
        "\n",
        "model_inputs = tokenizer(\n",
        "    inputs,\n",
        "    padding=True,\n",
        "    max_length=max_input_length,\n",
        "    truncation=True,\n",
        "    return_tensors=\"pt\",\n",
        "    return_token_type_ids=False\n",
        ")\n",
        "labels = tokenizer(\n",
        "    text_target=targets,\n",
        "    padding=True,\n",
        "    max_length=max_target_length,\n",
        "    truncation=True,\n",
        "    return_tensors=\"pt\",\n",
        "    return_token_type_ids=False\n",
        ")[\"input_ids\"]\n",
        "\n",
        "# end_token_index = torch.where(labels == 102)[-1]\n",
        "# for idx, end_idx in enumerate(end_token_index):\n",
        "#     labels[idx][end_idx+1:] = -100\n",
        "\n",
        "print('batch_X shape:', {k: v.shape for k, v in model_inputs.items()})\n",
        "print('batch_y shape:', labels.shape)\n",
        "print(model_inputs)\n",
        "print(labels)"
      ]
    },
    {
      "cell_type": "code",
      "source": [
        "tokenizer.decode(model_inputs['input_ids'][0])"
      ],
      "metadata": {
        "colab": {
          "base_uri": "https://localhost:8080/",
          "height": 143
        },
        "id": "Y9-6D_fUQ0Za",
        "outputId": "9b53972a-bb35-4344-bb30-21a715d5c612"
      },
      "execution_count": 40,
      "outputs": [
        {
          "output_type": "execute_result",
          "data": {
            "text/plain": [
              "'[CLS] 问 题 ： 小 时 代 几 部? [SEP] 原 文 ： 小 时 代 一 共 4 部 ， 分 别 叫 《 小 时 代 1. 0 折 纸 时 代 》, 《 小 时 代 2. 0 虚 铜 时 代 》, 《 小 时 代 3. 0 刺 金 时 代 》, 《 小 时 代 4. 0 灵 魂 尽 头 》 。 《 小 时 代 1. 0 折 纸 时 代 》 是 2008 年 长 江 文 艺 出 版 社 出 版 的 图 书 ， 作 者 是 郭 敬 明 。 《 小 时 代 1. 0 折 纸 时 代 》 是 郭 敬 明 《 小 时 代 》 系 列 丛 书 第 一 部 。 主 要 讲 述 了 四 个 从 小 感 情 深 厚 、 有 着 不 同 价 值 观 和 人 生 观 的 林 萧 、 南 湘 、 顾 里 、 唐 宛 如 所 经 历 的 友 情 、 爱 情 ， 乃 至 亲 情 的 巨 大 转 变 的 故 事 。 《 小 时 代 2. 0 虚 铜 时 代 》 ( 修 订 本 ) 以 经 济 飞 速 发 展 的 上 海 这 座 风 光 而 时 尚 的 城 市 为 背 景 ， 讲 述 了 林 萧 、 南 湘 、 顾 里 、 唐 宛 如 四 个 从 小 感 情 深 厚 、 有 着 不 同 价 值 观 和 人 生 观 的 女 生 ， 先 后 所 经 历 的 友 情 、 爱 情 ， 乃 至 亲 情 的 巨 大 转 变 ， 是 一 部 当 下 时 尚 年 轻 人 生 活 的 真 实 写 照 。 《 小 时 代 : 刺 金 时 代 》 继 续 讲 述 林 萧 、 顾 里 、 南 湘 、 唐 宛 如 四 位 主 角 ， 以 及 顾 源 、 简 溪 、 宫 [UNK] 、 周 崇 光 、 [UNK] 、 卫 海 这 一 群 人 ， 他 们 挥 手 作 别 青 春 校 园 步 入 职 场 后 ， 随 着 自 身 环 境 的 变 化 和 人 生 阅 历 的 不 断 增 长 ， 围 绕 友 谊 、 爱 情 和 职 场 ， 日 益 融 入 生 活 的 滚 滚 洪 流 之 中 的 迷 失 、 怅 惘 、 怀 念 却 又 不 能 不 勇 往 直 前 的 故 事 。 《 小 时 代 4 ： 灵 魂 尽 头 》 是 由 郭 敬 明 执 导 ， 杨 幂 、 郭 采 洁 、 陈 学 冬 、 郭 碧 婷 、 谢 依 霖 等 主 演 的 青 春 时 尚 都 市 电 影 。 该 片 [SEP]'"
            ],
            "application/vnd.google.colaboratory.intrinsic+json": {
              "type": "string"
            }
          },
          "metadata": {},
          "execution_count": 40
        }
      ]
    },
    {
      "cell_type": "code",
      "source": [
        "tokenizer.decode(labels[0])"
      ],
      "metadata": {
        "colab": {
          "base_uri": "https://localhost:8080/",
          "height": 35
        },
        "id": "1MoiPUF2RdCF",
        "outputId": "e56b08cb-a02c-4477-8d5c-8a85fcaaf779"
      },
      "execution_count": 41,
      "outputs": [
        {
          "output_type": "execute_result",
          "data": {
            "text/plain": [
              "'[CLS] 答 案 ： 4 部 [SEP] [PAD] [PAD] [PAD] [PAD] [PAD]'"
            ],
            "application/vnd.google.colaboratory.intrinsic+json": {
              "type": "string"
            }
          },
          "metadata": {},
          "execution_count": 41
        }
      ]
    },
    {
      "cell_type": "code",
      "execution_count": 101,
      "metadata": {
        "colab": {
          "base_uri": "https://localhost:8080/",
          "height": 35
        },
        "id": "9WBkuH4sdMOq",
        "outputId": "c4a7f078-486a-46b5-a77a-65b0c13873ec"
      },
      "outputs": [
        {
          "output_type": "stream",
          "name": "stdout",
          "text": [
            "Using cuda device\n"
          ]
        }
      ],
      "source": [
        "# import torch\n",
        "# from torch.utils.data import DataLoader\n",
        "# from transformers import AutoModelForSeq2SeqLM\n",
        "# import gc\n",
        "\n",
        "# train_batch_size = 32\n",
        "# test_batch_size = 64\n",
        "\n",
        "# device = 'cuda' if torch.cuda.is_available() else 'cpu'\n",
        "# print(f'Using {device} device')\n",
        "\n",
        "# def clean_cuda(device):\n",
        "#     if device == 'cuda':\n",
        "#         # 清理无用变量\n",
        "#         gc.collect()\n",
        "#         torch.cuda.empty_cache()\n",
        "\n",
        "# clean_cuda(device)\n",
        "# model = AutoModelForSeq2SeqLM.from_pretrained(model_checkpoint)\n",
        "# model = model.to(device)\n",
        "\n",
        "# def collote_fn(batch_samples):\n",
        "#     batch_inputs, batch_targets = [], []\n",
        "#     for sample in batch_samples:\n",
        "#         input_seq = \"问题：\"+ sample[\"question\"] + \"?\" + tokenizer.sep_token + \"原文：\" + sample[\"context\"]\n",
        "#         output_seq = \"答案：\"+ sample['answer']\n",
        "#         batch_inputs.append(input_seq)\n",
        "#         batch_targets.append(output_seq)\n",
        "#     batch_data = tokenizer(\n",
        "#         batch_inputs,\n",
        "#         text_target=batch_targets,\n",
        "#         padding=True,\n",
        "#         max_length=max_input_length,\n",
        "#         truncation=True,\n",
        "#         return_tensors=\"pt\",\n",
        "#         return_token_type_ids=False\n",
        "#     )\n",
        "\n",
        "#     batch_data['decoder_input_ids'] = model.prepare_decoder_input_ids_from_labels(batch_data['labels'])\n",
        "#     batch_data['decoder_input_ids'] = batch_data['decoder_input_ids'][:, 1:] + [tokenizer.pad_token_id] * (max_target_length - batch_data['decoder_input_ids'].shape[1])\n",
        "#     end_token_index = torch.where(batch_data['labels'] == 102)[-1]\n",
        "#     for idx, end_idx in enumerate(end_token_index):\n",
        "#         batch_data['labels'][idx][end_idx+1:] = -100\n",
        "#     return batch_data\n",
        "\n",
        "# train_dataloader = DataLoader(train_data, batch_size=2, shuffle=False, collate_fn=collote_fn)\n",
        "# valid_dataloader = DataLoader(valid_data, batch_size=2, shuffle=False, collate_fn=collote_fn)"
      ]
    },
    {
      "cell_type": "code",
      "execution_count": 102,
      "metadata": {
        "colab": {
          "base_uri": "https://localhost:8080/",
          "height": 347
        },
        "id": "lR9ghtPidvfn",
        "outputId": "d68e64ac-b6c0-45c9-9ae3-764cfbfa7e3e"
      },
      "outputs": [
        {
          "output_type": "error",
          "ename": "TypeError",
          "evalue": "unsupported operand type(s) for +: 'Tensor' and 'list'",
          "traceback": [
            "\u001b[0;31m---------------------------------------------------------------------------\u001b[0m",
            "\u001b[0;31mTypeError\u001b[0m                                 Traceback (most recent call last)",
            "\u001b[0;32m<ipython-input-102-b400ea0716ff>\u001b[0m in \u001b[0;36m<cell line: 0>\u001b[0;34m()\u001b[0m\n\u001b[0;32m----> 1\u001b[0;31m \u001b[0mbatch\u001b[0m \u001b[0;34m=\u001b[0m \u001b[0mnext\u001b[0m\u001b[0;34m(\u001b[0m\u001b[0miter\u001b[0m\u001b[0;34m(\u001b[0m\u001b[0mtrain_dataloader\u001b[0m\u001b[0;34m)\u001b[0m\u001b[0;34m)\u001b[0m\u001b[0;34m\u001b[0m\u001b[0;34m\u001b[0m\u001b[0m\n\u001b[0m\u001b[1;32m      2\u001b[0m \u001b[0mprint\u001b[0m\u001b[0;34m(\u001b[0m\u001b[0mbatch\u001b[0m\u001b[0;34m.\u001b[0m\u001b[0mkeys\u001b[0m\u001b[0;34m(\u001b[0m\u001b[0;34m)\u001b[0m\u001b[0;34m)\u001b[0m\u001b[0;34m\u001b[0m\u001b[0;34m\u001b[0m\u001b[0m\n\u001b[1;32m      3\u001b[0m \u001b[0mprint\u001b[0m\u001b[0;34m(\u001b[0m\u001b[0;34m'batch shape:'\u001b[0m\u001b[0;34m,\u001b[0m \u001b[0;34m{\u001b[0m\u001b[0mk\u001b[0m\u001b[0;34m:\u001b[0m \u001b[0mv\u001b[0m\u001b[0;34m.\u001b[0m\u001b[0mshape\u001b[0m \u001b[0;32mfor\u001b[0m \u001b[0mk\u001b[0m\u001b[0;34m,\u001b[0m \u001b[0mv\u001b[0m \u001b[0;32min\u001b[0m \u001b[0mbatch\u001b[0m\u001b[0;34m.\u001b[0m\u001b[0mitems\u001b[0m\u001b[0;34m(\u001b[0m\u001b[0;34m)\u001b[0m\u001b[0;34m}\u001b[0m\u001b[0;34m)\u001b[0m\u001b[0;34m\u001b[0m\u001b[0;34m\u001b[0m\u001b[0m\n\u001b[1;32m      4\u001b[0m \u001b[0mprint\u001b[0m\u001b[0;34m(\u001b[0m\u001b[0mbatch\u001b[0m\u001b[0;34m)\u001b[0m\u001b[0;34m\u001b[0m\u001b[0;34m\u001b[0m\u001b[0m\n",
            "\u001b[0;32m/usr/local/lib/python3.11/dist-packages/torch/utils/data/dataloader.py\u001b[0m in \u001b[0;36m__next__\u001b[0;34m(self)\u001b[0m\n\u001b[1;32m    699\u001b[0m                 \u001b[0;31m# TODO(https://github.com/pytorch/pytorch/issues/76750)\u001b[0m\u001b[0;34m\u001b[0m\u001b[0;34m\u001b[0m\u001b[0m\n\u001b[1;32m    700\u001b[0m                 \u001b[0mself\u001b[0m\u001b[0;34m.\u001b[0m\u001b[0m_reset\u001b[0m\u001b[0;34m(\u001b[0m\u001b[0;34m)\u001b[0m  \u001b[0;31m# type: ignore[call-arg]\u001b[0m\u001b[0;34m\u001b[0m\u001b[0;34m\u001b[0m\u001b[0m\n\u001b[0;32m--> 701\u001b[0;31m             \u001b[0mdata\u001b[0m \u001b[0;34m=\u001b[0m \u001b[0mself\u001b[0m\u001b[0;34m.\u001b[0m\u001b[0m_next_data\u001b[0m\u001b[0;34m(\u001b[0m\u001b[0;34m)\u001b[0m\u001b[0;34m\u001b[0m\u001b[0;34m\u001b[0m\u001b[0m\n\u001b[0m\u001b[1;32m    702\u001b[0m             \u001b[0mself\u001b[0m\u001b[0;34m.\u001b[0m\u001b[0m_num_yielded\u001b[0m \u001b[0;34m+=\u001b[0m \u001b[0;36m1\u001b[0m\u001b[0;34m\u001b[0m\u001b[0;34m\u001b[0m\u001b[0m\n\u001b[1;32m    703\u001b[0m             if (\n",
            "\u001b[0;32m/usr/local/lib/python3.11/dist-packages/torch/utils/data/dataloader.py\u001b[0m in \u001b[0;36m_next_data\u001b[0;34m(self)\u001b[0m\n\u001b[1;32m    755\u001b[0m     \u001b[0;32mdef\u001b[0m \u001b[0m_next_data\u001b[0m\u001b[0;34m(\u001b[0m\u001b[0mself\u001b[0m\u001b[0;34m)\u001b[0m\u001b[0;34m:\u001b[0m\u001b[0;34m\u001b[0m\u001b[0;34m\u001b[0m\u001b[0m\n\u001b[1;32m    756\u001b[0m         \u001b[0mindex\u001b[0m \u001b[0;34m=\u001b[0m \u001b[0mself\u001b[0m\u001b[0;34m.\u001b[0m\u001b[0m_next_index\u001b[0m\u001b[0;34m(\u001b[0m\u001b[0;34m)\u001b[0m  \u001b[0;31m# may raise StopIteration\u001b[0m\u001b[0;34m\u001b[0m\u001b[0;34m\u001b[0m\u001b[0m\n\u001b[0;32m--> 757\u001b[0;31m         \u001b[0mdata\u001b[0m \u001b[0;34m=\u001b[0m \u001b[0mself\u001b[0m\u001b[0;34m.\u001b[0m\u001b[0m_dataset_fetcher\u001b[0m\u001b[0;34m.\u001b[0m\u001b[0mfetch\u001b[0m\u001b[0;34m(\u001b[0m\u001b[0mindex\u001b[0m\u001b[0;34m)\u001b[0m  \u001b[0;31m# may raise StopIteration\u001b[0m\u001b[0;34m\u001b[0m\u001b[0;34m\u001b[0m\u001b[0m\n\u001b[0m\u001b[1;32m    758\u001b[0m         \u001b[0;32mif\u001b[0m \u001b[0mself\u001b[0m\u001b[0;34m.\u001b[0m\u001b[0m_pin_memory\u001b[0m\u001b[0;34m:\u001b[0m\u001b[0;34m\u001b[0m\u001b[0;34m\u001b[0m\u001b[0m\n\u001b[1;32m    759\u001b[0m             \u001b[0mdata\u001b[0m \u001b[0;34m=\u001b[0m \u001b[0m_utils\u001b[0m\u001b[0;34m.\u001b[0m\u001b[0mpin_memory\u001b[0m\u001b[0;34m.\u001b[0m\u001b[0mpin_memory\u001b[0m\u001b[0;34m(\u001b[0m\u001b[0mdata\u001b[0m\u001b[0;34m,\u001b[0m \u001b[0mself\u001b[0m\u001b[0;34m.\u001b[0m\u001b[0m_pin_memory_device\u001b[0m\u001b[0;34m)\u001b[0m\u001b[0;34m\u001b[0m\u001b[0;34m\u001b[0m\u001b[0m\n",
            "\u001b[0;32m/usr/local/lib/python3.11/dist-packages/torch/utils/data/_utils/fetch.py\u001b[0m in \u001b[0;36mfetch\u001b[0;34m(self, possibly_batched_index)\u001b[0m\n\u001b[1;32m     53\u001b[0m         \u001b[0;32melse\u001b[0m\u001b[0;34m:\u001b[0m\u001b[0;34m\u001b[0m\u001b[0;34m\u001b[0m\u001b[0m\n\u001b[1;32m     54\u001b[0m             \u001b[0mdata\u001b[0m \u001b[0;34m=\u001b[0m \u001b[0mself\u001b[0m\u001b[0;34m.\u001b[0m\u001b[0mdataset\u001b[0m\u001b[0;34m[\u001b[0m\u001b[0mpossibly_batched_index\u001b[0m\u001b[0;34m]\u001b[0m\u001b[0;34m\u001b[0m\u001b[0;34m\u001b[0m\u001b[0m\n\u001b[0;32m---> 55\u001b[0;31m         \u001b[0;32mreturn\u001b[0m \u001b[0mself\u001b[0m\u001b[0;34m.\u001b[0m\u001b[0mcollate_fn\u001b[0m\u001b[0;34m(\u001b[0m\u001b[0mdata\u001b[0m\u001b[0;34m)\u001b[0m\u001b[0;34m\u001b[0m\u001b[0;34m\u001b[0m\u001b[0m\n\u001b[0m",
            "\u001b[0;32m<ipython-input-101-fc2812e5eb5d>\u001b[0m in \u001b[0;36mcollote_fn\u001b[0;34m(batch_samples)\u001b[0m\n\u001b[1;32m     38\u001b[0m \u001b[0;34m\u001b[0m\u001b[0m\n\u001b[1;32m     39\u001b[0m     \u001b[0mbatch_data\u001b[0m\u001b[0;34m[\u001b[0m\u001b[0;34m'decoder_input_ids'\u001b[0m\u001b[0;34m]\u001b[0m \u001b[0;34m=\u001b[0m \u001b[0mmodel\u001b[0m\u001b[0;34m.\u001b[0m\u001b[0mprepare_decoder_input_ids_from_labels\u001b[0m\u001b[0;34m(\u001b[0m\u001b[0mbatch_data\u001b[0m\u001b[0;34m[\u001b[0m\u001b[0;34m'labels'\u001b[0m\u001b[0;34m]\u001b[0m\u001b[0;34m)\u001b[0m\u001b[0;34m\u001b[0m\u001b[0;34m\u001b[0m\u001b[0m\n\u001b[0;32m---> 40\u001b[0;31m     \u001b[0mbatch_data\u001b[0m\u001b[0;34m[\u001b[0m\u001b[0;34m'decoder_input_ids'\u001b[0m\u001b[0;34m]\u001b[0m \u001b[0;34m=\u001b[0m \u001b[0mbatch_data\u001b[0m\u001b[0;34m[\u001b[0m\u001b[0;34m'decoder_input_ids'\u001b[0m\u001b[0;34m]\u001b[0m\u001b[0;34m[\u001b[0m\u001b[0;34m:\u001b[0m\u001b[0;34m,\u001b[0m \u001b[0;36m1\u001b[0m\u001b[0;34m:\u001b[0m\u001b[0;34m]\u001b[0m \u001b[0;34m+\u001b[0m \u001b[0;34m[\u001b[0m\u001b[0mtokenizer\u001b[0m\u001b[0;34m.\u001b[0m\u001b[0mpad_token_id\u001b[0m\u001b[0;34m]\u001b[0m \u001b[0;34m*\u001b[0m \u001b[0;34m(\u001b[0m\u001b[0mmax_target_length\u001b[0m \u001b[0;34m-\u001b[0m \u001b[0mbatch_data\u001b[0m\u001b[0;34m[\u001b[0m\u001b[0;34m'decoder_input_ids'\u001b[0m\u001b[0;34m]\u001b[0m\u001b[0;34m.\u001b[0m\u001b[0mshape\u001b[0m\u001b[0;34m[\u001b[0m\u001b[0;36m1\u001b[0m\u001b[0;34m]\u001b[0m\u001b[0;34m)\u001b[0m\u001b[0;34m\u001b[0m\u001b[0;34m\u001b[0m\u001b[0m\n\u001b[0m\u001b[1;32m     41\u001b[0m     \u001b[0mend_token_index\u001b[0m \u001b[0;34m=\u001b[0m \u001b[0mtorch\u001b[0m\u001b[0;34m.\u001b[0m\u001b[0mwhere\u001b[0m\u001b[0;34m(\u001b[0m\u001b[0mbatch_data\u001b[0m\u001b[0;34m[\u001b[0m\u001b[0;34m'labels'\u001b[0m\u001b[0;34m]\u001b[0m \u001b[0;34m==\u001b[0m \u001b[0;36m102\u001b[0m\u001b[0;34m)\u001b[0m\u001b[0;34m[\u001b[0m\u001b[0;34m-\u001b[0m\u001b[0;36m1\u001b[0m\u001b[0;34m]\u001b[0m\u001b[0;34m\u001b[0m\u001b[0;34m\u001b[0m\u001b[0m\n\u001b[1;32m     42\u001b[0m     \u001b[0;32mfor\u001b[0m \u001b[0midx\u001b[0m\u001b[0;34m,\u001b[0m \u001b[0mend_idx\u001b[0m \u001b[0;32min\u001b[0m \u001b[0menumerate\u001b[0m\u001b[0;34m(\u001b[0m\u001b[0mend_token_index\u001b[0m\u001b[0;34m)\u001b[0m\u001b[0;34m:\u001b[0m\u001b[0;34m\u001b[0m\u001b[0;34m\u001b[0m\u001b[0m\n",
            "\u001b[0;31mTypeError\u001b[0m: unsupported operand type(s) for +: 'Tensor' and 'list'"
          ]
        }
      ],
      "source": [
        "# batch = next(iter(train_dataloader))\n",
        "# print(batch.keys())\n",
        "# print('batch shape:', {k: v.shape for k, v in batch.items()})\n",
        "# print(batch)"
      ]
    },
    {
      "cell_type": "code",
      "source": [
        "tokenizer.decode(batch['labels'][0])"
      ],
      "metadata": {
        "colab": {
          "base_uri": "https://localhost:8080/",
          "height": 35
        },
        "id": "POPQV7YXVj-r",
        "outputId": "40662f5c-2409-49a6-d349-2c334349ab20"
      },
      "execution_count": 71,
      "outputs": [
        {
          "output_type": "execute_result",
          "data": {
            "text/plain": [
              "'[CLS] 答 案 ： 4 部 [SEP]'"
            ],
            "application/vnd.google.colaboratory.intrinsic+json": {
              "type": "string"
            }
          },
          "metadata": {},
          "execution_count": 71
        }
      ]
    },
    {
      "cell_type": "code",
      "source": [
        "import torch\n",
        "from torch.utils.data import DataLoader\n",
        "from transformers import AutoModelForSeq2SeqLM\n",
        "import gc\n",
        "\n",
        "train_batch_size = 32\n",
        "test_batch_size = 64\n",
        "\n",
        "device = 'cuda' if torch.cuda.is_available() else 'cpu'\n",
        "print(f'Using {device} device')\n",
        "\n",
        "def clean_cuda(device):\n",
        "    if device == 'cuda':\n",
        "        # 清理无用变量\n",
        "        gc.collect()\n",
        "        torch.cuda.empty_cache()\n",
        "\n",
        "clean_cuda(device)\n",
        "model = AutoModelForSeq2SeqLM.from_pretrained(model_checkpoint)\n",
        "model = model.to(device)\n",
        "\n",
        "def collote_fn(batch_samples):\n",
        "    batch_data = {\n",
        "        \"input_ids\": [],\n",
        "        \"attention_mask\": [],\n",
        "        \"decoder_input_ids\": [],  # decoder 输入，包含了起始的提示 token，不包含 eos_token\n",
        "        \"labels\": [],  # decoder 标签，用于计算损失，不包含起始的提示 token，包含了 eos_token\n",
        "    }\n",
        "    for sample in batch_samples:\n",
        "        input_seq = \"问题：\"+ sample[\"question\"] + \"?\" + tokenizer.sep_token + \"原文：\" + sample[\"context\"]\n",
        "        output_seq = \"答案：\"+ sample['answer']\n",
        "        output_ids = tokenizer.encode(\n",
        "            text=output_seq, truncation=True, max_length=max_target_length\n",
        "        )\n",
        "\n",
        "        decoder_input_ids = output_ids[:-1]  # 去掉 eos_token 和 tokenizer 自己加上的 [CLS]\n",
        "        decoder_input_ids = decoder_input_ids + [tokenizer.pad_token_id] * (max_target_length - len(decoder_input_ids))  # 补 padding\n",
        "        lables = output_ids[1:]  # 去掉起始的提示 token 和 tokenizer 自己加上的 [CLS]\n",
        "\n",
        "        # 用 -100 用于在计算 loss 时忽略，因为该 T5 模型的实现中 loss 的 ignore_token 设置为了 -100\n",
        "        # `loss_fct = CrossEntropyLoss(ignore_index=-100)`\n",
        "        lables = lables + [-100] * (max_target_length - len(lables))\n",
        "\n",
        "        # input 不需要特殊处理，直接 tokenize 即可\n",
        "        inputs = tokenizer(\n",
        "            text=input_seq,\n",
        "            truncation=True,\n",
        "            max_length=max_input_length,\n",
        "            padding=\"max_length\",\n",
        "        )\n",
        "        batch_data[\"input_ids\"].append(inputs[\"input_ids\"])\n",
        "        batch_data[\"attention_mask\"].append(inputs[\"attention_mask\"])\n",
        "        batch_data[\"decoder_input_ids\"].append(decoder_input_ids)\n",
        "        batch_data[\"labels\"].append(lables)\n",
        "\n",
        "    for k, v in batch_data.items():\n",
        "        batch_data[k] = torch.tensor(np.array(v))\n",
        "    return batch_data\n",
        "\n",
        "train_dataloader1 = DataLoader(train_data, batch_size=2, shuffle=False, collate_fn=collote_fn)\n",
        "valid_dataloader1 = DataLoader(valid_data, batch_size=2, shuffle=False, collate_fn=collote_fn)"
      ],
      "metadata": {
        "colab": {
          "base_uri": "https://localhost:8080/"
        },
        "id": "V4CVqdvHSnh4",
        "outputId": "c5c7ad1f-b78b-4d7e-cbbe-7d067e030271"
      },
      "execution_count": 103,
      "outputs": [
        {
          "output_type": "stream",
          "name": "stdout",
          "text": [
            "Using cuda device\n"
          ]
        }
      ]
    },
    {
      "cell_type": "code",
      "source": [
        "batch1 = next(iter(train_dataloader1))\n",
        "print(batch1.keys())\n",
        "print('batch shape:', {k: v.shape for k, v in batch1.items()})\n",
        "print(batch1)"
      ],
      "metadata": {
        "colab": {
          "base_uri": "https://localhost:8080/"
        },
        "id": "tcsHGZjdTnhi",
        "outputId": "47056590-2ca2-49b1-cfc3-fa0cd540233b"
      },
      "execution_count": 104,
      "outputs": [
        {
          "output_type": "stream",
          "name": "stdout",
          "text": [
            "dict_keys(['input_ids', 'attention_mask', 'decoder_input_ids', 'labels'])\n",
            "batch shape: {'input_ids': torch.Size([2, 512]), 'attention_mask': torch.Size([2, 512]), 'decoder_input_ids': torch.Size([2, 32]), 'labels': torch.Size([2, 32])}\n",
            "{'input_ids': tensor([[ 101, 7309, 7579,  ..., 6421, 4275,  102],\n",
            "        [ 101, 7309, 7579,  ...,    0,    0,    0]]), 'attention_mask': tensor([[1, 1, 1,  ..., 1, 1, 1],\n",
            "        [1, 1, 1,  ..., 0, 0, 0]]), 'decoder_input_ids': tensor([[ 101, 5031, 3428, 8038,  125, 6956,    0,    0,    0,    0,    0,    0,\n",
            "            0,    0,    0,    0,    0,    0,    0,    0,    0,    0,    0,    0,\n",
            "            0,    0,    0,    0,    0,    0,    0,    0],\n",
            "        [ 101, 5031, 3428, 8038, 8176, 7415,    0,    0,    0,    0,    0,    0,\n",
            "            0,    0,    0,    0,    0,    0,    0,    0,    0,    0,    0,    0,\n",
            "            0,    0,    0,    0,    0,    0,    0,    0]]), 'labels': tensor([[5031, 3428, 8038,  125, 6956,  102, -100, -100, -100, -100, -100, -100,\n",
            "         -100, -100, -100, -100, -100, -100, -100, -100, -100, -100, -100, -100,\n",
            "         -100, -100, -100, -100, -100, -100, -100, -100],\n",
            "        [5031, 3428, 8038, 8176, 7415,  102, -100, -100, -100, -100, -100, -100,\n",
            "         -100, -100, -100, -100, -100, -100, -100, -100, -100, -100, -100, -100,\n",
            "         -100, -100, -100, -100, -100, -100, -100, -100]])}\n"
          ]
        }
      ]
    },
    {
      "cell_type": "markdown",
      "metadata": {
        "id": "VJdOb5nxesPB"
      },
      "source": [
        "# 2. 模型训练"
      ]
    },
    {
      "cell_type": "markdown",
      "metadata": {
        "id": "ZHyz8nghijIG"
      },
      "source": [
        "## 优化模型参数"
      ]
    },
    {
      "cell_type": "code",
      "execution_count": 126,
      "metadata": {
        "id": "CRDgt2jwey54"
      },
      "outputs": [],
      "source": [
        "from tqdm.auto import tqdm\n",
        "import random\n",
        "\n",
        "def train_loop(dataloader, model, optimizer, lr_scheduler, epoch, total_loss):\n",
        "    progress_bar = tqdm(range(len(dataloader)))\n",
        "    progress_bar.set_description(f'loss: {0:>7f}')\n",
        "    finish_batch_num = (epoch-1) * len(dataloader)\n",
        "\n",
        "    model.train()\n",
        "    loss_record_step = []\n",
        "    for batch, batch_data in enumerate(dataloader, start=1):\n",
        "        outputs = model(input_ids=batch_data[\"input_ids\"].to(device),\n",
        "                attention_mask=batch_data[\"attention_mask\"].to(device),\n",
        "                decoder_input_ids=batch_data[\"decoder_input_ids\"].to(device),\n",
        "                labels=batch_data[\"labels\"].to(device)\n",
        "                )\n",
        "\n",
        "        random_number = random.uniform(0, 1)\n",
        "\n",
        "        loss = outputs.loss\n",
        "\n",
        "        optimizer.zero_grad()\n",
        "        loss.backward()\n",
        "        optimizer.step()\n",
        "        lr_scheduler.step()\n",
        "\n",
        "        total_loss += loss.item()\n",
        "        loss_record_step.append(loss.item())\n",
        "        progress_bar.set_description(f'loss: {total_loss/(finish_batch_num + batch):>7f}')\n",
        "        progress_bar.update(1)\n",
        "        del batch_data, outputs, loss\n",
        "        clean_cuda(device)\n",
        "    return total_loss, loss_record_step"
      ]
    },
    {
      "cell_type": "markdown",
      "metadata": {
        "id": "ehnFChOsio3D"
      },
      "source": [
        "## 评估指标"
      ]
    },
    {
      "cell_type": "code",
      "execution_count": 127,
      "metadata": {
        "id": "LpRNVcWRfiEO"
      },
      "outputs": [],
      "source": [
        "# ! pip install sacrebleu"
      ]
    },
    {
      "cell_type": "code",
      "execution_count": 128,
      "metadata": {
        "colab": {
          "base_uri": "https://localhost:8080/"
        },
        "id": "IB3M-Slvffim",
        "outputId": "c184954a-22ea-462d-eb3a-c6101ae24cf4"
      },
      "outputs": [
        {
          "output_type": "stream",
          "name": "stdout",
          "text": [
            "==========BLEU-1==========\n",
            "84.33740467435464\n",
            "2.634980614046608\n",
            "0.40867714384640685\n",
            "==========BLEU-2==========\n",
            "65.05696445772017\n",
            "2.1514526621798953\n",
            "0.40867714384640685\n",
            "==========BLEU-3==========\n",
            "53.804523766396244\n",
            "1.8269935164445736\n",
            "0.0\n",
            "==========BLEU-4==========\n",
            "46.750469682990165\n",
            "1.683602693167689\n",
            "0.0\n"
          ]
        }
      ],
      "source": [
        "from sacrebleu.metrics import BLEU\n",
        "\n",
        "predictions = [\n",
        "    \"This plugin lets you translate web pages between several languages automatically.\"\n",
        "]\n",
        "bad_predictions_1 = [\"This This This This\"]\n",
        "bad_predictions_2 = [\"This plugin\"]\n",
        "references = [\n",
        "    [\n",
        "        \"This plugin allows you to automatically translate web pages between several languages.\"\n",
        "    ]\n",
        "]\n",
        "\n",
        "bleu1 = BLEU(max_ngram_order=1)\n",
        "print(\"==========BLEU-1==========\")\n",
        "print(bleu1.corpus_score(predictions, references).score)\n",
        "print(bleu1.corpus_score(bad_predictions_1, references).score)\n",
        "print(bleu1.corpus_score(bad_predictions_2, references).score)\n",
        "\n",
        "bleu2 = BLEU(max_ngram_order=2)\n",
        "print(\"==========BLEU-2==========\")\n",
        "print(bleu2.corpus_score(predictions, references).score)\n",
        "print(bleu2.corpus_score(bad_predictions_1, references).score)\n",
        "print(bleu2.corpus_score(bad_predictions_2, references).score)\n",
        "\n",
        "bleu3 = BLEU(max_ngram_order=3)\n",
        "print(\"==========BLEU-3==========\")\n",
        "print(bleu3.corpus_score(predictions, references).score)\n",
        "print(bleu3.corpus_score(bad_predictions_1, references).score)\n",
        "print(bleu3.corpus_score(bad_predictions_2, references).score)\n",
        "\n",
        "bleu4 = BLEU(max_ngram_order=4)\n",
        "print(\"==========BLEU-4==========\")\n",
        "print(bleu4.corpus_score(predictions, references).score)\n",
        "print(bleu4.corpus_score(bad_predictions_1, references).score)\n",
        "print(bleu4.corpus_score(bad_predictions_2, references).score)"
      ]
    },
    {
      "cell_type": "code",
      "execution_count": 129,
      "metadata": {
        "id": "VxlqEdXEhvlq"
      },
      "outputs": [],
      "source": [
        "import random\n",
        "\n",
        "def test_loop(dataloader, model, sample_ovserve_ratio=0.05):\n",
        "    preds, labels = [], []\n",
        "\n",
        "    model.eval()\n",
        "    for batch_data in tqdm(dataloader):\n",
        "        with torch.no_grad():\n",
        "            generated_tokens = model.generate(\n",
        "                batch_data[\"input_ids\"].to(device),\n",
        "                attention_mask=batch_data[\"attention_mask\"].to(device),\n",
        "                max_length=max_target_length,\n",
        "            ).cpu().numpy()\n",
        "        label_tokens = batch_data[\"labels\"].cpu().numpy()\n",
        "\n",
        "        decoded_preds = tokenizer.batch_decode(generated_tokens, skip_special_tokens=True)\n",
        "\n",
        "        random_number = random.uniform(0, 1)\n",
        "        if random_number < sample_ovserve_ratio:\n",
        "            print(\"input:\", tokenizer.batch_decode(batch_data[\"input_ids\"].cpu().numpy(), skip_special_tokens=True))\n",
        "            print(\"output:\", decoded_preds)\n",
        "\n",
        "        label_tokens = np.where(label_tokens != -100, label_tokens, tokenizer.pad_token_id)\n",
        "        decoded_labels = tokenizer.batch_decode(label_tokens, skip_special_tokens=True)\n",
        "\n",
        "        del batch_data\n",
        "        clean_cuda(device)\n",
        "\n",
        "        preds += [pred.strip() for pred in decoded_preds]\n",
        "        labels += [[label.strip()] for label in decoded_labels]\n",
        "    return bleu1.corpus_score(preds, labels).score, bleu2.corpus_score(preds, labels).score, bleu3.corpus_score(preds, labels).score, bleu4.corpus_score(preds, labels).score"
      ]
    },
    {
      "cell_type": "markdown",
      "metadata": {
        "id": "L46eosJXsuju"
      },
      "source": [
        "## 保存模型"
      ]
    },
    {
      "cell_type": "code",
      "execution_count": 122,
      "metadata": {
        "colab": {
          "base_uri": "https://localhost:8080/",
          "height": 123,
          "referenced_widgets": [
            "ec65740678f74a2993a4b0844d8971a1",
            "2cb3b19db7ee4714b2790be804e06b42",
            "a5796777972e4a1f98fcf6ce5649b5a6",
            "3ba6f098f17d408ca623ecbabcea057a",
            "ef5424d98d044244ab42970ef0bc18f7",
            "084ffbe28d7b4145afd1858aafe633f0",
            "18d00c52461a49d6b990b6ab3272dc4f",
            "2559f74f7ab7482d83334b76951bf21a",
            "55c5bc54f5af4018a10b4467e42d9c95",
            "a780d1df77d94de3ba828ba5db652f09",
            "d2b7197f4a0f4460a76b7ca9a14662bc"
          ]
        },
        "id": "gI25jCsQwp7w",
        "outputId": "97d8b666-f980-4904-97e6-f7f63e7cf64a"
      },
      "outputs": [
        {
          "output_type": "display_data",
          "data": {
            "text/plain": [
              "  0%|          | 0/31 [00:00<?, ?it/s]"
            ],
            "application/vnd.jupyter.widget-view+json": {
              "version_major": 2,
              "version_minor": 0,
              "model_id": "ec65740678f74a2993a4b0844d8971a1"
            }
          },
          "metadata": {}
        },
        {
          "output_type": "stream",
          "name": "stdout",
          "text": [
            "input: ['问 题 ： 狐 狸 的 夏 天 什 么 时 候 更 新? 原 文 ： 狐 狸 的 夏 天 》 更 新 时 间 : 会 员 免 费 看 全 集, 非 会 员 每 周 一 至 周 五 每 天 8 点 更 新 一 集! 由 知 名 制 片 人 倪 娜 担 当 制 片, 台 湾 著 名 偶 像 剧 导 演 于 中 中 倾 情 执 导, 沈 沧 眉 、 |. : / / 23. 27. 127. 27 # 00. 048. 02. 280 & wqakqy2eig } g, soguandonghadnodifficultyindiggingupth 絮 叨 叨 的 说 了 一 阵 ， 关 东 的 心 情 明 媚 了 不 少 。', '问 题 ： 人 民 的 名 义 电 视 剧 播 出 时 间? 原 文 ： 《 人 民 的 名 义 》 是 由 最 高 人 民 检 察 院 影 视 中 心 组 织 创 作 的 当 代 检 察 题 材 反 腐 电 视 剧, 由 著 名 编 剧 周 梅 森 创 作, 国 家 一 级 导 演 李 路 执 导, 陆 毅 、 张 丰 毅 、 吴 刚 、 许 亚 军 、 张 志 坚 、 柯 蓝 、 徐 光 宇 、 胡 静 、 张 凯 丽 、 赵 子 琪 、 白 志 迪 、 李 建 义 、 高 亚 麟 、 丁 海 峰 、 冯 雷 、 李 光 复 、 张 晞 临 、 唐 菀 等 联 袂 主 演, 侯 勇 、 沈 晓 海 、 侯 天 来 、 周 浩 东 、 何 达 、 刘 伟 、 卞 涛 特 别 出 演 。 该 剧 以 检 察 官 侯 亮 平 的 调 查 行 动 为 叙 事 主 线, 讲 述 了 检 察 官 们 步 步 深 入, 查 办 国 家 工 作 人 员 贪 污 受 贿 犯 罪 的 故 事 。 该 剧 预 计 于 2017 年 年 初 在 湖 南 卫 视 播 出 [', '问 题 ： 人 民 的 名 义 电 视 剧 播 出 时 间? 原 文 ： 《 人 民 的 名 义 》 是 由 最 高 人 民 检 察 院 影 视 中 心 组 织 创 作 的 当 代 检 察 题 材 反 腐 电 视 剧, 由 著 名 编 剧 周 梅 森 创 作, 国 家 一 级 导 演 李 路 执 导, 陆 毅 、 张 丰 毅 、 吴 刚 、 许 亚 军 、 张 志 坚 、 柯 蓝 、 徐 光 宇 、 胡 静 、 张 凯 丽 、 赵 子 琪 、 白 志 迪 、 李 建 义 、 高 亚 麟 、 丁 海 峰 、 冯 雷 、 李 光 复 、 张 晞 临 、 唐 菀 等 联 袂 主 演, 侯 勇 、 沈 晓 海 、 侯 天 来 、 周 浩 东 、 何 达 、 刘 伟 、 卞 涛 特 别 出 演 。 该 剧 以 检 察 官 侯 亮 平 的 调 查 行 动 为 叙 事 主 线, 讲 述 了 检 察 官 们 步 步 深 入, 查 办 国 家 工 作 人 员 贪 污 受 贿 犯 罪 的 故 事 。 该 剧 预 计 于 2017 年 年 初 在 湖 南 卫 视 播 出 [', '问 题 ： 2016 年 取 消 了 多 少 项 行 政 审 批 事 项? 原 文 ： 央 广 网 北 京 9 月 10 日 消 息 ( 记 者 刘 祎 辰 ) 据 中 国 之 声 《 全 国 新 闻 联 播 》 报 道 ， 国 务 院 审 改 办 新 闻 发 言 人 李 章 泽 今 天 ( 10 日 ) 表 示 ， 一 年 多 来 ， 已 先 后 取 消 和 下 放 7 批 共 632 项 行 政 审 批 等 事 项 。 未 来 将 进 一 步 提 高 审 批 事 项 下 放 的 含 金 量 。 李 章 泽 介 绍 ， 国 家 统 计 局 最 近 在 河 北 、 辽 宁 、 浙 江 和 甘 肃 四 个 省 进 行 的 调 查 显 示 ， 在 感 受 到 取 消 和 下 放 行 政 审 批 事 项 影 响 的 企 业 中 ， 对 政 策 措 施 落 实 情 况 表 示 满 意 、 基 本 满 意 的 分 别 达 到 39 % 和 42. 6 % ， 总 体 满 意 度 达 到 了 81. 6 % ， 对 下 放 和 取 消 行 政 审 批 事 项 的 含 金 量 ， 需 要 辩 证 看 待 。', '问 题 ： 衣 柜 移 门 多 少 钱 一 平 方? 原 文 ： 计 算 和 确 定 一 个 衣 柜 的 价 钱 是 要 通 过 考 核 多 个 方 面 的, 也 就 是 说 要 把 衣 柜 的 各 个 方 面 都 进 行 测 量 计 算 才 能 确 定 移 门 衣 柜 多 少 钱 一 平 方 这 个 问 题 。 1 、 首 先, 不 同 的 材 质 价 格 会 有 差 别 。 同 样 一 平 米 的 金 丝 楠 木 移 门 衣 柜 的 价 格 和 普 通 的 杉 木 的 移 动 衣 柜 的 价 格 相 去 甚 远 。 所 以 要 确 定 移 门 衣 柜 的 价 格, 先 来 定 一 下 这 个 衣 柜 的 材 料 。 只 有 材 料 确 定 了, 这 个 衣 柜 的 价 格 主 体 就 确 定 了, 其 他 因 素 对 价 格 的 影 响 并 不 会 很 大 。 一 般 家 庭 用 移 门 衣 柜 普 通 材 质 大 概 在 200 元 到 1000 元 每 平 米 的 一 个 价 格 区 间 。 2 、 其 次, 看 设 计 。 在 中 国 虽 然 还 是 以 质 量 为 核 价 的 基 础, 但 是 随 着 大 家 对 家 居 品 味 的 要 求 越 来 越 高, 设 计 在 定 价 中 也 占 有 极 大 的 决 定 成 因 。 同 样 是 一 个 实 木 板 材 的 移 门 衣 柜, 名 设 计 师 和 普 通 设 计 师 在 每 平 方 的 价 格 方 面 是 有 差 异 的 。 这 个 差 异 没 有 材 料 来 得 明 显, 但 是 还 是 会 在 售 价 中 体 现 出 来 。 3 、 再 次, 看 衣', '问 题 ： 衣 柜 移 门 多 少 钱 一 平 方? 原 文 ： 计 算 和 确 定 一 个 衣 柜 的 价 钱 是 要 通 过 考 核 多 个 方 面 的, 也 就 是 说 要 把 衣 柜 的 各 个 方 面 都 进 行 测 量 计 算 才 能 确 定 移 门 衣 柜 多 少 钱 一 平 方 这 个 问 题 。 1 、 首 先, 不 同 的 材 质 价 格 会 有 差 别 。 同 样 一 平 米 的 金 丝 楠 木 移 门 衣 柜 的 价 格 和 普 通 的 杉 木 的 移 动 衣 柜 的 价 格 相 去 甚 远 。 所 以 要 确 定 移 门 衣 柜 的 价 格, 先 来 定 一 下 这 个 衣 柜 的 材 料 。 只 有 材 料 确 定 了, 这 个 衣 柜 的 价 格 主 体 就 确 定 了, 其 他 因 素 对 价 格 的 影 响 并 不 会 很 大 。 一 般 家 庭 用 移 门 衣 柜 普 通 材 质 大 概 在 200 元 到 1000 元 每 平 米 的 一 个 价 格 区 间 。 2 、 其 次, 看 设 计 。 在 中 国 虽 然 还 是 以 质 量 为 核 价 的 基 础, 但 是 随 着 大 家 对 家 居 品 味 的 要 求 越 来 越 高, 设 计 在 定 价 中 也 占 有 极 大 的 决 定 成 因 。 同 样 是 一 个 实 木 板 材 的 移 门 衣 柜, 名 设 计 师 和 普 通 设 计 师 在 每 平 方 的 价 格 方 面 是 有 差 异 的 。 这 个 差 异 没 有 材 料 来 得 明 显, 但 是 还 是 会 在 售 价 中 体 现 出 来 。 3 、 再 次, 看 衣', '问 题 ： fgo 封 号 一 般 封 多 久? 原 文 ： 当 前 位 置 : 安 软 市 场 > 安 卓 资 讯 > 游 戏 攻 略 > 封 号 列 表 石 头 初 始 号 安 全 吗 | 2017 - 05 - 24 11 : 20 来 源 : 安 软 市 场 编 辑 : 白 猫 浏 览 : 272 0 条 评 论 | 封 号 列 表, 石 头 初 始 号 安 全 吗? 昨 天 国 服 公 布 了 一 批 封 号 名 单, 这 次 的 打 击 力 度 非 常 大 而 且 无 视 你 的 充 值 行 为, 请 各 位 玩 家 不 要 抱 有 侥 幸 心 理, 请 维 护 一 个 公 平 的 游 戏 环 境 。 | 自 《 / 》 ( 中 文 名 : 命 运 - 冠 位 指 定 ) 正 式 上 线 运 营 以 来, 为 保 证 能 为 广 大 玩 家 提 供 公 平 游 戏 环 境, 迦 勒 底 后 勤 中 国 分 部 一 直 致 力 于 持 续 监 控 和 打 击 所 有 影 响 公 平 游 戏 环 境 的 行 为, 也 欢 迎 各 位 监 督 和 反 馈 。 | 在 这 场 夺 回 未 来 的 战 争 正 逐 步 迈 向 高 潮 之 际, 我 们 在 此 重 申, 为 了 保 障 人 理 续 存 的 执 行, 以 及 所 有 的 利 益 及 账 号 信 息 安 全, 迦 勒 底 将 严 厉 打 击 处 罚 所 有 以 下 行 为 : | 1 、 回 收 圣 晶 石 ; 2 、 回 收 通 过 非 官 方 途 径 充 值 获 得 的 游 戏 道 具 / 卡 牌 ; 3 、 暂 时 乃 至 永 久 的 账 号 冻 结 处 理 ; 4 、 不 受 理 因 通 过 非 官 方 途 径 充 值 而 导 致 的 账 号 数 据 异 常 及 充 值 未 到 账 等 问 题 ; | 5 、 任 何 使 用 第 三 方 软 件 而 影 响 游 戏 平 衡 的 行 为, 在 核 实 后, 该 名 将 被 封 入 灵 子 筐 体, 进 行 永 久 封 存 处 理 ( 账 号 冻 结 ) 。 | 同 时, 迦 勒 底 再 次 提 醒 诸 君, 非 官 方 渠 道 充 值 及 使 用 第 三 方 软 件 等 行 为, 对 于 个 人 的 账 号 信 息 安 全 而', '问 题 ： 现 代 m 开 头 的 是 什 么 车? 原 文 ： 现 代 的 就 那 么 几 款 ，,, 途 胜 （ 开 头 ） ， 胜 达 （ 开 头 ） ， 再 就 是 进 口 的 胜 达 （ 开 头 ） ， 和 格 锐 （ 开 头 ） ， 以 及 维 拉 克 斯 （ 开 头 ） ~ ~ 没 有 开 头 的 ， 就 个 名 图 是 开 头 的 ， 但 是 是 轿 车 ~ ~', '问 题 ： 社 保 局 电 话? 原 文 ： 查 询 社 保 的 方 法 有 三 种 : 1. 社 保 中 心 查 询 如 果 对 自 己 的 社 保 帐 号 不 清 楚, 可 以 携 带 身 份 证 到 各 区 社 会 保 险 经 办 机 构 业 务 办 理 大 厅 查 询 。 2. 上 网 查 询 登 陆 所 在 城 市 的 劳 动 保 障 网 或 社 会 保 险 业 务 网 站, 点 击 个 人 社 保 信 息 查 询 窗 口, 输 入 本 人 身 份 证 和 密 码 ( 密 码 是 你 的 社 保 证 编 号 或 者 身 份 证 出 生 年 月 ), 即 可 查 询 本 人 参 保 信 息 。 3. 电 话 咨 询 拨 打 劳 动 保 障 综 合 服 务 电 话 12333 进 行 政 策 咨 询 和 信 息 查 询 。', '问 题 ： 成 都 住 房 公 积 金 卡 初 始 密 码? 原 文 ： 住 房 公 积 金 卡 实 行 密 码 管 理 ， 密 码 由 6 位 数 字 组 成 ， 住 房 公 积 金 卡 的 初 始 密 码 为 本 卡 帐 号 的 后 6 位 。 密 码 遗 忘 ， 请 本 人 直 接 到 住 房 公 积 金 管 理 中 心 储 存 卡 服 务 窗 口 申 请 密 码 挂 失 ， 填 写 《 密 码 挂 失 登 记 表 》 。 经 中 心 柜 员 同 意 后 ， 按 操 作 提 示 办 理 密 码 的 重 新 设 置 。 同 时 携 带 本 人 身 份 证 、 储 存 卡 。', '问 题 ： 拉 布 拉 多 多 大 才 能 懂 事? 原 文 ： 1 岁 之 后 。 1 、 一 般 1 岁 到 2 岁 之 间 会 开 始 变 得 懂 事 。 但 是 相 对 其 他 狗 来 说 还 是 调 皮 很 多, 这 个 是 拉 布 拉 多 的 个 性 。 2 、 要 想 拉 布 拉 多 懂 事 听 话, 就 要 在 7, 8 个 月 左 右 开 始 训 练 它, 规 范 它 的 行 为 。 3 、 拉 布 拉 多 猎 犬 是 一 种 中 大 型 犬 类, 个 性 温 和 、 活 泼, 智 商 高, 也 对 人 很 友 善 。 4 、 拉 布 拉 多 猎 犬 性 情 温 和 、 聪 明 听 话 、 容 易 训 练 、 活 泼 好 动 、 忠 实 主 人 、 服 从 指 挥, 是 最 受 欢 迎 和 最 值 得 信 赖 的 家 庭 犬 。 但 因 该 犬 需 要 大 运 动 量 才 能 保 证 其 正 常 成 长,', '问 题 ： 中 国 有 多 少 种 烟? 原 文 ： 国 内 烟 草 品 牌 里 ， 已 经 停 产 的 不 能 算 了 ， 就 按 2010 年 仍 在 生 产 并 在 市 场 销 售 的 品 牌 ， 一 共 108 个 品 牌 ， 按 字 母 大 写 排 列 如 下 ： : : 白 沙 北 戴 河 : 茶 花 苁 蓉 长 白 山 长 城 : 大 丰 收 大 红 鹰 大 前 门 大 青 山 帝 豪 钓 鱼 台 冬 虫 夏 草 都 宝 : : 芙 蓉 芙 蓉 王 福 : 赣 恭 贺 新 禧 贵 烟 国 宝 : 哈 德 门 哈 尔 滨 好 猫 好 日 子 红 河 红 金 龙 红 玫 红 玫 王 红 梅 红 旗 渠 红 三 环 红 山 茶 红 杉 树 红 双 喜 ( 鄂 ) 红 双 喜 ( 沪 ) 红 塔 山 猴 王 呼 伦 贝 尔 华 西 村 黄 果 树 黄 鹤 楼 黄 金 叶 黄 山 黄 山 松 黑 豹 : 甲 天 下 江 山 将 军 娇 子 金 鹿 金 桥 金 圣 : 兰 州 老 仁 义 利 群 利 事 林 海 灵 芝 龙 凤 呈 祥 龙 烟 庐 山 : 孟 菲 斯 梦 都 牡 丹 : 南 方 南 京 : 七 匹 狼 : 人 民 大 会 堂 : 三 峡 散 花 沙 河 上 海 盛 唐 狮 牌 石 林 石 狮 双 喜 双 叶 苏 烟 : 泰 山 天 下 秀 天 子 : 万 宝 路 ( 国 产 ) 王 冠 皖 烟 味 美 思 五 牛 五 叶 神 五 一 : 厦 门 相 思 鸟 香 格 里 拉 小 熊 猫 新 石 家 庄 雄 狮 熊 猫 雪 莲 雪 域 : 延 安 羊 城 椰 树 椰 王 一 品 梅 壹 枝 笔 玉 溪 月 兔 云 烟 : 中 华 中 南 海 钻 石 真 龙 目 前 ， 出 现 新 名 称 新 品 牌 的 可 能 性 不 大 ， 很 多 零 散 小 品 牌 也 都 在 整 合 进 大 品 牌 中 ， 以 后 的 烟 草 小 品 牌 会 慢 慢 归 类 为 几 个 较 大 品 牌 中 。', '问 题 ： 中 考 时 间 2017 具 体 时 间? 原 文 ： 今 年 中 考 全 省 统 考, 备 受 关 注 的 中 考 时 间 终 于 定 了 : 6 月 23 日 - 25 日 中 考 时 间 2017 具 体 时 间 文 章 中 考 时 间 2017 具 体 时 间 出 自 http : / / www. gkstk. com / article / wk - 78500001519865. html, 转 载 请 保 留 此 链 接! 。', '问 题 ： 曲 筱 绡 最 后 和 谁 在 一 起 了? 原 文 ： 《 欢 乐 颂 》 的 结 局 是 赵 医 生 和 曲 筱 绡 最 后 在 一 起 了, 经 过 几 次 分 分 合 合, 还 是 发 现 对 方 最 适 合 自 己 。 曲 筱 绡 演 员 王 子 文 精 灵 古 怪 的 富 二 代 。 初 入 商 海 的 小 老 板 。 有 刺 的 玫 瑰 花, 魅 力 超 群 的 小 狐 狸 。 好 玩, 有 趣, 真 实 犀 利 不 矫 情 。 从 小 在 关 系 复 杂 的 家 庭 长 大, 虽 不 学 无 术, 却 人 情 练 达 、 智 计 百 出, 管 得 了 公 司 搞 得 定 男 人, 是 人 精 中 的 战 斗 机 。 清 楚 地 知 道 自 己 想 要 什 么, 对 人 对 己 毫 不 手 软, 平 庸 的 生 活 由 她 过 来, 便 是 妙 曼 多 姿 活 色 生 香 。 无 聊 生 事 有 之, 爱 恨 分 明 有 之, 一 针 见 血 有 之, 心 怀 恻 隐 亦 有 之 : 这 姑 娘 活 得 肆 意 潇 洒 、 我 行 我 素, 能 让 你 恨 得 牙 痒 痒, 又 能 让 你 爱 到 心 窝 子 里 去 。 赵 启 平 演 员 王 凯 书 香 门 第 出 身 的 高 材 生 。 大 医 院 主 治 医 师 。 高 大 英 俊 卖 相 佳, 聪 明 机 智 有 情 趣, 加 上 闪 闪 放 光 的 学 历 和 主 治 医 生 的 头 衔, 活 脱 脱 就 是', '问 题 ： 2017 年 注 册 消 防 工 程 师 报 名 时 间? 原 文 ： 2017 年 一 级 消 防 工 程 师 考 试 时 间 是 在 11 月 中 旬 ， 2016 年 是 在 11 月 12 日 13 日 。 报 名 时 间 约 为 每 年 的 8 月 中 旬 。 具 体 时 间 以 中 国 人 事 考 试 网 公 告 为 准 。 要 考 是 的 可 以 去 盘 识 阁 下 载 消 防 工 程 师 全 程 课 件 资 料', '问 题 ： 微 创 种 植 牙 价 格? 原 文 ： 你 好 ， 种 植 牙 有 瑞 士 ， 韩 国 ， 美 国 ， 德 国 等 国 家 的 。 种 植 品 牌 不 一 样 ， 价 格 也 有 所 不 同 。 目 前 种 植 牙 的 价 格 在 8000 ~ 15000 之 间 ， 当 然 要 看 你 选 择 的 种 植 体 和 牙 冠 了 ， 不 同 的 种 植 体 和 不 同 的 牙 冠 价 格 会 有 很 大 的 出 入 。 另 外 提 醒 ， 做 种 植 牙 适 合 自 己 才 是 最 好 的 。 京 一 口 腔 即 刻 种 技 术 不 仅 可 以 做 到 即 拔 、 即 种 、 即 用 ， 整 个 手 术 过 程 也 是 在 微 创 、 无 痛 中 进 行 ， 当 天 就 可 以 戴 牙 回 家 吃 东 西 。', '问 题 ： 斑 马 斑 马 原 唱 是 谁? 原 文 ： 《 斑 马 ， 斑 马 》 是 宋 冬 野 演 唱 的 歌 曲 ， 由 宋 冬 野 作 词 作 曲 。 选 秀 歌 手 张 婧 懿 、 姜 兴 琦 翻 唱 过 这 首 歌 。 宋 冬 野 ， 男 ， 80 年 代 的 躯 干 ， 70 年 代 的 脸 ， 后 天 综 合 性 肥 胖 症 患 者 ， 偶 像 派 ， 江 湖 人 称 宋 胖 子 。 受 中 国 民 谣 众 前 辈 影 响 ， 跌 跌 撞 撞 的 根 深 蒂 固 型 后 辈 民 谣 音 乐 人 。 祖 籍 北 京 安 和 桥 ， 国 民 党 逃 兵 分 子 后 裔 ， 曾 作 为 北 京 某 中 学 讲 台 旁 单 独 课 桌 常 年 占 用 者 而 备 受 瞩 目 。 凭 借 自 编 自 导 的 某 校 园 音 乐 剧 ， 赚 够 学 分 从 北 京 四 大 名 校 之 一 海 跑 儿 图 书 出 版 发 行 专 业 顺 利 毕 业 。 2012 年 毅 然 辞 去 出 版 公 司 运 营 经 理 职 务 ， 卖 唱 为 生 ， 出 没 于 祖 国 大 江 南 北 ， 乐 此 不 疲 。 歌 名 ： 斑 马 斑 马 所 属 专 辑 ： 安 和 桥 北 歌 曲 时 长 ： 4 分 13 秒 发 行 时 间 ： 2013 年 08 月 26 日 歌 曲 原 唱 ： 宋 冬 野 填 词 ： 宋 冬 野 谱 曲 ： 宋 冬 野 歌 词 ： 斑 马 斑 马 你 不 要 睡 着 啦 再 给 我 看 看 你 受 伤 的 尾 巴 我 不 想 去 触 碰 你 伤 口 的 疤 我 只 想 掀 起 你 的 头 发 斑 马 斑 马 你 回 到 了 你 的 家 可 我 浪 费 着 我 寒 冷 的 年 华 你 的 城 市 没 有 一 扇 门 为 我 打 开 啊 我 终 究 还 要 回 到 路 上 斑 马 斑 马 ， 你 来 自 南 方 的 红 色 啊 是 否 也 是 个 动 人 的 故 事 啊 你 隔 壁 的 戏 子 如 果 不 能 留 下 谁 会 和 你 睡 到 天 亮 斑 马 斑 马 你 还 记 得 我 吗 我 是 只 会 歌 唱 的 傻 瓜 斑 马 斑 马 你 睡 吧 睡 吧 我 会 背 上 吉 他 离 开 北 方 斑 马 斑 马 你 还 记 得 我 吗 我 是 强 说 着 忧 愁 的 孩 子 啊 斑 马 斑 马', '问 题 ： 直 播 用 什 么 手 机 好? 原 文 ： ， 拍 照 功 能 比 较 立 体 。 ， 主 打 自 拍 ， 推 荐 不 够 人 性 化 ， 聚 焦 不 灵 活 。 | 其 实 并 不 是 看 品 牌 ， 主 要 是 看 手 机 有 没 有 防 抖 动 这 个 东 西 ， 毕 竟 户 外 视 角 不 是 静 止 的 ， 这 一 点 上 三 星 6 做 的 最 好 ， 但 不 代 表 其 他 方 面 也 好 ， 只 是 适 合 直 播 。', '问 题 ： 直 播 用 什 么 手 机 好? 原 文 ： ， 拍 照 功 能 比 较 立 体 。 ， 主 打 自 拍 ， 推 荐 不 够 人 性 化 ， 聚 焦 不 灵 活 。 | 其 实 并 不 是 看 品 牌 ， 主 要 是 看 手 机 有 没 有 防 抖 动 这 个 东 西 ， 毕 竟 户 外 视 角 不 是 静 止 的 ， 这 一 点 上 三 星 6 做 的 最 好 ， 但 不 代 表 其 他 方 面 也 好 ， 只 是 适 合 直 播 。', '问 题 ： 铁 矿 石 手 续 费? 原 文 ： 上 面 这 个 机 器 人 就 是 机 械 这 是 问 的 手 续 费 不 是 保 证 金 现 在 铁 矿 石 的 手 续 费 提 高 了 不 少, 交 易 所 按 成 交 额 的 万 分 之 1. 8 来 收 那 一 手 现 在 是 430 * 100 * 1. 8 / 10000, 大 概 是 7 块 2 一 手 做 期 货 可 加 具 体 了 解', '问 题 ： 14 号 线 什 么 时 候 全 线 开 通? 原 文 ： 需 要 说 明 的 是 ， 除 了 这 16 公 里 ， 到 2015 年 底 14 号 线 中 段 仍 有 大 约 5 公 里 暂 时 不 能 开 通 ， 因 此 14 号 线 还 不 能 全 线 贯 通 。 这 一 段 主 要 受 到 丽 泽 商 务 区 的 影 响 。 市 轨 道 交 通 建 设 管 理 公 司 三 中 心 副 总 经 理 崔 海 涛 说 ， 这 一 段 中 包 括 东 管 头 站 、 丽 泽 商 务 区 站 、 西 铁 营 站 和 菜 户 营 站 ， 目 前 东 管 头 站 已 经 建 好 ， 而 丽 泽 商 务 区 站 则 还 需 要 根 据 丽 泽 商 务 区 相 关 规 划 有 所 调 整 。 | 经 过 与 各 有 关 部 门 协 调 ， 地 铁 14 号 线 在 西 局 和 北 京 南 站 之 间 的 5 公 里 左 右 初 步 预 计 在 2019 年 投 入 使 用 。 崔 海 涛 说 ， 地 铁 14 号 线 仍 在 努 力 建 设 中 ， 预 计 在 2019 年 全 线 运 营 。 | 不 过 ， 从 交 通 意 义 上 看 ， 14 号 线 中 段 的 16 公 里 在 2015 年 开 通 后 将 给 市 民 带 来 极 大 便 利 ， 也 将 极 大 缓 解 东 南 部 多 条 地 铁 的 运 载 压 力 。 2014 年 年 底 开 通 的 14 号 线 东 段 ， 最 南 只 能 到 达 金 台 路 站 ， 给 本 来 就 十 分 拥 挤 的 6 号 线 再 次 带 来 新 的 客 流 压 力 。 一 旦 中 段 开 通 ， 东 北 方 向 的 客 流 也 可 继 续 向 南 与 1 号 线 、 10 号 线 、 7 号 线 等 实 现 换 乘 。 此 外 ， 北 京 南 站 也 将 增 加 一 条 东 西 走 向 的 地 铁 。', '问 题 ： 14 号 线 什 么 时 候 全 线 开 通? 原 文 ： 需 要 说 明 的 是 ， 除 了 这 16 公 里 ， 到 2015 年 底 14 号 线 中 段 仍 有 大 约 5 公 里 暂 时 不 能 开 通 ， 因 此 14 号 线 还 不 能 全 线 贯 通 。 这 一 段 主 要 受 到 丽 泽 商 务 区 的 影 响 。 市 轨 道 交 通 建 设 管 理 公 司 三 中 心 副 总 经 理 崔 海 涛 说 ， 这 一 段 中 包 括 东 管 头 站 、 丽 泽 商 务 区 站 、 西 铁 营 站 和 菜 户 营 站 ， 目 前 东 管 头 站 已 经 建 好 ， 而 丽 泽 商 务 区 站 则 还 需 要 根 据 丽 泽 商 务 区 相 关 规 划 有 所 调 整 。 | 经 过 与 各 有 关 部 门 协 调 ， 地 铁 14 号 线 在 西 局 和 北 京 南 站 之 间 的 5 公 里 左 右 初 步 预 计 在 2019 年 投 入 使 用 。 崔 海 涛 说 ， 地 铁 14 号 线 仍 在 努 力 建 设 中 ， 预 计 在 2019 年 全 线 运 营 。 | 不 过 ， 从 交 通 意 义 上 看 ， 14 号 线 中 段 的 16 公 里 在 2015 年 开 通 后 将 给 市 民 带 来 极 大 便 利 ， 也 将 极 大 缓 解 东 南 部 多 条 地 铁 的 运 载 压 力 。 2014 年 年 底 开 通 的 14 号 线 东 段 ， 最 南 只 能 到 达 金 台 路 站 ， 给 本 来 就 十 分 拥 挤 的 6 号 线 再 次 带 来 新 的 客 流 压 力 。 一 旦 中 段 开 通 ， 东 北 方 向 的 客 流 也 可 继 续 向 南 与 1 号 线 、 10 号 线 、 7 号 线 等 实 现 换 乘 。 此 外 ， 北 京 南 站 也 将 增 加 一 条 东 西 走 向 的 地 铁 。', '问 题 ： 高 中 老 师 工 资? 原 文 ： 现 在 一 位 高 中 教 师 的 平 均 工 资 约 5000 元 左 右, 根 据 地 区 不 同 存 在 较 大 差 异 。 通 常 经 济 发 达 地 区 较 高, 比 如 上 海 、 江 浙 地 区 、 广 东 地 区 等, 贵 州 、 西 北 地 区 等 地 区 的 高 中 教 师 的 待 遇 较 低 。 劳 动 者 和 用 人 单 位 建 立 劳 动 关 系, 劳 动 者 的 工 资 通 常 在 劳 动 双 方 签 订 劳 动 合 同 时 确 定, 劳 动 者 与 用 人 单 位 因 工 资 支 付 发 生 劳 动 争 议 的, 当 事 人 可 依 法 向 劳 动 争 议 仲 裁 机 关 申 请 仲 裁 。 对 仲 裁 裁 决 不 服 的, 可 以 向 人 民 法 院 提 起 诉 讼 。 实 践 中, 高 中 老 师 的 待 遇 通 常 和 教 学 科 目 的 多 少, 是 否 为 班 主 任 或 者 担 任 学 校 的 领 导 职 务 等 存 在 差 异, 部 分 地 区 存 在 补 课 等 情 况, 这 同 样 属 于 高 中 老 师 收 入 的 一 部 分 。 《 关 于 职 工 全 年 月 平 均 工 作 时 间 和 工 资 折 算 问 题 的 通 知 》 一 、 日 工 资 、 小 时 工 资 的 折 算 按 照 《 劳 动 法 》 第 五 十 一 条 的 规 定, 法 定 节 假 日 用 人 单 位 应 当 依 法 支 付 工 资, 即', '问 题 ： 高 中 老 师 工 资? 原 文 ： 现 在 一 位 高 中 教 师 的 平 均 工 资 约 5000 元 左 右, 根 据 地 区 不 同 存 在 较 大 差 异 。 通 常 经 济 发 达 地 区 较 高, 比 如 上 海 、 江 浙 地 区 、 广 东 地 区 等, 贵 州 、 西 北 地 区 等 地 区 的 高 中 教 师 的 待 遇 较 低 。 劳 动 者 和 用 人 单 位 建 立 劳 动 关 系, 劳 动 者 的 工 资 通 常 在 劳 动 双 方 签 订 劳 动 合 同 时 确 定, 劳 动 者 与 用 人 单 位 因 工 资 支 付 发 生 劳 动 争 议 的, 当 事 人 可 依 法 向 劳 动 争 议 仲 裁 机 关 申 请 仲 裁 。 对 仲 裁 裁 决 不 服 的, 可 以 向 人 民 法 院 提 起 诉 讼 。 实 践 中, 高 中 老 师 的 待 遇 通 常 和 教 学 科 目 的 多 少, 是 否 为 班 主 任 或 者 担 任 学 校 的 领 导 职 务 等 存 在 差 异, 部 分 地 区 存 在 补 课 等 情 况, 这 同 样 属 于 高 中 老 师 收 入 的 一 部 分 。 《 关 于 职 工 全 年 月 平 均 工 作 时 间 和 工 资 折 算 问 题 的 通 知 》 一 、 日 工 资 、 小 时 工 资 的 折 算 按 照 《 劳 动 法 》 第 五 十 一 条 的 规 定, 法 定 节 假 日 用 人 单 位 应 当 依 法 支 付 工 资, 即', '问 题 ： 石 金 钱 龟 苗 价 格? 原 文 ： 金 钱 龟 不 分 品 种, 只 有 生 长 地 之 分, 在 我 国 主 要 分 布 于 广 东 、 广 西 、 福 建 、 海 南 、 香 港 、 澳 门 等 地, 在 国 外 主 要 分 布 于 越 南 等 亚 热 带 国 家 和 地 区 。 金 钱 龟, 学 名 为 三 线 闭 壳 龟, 又 称 红 边 龟 、 金 头 龟 、 红 肚 龟, 是 传 统 的 中 药 材, 在 动 物 分 类 学 上 隶 属 于 爬 行 纲 、 龟 鳖 目 、 龟 科 。 金 钱 龟 喜 欢 选 择 阴 蔽 的 地 方 栖 息, 有 群 居 的 习 性 ; 属 于 杂 食 性, 在 自 然 界 中 主 要 捕 食 水 中 的 螺 、 鱼 、 虾 、 蝌 蚪 等 水 生 动 物, 同 时 也 食 幼 鼠 、 幼 蛙 、 金 龟 子 、 蜗 牛 及 蝇 蛆, 有 时 也 吃 南 瓜 、 香 蕉 及 植 物 嫩 茎 叶 。 金 钱 龟 是 目 前 国 内 最 为 名 贵 的 龟 种 之 一, 一 般 小 苗 价 格 为 几 千 元, 成 体 金 钱 龟 价 格 数 万 元, 品 相 较 好 的 种 公 龟 价 格 可 达 几 十 至 上 百 万 元 。', '问 题 ： 石 金 钱 龟 苗 价 格? 原 文 ： 金 钱 龟 不 分 品 种, 只 有 生 长 地 之 分, 在 我 国 主 要 分 布 于 广 东 、 广 西 、 福 建 、 海 南 、 香 港 、 澳 门 等 地, 在 国 外 主 要 分 布 于 越 南 等 亚 热 带 国 家 和 地 区 。 金 钱 龟, 学 名 为 三 线 闭 壳 龟, 又 称 红 边 龟 、 金 头 龟 、 红 肚 龟, 是 传 统 的 中 药 材, 在 动 物 分 类 学 上 隶 属 于 爬 行 纲 、 龟 鳖 目 、 龟 科 。 金 钱 龟 喜 欢 选 择 阴 蔽 的 地 方 栖 息, 有 群 居 的 习 性 ; 属 于 杂 食 性, 在 自 然 界 中 主 要 捕 食 水 中 的 螺 、 鱼 、 虾 、 蝌 蚪 等 水 生 动 物, 同 时 也 食 幼 鼠 、 幼 蛙 、 金 龟 子 、 蜗 牛 及 蝇 蛆, 有 时 也 吃 南 瓜 、 香 蕉 及 植 物 嫩 茎 叶 。 金 钱 龟 是 目 前 国 内 最 为 名 贵 的 龟 种 之 一, 一 般 小 苗 价 格 为 几 千 元, 成 体 金 钱 龟 价 格 数 万 元, 品 相 较 好 的 种 公 龟 价 格 可 达 几 十 至 上 百 万 元 。', '问 题 ： 石 金 钱 龟 苗 价 格? 原 文 ： 金 钱 龟 不 分 品 种, 只 有 生 长 地 之 分, 在 我 国 主 要 分 布 于 广 东 、 广 西 、 福 建 、 海 南 、 香 港 、 澳 门 等 地, 在 国 外 主 要 分 布 于 越 南 等 亚 热 带 国 家 和 地 区 。 金 钱 龟, 学 名 为 三 线 闭 壳 龟, 又 称 红 边 龟 、 金 头 龟 、 红 肚 龟, 是 传 统 的 中 药 材, 在 动 物 分 类 学 上 隶 属 于 爬 行 纲 、 龟 鳖 目 、 龟 科 。 金 钱 龟 喜 欢 选 择 阴 蔽 的 地 方 栖 息, 有 群 居 的 习 性 ; 属 于 杂 食 性, 在 自 然 界 中 主 要 捕 食 水 中 的 螺 、 鱼 、 虾 、 蝌 蚪 等 水 生 动 物, 同 时 也 食 幼 鼠 、 幼 蛙 、 金 龟 子 、 蜗 牛 及 蝇 蛆, 有 时 也 吃 南 瓜 、 香 蕉 及 植 物 嫩 茎 叶 。 金 钱 龟 是 目 前 国 内 最 为 名 贵 的 龟 种 之 一, 一 般 小 苗 价 格 为 几 千 元, 成 体 金 钱 龟 价 格 数 万 元, 品 相 较 好 的 种 公 龟 价 格 可 达 几 十 至 上 百 万 元 。', '问 题 ： 重 庆 方 太 燃 气 灶 维 修 电 话? 原 文 ： 方 太 燃 气 灶 报 修 热 线 〔 1 〕 400 - 6578 - 123 〔 2 〕 400 - 6578 - 123, 重 庆 方 太 燃 气 灶 售 后 服 务 电 话 : 本 公 司 将 第 一 时 间 竭 诚 为 您 服 务! | ( 重 庆 ) 专 业 维 修 站 点 - - 报 修 热 线 - - ( 全 程 上 门 为 您 提 供 最 优 质 服 务! 燃 气 灶 专 业 维 修 师 ) | 修 情 暖 千 万 家, 包 您 满 意, 重 庆 市 方 太 燃 气 灶 维 修, 原 厂 配 件, 服 务 人 民 - - - - - 诚 实 守 信 - - - - - - 随 叫 随 到 - - - - - - - - - 服 务 体 贴 - - - - - - - 质 量 最 好! | ( 重 庆 ) 专 业 维 修 站 点 - - 报 修 热 线 - - ( 全 程 上 门 为 您 提 供 最 优 质 服 务! 燃 气 灶 专 业 维 修 师 ) 〔 1 〕 400 - 6578 - 123 〔 2 〕 400 - 6578 - 123 | 24 小 时 报 修 电 话 相 信 你 的 选 择 没 有 错! 好 生 活 从 方 太 燃 气 灶 开 始 随 着 我 国 人 民 的 生 活 水 平 日 益 提 高, 燃 气 灶 已 成 为 人 们 日 常 | 生 活 中 必 不 可 少 的 燃 气 灶, 随 着 用 户 的 增 加 燃 气 灶 维 修 故 障 也 随 之 大 量 增 加, 给 用 户 的 日 常 生 活 带 来 了 很 大 的 不 便! 重 庆 方 太 售 后 服 务 中 心 成 立 于 2006 年, 自 成 立 以 来 紧 紧 围 绕 \" 专 业 化 \" 的 服 务 标 准, 以 \" 我 用 心, 你 放 心 \" 的 服 务 精 神 促 进 企 业 发 展 壮 大, 以 \" 诚 信 务 实 \" 的 服 务 理 念 赢 取 市 场 和 回 报 社 会, 使 企 业 在 竞 争 异 常 激 烈 的 家 电 市 场 中 连 续 多 年 稳 健 发 展, 取 得 了 良 好 的 经 济 效 益 和 社 会 效 益 。 | ( 1 ) 严 格 按 照 维 修 程 序 及 操 作 规 程 维 修, 确 保 维', '问 题 ： 临 时 身 份 证 最 快 多 久? 原 文 ： 一 、 居 住 在 中 华 人 民 共 和 国 广 东 省 的 16 周 岁 以 上 的 中 国 公 民 ， 尚 待 领 取 居 民 身 份 证 或 原 证 丢 失 、 损 毁 尚 未 补 领 的 人 员 ， 可 根 据 需 要 申 请 领 取 临 时 身 份 证 。 二 、 须 提 供 的 材 料 ： · 填 写 《 申 领 临 时 身 份 证 登 记 表 》 ； · 《 户 口 簿 》 ； · 两 张 近 期 居 民 身 份 证 标 准 相 片 。 三 、 持 上 述 材 料 到 常 住 户 口 所 在 地 的 户 口 登 记 机 关 履 行 申 领 临 时 身 份 证 手 续 ， 并 交 纳 证 件 工 本 费 10 元 （ 经 济 特 区 20 元 ） 。 四 、 申 请 人 在 办 理 申 领 临 时 身 份 证 手 续 2 个 工 作 日 后 ， 凭 《 户 口 簿 》 到 户 口 所 在 地 的 户 口 登 记 机 关 领 取 临 时 身 份 证 。 五 、 公 民 在 领 取 居 民 身 份 证 时 应 交 回 临 时 身 份 证 。', '问 题 ： 青 行 灯 吸 魂 灯 吸 几 点 鬼 火? 原 文 ： 首 页 → 游 戏 攻 略 → 手 机 游 戏 攻 略 → 阴 阳 师 青 行 灯 的 技 能 吸 魂 灯 每 次 吸 取 敌 方 几 点 鬼 火 | 阴 阳 师 青 行 灯 的 技 能 吸 魂 灯 每 次 吸 取 敌 方 几 点 鬼 火 呢, 灯 姐 很 多 玩 家 都 喜 欢, 但 是 吸 魂 灯 每 次 吸 取 敌 方 几 点 鬼 火 可 能 很 少 有 玩 家 去 在 意 。 | 技 能 描 述 : 青 行 灯 燃 起 鬼 灯, 攻 击 敌 方 群 体, 造 成 攻 击 158 % 的 伤 害, 有 30 % 概 率 吸 取 敌 方 1 点 鬼 火 。 | ( 8 ) 阴 阳 师 手 游 主 题 壁 纸 网 易 阴 阳 师 手 游 是 今 年 最 热 门 的 游 戏 之 一, 很 多 小 伙 伴 喜 欢 这 款 游 戏 是 因 为 精 美 画 质 和 精 心 绘 制 的 式 神 。 东 坡 为 大 家 带 来 阴 阳 师 手 游 主 题 壁 纸 大 全, 大 家 可 以 找 到 自 己 喜 欢 的 式 神 的 主 题 壁 纸 哦!... 更 多 > > | ( 27 ) 阴 阳 师 现 世 召 唤 素 材 阴 阳 师 现 世 召 唤 可 以 说 是 很 多 的 喜 欢 玩 阴 阳 师 的 玩 家 都 是 喜 欢 玩 的, 但 是 还 是 有 很 多 的 玩 家 都 是 不 知 道 怎 么 玩 这 个 的, 有 不 少 的 玩 家 是 需 要 阴 阳 师 现 世 召 唤 素 材 的, 也 有 的 是 需 要 阴 阳 师 现 世 召 唤 攻 略 以 及 技 巧 的, 现 在 本 站 就 全 方 面 的 为 你 提 供 这 方 面 的 服 务, 欢 迎 来 免 费 的 下 载!... 更 多 > > | ( 31 ) 阴 阳 师 辅 助 阴 阳 师 手 游 是 一 款 和 风 唯 美 奇 幻 手 游 。 游 戏 玩 法 特 别, 伤 害 值 计 算 、 升 级 、 升 星 、 打 副 本 等 等 都 比 较 耗 费 时 间 和 精 力, 所 有 就 有 了 很 多 阴 阳 师 辅 助 工 具 、 软 件 等 等, 帮 助 大 家 计 算 和 分 析 阴 阳 师 手 游 里 的 一 些 数', '问 题 ： 华 为 p10 销 量? 原 文 ： 中 关 村 在 线 消 息 : 昨 天 下 午 华 为 在 上 海 发 布 了 旗 舰 系 列 手 机 /, 华 为 最 低 版 本 ( + ) 售 价 3788 元, + 版 本 的 4288 元, 华 为 的 + 版 售 价 4388 元, + 版 的 为 4888 元, 最 高 配 的 + 版 售 价 则 达 到 5588 元, 这 是 国 产 旗 舰 系 列 手 机 首 次 超 过 5000 元 档 。 | 与 在 发 布 时 在 欧 洲 的 价 格 对 比 看, 3788 元 起 还 算 厚 道, 只 是 比 华 为 自 家 的 系 列 比 又 贵 了 一 些 。 很 多 人 会 问, 同 样 是 麒 麟 960 处 理 器, 同 样 是 徕 卡 双 摄, 为 何 更 贵 一 些? | 对 比, 华 为 消 费 业 务 余 承 东 表 示 手 机 重 要 元 器 件 成 本 上 升 是 系 列 涨 价 的 一 个 因 素, 另 一 方 面, 华 为 砍 掉 了 系 列 中 的 低 配, 即 去 掉 了 容 量 的 版 本, 直 接 从 存 储 容 量 开 始 。 | 第 三, 作 为 华 为 手 机 业 务 的 长 期 合 作 伙 伴, 徕 卡 在 华 为 手 机 中 扮 演 着 重 要 的 角 色 。 余 承 东 也 坦 言, 每 台 手 机 的 利 润 徕 卡 都 有 份, 只 是 具 体 多 少 不 便 透 露 。 除 了 摄 像 头, 华 为 系 列 的 钻 雕 工 艺 也 花 了 重 金 打 造, 以 突 出 时 尚 感 。 | 昨 天 18 : 08 分 起, 华 为 系 列 手 机 已 经 在 线 上 开 启 预 约 、 线 下 抢 先 发 售 。 截 至 凌 晨 12 : 00, 在 京 东 商 城 的 销 量 已 破 亿 。 可 以 说, 这 也 是 个 不 错 的 开 始 。 | 华 为 系 列 3788 - 5588 元 售 价, 使 人 免 不 了 会 拿 它 与 苹 果 相 比, 对 于 与 苹 果 的 差 别, 余 承 东 在 发 布 会 后 接 受 媒 体 采 访 时', '问 题 ： 华 为 p10 销 量? 原 文 ： 中 关 村 在 线 消 息 : 昨 天 下 午 华 为 在 上 海 发 布 了 旗 舰 系 列 手 机 /, 华 为 最 低 版 本 ( + ) 售 价 3788 元, + 版 本 的 4288 元, 华 为 的 + 版 售 价 4388 元, + 版 的 为 4888 元, 最 高 配 的 + 版 售 价 则 达 到 5588 元, 这 是 国 产 旗 舰 系 列 手 机 首 次 超 过 5000 元 档 。 | 与 在 发 布 时 在 欧 洲 的 价 格 对 比 看, 3788 元 起 还 算 厚 道, 只 是 比 华 为 自 家 的 系 列 比 又 贵 了 一 些 。 很 多 人 会 问, 同 样 是 麒 麟 960 处 理 器, 同 样 是 徕 卡 双 摄, 为 何 更 贵 一 些? | 对 比, 华 为 消 费 业 务 余 承 东 表 示 手 机 重 要 元 器 件 成 本 上 升 是 系 列 涨 价 的 一 个 因 素, 另 一 方 面, 华 为 砍 掉 了 系 列 中 的 低 配, 即 去 掉 了 容 量 的 版 本, 直 接 从 存 储 容 量 开 始 。 | 第 三, 作 为 华 为 手 机 业 务 的 长 期 合 作 伙 伴, 徕 卡 在 华 为 手 机 中 扮 演 着 重 要 的 角 色 。 余 承 东 也 坦 言, 每 台 手 机 的 利 润 徕 卡 都 有 份, 只 是 具 体 多 少 不 便 透 露 。 除 了 摄 像 头, 华 为 系 列 的 钻 雕 工 艺 也 花 了 重 金 打 造, 以 突 出 时 尚 感 。 | 昨 天 18 : 08 分 起, 华 为 系 列 手 机 已 经 在 线 上 开 启 预 约 、 线 下 抢 先 发 售 。 截 至 凌 晨 12 : 00, 在 京 东 商 城 的 销 量 已 破 亿 。 可 以 说, 这 也 是 个 不 错 的 开 始 。 | 华 为 系 列 3788 - 5588 元 售 价, 使 人 免 不 了 会 拿 它 与 苹 果 相 比, 对 于 与 苹 果 的 差 别, 余 承 东 在 发 布 会 后 接 受 媒 体 采 访 时']\n",
            "output: ['extra0 extra1 extra2 extra3 extra4 extra5 extra6 extra7 extra8 extra9 extra10 extra11 extra12 extra13 extra14 extra15', 'extra0 extra1 extra2 extra3 extra4 extra5 extra6 extra7 extra20 extra21 extra22 extra23 extra24 extra11', 'extra0 extra1 extra2 extra3 extra4 extra5 extra6 extra7 extra20 extra21 extra22 extra23 extra24 extra11', 'extra0 extra1 extra2 extra3 extra4 extra5 extra6 extra7 extra8 extra9 extra10 extra11 extra12 extra13 extra14', 'extra0 extra1 extra2 extra3 extra4 extra5 extra6 extra7 extra8 extra9 extra10 extra11 extra12 extra13 extra14', 'extra0 extra1 extra2 extra3 extra4 extra5 extra6 extra7 extra8 extra9 extra10 extra11 extra12 extra13 extra14', 'extra0 extra1 extra2 extra3 extra4 extra5 extra6 extra7 extra8 extra9 extra10 extra11 extra12 extra13', 'extra0 extra1 extra2 extra3 extra4 extra5 extra6 extra7 extra8 extra9 extra10 extra11 extra12 extra13 extra14 extra15', 'extra0 extra1 extra2 extra3 extra4 extra5 extra6 extra7 extra8 extra9 extra10 extra11 extra12 extra13 extra14', 'extra0 extra1 extra2 extra3 extra4 extra5 extra6 extra7 extra8 extra9 extra10 extra11 extra12 extra13 extra14 extra9', 'extra0 extra1 extra2 extra3 extra4 extra5 extra6 extra7 extra8 extra9 extra10 extra11 extra12 extra13 extra14', 'extra0 extra1 extra2 extra3 extra4 extra5 extra6 extra7 extra8 extra9 extra10 extra11 extra12 extra13', 'extra0 extra1 extra2 extra3 extra4 extra5 extra6 extra7 extra8 extra9 extra10 extra11 extra12 extra13 extra14 extra9', 'extra0 extra1 extra2 extra3 extra4 extra5 extra6 extra7 extra8 extra9 extra10 extra11 extra12 extra13 extra14', 'extra0 extra1 extra2 extra3 extra4 extra5 extra6 extra7 extra8 extra9 extra10 extra11 extra12 extra13 extra14', 'extra0 extra1 extra2 extra3 extra4 extra5 extra6 extra7 extra8 extra9 extra10 extra11 extra12 extra13 extra14', 'extra0 extra1 extra2 extra3 extra4 extra5 extra6 extra7 extra8 extra9 extra10 extra11 extra12 extra13 extra14', 'extra0 extra1 extra2 extra3 extra4 extra5 extra6 extra7 extra8 extra9 extra10 extra11 extra12 extra13 extra14 extra15', 'extra0 extra1 extra2 extra3 extra4 extra5 extra6 extra7 extra8 extra9 extra10 extra11 extra12 extra13 extra14 extra15', 'extra0 extra1 extra2 extra3 extra4 extra5 extra6 extra7 extra8 extra9 extra10 extra11 extra12 extra13 extra14 extra15', 'extra0 extra1 extra2 extra3 extra4 extra5 extra6 extra7 extra8 extra9 extra10 extra11 extra12 extra13', 'extra0 extra1 extra2 extra3 extra4 extra5 extra6 extra7 extra8 extra9 extra10 extra11 extra12 extra13', 'extra0 extra1 extra2 extra3 extra4 extra5 extra6 extra7 extra8 extra9 extra10 extra11 extra12 extra13', 'extra0 extra1 extra2 extra3 extra4 extra5 extra6 extra7 extra8 extra9 extra10 extra11 extra12 extra13', 'extra0 extra1 extra2 extra3 extra4 extra5 extra6 extra7 extra8 extra9 extra10 extra11 extra12 extra13', 'extra0 extra1 extra2 extra3 extra4 extra5 extra6 extra7 extra8 extra9 extra10 extra11 extra12 extra13', 'extra0 extra1 extra2 extra3 extra4 extra5 extra6 extra7 extra8 extra9 extra10 extra11 extra12 extra13', 'extra0 extra1 extra2 extra3 extra4 extra5 extra6 extra7 extra8 extra9 extra10 extra11 extra12 extra13', 'extra0 extra1 extra2 extra3 extra4 extra5 extra6 extra7 extra8 extra9 extra10 extra11 extra12 extra13 extra14', 'extra0 extra1 extra2 extra3 extra4 extra5 extra6 extra7 extra8 extra9 extra10 extra11 extra12 extra13 extra14', 'extra0 extra1 extra2 extra3 extra4 extra5 extra6 extra7 extra8 extra9 extra10 extra11 extra12 extra13', 'extra0 extra1 extra2 extra3 extra4 extra5 extra6 extra7 extra8 extra9 extra10 extra11 extra12 extra13']\n"
          ]
        },
        {
          "output_type": "execute_result",
          "data": {
            "text/plain": [
              "(0.0, 0.0, 0.0, 0.0)"
            ]
          },
          "metadata": {},
          "execution_count": 122
        }
      ],
      "source": [
        "test_data = GenQA(dev_data_address)\n",
        "test_dataloader = DataLoader(test_data, batch_size=test_batch_size, shuffle=False, collate_fn=collote_fn)\n",
        "\n",
        "test_loop(test_dataloader, model)"
      ]
    },
    {
      "cell_type": "code",
      "execution_count": 130,
      "metadata": {
        "id": "byUCeeMq3r7v"
      },
      "outputs": [],
      "source": [
        "import matplotlib.pyplot as plt\n",
        "import numpy as np\n",
        "\n",
        "def save_data_and_plot(data, txt_file_path, img_file_path):\n",
        "    # ===================== 写入文件部分 =====================\n",
        "    # 追加写入数据（自动创建文件）\n",
        "    with open(txt_file_path, 'a') as f:\n",
        "        # 将数字转为字符串并换行写入\n",
        "        f.write('\\n'.join(map(str, data)))\n",
        "        f.write('\\n')  # 添加换行符分隔不同写入批次\n",
        "\n",
        "    # ===================== 读取文件部分 =====================\n",
        "    # 从文件读取所有数字\n",
        "    loaded_data = []\n",
        "    try:\n",
        "        with open(txt_file_path, 'r') as f:\n",
        "            for line in f:\n",
        "                # 去除空白字符并尝试转换为浮点数\n",
        "                cleaned_line = line.strip()\n",
        "                if cleaned_line:\n",
        "                    loaded_data.append(float(cleaned_line))\n",
        "    except FileNotFoundError:\n",
        "        print(\"错误：文件不存在\")\n",
        "        exit()\n",
        "\n",
        "    # ===================== 绘图部分 =====================\n",
        "    plt.figure(figsize=(10, 6))\n",
        "    plt.plot(loaded_data,\n",
        "            color='green',\n",
        "            linestyle='--',\n",
        "            marker='s',\n",
        "            markersize=8,\n",
        "            linewidth=2)\n",
        "\n",
        "    # 图表装饰\n",
        "    plt.title(\"数值变化曲线\", fontsize=14, pad=20)\n",
        "    plt.xlabel(\"数据索引\", fontsize=12, labelpad=10)\n",
        "    plt.ylabel(\"测量值\", fontsize=12, labelpad=10)\n",
        "    plt.grid(True, alpha=0.4, linestyle=':')\n",
        "\n",
        "    # 自动调整坐标轴范围\n",
        "    plt.xlim(0, len(loaded_data)-1)\n",
        "    plt.ylim(min(loaded_data)-1, max(loaded_data)+1)\n",
        "\n",
        "    # 保存和显示\n",
        "    plt.savefig(img_file_path, dpi=300, bbox_inches='tight')\n",
        "    plt.close()  # 关闭图表释放内存\n",
        "\n",
        "    print(\"操作结果：\")\n",
        "    print(f\"- 数据已保存至 {txt_file_path}\")\n",
        "    print(f\"- 生成曲线图：{img_file_path}\")\n",
        "    print(f\"- 加载数据量：{len(loaded_data)} 条\")"
      ]
    },
    {
      "cell_type": "code",
      "execution_count": 131,
      "metadata": {
        "id": "qFFOYmlqNsLB"
      },
      "outputs": [],
      "source": [
        "clean_cuda(device)"
      ]
    },
    {
      "cell_type": "code",
      "execution_count": 134,
      "metadata": {
        "colab": {
          "base_uri": "https://localhost:8080/",
          "height": 486,
          "referenced_widgets": [
            "3f1a19328231422d9d2f55ee7705e852",
            "691b7633266748dba9d2b2762ab0a4ea",
            "88ccfcd9aa0b4353b6c2ed88af0f8a11",
            "4e9ea553489f40b4be08eedbcfe1416f",
            "e65fe9c8e1c449bf9d96bdcb83c2c53d",
            "7cd6c424b21641dfab23f4431503473d",
            "a7bd8737e32642768bdbab66c96bc545",
            "85a689a2d28340e4b83ea02c5a27c1e1",
            "1f8d8ad34ec7406a8ac6584f302e7460",
            "cbe53c1b5d3c4a8a83765d2df6ef57b0",
            "4d0de570d3c74e07852521af0c771119"
          ]
        },
        "id": "2UZZUYopsts1",
        "outputId": "6fefbd60-0904-43f2-fa00-9372021cd558"
      },
      "outputs": [
        {
          "output_type": "stream",
          "name": "stdout",
          "text": [
            "Epoch 1/31\n",
            "-------------------------------\n",
            "可用显存: 12.56 GB\n"
          ]
        },
        {
          "output_type": "display_data",
          "data": {
            "text/plain": [
              "  0%|          | 0/817 [00:00<?, ?it/s]"
            ],
            "application/vnd.jupyter.widget-view+json": {
              "version_major": 2,
              "version_minor": 0,
              "model_id": "3f1a19328231422d9d2f55ee7705e852"
            }
          },
          "metadata": {}
        },
        {
          "output_type": "error",
          "ename": "OutOfMemoryError",
          "evalue": "CUDA out of memory. Tried to allocate 24.00 MiB. GPU 0 has a total capacity of 14.74 GiB of which 10.12 MiB is free. Process 2506 has 14.73 GiB memory in use. Of the allocated memory 14.42 GiB is allocated by PyTorch, and 185.08 MiB is reserved by PyTorch but unallocated. If reserved but unallocated memory is large try setting PYTORCH_CUDA_ALLOC_CONF=expandable_segments:True to avoid fragmentation.  See documentation for Memory Management  (https://pytorch.org/docs/stable/notes/cuda.html#environment-variables)",
          "traceback": [
            "\u001b[0;31m---------------------------------------------------------------------------\u001b[0m",
            "\u001b[0;31mOutOfMemoryError\u001b[0m                          Traceback (most recent call last)",
            "\u001b[0;32m<ipython-input-134-a45f10ffc6ce>\u001b[0m in \u001b[0;36m<cell line: 0>\u001b[0;34m()\u001b[0m\n\u001b[1;32m     38\u001b[0m     \u001b[0mprint\u001b[0m\u001b[0;34m(\u001b[0m\u001b[0;34mf\"可用显存: {torch.cuda.mem_get_info()[0]/1024**3:.2f} GB\"\u001b[0m\u001b[0;34m)\u001b[0m\u001b[0;34m\u001b[0m\u001b[0;34m\u001b[0m\u001b[0m\n\u001b[1;32m     39\u001b[0m \u001b[0;34m\u001b[0m\u001b[0m\n\u001b[0;32m---> 40\u001b[0;31m     \u001b[0mtotal_loss\u001b[0m\u001b[0;34m,\u001b[0m \u001b[0mloss_record_step\u001b[0m \u001b[0;34m=\u001b[0m \u001b[0mtrain_loop\u001b[0m\u001b[0;34m(\u001b[0m\u001b[0mtrain_dataloader\u001b[0m\u001b[0;34m,\u001b[0m \u001b[0mmodel\u001b[0m\u001b[0;34m,\u001b[0m \u001b[0moptimizer\u001b[0m\u001b[0;34m,\u001b[0m \u001b[0mlr_scheduler\u001b[0m\u001b[0;34m,\u001b[0m \u001b[0mt\u001b[0m\u001b[0;34m+\u001b[0m\u001b[0;36m1\u001b[0m\u001b[0;34m,\u001b[0m \u001b[0mtotal_loss\u001b[0m\u001b[0;34m)\u001b[0m\u001b[0;34m\u001b[0m\u001b[0;34m\u001b[0m\u001b[0m\n\u001b[0m\u001b[1;32m     41\u001b[0m     \u001b[0msave_data_and_plot\u001b[0m\u001b[0;34m(\u001b[0m\u001b[0mloss_record_step\u001b[0m\u001b[0;34m,\u001b[0m \u001b[0mtxt_file_path\u001b[0m\u001b[0;34m,\u001b[0m \u001b[0mimg_file_path\u001b[0m\u001b[0;34m)\u001b[0m\u001b[0;34m\u001b[0m\u001b[0;34m\u001b[0m\u001b[0m\n\u001b[1;32m     42\u001b[0m \u001b[0;34m\u001b[0m\u001b[0m\n",
            "\u001b[0;32m<ipython-input-126-474f9bf7c9dc>\u001b[0m in \u001b[0;36mtrain_loop\u001b[0;34m(dataloader, model, optimizer, lr_scheduler, epoch, total_loss)\u001b[0m\n\u001b[1;32m     10\u001b[0m     \u001b[0mloss_record_step\u001b[0m \u001b[0;34m=\u001b[0m \u001b[0;34m[\u001b[0m\u001b[0;34m]\u001b[0m\u001b[0;34m\u001b[0m\u001b[0;34m\u001b[0m\u001b[0m\n\u001b[1;32m     11\u001b[0m     \u001b[0;32mfor\u001b[0m \u001b[0mbatch\u001b[0m\u001b[0;34m,\u001b[0m \u001b[0mbatch_data\u001b[0m \u001b[0;32min\u001b[0m \u001b[0menumerate\u001b[0m\u001b[0;34m(\u001b[0m\u001b[0mdataloader\u001b[0m\u001b[0;34m,\u001b[0m \u001b[0mstart\u001b[0m\u001b[0;34m=\u001b[0m\u001b[0;36m1\u001b[0m\u001b[0;34m)\u001b[0m\u001b[0;34m:\u001b[0m\u001b[0;34m\u001b[0m\u001b[0;34m\u001b[0m\u001b[0m\n\u001b[0;32m---> 12\u001b[0;31m         outputs = model(input_ids=batch_data[\"input_ids\"].to(device),\n\u001b[0m\u001b[1;32m     13\u001b[0m                 \u001b[0mattention_mask\u001b[0m\u001b[0;34m=\u001b[0m\u001b[0mbatch_data\u001b[0m\u001b[0;34m[\u001b[0m\u001b[0;34m\"attention_mask\"\u001b[0m\u001b[0;34m]\u001b[0m\u001b[0;34m.\u001b[0m\u001b[0mto\u001b[0m\u001b[0;34m(\u001b[0m\u001b[0mdevice\u001b[0m\u001b[0;34m)\u001b[0m\u001b[0;34m,\u001b[0m\u001b[0;34m\u001b[0m\u001b[0;34m\u001b[0m\u001b[0m\n\u001b[1;32m     14\u001b[0m                 \u001b[0mdecoder_input_ids\u001b[0m\u001b[0;34m=\u001b[0m\u001b[0mbatch_data\u001b[0m\u001b[0;34m[\u001b[0m\u001b[0;34m\"decoder_input_ids\"\u001b[0m\u001b[0;34m]\u001b[0m\u001b[0;34m.\u001b[0m\u001b[0mto\u001b[0m\u001b[0;34m(\u001b[0m\u001b[0mdevice\u001b[0m\u001b[0;34m)\u001b[0m\u001b[0;34m,\u001b[0m\u001b[0;34m\u001b[0m\u001b[0;34m\u001b[0m\u001b[0m\n",
            "\u001b[0;32m/usr/local/lib/python3.11/dist-packages/torch/nn/modules/module.py\u001b[0m in \u001b[0;36m_wrapped_call_impl\u001b[0;34m(self, *args, **kwargs)\u001b[0m\n\u001b[1;32m   1734\u001b[0m             \u001b[0;32mreturn\u001b[0m \u001b[0mself\u001b[0m\u001b[0;34m.\u001b[0m\u001b[0m_compiled_call_impl\u001b[0m\u001b[0;34m(\u001b[0m\u001b[0;34m*\u001b[0m\u001b[0margs\u001b[0m\u001b[0;34m,\u001b[0m \u001b[0;34m**\u001b[0m\u001b[0mkwargs\u001b[0m\u001b[0;34m)\u001b[0m  \u001b[0;31m# type: ignore[misc]\u001b[0m\u001b[0;34m\u001b[0m\u001b[0;34m\u001b[0m\u001b[0m\n\u001b[1;32m   1735\u001b[0m         \u001b[0;32melse\u001b[0m\u001b[0;34m:\u001b[0m\u001b[0;34m\u001b[0m\u001b[0;34m\u001b[0m\u001b[0m\n\u001b[0;32m-> 1736\u001b[0;31m             \u001b[0;32mreturn\u001b[0m \u001b[0mself\u001b[0m\u001b[0;34m.\u001b[0m\u001b[0m_call_impl\u001b[0m\u001b[0;34m(\u001b[0m\u001b[0;34m*\u001b[0m\u001b[0margs\u001b[0m\u001b[0;34m,\u001b[0m \u001b[0;34m**\u001b[0m\u001b[0mkwargs\u001b[0m\u001b[0;34m)\u001b[0m\u001b[0;34m\u001b[0m\u001b[0;34m\u001b[0m\u001b[0m\n\u001b[0m\u001b[1;32m   1737\u001b[0m \u001b[0;34m\u001b[0m\u001b[0m\n\u001b[1;32m   1738\u001b[0m     \u001b[0;31m# torchrec tests the code consistency with the following code\u001b[0m\u001b[0;34m\u001b[0m\u001b[0;34m\u001b[0m\u001b[0m\n",
            "\u001b[0;32m/usr/local/lib/python3.11/dist-packages/torch/nn/modules/module.py\u001b[0m in \u001b[0;36m_call_impl\u001b[0;34m(self, *args, **kwargs)\u001b[0m\n\u001b[1;32m   1745\u001b[0m                 \u001b[0;32mor\u001b[0m \u001b[0m_global_backward_pre_hooks\u001b[0m \u001b[0;32mor\u001b[0m \u001b[0m_global_backward_hooks\u001b[0m\u001b[0;34m\u001b[0m\u001b[0;34m\u001b[0m\u001b[0m\n\u001b[1;32m   1746\u001b[0m                 or _global_forward_hooks or _global_forward_pre_hooks):\n\u001b[0;32m-> 1747\u001b[0;31m             \u001b[0;32mreturn\u001b[0m \u001b[0mforward_call\u001b[0m\u001b[0;34m(\u001b[0m\u001b[0;34m*\u001b[0m\u001b[0margs\u001b[0m\u001b[0;34m,\u001b[0m \u001b[0;34m**\u001b[0m\u001b[0mkwargs\u001b[0m\u001b[0;34m)\u001b[0m\u001b[0;34m\u001b[0m\u001b[0;34m\u001b[0m\u001b[0m\n\u001b[0m\u001b[1;32m   1748\u001b[0m \u001b[0;34m\u001b[0m\u001b[0m\n\u001b[1;32m   1749\u001b[0m         \u001b[0mresult\u001b[0m \u001b[0;34m=\u001b[0m \u001b[0;32mNone\u001b[0m\u001b[0;34m\u001b[0m\u001b[0;34m\u001b[0m\u001b[0m\n",
            "\u001b[0;32m/usr/local/lib/python3.11/dist-packages/transformers/models/t5/modeling_t5.py\u001b[0m in \u001b[0;36mforward\u001b[0;34m(self, input_ids, attention_mask, decoder_input_ids, decoder_attention_mask, head_mask, decoder_head_mask, cross_attn_head_mask, encoder_outputs, past_key_values, inputs_embeds, decoder_inputs_embeds, labels, use_cache, output_attentions, output_hidden_states, return_dict, cache_position)\u001b[0m\n\u001b[1;32m   1889\u001b[0m \u001b[0;34m\u001b[0m\u001b[0m\n\u001b[1;32m   1890\u001b[0m         \u001b[0;31m# Decode\u001b[0m\u001b[0;34m\u001b[0m\u001b[0;34m\u001b[0m\u001b[0m\n\u001b[0;32m-> 1891\u001b[0;31m         decoder_outputs = self.decoder(\n\u001b[0m\u001b[1;32m   1892\u001b[0m             \u001b[0minput_ids\u001b[0m\u001b[0;34m=\u001b[0m\u001b[0mdecoder_input_ids\u001b[0m\u001b[0;34m,\u001b[0m\u001b[0;34m\u001b[0m\u001b[0;34m\u001b[0m\u001b[0m\n\u001b[1;32m   1893\u001b[0m             \u001b[0mattention_mask\u001b[0m\u001b[0;34m=\u001b[0m\u001b[0mdecoder_attention_mask\u001b[0m\u001b[0;34m,\u001b[0m\u001b[0;34m\u001b[0m\u001b[0;34m\u001b[0m\u001b[0m\n",
            "\u001b[0;32m/usr/local/lib/python3.11/dist-packages/torch/nn/modules/module.py\u001b[0m in \u001b[0;36m_wrapped_call_impl\u001b[0;34m(self, *args, **kwargs)\u001b[0m\n\u001b[1;32m   1734\u001b[0m             \u001b[0;32mreturn\u001b[0m \u001b[0mself\u001b[0m\u001b[0;34m.\u001b[0m\u001b[0m_compiled_call_impl\u001b[0m\u001b[0;34m(\u001b[0m\u001b[0;34m*\u001b[0m\u001b[0margs\u001b[0m\u001b[0;34m,\u001b[0m \u001b[0;34m**\u001b[0m\u001b[0mkwargs\u001b[0m\u001b[0;34m)\u001b[0m  \u001b[0;31m# type: ignore[misc]\u001b[0m\u001b[0;34m\u001b[0m\u001b[0;34m\u001b[0m\u001b[0m\n\u001b[1;32m   1735\u001b[0m         \u001b[0;32melse\u001b[0m\u001b[0;34m:\u001b[0m\u001b[0;34m\u001b[0m\u001b[0;34m\u001b[0m\u001b[0m\n\u001b[0;32m-> 1736\u001b[0;31m             \u001b[0;32mreturn\u001b[0m \u001b[0mself\u001b[0m\u001b[0;34m.\u001b[0m\u001b[0m_call_impl\u001b[0m\u001b[0;34m(\u001b[0m\u001b[0;34m*\u001b[0m\u001b[0margs\u001b[0m\u001b[0;34m,\u001b[0m \u001b[0;34m**\u001b[0m\u001b[0mkwargs\u001b[0m\u001b[0;34m)\u001b[0m\u001b[0;34m\u001b[0m\u001b[0;34m\u001b[0m\u001b[0m\n\u001b[0m\u001b[1;32m   1737\u001b[0m \u001b[0;34m\u001b[0m\u001b[0m\n\u001b[1;32m   1738\u001b[0m     \u001b[0;31m# torchrec tests the code consistency with the following code\u001b[0m\u001b[0;34m\u001b[0m\u001b[0;34m\u001b[0m\u001b[0m\n",
            "\u001b[0;32m/usr/local/lib/python3.11/dist-packages/torch/nn/modules/module.py\u001b[0m in \u001b[0;36m_call_impl\u001b[0;34m(self, *args, **kwargs)\u001b[0m\n\u001b[1;32m   1745\u001b[0m                 \u001b[0;32mor\u001b[0m \u001b[0m_global_backward_pre_hooks\u001b[0m \u001b[0;32mor\u001b[0m \u001b[0m_global_backward_hooks\u001b[0m\u001b[0;34m\u001b[0m\u001b[0;34m\u001b[0m\u001b[0m\n\u001b[1;32m   1746\u001b[0m                 or _global_forward_hooks or _global_forward_pre_hooks):\n\u001b[0;32m-> 1747\u001b[0;31m             \u001b[0;32mreturn\u001b[0m \u001b[0mforward_call\u001b[0m\u001b[0;34m(\u001b[0m\u001b[0;34m*\u001b[0m\u001b[0margs\u001b[0m\u001b[0;34m,\u001b[0m \u001b[0;34m**\u001b[0m\u001b[0mkwargs\u001b[0m\u001b[0;34m)\u001b[0m\u001b[0;34m\u001b[0m\u001b[0;34m\u001b[0m\u001b[0m\n\u001b[0m\u001b[1;32m   1748\u001b[0m \u001b[0;34m\u001b[0m\u001b[0m\n\u001b[1;32m   1749\u001b[0m         \u001b[0mresult\u001b[0m \u001b[0;34m=\u001b[0m \u001b[0;32mNone\u001b[0m\u001b[0;34m\u001b[0m\u001b[0;34m\u001b[0m\u001b[0m\n",
            "\u001b[0;32m/usr/local/lib/python3.11/dist-packages/transformers/models/t5/modeling_t5.py\u001b[0m in \u001b[0;36mforward\u001b[0;34m(self, input_ids, attention_mask, encoder_hidden_states, encoder_attention_mask, inputs_embeds, head_mask, cross_attn_head_mask, past_key_values, use_cache, output_attentions, output_hidden_states, return_dict, cache_position)\u001b[0m\n\u001b[1;32m   1122\u001b[0m                 )\n\u001b[1;32m   1123\u001b[0m             \u001b[0;32melse\u001b[0m\u001b[0;34m:\u001b[0m\u001b[0;34m\u001b[0m\u001b[0;34m\u001b[0m\u001b[0m\n\u001b[0;32m-> 1124\u001b[0;31m                 layer_outputs = layer_module(\n\u001b[0m\u001b[1;32m   1125\u001b[0m                     \u001b[0mhidden_states\u001b[0m\u001b[0;34m,\u001b[0m\u001b[0;34m\u001b[0m\u001b[0;34m\u001b[0m\u001b[0m\n\u001b[1;32m   1126\u001b[0m                     \u001b[0mattention_mask\u001b[0m\u001b[0;34m=\u001b[0m\u001b[0mcausal_mask\u001b[0m\u001b[0;34m,\u001b[0m\u001b[0;34m\u001b[0m\u001b[0;34m\u001b[0m\u001b[0m\n",
            "\u001b[0;32m/usr/local/lib/python3.11/dist-packages/torch/nn/modules/module.py\u001b[0m in \u001b[0;36m_wrapped_call_impl\u001b[0;34m(self, *args, **kwargs)\u001b[0m\n\u001b[1;32m   1734\u001b[0m             \u001b[0;32mreturn\u001b[0m \u001b[0mself\u001b[0m\u001b[0;34m.\u001b[0m\u001b[0m_compiled_call_impl\u001b[0m\u001b[0;34m(\u001b[0m\u001b[0;34m*\u001b[0m\u001b[0margs\u001b[0m\u001b[0;34m,\u001b[0m \u001b[0;34m**\u001b[0m\u001b[0mkwargs\u001b[0m\u001b[0;34m)\u001b[0m  \u001b[0;31m# type: ignore[misc]\u001b[0m\u001b[0;34m\u001b[0m\u001b[0;34m\u001b[0m\u001b[0m\n\u001b[1;32m   1735\u001b[0m         \u001b[0;32melse\u001b[0m\u001b[0;34m:\u001b[0m\u001b[0;34m\u001b[0m\u001b[0;34m\u001b[0m\u001b[0m\n\u001b[0;32m-> 1736\u001b[0;31m             \u001b[0;32mreturn\u001b[0m \u001b[0mself\u001b[0m\u001b[0;34m.\u001b[0m\u001b[0m_call_impl\u001b[0m\u001b[0;34m(\u001b[0m\u001b[0;34m*\u001b[0m\u001b[0margs\u001b[0m\u001b[0;34m,\u001b[0m \u001b[0;34m**\u001b[0m\u001b[0mkwargs\u001b[0m\u001b[0;34m)\u001b[0m\u001b[0;34m\u001b[0m\u001b[0;34m\u001b[0m\u001b[0m\n\u001b[0m\u001b[1;32m   1737\u001b[0m \u001b[0;34m\u001b[0m\u001b[0m\n\u001b[1;32m   1738\u001b[0m     \u001b[0;31m# torchrec tests the code consistency with the following code\u001b[0m\u001b[0;34m\u001b[0m\u001b[0;34m\u001b[0m\u001b[0m\n",
            "\u001b[0;32m/usr/local/lib/python3.11/dist-packages/torch/nn/modules/module.py\u001b[0m in \u001b[0;36m_call_impl\u001b[0;34m(self, *args, **kwargs)\u001b[0m\n\u001b[1;32m   1745\u001b[0m                 \u001b[0;32mor\u001b[0m \u001b[0m_global_backward_pre_hooks\u001b[0m \u001b[0;32mor\u001b[0m \u001b[0m_global_backward_hooks\u001b[0m\u001b[0;34m\u001b[0m\u001b[0;34m\u001b[0m\u001b[0m\n\u001b[1;32m   1746\u001b[0m                 or _global_forward_hooks or _global_forward_pre_hooks):\n\u001b[0;32m-> 1747\u001b[0;31m             \u001b[0;32mreturn\u001b[0m \u001b[0mforward_call\u001b[0m\u001b[0;34m(\u001b[0m\u001b[0;34m*\u001b[0m\u001b[0margs\u001b[0m\u001b[0;34m,\u001b[0m \u001b[0;34m**\u001b[0m\u001b[0mkwargs\u001b[0m\u001b[0;34m)\u001b[0m\u001b[0;34m\u001b[0m\u001b[0;34m\u001b[0m\u001b[0m\n\u001b[0m\u001b[1;32m   1748\u001b[0m \u001b[0;34m\u001b[0m\u001b[0m\n\u001b[1;32m   1749\u001b[0m         \u001b[0mresult\u001b[0m \u001b[0;34m=\u001b[0m \u001b[0;32mNone\u001b[0m\u001b[0;34m\u001b[0m\u001b[0;34m\u001b[0m\u001b[0m\n",
            "\u001b[0;32m/usr/local/lib/python3.11/dist-packages/transformers/models/t5/modeling_t5.py\u001b[0m in \u001b[0;36mforward\u001b[0;34m(self, hidden_states, attention_mask, position_bias, encoder_hidden_states, encoder_attention_mask, encoder_decoder_position_bias, layer_head_mask, cross_attn_layer_head_mask, past_key_value, use_cache, output_attentions, return_dict, cache_position)\u001b[0m\n\u001b[1;32m    697\u001b[0m         \u001b[0mdo_cross_attention\u001b[0m \u001b[0;34m=\u001b[0m \u001b[0mself\u001b[0m\u001b[0;34m.\u001b[0m\u001b[0mis_decoder\u001b[0m \u001b[0;32mand\u001b[0m \u001b[0mencoder_hidden_states\u001b[0m \u001b[0;32mis\u001b[0m \u001b[0;32mnot\u001b[0m \u001b[0;32mNone\u001b[0m\u001b[0;34m\u001b[0m\u001b[0;34m\u001b[0m\u001b[0m\n\u001b[1;32m    698\u001b[0m         \u001b[0;32mif\u001b[0m \u001b[0mdo_cross_attention\u001b[0m\u001b[0;34m:\u001b[0m\u001b[0;34m\u001b[0m\u001b[0;34m\u001b[0m\u001b[0m\n\u001b[0;32m--> 699\u001b[0;31m             cross_attention_outputs = self.layer[1](\n\u001b[0m\u001b[1;32m    700\u001b[0m                 \u001b[0mhidden_states\u001b[0m\u001b[0;34m,\u001b[0m\u001b[0;34m\u001b[0m\u001b[0;34m\u001b[0m\u001b[0m\n\u001b[1;32m    701\u001b[0m                 \u001b[0mkey_value_states\u001b[0m\u001b[0;34m=\u001b[0m\u001b[0mencoder_hidden_states\u001b[0m\u001b[0;34m,\u001b[0m\u001b[0;34m\u001b[0m\u001b[0;34m\u001b[0m\u001b[0m\n",
            "\u001b[0;32m/usr/local/lib/python3.11/dist-packages/torch/nn/modules/module.py\u001b[0m in \u001b[0;36m_wrapped_call_impl\u001b[0;34m(self, *args, **kwargs)\u001b[0m\n\u001b[1;32m   1734\u001b[0m             \u001b[0;32mreturn\u001b[0m \u001b[0mself\u001b[0m\u001b[0;34m.\u001b[0m\u001b[0m_compiled_call_impl\u001b[0m\u001b[0;34m(\u001b[0m\u001b[0;34m*\u001b[0m\u001b[0margs\u001b[0m\u001b[0;34m,\u001b[0m \u001b[0;34m**\u001b[0m\u001b[0mkwargs\u001b[0m\u001b[0;34m)\u001b[0m  \u001b[0;31m# type: ignore[misc]\u001b[0m\u001b[0;34m\u001b[0m\u001b[0;34m\u001b[0m\u001b[0m\n\u001b[1;32m   1735\u001b[0m         \u001b[0;32melse\u001b[0m\u001b[0;34m:\u001b[0m\u001b[0;34m\u001b[0m\u001b[0;34m\u001b[0m\u001b[0m\n\u001b[0;32m-> 1736\u001b[0;31m             \u001b[0;32mreturn\u001b[0m \u001b[0mself\u001b[0m\u001b[0;34m.\u001b[0m\u001b[0m_call_impl\u001b[0m\u001b[0;34m(\u001b[0m\u001b[0;34m*\u001b[0m\u001b[0margs\u001b[0m\u001b[0;34m,\u001b[0m \u001b[0;34m**\u001b[0m\u001b[0mkwargs\u001b[0m\u001b[0;34m)\u001b[0m\u001b[0;34m\u001b[0m\u001b[0;34m\u001b[0m\u001b[0m\n\u001b[0m\u001b[1;32m   1737\u001b[0m \u001b[0;34m\u001b[0m\u001b[0m\n\u001b[1;32m   1738\u001b[0m     \u001b[0;31m# torchrec tests the code consistency with the following code\u001b[0m\u001b[0;34m\u001b[0m\u001b[0;34m\u001b[0m\u001b[0m\n",
            "\u001b[0;32m/usr/local/lib/python3.11/dist-packages/torch/nn/modules/module.py\u001b[0m in \u001b[0;36m_call_impl\u001b[0;34m(self, *args, **kwargs)\u001b[0m\n\u001b[1;32m   1745\u001b[0m                 \u001b[0;32mor\u001b[0m \u001b[0m_global_backward_pre_hooks\u001b[0m \u001b[0;32mor\u001b[0m \u001b[0m_global_backward_hooks\u001b[0m\u001b[0;34m\u001b[0m\u001b[0;34m\u001b[0m\u001b[0m\n\u001b[1;32m   1746\u001b[0m                 or _global_forward_hooks or _global_forward_pre_hooks):\n\u001b[0;32m-> 1747\u001b[0;31m             \u001b[0;32mreturn\u001b[0m \u001b[0mforward_call\u001b[0m\u001b[0;34m(\u001b[0m\u001b[0;34m*\u001b[0m\u001b[0margs\u001b[0m\u001b[0;34m,\u001b[0m \u001b[0;34m**\u001b[0m\u001b[0mkwargs\u001b[0m\u001b[0;34m)\u001b[0m\u001b[0;34m\u001b[0m\u001b[0;34m\u001b[0m\u001b[0m\n\u001b[0m\u001b[1;32m   1748\u001b[0m \u001b[0;34m\u001b[0m\u001b[0m\n\u001b[1;32m   1749\u001b[0m         \u001b[0mresult\u001b[0m \u001b[0;34m=\u001b[0m \u001b[0;32mNone\u001b[0m\u001b[0;34m\u001b[0m\u001b[0;34m\u001b[0m\u001b[0m\n",
            "\u001b[0;32m/usr/local/lib/python3.11/dist-packages/transformers/models/t5/modeling_t5.py\u001b[0m in \u001b[0;36mforward\u001b[0;34m(self, hidden_states, key_value_states, attention_mask, position_bias, layer_head_mask, past_key_value, use_cache, query_length, output_attentions, cache_position)\u001b[0m\n\u001b[1;32m    627\u001b[0m     ):\n\u001b[1;32m    628\u001b[0m         \u001b[0mnormed_hidden_states\u001b[0m \u001b[0;34m=\u001b[0m \u001b[0mself\u001b[0m\u001b[0;34m.\u001b[0m\u001b[0mlayer_norm\u001b[0m\u001b[0;34m(\u001b[0m\u001b[0mhidden_states\u001b[0m\u001b[0;34m)\u001b[0m\u001b[0;34m\u001b[0m\u001b[0;34m\u001b[0m\u001b[0m\n\u001b[0;32m--> 629\u001b[0;31m         attention_output = self.EncDecAttention(\n\u001b[0m\u001b[1;32m    630\u001b[0m             \u001b[0mnormed_hidden_states\u001b[0m\u001b[0;34m,\u001b[0m\u001b[0;34m\u001b[0m\u001b[0;34m\u001b[0m\u001b[0m\n\u001b[1;32m    631\u001b[0m             \u001b[0mmask\u001b[0m\u001b[0;34m=\u001b[0m\u001b[0mattention_mask\u001b[0m\u001b[0;34m,\u001b[0m\u001b[0;34m\u001b[0m\u001b[0;34m\u001b[0m\u001b[0m\n",
            "\u001b[0;32m/usr/local/lib/python3.11/dist-packages/torch/nn/modules/module.py\u001b[0m in \u001b[0;36m_wrapped_call_impl\u001b[0;34m(self, *args, **kwargs)\u001b[0m\n\u001b[1;32m   1734\u001b[0m             \u001b[0;32mreturn\u001b[0m \u001b[0mself\u001b[0m\u001b[0;34m.\u001b[0m\u001b[0m_compiled_call_impl\u001b[0m\u001b[0;34m(\u001b[0m\u001b[0;34m*\u001b[0m\u001b[0margs\u001b[0m\u001b[0;34m,\u001b[0m \u001b[0;34m**\u001b[0m\u001b[0mkwargs\u001b[0m\u001b[0;34m)\u001b[0m  \u001b[0;31m# type: ignore[misc]\u001b[0m\u001b[0;34m\u001b[0m\u001b[0;34m\u001b[0m\u001b[0m\n\u001b[1;32m   1735\u001b[0m         \u001b[0;32melse\u001b[0m\u001b[0;34m:\u001b[0m\u001b[0;34m\u001b[0m\u001b[0;34m\u001b[0m\u001b[0m\n\u001b[0;32m-> 1736\u001b[0;31m             \u001b[0;32mreturn\u001b[0m \u001b[0mself\u001b[0m\u001b[0;34m.\u001b[0m\u001b[0m_call_impl\u001b[0m\u001b[0;34m(\u001b[0m\u001b[0;34m*\u001b[0m\u001b[0margs\u001b[0m\u001b[0;34m,\u001b[0m \u001b[0;34m**\u001b[0m\u001b[0mkwargs\u001b[0m\u001b[0;34m)\u001b[0m\u001b[0;34m\u001b[0m\u001b[0;34m\u001b[0m\u001b[0m\n\u001b[0m\u001b[1;32m   1737\u001b[0m \u001b[0;34m\u001b[0m\u001b[0m\n\u001b[1;32m   1738\u001b[0m     \u001b[0;31m# torchrec tests the code consistency with the following code\u001b[0m\u001b[0;34m\u001b[0m\u001b[0;34m\u001b[0m\u001b[0m\n",
            "\u001b[0;32m/usr/local/lib/python3.11/dist-packages/torch/nn/modules/module.py\u001b[0m in \u001b[0;36m_call_impl\u001b[0;34m(self, *args, **kwargs)\u001b[0m\n\u001b[1;32m   1745\u001b[0m                 \u001b[0;32mor\u001b[0m \u001b[0m_global_backward_pre_hooks\u001b[0m \u001b[0;32mor\u001b[0m \u001b[0m_global_backward_hooks\u001b[0m\u001b[0;34m\u001b[0m\u001b[0;34m\u001b[0m\u001b[0m\n\u001b[1;32m   1746\u001b[0m                 or _global_forward_hooks or _global_forward_pre_hooks):\n\u001b[0;32m-> 1747\u001b[0;31m             \u001b[0;32mreturn\u001b[0m \u001b[0mforward_call\u001b[0m\u001b[0;34m(\u001b[0m\u001b[0;34m*\u001b[0m\u001b[0margs\u001b[0m\u001b[0;34m,\u001b[0m \u001b[0;34m**\u001b[0m\u001b[0mkwargs\u001b[0m\u001b[0;34m)\u001b[0m\u001b[0;34m\u001b[0m\u001b[0;34m\u001b[0m\u001b[0m\n\u001b[0m\u001b[1;32m   1748\u001b[0m \u001b[0;34m\u001b[0m\u001b[0m\n\u001b[1;32m   1749\u001b[0m         \u001b[0mresult\u001b[0m \u001b[0;34m=\u001b[0m \u001b[0;32mNone\u001b[0m\u001b[0;34m\u001b[0m\u001b[0;34m\u001b[0m\u001b[0m\n",
            "\u001b[0;32m/usr/local/lib/python3.11/dist-packages/transformers/models/t5/modeling_t5.py\u001b[0m in \u001b[0;36mforward\u001b[0;34m(self, hidden_states, mask, key_value_states, position_bias, past_key_value, layer_head_mask, query_length, use_cache, output_attentions, cache_position)\u001b[0m\n\u001b[1;32m    503\u001b[0m         \u001b[0;32melse\u001b[0m\u001b[0;34m:\u001b[0m\u001b[0;34m\u001b[0m\u001b[0;34m\u001b[0m\u001b[0m\n\u001b[1;32m    504\u001b[0m             \u001b[0mkey_states\u001b[0m \u001b[0;34m=\u001b[0m \u001b[0mself\u001b[0m\u001b[0;34m.\u001b[0m\u001b[0mk\u001b[0m\u001b[0;34m(\u001b[0m\u001b[0mcurrent_states\u001b[0m\u001b[0;34m)\u001b[0m\u001b[0;34m\u001b[0m\u001b[0;34m\u001b[0m\u001b[0m\n\u001b[0;32m--> 505\u001b[0;31m             \u001b[0mvalue_states\u001b[0m \u001b[0;34m=\u001b[0m \u001b[0mself\u001b[0m\u001b[0;34m.\u001b[0m\u001b[0mv\u001b[0m\u001b[0;34m(\u001b[0m\u001b[0mcurrent_states\u001b[0m\u001b[0;34m)\u001b[0m\u001b[0;34m\u001b[0m\u001b[0;34m\u001b[0m\u001b[0m\n\u001b[0m\u001b[1;32m    506\u001b[0m             \u001b[0mkey_states\u001b[0m \u001b[0;34m=\u001b[0m \u001b[0mkey_states\u001b[0m\u001b[0;34m.\u001b[0m\u001b[0mview\u001b[0m\u001b[0;34m(\u001b[0m\u001b[0mbatch_size\u001b[0m\u001b[0;34m,\u001b[0m \u001b[0;34m-\u001b[0m\u001b[0;36m1\u001b[0m\u001b[0;34m,\u001b[0m \u001b[0mself\u001b[0m\u001b[0;34m.\u001b[0m\u001b[0mn_heads\u001b[0m\u001b[0;34m,\u001b[0m \u001b[0mself\u001b[0m\u001b[0;34m.\u001b[0m\u001b[0mkey_value_proj_dim\u001b[0m\u001b[0;34m)\u001b[0m\u001b[0;34m.\u001b[0m\u001b[0mtranspose\u001b[0m\u001b[0;34m(\u001b[0m\u001b[0;36m1\u001b[0m\u001b[0;34m,\u001b[0m \u001b[0;36m2\u001b[0m\u001b[0;34m)\u001b[0m\u001b[0;34m\u001b[0m\u001b[0;34m\u001b[0m\u001b[0m\n\u001b[1;32m    507\u001b[0m             \u001b[0mvalue_states\u001b[0m \u001b[0;34m=\u001b[0m \u001b[0mvalue_states\u001b[0m\u001b[0;34m.\u001b[0m\u001b[0mview\u001b[0m\u001b[0;34m(\u001b[0m\u001b[0mbatch_size\u001b[0m\u001b[0;34m,\u001b[0m \u001b[0;34m-\u001b[0m\u001b[0;36m1\u001b[0m\u001b[0;34m,\u001b[0m \u001b[0mself\u001b[0m\u001b[0;34m.\u001b[0m\u001b[0mn_heads\u001b[0m\u001b[0;34m,\u001b[0m \u001b[0mself\u001b[0m\u001b[0;34m.\u001b[0m\u001b[0mkey_value_proj_dim\u001b[0m\u001b[0;34m)\u001b[0m\u001b[0;34m.\u001b[0m\u001b[0mtranspose\u001b[0m\u001b[0;34m(\u001b[0m\u001b[0;36m1\u001b[0m\u001b[0;34m,\u001b[0m \u001b[0;36m2\u001b[0m\u001b[0;34m)\u001b[0m\u001b[0;34m\u001b[0m\u001b[0;34m\u001b[0m\u001b[0m\n",
            "\u001b[0;32m/usr/local/lib/python3.11/dist-packages/torch/nn/modules/module.py\u001b[0m in \u001b[0;36m_wrapped_call_impl\u001b[0;34m(self, *args, **kwargs)\u001b[0m\n\u001b[1;32m   1734\u001b[0m             \u001b[0;32mreturn\u001b[0m \u001b[0mself\u001b[0m\u001b[0;34m.\u001b[0m\u001b[0m_compiled_call_impl\u001b[0m\u001b[0;34m(\u001b[0m\u001b[0;34m*\u001b[0m\u001b[0margs\u001b[0m\u001b[0;34m,\u001b[0m \u001b[0;34m**\u001b[0m\u001b[0mkwargs\u001b[0m\u001b[0;34m)\u001b[0m  \u001b[0;31m# type: ignore[misc]\u001b[0m\u001b[0;34m\u001b[0m\u001b[0;34m\u001b[0m\u001b[0m\n\u001b[1;32m   1735\u001b[0m         \u001b[0;32melse\u001b[0m\u001b[0;34m:\u001b[0m\u001b[0;34m\u001b[0m\u001b[0;34m\u001b[0m\u001b[0m\n\u001b[0;32m-> 1736\u001b[0;31m             \u001b[0;32mreturn\u001b[0m \u001b[0mself\u001b[0m\u001b[0;34m.\u001b[0m\u001b[0m_call_impl\u001b[0m\u001b[0;34m(\u001b[0m\u001b[0;34m*\u001b[0m\u001b[0margs\u001b[0m\u001b[0;34m,\u001b[0m \u001b[0;34m**\u001b[0m\u001b[0mkwargs\u001b[0m\u001b[0;34m)\u001b[0m\u001b[0;34m\u001b[0m\u001b[0;34m\u001b[0m\u001b[0m\n\u001b[0m\u001b[1;32m   1737\u001b[0m \u001b[0;34m\u001b[0m\u001b[0m\n\u001b[1;32m   1738\u001b[0m     \u001b[0;31m# torchrec tests the code consistency with the following code\u001b[0m\u001b[0;34m\u001b[0m\u001b[0;34m\u001b[0m\u001b[0m\n",
            "\u001b[0;32m/usr/local/lib/python3.11/dist-packages/torch/nn/modules/module.py\u001b[0m in \u001b[0;36m_call_impl\u001b[0;34m(self, *args, **kwargs)\u001b[0m\n\u001b[1;32m   1745\u001b[0m                 \u001b[0;32mor\u001b[0m \u001b[0m_global_backward_pre_hooks\u001b[0m \u001b[0;32mor\u001b[0m \u001b[0m_global_backward_hooks\u001b[0m\u001b[0;34m\u001b[0m\u001b[0;34m\u001b[0m\u001b[0m\n\u001b[1;32m   1746\u001b[0m                 or _global_forward_hooks or _global_forward_pre_hooks):\n\u001b[0;32m-> 1747\u001b[0;31m             \u001b[0;32mreturn\u001b[0m \u001b[0mforward_call\u001b[0m\u001b[0;34m(\u001b[0m\u001b[0;34m*\u001b[0m\u001b[0margs\u001b[0m\u001b[0;34m,\u001b[0m \u001b[0;34m**\u001b[0m\u001b[0mkwargs\u001b[0m\u001b[0;34m)\u001b[0m\u001b[0;34m\u001b[0m\u001b[0;34m\u001b[0m\u001b[0m\n\u001b[0m\u001b[1;32m   1748\u001b[0m \u001b[0;34m\u001b[0m\u001b[0m\n\u001b[1;32m   1749\u001b[0m         \u001b[0mresult\u001b[0m \u001b[0;34m=\u001b[0m \u001b[0;32mNone\u001b[0m\u001b[0;34m\u001b[0m\u001b[0;34m\u001b[0m\u001b[0m\n",
            "\u001b[0;32m/usr/local/lib/python3.11/dist-packages/torch/nn/modules/linear.py\u001b[0m in \u001b[0;36mforward\u001b[0;34m(self, input)\u001b[0m\n\u001b[1;32m    123\u001b[0m \u001b[0;34m\u001b[0m\u001b[0m\n\u001b[1;32m    124\u001b[0m     \u001b[0;32mdef\u001b[0m \u001b[0mforward\u001b[0m\u001b[0;34m(\u001b[0m\u001b[0mself\u001b[0m\u001b[0;34m,\u001b[0m \u001b[0minput\u001b[0m\u001b[0;34m:\u001b[0m \u001b[0mTensor\u001b[0m\u001b[0;34m)\u001b[0m \u001b[0;34m->\u001b[0m \u001b[0mTensor\u001b[0m\u001b[0;34m:\u001b[0m\u001b[0;34m\u001b[0m\u001b[0;34m\u001b[0m\u001b[0m\n\u001b[0;32m--> 125\u001b[0;31m         \u001b[0;32mreturn\u001b[0m \u001b[0mF\u001b[0m\u001b[0;34m.\u001b[0m\u001b[0mlinear\u001b[0m\u001b[0;34m(\u001b[0m\u001b[0minput\u001b[0m\u001b[0;34m,\u001b[0m \u001b[0mself\u001b[0m\u001b[0;34m.\u001b[0m\u001b[0mweight\u001b[0m\u001b[0;34m,\u001b[0m \u001b[0mself\u001b[0m\u001b[0;34m.\u001b[0m\u001b[0mbias\u001b[0m\u001b[0;34m)\u001b[0m\u001b[0;34m\u001b[0m\u001b[0;34m\u001b[0m\u001b[0m\n\u001b[0m\u001b[1;32m    126\u001b[0m \u001b[0;34m\u001b[0m\u001b[0m\n\u001b[1;32m    127\u001b[0m     \u001b[0;32mdef\u001b[0m \u001b[0mextra_repr\u001b[0m\u001b[0;34m(\u001b[0m\u001b[0mself\u001b[0m\u001b[0;34m)\u001b[0m \u001b[0;34m->\u001b[0m \u001b[0mstr\u001b[0m\u001b[0;34m:\u001b[0m\u001b[0;34m\u001b[0m\u001b[0;34m\u001b[0m\u001b[0m\n",
            "\u001b[0;31mOutOfMemoryError\u001b[0m: CUDA out of memory. Tried to allocate 24.00 MiB. GPU 0 has a total capacity of 14.74 GiB of which 10.12 MiB is free. Process 2506 has 14.73 GiB memory in use. Of the allocated memory 14.42 GiB is allocated by PyTorch, and 185.08 MiB is reserved by PyTorch but unallocated. If reserved but unallocated memory is large try setting PYTORCH_CUDA_ALLOC_CONF=expandable_segments:True to avoid fragmentation.  See documentation for Memory Management  (https://pytorch.org/docs/stable/notes/cuda.html#environment-variables)"
          ]
        }
      ],
      "source": [
        "from transformers import AdamW, get_scheduler\n",
        "\n",
        "learning_rate = 2e-5\n",
        "epoch_num = 31\n",
        "\n",
        "optimizer = AdamW(model.parameters(), lr=learning_rate)\n",
        "lr_scheduler = get_scheduler(\n",
        "    \"linear\",\n",
        "    optimizer=optimizer,\n",
        "    num_warmup_steps=0,\n",
        "    num_training_steps=epoch_num*len(train_dataloader),\n",
        ")\n",
        "\n",
        "total_loss = 0.\n",
        "best_bleu1 = 0.\n",
        "best_bleu2 = 0.\n",
        "best_bleu3 = 0.\n",
        "best_bleu4 = 0.\n",
        "best_bleu_weighted_add = 0.\n",
        "txt_file_path = save_path_file + '/lossdata.txt'\n",
        "img_file_path = save_path_file + '/lossdata.png'\n",
        "model_parm_path = None\n",
        "\n",
        "train_batch_size = 16\n",
        "test_batch_size = 32\n",
        "\n",
        "train_dataloader = DataLoader(train_data, batch_size=train_batch_size, shuffle=True, collate_fn=collote_fn)\n",
        "valid_dataloader = DataLoader(valid_data, batch_size=test_batch_size, shuffle=False, collate_fn=collote_fn)\n",
        "\n",
        "if model_parm_path is not None:\n",
        "    model.load_state_dict(torch.load(model_parm_path))\n",
        "\n",
        "for t in range(epoch_num):\n",
        "    clean_cuda(device)\n",
        "    print(f\"Epoch {t+1}/{epoch_num}\\n-------------------------------\")\n",
        "\n",
        "    # 查看清理后剩余显存\n",
        "    print(f\"可用显存: {torch.cuda.mem_get_info()[0]/1024**3:.2f} GB\")\n",
        "\n",
        "    total_loss, loss_record_step = train_loop(train_dataloader, model, optimizer, lr_scheduler, t+1, total_loss)\n",
        "    save_data_and_plot(loss_record_step, txt_file_path, img_file_path)\n",
        "\n",
        "    # 查看清理后剩余显存\n",
        "    print(f\"可用显存: {torch.cuda.mem_get_info()[0]/1024**3:.2f} GB\")\n",
        "    valid_bleu1, valid_bleu2, valid_bleu3, valid_bleu4 = test_loop(valid_dataloader, model)\n",
        "    print(f\"BLEU1: {valid_bleu1:>0.2f}\\n\")\n",
        "    if valid_bleu1 > best_bleu1:\n",
        "        best_bleu1 = valid_bleu1\n",
        "    print(f\"BLEU2: {valid_bleu2:>0.2f}\\n\")\n",
        "    if valid_bleu2 > best_bleu2:\n",
        "        best_bleu2 = valid_bleu2\n",
        "    print(f\"BLEU3: {valid_bleu3:>0.2f}\\n\")\n",
        "    if valid_bleu3 > best_bleu3:\n",
        "        best_bleu3 = valid_bleu3\n",
        "    print(f\"BLEU4: {valid_bleu4:>0.2f}\\n\")\n",
        "    if valid_bleu4 > best_bleu4:\n",
        "        best_bleu4 = valid_bleu4\n",
        "\n",
        "    valid_bleu = 0.1 * valid_bleu1 + 0.2 * valid_bleu2 + 0.3 * valid_bleu3 + 0.4 * valid_bleu4\n",
        "    if valid_bleu > best_bleu_weighted_add or t % 5 == 0:\n",
        "        best_bleu_weighted_add = valid_bleu\n",
        "        print('saving new weights...\\n')\n",
        "        torch.save(model.state_dict(), save_path_file + f'/epoch_{t+1}_loss_{loss_record_step[-1]:0.7f}_valid_bleu_{valid_bleu:0.2f}_model_weights.bin')\n",
        "print(\"Done!\")"
      ]
    },
    {
      "cell_type": "code",
      "execution_count": null,
      "metadata": {
        "id": "-HT0VGC_AVML"
      },
      "outputs": [],
      "source": [
        "test_data = GenQA(dev_data_address)\n",
        "test_dataloader = DataLoader(test_data, batch_size=test_batch_size, shuffle=False, collate_fn=collote_fn)\n",
        "\n",
        "import json\n",
        "\n",
        "model.load_state_dict(torch.load('./epoch_16_loss_4.4422817_valid_bleu_0.00_model_weights.bin'))\n",
        "\n",
        "model.eval()\n",
        "with torch.no_grad():\n",
        "    print('evaluating on test set...')\n",
        "    sources, preds, labels = [], [], []\n",
        "    for batch_data in tqdm(test_dataloader):\n",
        "        batch_data = batch_data.to(device)\n",
        "        generated_tokens = model.generate(\n",
        "            batch_data[\"input_ids\"],\n",
        "            attention_mask=batch_data[\"attention_mask\"],\n",
        "            max_length=max_target_length,\n",
        "        ).cpu().numpy()\n",
        "        label_tokens = batch_data[\"labels\"].cpu().numpy()\n",
        "\n",
        "        decoded_sources = tokenizer.batch_decode(\n",
        "            batch_data[\"input_ids\"].cpu().numpy(),\n",
        "            skip_special_tokens=True,\n",
        "            use_source_tokenizer=True\n",
        "        )\n",
        "        # print('decoded_sources', decoded_sources)\n",
        "\n",
        "        decoded_preds = tokenizer.batch_decode(generated_tokens, skip_special_tokens=True)\n",
        "        # print('decoded_preds', decoded_preds)\n",
        "        label_tokens = np.where(label_tokens != -100, label_tokens, tokenizer.pad_token_id)\n",
        "        decoded_labels = tokenizer.batch_decode(label_tokens, skip_special_tokens=True)\n",
        "        # print('decoded_labels', decoded_labels)\n",
        "\n",
        "        sources += [source.strip() for source in decoded_sources]\n",
        "        preds += [pred.strip() for pred in decoded_preds]\n",
        "        labels += [[label.strip()] for label in decoded_labels]\n",
        "    bleu_score = bleu4.corpus_score(preds, labels).score\n",
        "    print(f\"Test BLEU: {bleu_score:>0.2f}\\n\")\n",
        "    results = []\n",
        "    print('saving predicted results...')\n",
        "    for source, pred, label in zip(sources, preds, labels):\n",
        "        results.append({\n",
        "            \"sentence\": source,\n",
        "            \"prediction\": pred,\n",
        "            \"translation\": label[0]\n",
        "        })\n",
        "    with open('test_data_pred.json', 'wt', encoding='utf-8') as f:\n",
        "        for exapmle_result in results:\n",
        "            f.write(json.dumps(exapmle_result, ensure_ascii=False) + '\\n')"
      ]
    },
    {
      "cell_type": "code",
      "execution_count": null,
      "metadata": {
        "id": "SjgJQtFJ-kOE"
      },
      "outputs": [],
      "source": [
        "model.load_state_dict(torch.load('./epoch_16_loss_4.4422817_valid_bleu_0.00_model_weights.bin'))\n",
        "test_dataloader1 = DataLoader(test_data, batch_size=1, shuffle=False, collate_fn=collote_fn)\n",
        "test_loop(test_dataloader1, model, sample_ovserve_ratio=1)\n"
      ]
    },
    {
      "cell_type": "code",
      "execution_count": null,
      "metadata": {
        "id": "YJbD9p_m-kOE"
      },
      "outputs": [],
      "source": [
        "\n"
      ]
    }
  ],
  "metadata": {
    "accelerator": "GPU",
    "colab": {
      "gpuType": "T4",
      "provenance": [],
      "include_colab_link": true
    },
    "kernelspec": {
      "display_name": "Python 3 (ipykernel)",
      "language": "python",
      "name": "python3"
    },
    "language_info": {
      "codemirror_mode": {
        "name": "ipython",
        "version": 3
      },
      "file_extension": ".py",
      "mimetype": "text/x-python",
      "name": "python",
      "nbconvert_exporter": "python",
      "pygments_lexer": "ipython3",
      "version": "3.12.3"
    },
    "widgets": {
      "application/vnd.jupyter.widget-state+json": {
        "9b360dc688ee4e748c5310a32fa03b37": {
          "model_module": "@jupyter-widgets/controls",
          "model_name": "HBoxModel",
          "model_module_version": "1.5.0",
          "state": {
            "_dom_classes": [],
            "_model_module": "@jupyter-widgets/controls",
            "_model_module_version": "1.5.0",
            "_model_name": "HBoxModel",
            "_view_count": null,
            "_view_module": "@jupyter-widgets/controls",
            "_view_module_version": "1.5.0",
            "_view_name": "HBoxView",
            "box_style": "",
            "children": [
              "IPY_MODEL_884f64006e7447fb88bd105bae135a92",
              "IPY_MODEL_d490271a3142413895cf4022ecb897c8",
              "IPY_MODEL_fab7fb44db2a4a9783941dea34f61679"
            ],
            "layout": "IPY_MODEL_5aa7143f14104ccf9974f486cdebbf13"
          }
        },
        "884f64006e7447fb88bd105bae135a92": {
          "model_module": "@jupyter-widgets/controls",
          "model_name": "HTMLModel",
          "model_module_version": "1.5.0",
          "state": {
            "_dom_classes": [],
            "_model_module": "@jupyter-widgets/controls",
            "_model_module_version": "1.5.0",
            "_model_name": "HTMLModel",
            "_view_count": null,
            "_view_module": "@jupyter-widgets/controls",
            "_view_module_version": "1.5.0",
            "_view_name": "HTMLView",
            "description": "",
            "description_tooltip": null,
            "layout": "IPY_MODEL_385eae9b6e764b1183a36be3d91163c5",
            "placeholder": "​",
            "style": "IPY_MODEL_3a8dd41a8cde41d7a6b66458514e8ac1",
            "value": "tokenizer_config.json: 100%"
          }
        },
        "d490271a3142413895cf4022ecb897c8": {
          "model_module": "@jupyter-widgets/controls",
          "model_name": "FloatProgressModel",
          "model_module_version": "1.5.0",
          "state": {
            "_dom_classes": [],
            "_model_module": "@jupyter-widgets/controls",
            "_model_module_version": "1.5.0",
            "_model_name": "FloatProgressModel",
            "_view_count": null,
            "_view_module": "@jupyter-widgets/controls",
            "_view_module_version": "1.5.0",
            "_view_name": "ProgressView",
            "bar_style": "success",
            "description": "",
            "description_tooltip": null,
            "layout": "IPY_MODEL_3b7350ce812b482498abed3e95c43a37",
            "max": 263,
            "min": 0,
            "orientation": "horizontal",
            "style": "IPY_MODEL_7a8ab8bbeec646e783b7965a8ea29fae",
            "value": 263
          }
        },
        "fab7fb44db2a4a9783941dea34f61679": {
          "model_module": "@jupyter-widgets/controls",
          "model_name": "HTMLModel",
          "model_module_version": "1.5.0",
          "state": {
            "_dom_classes": [],
            "_model_module": "@jupyter-widgets/controls",
            "_model_module_version": "1.5.0",
            "_model_name": "HTMLModel",
            "_view_count": null,
            "_view_module": "@jupyter-widgets/controls",
            "_view_module_version": "1.5.0",
            "_view_name": "HTMLView",
            "description": "",
            "description_tooltip": null,
            "layout": "IPY_MODEL_4f3942c9f9fe4a4e98dc27e72feb5e99",
            "placeholder": "​",
            "style": "IPY_MODEL_122a43d7c11248e299cfc44bb6fb41cf",
            "value": " 263/263 [00:00&lt;00:00, 25.3kB/s]"
          }
        },
        "5aa7143f14104ccf9974f486cdebbf13": {
          "model_module": "@jupyter-widgets/base",
          "model_name": "LayoutModel",
          "model_module_version": "1.2.0",
          "state": {
            "_model_module": "@jupyter-widgets/base",
            "_model_module_version": "1.2.0",
            "_model_name": "LayoutModel",
            "_view_count": null,
            "_view_module": "@jupyter-widgets/base",
            "_view_module_version": "1.2.0",
            "_view_name": "LayoutView",
            "align_content": null,
            "align_items": null,
            "align_self": null,
            "border": null,
            "bottom": null,
            "display": null,
            "flex": null,
            "flex_flow": null,
            "grid_area": null,
            "grid_auto_columns": null,
            "grid_auto_flow": null,
            "grid_auto_rows": null,
            "grid_column": null,
            "grid_gap": null,
            "grid_row": null,
            "grid_template_areas": null,
            "grid_template_columns": null,
            "grid_template_rows": null,
            "height": null,
            "justify_content": null,
            "justify_items": null,
            "left": null,
            "margin": null,
            "max_height": null,
            "max_width": null,
            "min_height": null,
            "min_width": null,
            "object_fit": null,
            "object_position": null,
            "order": null,
            "overflow": null,
            "overflow_x": null,
            "overflow_y": null,
            "padding": null,
            "right": null,
            "top": null,
            "visibility": null,
            "width": null
          }
        },
        "385eae9b6e764b1183a36be3d91163c5": {
          "model_module": "@jupyter-widgets/base",
          "model_name": "LayoutModel",
          "model_module_version": "1.2.0",
          "state": {
            "_model_module": "@jupyter-widgets/base",
            "_model_module_version": "1.2.0",
            "_model_name": "LayoutModel",
            "_view_count": null,
            "_view_module": "@jupyter-widgets/base",
            "_view_module_version": "1.2.0",
            "_view_name": "LayoutView",
            "align_content": null,
            "align_items": null,
            "align_self": null,
            "border": null,
            "bottom": null,
            "display": null,
            "flex": null,
            "flex_flow": null,
            "grid_area": null,
            "grid_auto_columns": null,
            "grid_auto_flow": null,
            "grid_auto_rows": null,
            "grid_column": null,
            "grid_gap": null,
            "grid_row": null,
            "grid_template_areas": null,
            "grid_template_columns": null,
            "grid_template_rows": null,
            "height": null,
            "justify_content": null,
            "justify_items": null,
            "left": null,
            "margin": null,
            "max_height": null,
            "max_width": null,
            "min_height": null,
            "min_width": null,
            "object_fit": null,
            "object_position": null,
            "order": null,
            "overflow": null,
            "overflow_x": null,
            "overflow_y": null,
            "padding": null,
            "right": null,
            "top": null,
            "visibility": null,
            "width": null
          }
        },
        "3a8dd41a8cde41d7a6b66458514e8ac1": {
          "model_module": "@jupyter-widgets/controls",
          "model_name": "DescriptionStyleModel",
          "model_module_version": "1.5.0",
          "state": {
            "_model_module": "@jupyter-widgets/controls",
            "_model_module_version": "1.5.0",
            "_model_name": "DescriptionStyleModel",
            "_view_count": null,
            "_view_module": "@jupyter-widgets/base",
            "_view_module_version": "1.2.0",
            "_view_name": "StyleView",
            "description_width": ""
          }
        },
        "3b7350ce812b482498abed3e95c43a37": {
          "model_module": "@jupyter-widgets/base",
          "model_name": "LayoutModel",
          "model_module_version": "1.2.0",
          "state": {
            "_model_module": "@jupyter-widgets/base",
            "_model_module_version": "1.2.0",
            "_model_name": "LayoutModel",
            "_view_count": null,
            "_view_module": "@jupyter-widgets/base",
            "_view_module_version": "1.2.0",
            "_view_name": "LayoutView",
            "align_content": null,
            "align_items": null,
            "align_self": null,
            "border": null,
            "bottom": null,
            "display": null,
            "flex": null,
            "flex_flow": null,
            "grid_area": null,
            "grid_auto_columns": null,
            "grid_auto_flow": null,
            "grid_auto_rows": null,
            "grid_column": null,
            "grid_gap": null,
            "grid_row": null,
            "grid_template_areas": null,
            "grid_template_columns": null,
            "grid_template_rows": null,
            "height": null,
            "justify_content": null,
            "justify_items": null,
            "left": null,
            "margin": null,
            "max_height": null,
            "max_width": null,
            "min_height": null,
            "min_width": null,
            "object_fit": null,
            "object_position": null,
            "order": null,
            "overflow": null,
            "overflow_x": null,
            "overflow_y": null,
            "padding": null,
            "right": null,
            "top": null,
            "visibility": null,
            "width": null
          }
        },
        "7a8ab8bbeec646e783b7965a8ea29fae": {
          "model_module": "@jupyter-widgets/controls",
          "model_name": "ProgressStyleModel",
          "model_module_version": "1.5.0",
          "state": {
            "_model_module": "@jupyter-widgets/controls",
            "_model_module_version": "1.5.0",
            "_model_name": "ProgressStyleModel",
            "_view_count": null,
            "_view_module": "@jupyter-widgets/base",
            "_view_module_version": "1.2.0",
            "_view_name": "StyleView",
            "bar_color": null,
            "description_width": ""
          }
        },
        "4f3942c9f9fe4a4e98dc27e72feb5e99": {
          "model_module": "@jupyter-widgets/base",
          "model_name": "LayoutModel",
          "model_module_version": "1.2.0",
          "state": {
            "_model_module": "@jupyter-widgets/base",
            "_model_module_version": "1.2.0",
            "_model_name": "LayoutModel",
            "_view_count": null,
            "_view_module": "@jupyter-widgets/base",
            "_view_module_version": "1.2.0",
            "_view_name": "LayoutView",
            "align_content": null,
            "align_items": null,
            "align_self": null,
            "border": null,
            "bottom": null,
            "display": null,
            "flex": null,
            "flex_flow": null,
            "grid_area": null,
            "grid_auto_columns": null,
            "grid_auto_flow": null,
            "grid_auto_rows": null,
            "grid_column": null,
            "grid_gap": null,
            "grid_row": null,
            "grid_template_areas": null,
            "grid_template_columns": null,
            "grid_template_rows": null,
            "height": null,
            "justify_content": null,
            "justify_items": null,
            "left": null,
            "margin": null,
            "max_height": null,
            "max_width": null,
            "min_height": null,
            "min_width": null,
            "object_fit": null,
            "object_position": null,
            "order": null,
            "overflow": null,
            "overflow_x": null,
            "overflow_y": null,
            "padding": null,
            "right": null,
            "top": null,
            "visibility": null,
            "width": null
          }
        },
        "122a43d7c11248e299cfc44bb6fb41cf": {
          "model_module": "@jupyter-widgets/controls",
          "model_name": "DescriptionStyleModel",
          "model_module_version": "1.5.0",
          "state": {
            "_model_module": "@jupyter-widgets/controls",
            "_model_module_version": "1.5.0",
            "_model_name": "DescriptionStyleModel",
            "_view_count": null,
            "_view_module": "@jupyter-widgets/base",
            "_view_module_version": "1.2.0",
            "_view_name": "StyleView",
            "description_width": ""
          }
        },
        "ca59dac6eed3460aa687579d9fea309e": {
          "model_module": "@jupyter-widgets/controls",
          "model_name": "HBoxModel",
          "model_module_version": "1.5.0",
          "state": {
            "_dom_classes": [],
            "_model_module": "@jupyter-widgets/controls",
            "_model_module_version": "1.5.0",
            "_model_name": "HBoxModel",
            "_view_count": null,
            "_view_module": "@jupyter-widgets/controls",
            "_view_module_version": "1.5.0",
            "_view_name": "HBoxView",
            "box_style": "",
            "children": [
              "IPY_MODEL_29c26f202aa44b5aa795dbc43bc87666",
              "IPY_MODEL_5faf682c6991496e8bcd0d643626b795",
              "IPY_MODEL_a6b62ae46e68422ea405ffcf477f8433"
            ],
            "layout": "IPY_MODEL_9fccae3bf38e4347937f4a5d14fe4ad4"
          }
        },
        "29c26f202aa44b5aa795dbc43bc87666": {
          "model_module": "@jupyter-widgets/controls",
          "model_name": "HTMLModel",
          "model_module_version": "1.5.0",
          "state": {
            "_dom_classes": [],
            "_model_module": "@jupyter-widgets/controls",
            "_model_module_version": "1.5.0",
            "_model_name": "HTMLModel",
            "_view_count": null,
            "_view_module": "@jupyter-widgets/controls",
            "_view_module_version": "1.5.0",
            "_view_name": "HTMLView",
            "description": "",
            "description_tooltip": null,
            "layout": "IPY_MODEL_89125ce6c6514a6b9bc84825d6fbee0d",
            "placeholder": "​",
            "style": "IPY_MODEL_c6d34fb0c23c41d1a8308372b490d230",
            "value": "config.json: 100%"
          }
        },
        "5faf682c6991496e8bcd0d643626b795": {
          "model_module": "@jupyter-widgets/controls",
          "model_name": "FloatProgressModel",
          "model_module_version": "1.5.0",
          "state": {
            "_dom_classes": [],
            "_model_module": "@jupyter-widgets/controls",
            "_model_module_version": "1.5.0",
            "_model_name": "FloatProgressModel",
            "_view_count": null,
            "_view_module": "@jupyter-widgets/controls",
            "_view_module_version": "1.5.0",
            "_view_name": "ProgressView",
            "bar_style": "success",
            "description": "",
            "description_tooltip": null,
            "layout": "IPY_MODEL_0a83b7acca0f465287d4061669cbbf2b",
            "max": 460,
            "min": 0,
            "orientation": "horizontal",
            "style": "IPY_MODEL_d0fa1493b1a0483c805e4150054f67c2",
            "value": 460
          }
        },
        "a6b62ae46e68422ea405ffcf477f8433": {
          "model_module": "@jupyter-widgets/controls",
          "model_name": "HTMLModel",
          "model_module_version": "1.5.0",
          "state": {
            "_dom_classes": [],
            "_model_module": "@jupyter-widgets/controls",
            "_model_module_version": "1.5.0",
            "_model_name": "HTMLModel",
            "_view_count": null,
            "_view_module": "@jupyter-widgets/controls",
            "_view_module_version": "1.5.0",
            "_view_name": "HTMLView",
            "description": "",
            "description_tooltip": null,
            "layout": "IPY_MODEL_af42f7448ef040ef91722a2ac6b572f4",
            "placeholder": "​",
            "style": "IPY_MODEL_fa6e9b062002422a93d13f4898f1f48f",
            "value": " 460/460 [00:00&lt;00:00, 46.4kB/s]"
          }
        },
        "9fccae3bf38e4347937f4a5d14fe4ad4": {
          "model_module": "@jupyter-widgets/base",
          "model_name": "LayoutModel",
          "model_module_version": "1.2.0",
          "state": {
            "_model_module": "@jupyter-widgets/base",
            "_model_module_version": "1.2.0",
            "_model_name": "LayoutModel",
            "_view_count": null,
            "_view_module": "@jupyter-widgets/base",
            "_view_module_version": "1.2.0",
            "_view_name": "LayoutView",
            "align_content": null,
            "align_items": null,
            "align_self": null,
            "border": null,
            "bottom": null,
            "display": null,
            "flex": null,
            "flex_flow": null,
            "grid_area": null,
            "grid_auto_columns": null,
            "grid_auto_flow": null,
            "grid_auto_rows": null,
            "grid_column": null,
            "grid_gap": null,
            "grid_row": null,
            "grid_template_areas": null,
            "grid_template_columns": null,
            "grid_template_rows": null,
            "height": null,
            "justify_content": null,
            "justify_items": null,
            "left": null,
            "margin": null,
            "max_height": null,
            "max_width": null,
            "min_height": null,
            "min_width": null,
            "object_fit": null,
            "object_position": null,
            "order": null,
            "overflow": null,
            "overflow_x": null,
            "overflow_y": null,
            "padding": null,
            "right": null,
            "top": null,
            "visibility": null,
            "width": null
          }
        },
        "89125ce6c6514a6b9bc84825d6fbee0d": {
          "model_module": "@jupyter-widgets/base",
          "model_name": "LayoutModel",
          "model_module_version": "1.2.0",
          "state": {
            "_model_module": "@jupyter-widgets/base",
            "_model_module_version": "1.2.0",
            "_model_name": "LayoutModel",
            "_view_count": null,
            "_view_module": "@jupyter-widgets/base",
            "_view_module_version": "1.2.0",
            "_view_name": "LayoutView",
            "align_content": null,
            "align_items": null,
            "align_self": null,
            "border": null,
            "bottom": null,
            "display": null,
            "flex": null,
            "flex_flow": null,
            "grid_area": null,
            "grid_auto_columns": null,
            "grid_auto_flow": null,
            "grid_auto_rows": null,
            "grid_column": null,
            "grid_gap": null,
            "grid_row": null,
            "grid_template_areas": null,
            "grid_template_columns": null,
            "grid_template_rows": null,
            "height": null,
            "justify_content": null,
            "justify_items": null,
            "left": null,
            "margin": null,
            "max_height": null,
            "max_width": null,
            "min_height": null,
            "min_width": null,
            "object_fit": null,
            "object_position": null,
            "order": null,
            "overflow": null,
            "overflow_x": null,
            "overflow_y": null,
            "padding": null,
            "right": null,
            "top": null,
            "visibility": null,
            "width": null
          }
        },
        "c6d34fb0c23c41d1a8308372b490d230": {
          "model_module": "@jupyter-widgets/controls",
          "model_name": "DescriptionStyleModel",
          "model_module_version": "1.5.0",
          "state": {
            "_model_module": "@jupyter-widgets/controls",
            "_model_module_version": "1.5.0",
            "_model_name": "DescriptionStyleModel",
            "_view_count": null,
            "_view_module": "@jupyter-widgets/base",
            "_view_module_version": "1.2.0",
            "_view_name": "StyleView",
            "description_width": ""
          }
        },
        "0a83b7acca0f465287d4061669cbbf2b": {
          "model_module": "@jupyter-widgets/base",
          "model_name": "LayoutModel",
          "model_module_version": "1.2.0",
          "state": {
            "_model_module": "@jupyter-widgets/base",
            "_model_module_version": "1.2.0",
            "_model_name": "LayoutModel",
            "_view_count": null,
            "_view_module": "@jupyter-widgets/base",
            "_view_module_version": "1.2.0",
            "_view_name": "LayoutView",
            "align_content": null,
            "align_items": null,
            "align_self": null,
            "border": null,
            "bottom": null,
            "display": null,
            "flex": null,
            "flex_flow": null,
            "grid_area": null,
            "grid_auto_columns": null,
            "grid_auto_flow": null,
            "grid_auto_rows": null,
            "grid_column": null,
            "grid_gap": null,
            "grid_row": null,
            "grid_template_areas": null,
            "grid_template_columns": null,
            "grid_template_rows": null,
            "height": null,
            "justify_content": null,
            "justify_items": null,
            "left": null,
            "margin": null,
            "max_height": null,
            "max_width": null,
            "min_height": null,
            "min_width": null,
            "object_fit": null,
            "object_position": null,
            "order": null,
            "overflow": null,
            "overflow_x": null,
            "overflow_y": null,
            "padding": null,
            "right": null,
            "top": null,
            "visibility": null,
            "width": null
          }
        },
        "d0fa1493b1a0483c805e4150054f67c2": {
          "model_module": "@jupyter-widgets/controls",
          "model_name": "ProgressStyleModel",
          "model_module_version": "1.5.0",
          "state": {
            "_model_module": "@jupyter-widgets/controls",
            "_model_module_version": "1.5.0",
            "_model_name": "ProgressStyleModel",
            "_view_count": null,
            "_view_module": "@jupyter-widgets/base",
            "_view_module_version": "1.2.0",
            "_view_name": "StyleView",
            "bar_color": null,
            "description_width": ""
          }
        },
        "af42f7448ef040ef91722a2ac6b572f4": {
          "model_module": "@jupyter-widgets/base",
          "model_name": "LayoutModel",
          "model_module_version": "1.2.0",
          "state": {
            "_model_module": "@jupyter-widgets/base",
            "_model_module_version": "1.2.0",
            "_model_name": "LayoutModel",
            "_view_count": null,
            "_view_module": "@jupyter-widgets/base",
            "_view_module_version": "1.2.0",
            "_view_name": "LayoutView",
            "align_content": null,
            "align_items": null,
            "align_self": null,
            "border": null,
            "bottom": null,
            "display": null,
            "flex": null,
            "flex_flow": null,
            "grid_area": null,
            "grid_auto_columns": null,
            "grid_auto_flow": null,
            "grid_auto_rows": null,
            "grid_column": null,
            "grid_gap": null,
            "grid_row": null,
            "grid_template_areas": null,
            "grid_template_columns": null,
            "grid_template_rows": null,
            "height": null,
            "justify_content": null,
            "justify_items": null,
            "left": null,
            "margin": null,
            "max_height": null,
            "max_width": null,
            "min_height": null,
            "min_width": null,
            "object_fit": null,
            "object_position": null,
            "order": null,
            "overflow": null,
            "overflow_x": null,
            "overflow_y": null,
            "padding": null,
            "right": null,
            "top": null,
            "visibility": null,
            "width": null
          }
        },
        "fa6e9b062002422a93d13f4898f1f48f": {
          "model_module": "@jupyter-widgets/controls",
          "model_name": "DescriptionStyleModel",
          "model_module_version": "1.5.0",
          "state": {
            "_model_module": "@jupyter-widgets/controls",
            "_model_module_version": "1.5.0",
            "_model_name": "DescriptionStyleModel",
            "_view_count": null,
            "_view_module": "@jupyter-widgets/base",
            "_view_module_version": "1.2.0",
            "_view_name": "StyleView",
            "description_width": ""
          }
        },
        "771022b36c0d43758edeb9681ea9e342": {
          "model_module": "@jupyter-widgets/controls",
          "model_name": "HBoxModel",
          "model_module_version": "1.5.0",
          "state": {
            "_dom_classes": [],
            "_model_module": "@jupyter-widgets/controls",
            "_model_module_version": "1.5.0",
            "_model_name": "HBoxModel",
            "_view_count": null,
            "_view_module": "@jupyter-widgets/controls",
            "_view_module_version": "1.5.0",
            "_view_name": "HBoxView",
            "box_style": "",
            "children": [
              "IPY_MODEL_bce88e1d92c74dbca5428d9cfe6ebd8e",
              "IPY_MODEL_7629d19d5d554d0ab00da747d3534124",
              "IPY_MODEL_72d67dda395843cf8db2e27b9773e78a"
            ],
            "layout": "IPY_MODEL_7b15d76cef9a4f1ca384c9f2ff5060d5"
          }
        },
        "bce88e1d92c74dbca5428d9cfe6ebd8e": {
          "model_module": "@jupyter-widgets/controls",
          "model_name": "HTMLModel",
          "model_module_version": "1.5.0",
          "state": {
            "_dom_classes": [],
            "_model_module": "@jupyter-widgets/controls",
            "_model_module_version": "1.5.0",
            "_model_name": "HTMLModel",
            "_view_count": null,
            "_view_module": "@jupyter-widgets/controls",
            "_view_module_version": "1.5.0",
            "_view_name": "HTMLView",
            "description": "",
            "description_tooltip": null,
            "layout": "IPY_MODEL_6e7cf4f3ad1d483aa786d265f9e93881",
            "placeholder": "​",
            "style": "IPY_MODEL_f708ec9eee824ea5a9348b6ec75dbab7",
            "value": "vocab.txt: 100%"
          }
        },
        "7629d19d5d554d0ab00da747d3534124": {
          "model_module": "@jupyter-widgets/controls",
          "model_name": "FloatProgressModel",
          "model_module_version": "1.5.0",
          "state": {
            "_dom_classes": [],
            "_model_module": "@jupyter-widgets/controls",
            "_model_module_version": "1.5.0",
            "_model_name": "FloatProgressModel",
            "_view_count": null,
            "_view_module": "@jupyter-widgets/controls",
            "_view_module_version": "1.5.0",
            "_view_name": "ProgressView",
            "bar_style": "success",
            "description": "",
            "description_tooltip": null,
            "layout": "IPY_MODEL_58595f5de7aa4c6ca9b75cb7575f7c30",
            "max": 110331,
            "min": 0,
            "orientation": "horizontal",
            "style": "IPY_MODEL_da51750ebce74c47a69271fbb4e99407",
            "value": 110331
          }
        },
        "72d67dda395843cf8db2e27b9773e78a": {
          "model_module": "@jupyter-widgets/controls",
          "model_name": "HTMLModel",
          "model_module_version": "1.5.0",
          "state": {
            "_dom_classes": [],
            "_model_module": "@jupyter-widgets/controls",
            "_model_module_version": "1.5.0",
            "_model_name": "HTMLModel",
            "_view_count": null,
            "_view_module": "@jupyter-widgets/controls",
            "_view_module_version": "1.5.0",
            "_view_name": "HTMLView",
            "description": "",
            "description_tooltip": null,
            "layout": "IPY_MODEL_b00c08b6b706454b9301109aeba76e8f",
            "placeholder": "​",
            "style": "IPY_MODEL_903263274aff40c6bf800b6d69720c3a",
            "value": " 110k/110k [00:00&lt;00:00, 7.08MB/s]"
          }
        },
        "7b15d76cef9a4f1ca384c9f2ff5060d5": {
          "model_module": "@jupyter-widgets/base",
          "model_name": "LayoutModel",
          "model_module_version": "1.2.0",
          "state": {
            "_model_module": "@jupyter-widgets/base",
            "_model_module_version": "1.2.0",
            "_model_name": "LayoutModel",
            "_view_count": null,
            "_view_module": "@jupyter-widgets/base",
            "_view_module_version": "1.2.0",
            "_view_name": "LayoutView",
            "align_content": null,
            "align_items": null,
            "align_self": null,
            "border": null,
            "bottom": null,
            "display": null,
            "flex": null,
            "flex_flow": null,
            "grid_area": null,
            "grid_auto_columns": null,
            "grid_auto_flow": null,
            "grid_auto_rows": null,
            "grid_column": null,
            "grid_gap": null,
            "grid_row": null,
            "grid_template_areas": null,
            "grid_template_columns": null,
            "grid_template_rows": null,
            "height": null,
            "justify_content": null,
            "justify_items": null,
            "left": null,
            "margin": null,
            "max_height": null,
            "max_width": null,
            "min_height": null,
            "min_width": null,
            "object_fit": null,
            "object_position": null,
            "order": null,
            "overflow": null,
            "overflow_x": null,
            "overflow_y": null,
            "padding": null,
            "right": null,
            "top": null,
            "visibility": null,
            "width": null
          }
        },
        "6e7cf4f3ad1d483aa786d265f9e93881": {
          "model_module": "@jupyter-widgets/base",
          "model_name": "LayoutModel",
          "model_module_version": "1.2.0",
          "state": {
            "_model_module": "@jupyter-widgets/base",
            "_model_module_version": "1.2.0",
            "_model_name": "LayoutModel",
            "_view_count": null,
            "_view_module": "@jupyter-widgets/base",
            "_view_module_version": "1.2.0",
            "_view_name": "LayoutView",
            "align_content": null,
            "align_items": null,
            "align_self": null,
            "border": null,
            "bottom": null,
            "display": null,
            "flex": null,
            "flex_flow": null,
            "grid_area": null,
            "grid_auto_columns": null,
            "grid_auto_flow": null,
            "grid_auto_rows": null,
            "grid_column": null,
            "grid_gap": null,
            "grid_row": null,
            "grid_template_areas": null,
            "grid_template_columns": null,
            "grid_template_rows": null,
            "height": null,
            "justify_content": null,
            "justify_items": null,
            "left": null,
            "margin": null,
            "max_height": null,
            "max_width": null,
            "min_height": null,
            "min_width": null,
            "object_fit": null,
            "object_position": null,
            "order": null,
            "overflow": null,
            "overflow_x": null,
            "overflow_y": null,
            "padding": null,
            "right": null,
            "top": null,
            "visibility": null,
            "width": null
          }
        },
        "f708ec9eee824ea5a9348b6ec75dbab7": {
          "model_module": "@jupyter-widgets/controls",
          "model_name": "DescriptionStyleModel",
          "model_module_version": "1.5.0",
          "state": {
            "_model_module": "@jupyter-widgets/controls",
            "_model_module_version": "1.5.0",
            "_model_name": "DescriptionStyleModel",
            "_view_count": null,
            "_view_module": "@jupyter-widgets/base",
            "_view_module_version": "1.2.0",
            "_view_name": "StyleView",
            "description_width": ""
          }
        },
        "58595f5de7aa4c6ca9b75cb7575f7c30": {
          "model_module": "@jupyter-widgets/base",
          "model_name": "LayoutModel",
          "model_module_version": "1.2.0",
          "state": {
            "_model_module": "@jupyter-widgets/base",
            "_model_module_version": "1.2.0",
            "_model_name": "LayoutModel",
            "_view_count": null,
            "_view_module": "@jupyter-widgets/base",
            "_view_module_version": "1.2.0",
            "_view_name": "LayoutView",
            "align_content": null,
            "align_items": null,
            "align_self": null,
            "border": null,
            "bottom": null,
            "display": null,
            "flex": null,
            "flex_flow": null,
            "grid_area": null,
            "grid_auto_columns": null,
            "grid_auto_flow": null,
            "grid_auto_rows": null,
            "grid_column": null,
            "grid_gap": null,
            "grid_row": null,
            "grid_template_areas": null,
            "grid_template_columns": null,
            "grid_template_rows": null,
            "height": null,
            "justify_content": null,
            "justify_items": null,
            "left": null,
            "margin": null,
            "max_height": null,
            "max_width": null,
            "min_height": null,
            "min_width": null,
            "object_fit": null,
            "object_position": null,
            "order": null,
            "overflow": null,
            "overflow_x": null,
            "overflow_y": null,
            "padding": null,
            "right": null,
            "top": null,
            "visibility": null,
            "width": null
          }
        },
        "da51750ebce74c47a69271fbb4e99407": {
          "model_module": "@jupyter-widgets/controls",
          "model_name": "ProgressStyleModel",
          "model_module_version": "1.5.0",
          "state": {
            "_model_module": "@jupyter-widgets/controls",
            "_model_module_version": "1.5.0",
            "_model_name": "ProgressStyleModel",
            "_view_count": null,
            "_view_module": "@jupyter-widgets/base",
            "_view_module_version": "1.2.0",
            "_view_name": "StyleView",
            "bar_color": null,
            "description_width": ""
          }
        },
        "b00c08b6b706454b9301109aeba76e8f": {
          "model_module": "@jupyter-widgets/base",
          "model_name": "LayoutModel",
          "model_module_version": "1.2.0",
          "state": {
            "_model_module": "@jupyter-widgets/base",
            "_model_module_version": "1.2.0",
            "_model_name": "LayoutModel",
            "_view_count": null,
            "_view_module": "@jupyter-widgets/base",
            "_view_module_version": "1.2.0",
            "_view_name": "LayoutView",
            "align_content": null,
            "align_items": null,
            "align_self": null,
            "border": null,
            "bottom": null,
            "display": null,
            "flex": null,
            "flex_flow": null,
            "grid_area": null,
            "grid_auto_columns": null,
            "grid_auto_flow": null,
            "grid_auto_rows": null,
            "grid_column": null,
            "grid_gap": null,
            "grid_row": null,
            "grid_template_areas": null,
            "grid_template_columns": null,
            "grid_template_rows": null,
            "height": null,
            "justify_content": null,
            "justify_items": null,
            "left": null,
            "margin": null,
            "max_height": null,
            "max_width": null,
            "min_height": null,
            "min_width": null,
            "object_fit": null,
            "object_position": null,
            "order": null,
            "overflow": null,
            "overflow_x": null,
            "overflow_y": null,
            "padding": null,
            "right": null,
            "top": null,
            "visibility": null,
            "width": null
          }
        },
        "903263274aff40c6bf800b6d69720c3a": {
          "model_module": "@jupyter-widgets/controls",
          "model_name": "DescriptionStyleModel",
          "model_module_version": "1.5.0",
          "state": {
            "_model_module": "@jupyter-widgets/controls",
            "_model_module_version": "1.5.0",
            "_model_name": "DescriptionStyleModel",
            "_view_count": null,
            "_view_module": "@jupyter-widgets/base",
            "_view_module_version": "1.2.0",
            "_view_name": "StyleView",
            "description_width": ""
          }
        },
        "4d46d6e086914940a1099a6b24a5d728": {
          "model_module": "@jupyter-widgets/controls",
          "model_name": "HBoxModel",
          "model_module_version": "1.5.0",
          "state": {
            "_dom_classes": [],
            "_model_module": "@jupyter-widgets/controls",
            "_model_module_version": "1.5.0",
            "_model_name": "HBoxModel",
            "_view_count": null,
            "_view_module": "@jupyter-widgets/controls",
            "_view_module_version": "1.5.0",
            "_view_name": "HBoxView",
            "box_style": "",
            "children": [
              "IPY_MODEL_c4697ae6c8f94e53879ac2affbbd48bf",
              "IPY_MODEL_fe44368d090b44dfa73649238019d004",
              "IPY_MODEL_8b5599c0df524948a41f691fa3ae8234"
            ],
            "layout": "IPY_MODEL_e437668415a7452fac69d073d626d5cb"
          }
        },
        "c4697ae6c8f94e53879ac2affbbd48bf": {
          "model_module": "@jupyter-widgets/controls",
          "model_name": "HTMLModel",
          "model_module_version": "1.5.0",
          "state": {
            "_dom_classes": [],
            "_model_module": "@jupyter-widgets/controls",
            "_model_module_version": "1.5.0",
            "_model_name": "HTMLModel",
            "_view_count": null,
            "_view_module": "@jupyter-widgets/controls",
            "_view_module_version": "1.5.0",
            "_view_name": "HTMLView",
            "description": "",
            "description_tooltip": null,
            "layout": "IPY_MODEL_382fe774150d46e8831273d14923948d",
            "placeholder": "​",
            "style": "IPY_MODEL_e516a1a24610483faa3bcd198f359c92",
            "value": "special_tokens_map.json: 100%"
          }
        },
        "fe44368d090b44dfa73649238019d004": {
          "model_module": "@jupyter-widgets/controls",
          "model_name": "FloatProgressModel",
          "model_module_version": "1.5.0",
          "state": {
            "_dom_classes": [],
            "_model_module": "@jupyter-widgets/controls",
            "_model_module_version": "1.5.0",
            "_model_name": "FloatProgressModel",
            "_view_count": null,
            "_view_module": "@jupyter-widgets/controls",
            "_view_module_version": "1.5.0",
            "_view_name": "ProgressView",
            "bar_style": "success",
            "description": "",
            "description_tooltip": null,
            "layout": "IPY_MODEL_39eac137657f41d18d87b5bc0ace9073",
            "max": 112,
            "min": 0,
            "orientation": "horizontal",
            "style": "IPY_MODEL_c92880dc15bf45eb9a33f830a26e3b69",
            "value": 112
          }
        },
        "8b5599c0df524948a41f691fa3ae8234": {
          "model_module": "@jupyter-widgets/controls",
          "model_name": "HTMLModel",
          "model_module_version": "1.5.0",
          "state": {
            "_dom_classes": [],
            "_model_module": "@jupyter-widgets/controls",
            "_model_module_version": "1.5.0",
            "_model_name": "HTMLModel",
            "_view_count": null,
            "_view_module": "@jupyter-widgets/controls",
            "_view_module_version": "1.5.0",
            "_view_name": "HTMLView",
            "description": "",
            "description_tooltip": null,
            "layout": "IPY_MODEL_a1b4e076df84484baacacb9e04b86637",
            "placeholder": "​",
            "style": "IPY_MODEL_677494827bef4eec91c83531aebcaa95",
            "value": " 112/112 [00:00&lt;00:00, 11.4kB/s]"
          }
        },
        "e437668415a7452fac69d073d626d5cb": {
          "model_module": "@jupyter-widgets/base",
          "model_name": "LayoutModel",
          "model_module_version": "1.2.0",
          "state": {
            "_model_module": "@jupyter-widgets/base",
            "_model_module_version": "1.2.0",
            "_model_name": "LayoutModel",
            "_view_count": null,
            "_view_module": "@jupyter-widgets/base",
            "_view_module_version": "1.2.0",
            "_view_name": "LayoutView",
            "align_content": null,
            "align_items": null,
            "align_self": null,
            "border": null,
            "bottom": null,
            "display": null,
            "flex": null,
            "flex_flow": null,
            "grid_area": null,
            "grid_auto_columns": null,
            "grid_auto_flow": null,
            "grid_auto_rows": null,
            "grid_column": null,
            "grid_gap": null,
            "grid_row": null,
            "grid_template_areas": null,
            "grid_template_columns": null,
            "grid_template_rows": null,
            "height": null,
            "justify_content": null,
            "justify_items": null,
            "left": null,
            "margin": null,
            "max_height": null,
            "max_width": null,
            "min_height": null,
            "min_width": null,
            "object_fit": null,
            "object_position": null,
            "order": null,
            "overflow": null,
            "overflow_x": null,
            "overflow_y": null,
            "padding": null,
            "right": null,
            "top": null,
            "visibility": null,
            "width": null
          }
        },
        "382fe774150d46e8831273d14923948d": {
          "model_module": "@jupyter-widgets/base",
          "model_name": "LayoutModel",
          "model_module_version": "1.2.0",
          "state": {
            "_model_module": "@jupyter-widgets/base",
            "_model_module_version": "1.2.0",
            "_model_name": "LayoutModel",
            "_view_count": null,
            "_view_module": "@jupyter-widgets/base",
            "_view_module_version": "1.2.0",
            "_view_name": "LayoutView",
            "align_content": null,
            "align_items": null,
            "align_self": null,
            "border": null,
            "bottom": null,
            "display": null,
            "flex": null,
            "flex_flow": null,
            "grid_area": null,
            "grid_auto_columns": null,
            "grid_auto_flow": null,
            "grid_auto_rows": null,
            "grid_column": null,
            "grid_gap": null,
            "grid_row": null,
            "grid_template_areas": null,
            "grid_template_columns": null,
            "grid_template_rows": null,
            "height": null,
            "justify_content": null,
            "justify_items": null,
            "left": null,
            "margin": null,
            "max_height": null,
            "max_width": null,
            "min_height": null,
            "min_width": null,
            "object_fit": null,
            "object_position": null,
            "order": null,
            "overflow": null,
            "overflow_x": null,
            "overflow_y": null,
            "padding": null,
            "right": null,
            "top": null,
            "visibility": null,
            "width": null
          }
        },
        "e516a1a24610483faa3bcd198f359c92": {
          "model_module": "@jupyter-widgets/controls",
          "model_name": "DescriptionStyleModel",
          "model_module_version": "1.5.0",
          "state": {
            "_model_module": "@jupyter-widgets/controls",
            "_model_module_version": "1.5.0",
            "_model_name": "DescriptionStyleModel",
            "_view_count": null,
            "_view_module": "@jupyter-widgets/base",
            "_view_module_version": "1.2.0",
            "_view_name": "StyleView",
            "description_width": ""
          }
        },
        "39eac137657f41d18d87b5bc0ace9073": {
          "model_module": "@jupyter-widgets/base",
          "model_name": "LayoutModel",
          "model_module_version": "1.2.0",
          "state": {
            "_model_module": "@jupyter-widgets/base",
            "_model_module_version": "1.2.0",
            "_model_name": "LayoutModel",
            "_view_count": null,
            "_view_module": "@jupyter-widgets/base",
            "_view_module_version": "1.2.0",
            "_view_name": "LayoutView",
            "align_content": null,
            "align_items": null,
            "align_self": null,
            "border": null,
            "bottom": null,
            "display": null,
            "flex": null,
            "flex_flow": null,
            "grid_area": null,
            "grid_auto_columns": null,
            "grid_auto_flow": null,
            "grid_auto_rows": null,
            "grid_column": null,
            "grid_gap": null,
            "grid_row": null,
            "grid_template_areas": null,
            "grid_template_columns": null,
            "grid_template_rows": null,
            "height": null,
            "justify_content": null,
            "justify_items": null,
            "left": null,
            "margin": null,
            "max_height": null,
            "max_width": null,
            "min_height": null,
            "min_width": null,
            "object_fit": null,
            "object_position": null,
            "order": null,
            "overflow": null,
            "overflow_x": null,
            "overflow_y": null,
            "padding": null,
            "right": null,
            "top": null,
            "visibility": null,
            "width": null
          }
        },
        "c92880dc15bf45eb9a33f830a26e3b69": {
          "model_module": "@jupyter-widgets/controls",
          "model_name": "ProgressStyleModel",
          "model_module_version": "1.5.0",
          "state": {
            "_model_module": "@jupyter-widgets/controls",
            "_model_module_version": "1.5.0",
            "_model_name": "ProgressStyleModel",
            "_view_count": null,
            "_view_module": "@jupyter-widgets/base",
            "_view_module_version": "1.2.0",
            "_view_name": "StyleView",
            "bar_color": null,
            "description_width": ""
          }
        },
        "a1b4e076df84484baacacb9e04b86637": {
          "model_module": "@jupyter-widgets/base",
          "model_name": "LayoutModel",
          "model_module_version": "1.2.0",
          "state": {
            "_model_module": "@jupyter-widgets/base",
            "_model_module_version": "1.2.0",
            "_model_name": "LayoutModel",
            "_view_count": null,
            "_view_module": "@jupyter-widgets/base",
            "_view_module_version": "1.2.0",
            "_view_name": "LayoutView",
            "align_content": null,
            "align_items": null,
            "align_self": null,
            "border": null,
            "bottom": null,
            "display": null,
            "flex": null,
            "flex_flow": null,
            "grid_area": null,
            "grid_auto_columns": null,
            "grid_auto_flow": null,
            "grid_auto_rows": null,
            "grid_column": null,
            "grid_gap": null,
            "grid_row": null,
            "grid_template_areas": null,
            "grid_template_columns": null,
            "grid_template_rows": null,
            "height": null,
            "justify_content": null,
            "justify_items": null,
            "left": null,
            "margin": null,
            "max_height": null,
            "max_width": null,
            "min_height": null,
            "min_width": null,
            "object_fit": null,
            "object_position": null,
            "order": null,
            "overflow": null,
            "overflow_x": null,
            "overflow_y": null,
            "padding": null,
            "right": null,
            "top": null,
            "visibility": null,
            "width": null
          }
        },
        "677494827bef4eec91c83531aebcaa95": {
          "model_module": "@jupyter-widgets/controls",
          "model_name": "DescriptionStyleModel",
          "model_module_version": "1.5.0",
          "state": {
            "_model_module": "@jupyter-widgets/controls",
            "_model_module_version": "1.5.0",
            "_model_name": "DescriptionStyleModel",
            "_view_count": null,
            "_view_module": "@jupyter-widgets/base",
            "_view_module_version": "1.2.0",
            "_view_name": "StyleView",
            "description_width": ""
          }
        },
        "ec65740678f74a2993a4b0844d8971a1": {
          "model_module": "@jupyter-widgets/controls",
          "model_name": "HBoxModel",
          "model_module_version": "1.5.0",
          "state": {
            "_dom_classes": [],
            "_model_module": "@jupyter-widgets/controls",
            "_model_module_version": "1.5.0",
            "_model_name": "HBoxModel",
            "_view_count": null,
            "_view_module": "@jupyter-widgets/controls",
            "_view_module_version": "1.5.0",
            "_view_name": "HBoxView",
            "box_style": "",
            "children": [
              "IPY_MODEL_2cb3b19db7ee4714b2790be804e06b42",
              "IPY_MODEL_a5796777972e4a1f98fcf6ce5649b5a6",
              "IPY_MODEL_3ba6f098f17d408ca623ecbabcea057a"
            ],
            "layout": "IPY_MODEL_ef5424d98d044244ab42970ef0bc18f7"
          }
        },
        "2cb3b19db7ee4714b2790be804e06b42": {
          "model_module": "@jupyter-widgets/controls",
          "model_name": "HTMLModel",
          "model_module_version": "1.5.0",
          "state": {
            "_dom_classes": [],
            "_model_module": "@jupyter-widgets/controls",
            "_model_module_version": "1.5.0",
            "_model_name": "HTMLModel",
            "_view_count": null,
            "_view_module": "@jupyter-widgets/controls",
            "_view_module_version": "1.5.0",
            "_view_name": "HTMLView",
            "description": "",
            "description_tooltip": null,
            "layout": "IPY_MODEL_084ffbe28d7b4145afd1858aafe633f0",
            "placeholder": "​",
            "style": "IPY_MODEL_18d00c52461a49d6b990b6ab3272dc4f",
            "value": "100%"
          }
        },
        "a5796777972e4a1f98fcf6ce5649b5a6": {
          "model_module": "@jupyter-widgets/controls",
          "model_name": "FloatProgressModel",
          "model_module_version": "1.5.0",
          "state": {
            "_dom_classes": [],
            "_model_module": "@jupyter-widgets/controls",
            "_model_module_version": "1.5.0",
            "_model_name": "FloatProgressModel",
            "_view_count": null,
            "_view_module": "@jupyter-widgets/controls",
            "_view_module_version": "1.5.0",
            "_view_name": "ProgressView",
            "bar_style": "success",
            "description": "",
            "description_tooltip": null,
            "layout": "IPY_MODEL_2559f74f7ab7482d83334b76951bf21a",
            "max": 31,
            "min": 0,
            "orientation": "horizontal",
            "style": "IPY_MODEL_55c5bc54f5af4018a10b4467e42d9c95",
            "value": 31
          }
        },
        "3ba6f098f17d408ca623ecbabcea057a": {
          "model_module": "@jupyter-widgets/controls",
          "model_name": "HTMLModel",
          "model_module_version": "1.5.0",
          "state": {
            "_dom_classes": [],
            "_model_module": "@jupyter-widgets/controls",
            "_model_module_version": "1.5.0",
            "_model_name": "HTMLModel",
            "_view_count": null,
            "_view_module": "@jupyter-widgets/controls",
            "_view_module_version": "1.5.0",
            "_view_name": "HTMLView",
            "description": "",
            "description_tooltip": null,
            "layout": "IPY_MODEL_a780d1df77d94de3ba828ba5db652f09",
            "placeholder": "​",
            "style": "IPY_MODEL_d2b7197f4a0f4460a76b7ca9a14662bc",
            "value": " 31/31 [01:20&lt;00:00,  2.43s/it]"
          }
        },
        "ef5424d98d044244ab42970ef0bc18f7": {
          "model_module": "@jupyter-widgets/base",
          "model_name": "LayoutModel",
          "model_module_version": "1.2.0",
          "state": {
            "_model_module": "@jupyter-widgets/base",
            "_model_module_version": "1.2.0",
            "_model_name": "LayoutModel",
            "_view_count": null,
            "_view_module": "@jupyter-widgets/base",
            "_view_module_version": "1.2.0",
            "_view_name": "LayoutView",
            "align_content": null,
            "align_items": null,
            "align_self": null,
            "border": null,
            "bottom": null,
            "display": null,
            "flex": null,
            "flex_flow": null,
            "grid_area": null,
            "grid_auto_columns": null,
            "grid_auto_flow": null,
            "grid_auto_rows": null,
            "grid_column": null,
            "grid_gap": null,
            "grid_row": null,
            "grid_template_areas": null,
            "grid_template_columns": null,
            "grid_template_rows": null,
            "height": null,
            "justify_content": null,
            "justify_items": null,
            "left": null,
            "margin": null,
            "max_height": null,
            "max_width": null,
            "min_height": null,
            "min_width": null,
            "object_fit": null,
            "object_position": null,
            "order": null,
            "overflow": null,
            "overflow_x": null,
            "overflow_y": null,
            "padding": null,
            "right": null,
            "top": null,
            "visibility": null,
            "width": null
          }
        },
        "084ffbe28d7b4145afd1858aafe633f0": {
          "model_module": "@jupyter-widgets/base",
          "model_name": "LayoutModel",
          "model_module_version": "1.2.0",
          "state": {
            "_model_module": "@jupyter-widgets/base",
            "_model_module_version": "1.2.0",
            "_model_name": "LayoutModel",
            "_view_count": null,
            "_view_module": "@jupyter-widgets/base",
            "_view_module_version": "1.2.0",
            "_view_name": "LayoutView",
            "align_content": null,
            "align_items": null,
            "align_self": null,
            "border": null,
            "bottom": null,
            "display": null,
            "flex": null,
            "flex_flow": null,
            "grid_area": null,
            "grid_auto_columns": null,
            "grid_auto_flow": null,
            "grid_auto_rows": null,
            "grid_column": null,
            "grid_gap": null,
            "grid_row": null,
            "grid_template_areas": null,
            "grid_template_columns": null,
            "grid_template_rows": null,
            "height": null,
            "justify_content": null,
            "justify_items": null,
            "left": null,
            "margin": null,
            "max_height": null,
            "max_width": null,
            "min_height": null,
            "min_width": null,
            "object_fit": null,
            "object_position": null,
            "order": null,
            "overflow": null,
            "overflow_x": null,
            "overflow_y": null,
            "padding": null,
            "right": null,
            "top": null,
            "visibility": null,
            "width": null
          }
        },
        "18d00c52461a49d6b990b6ab3272dc4f": {
          "model_module": "@jupyter-widgets/controls",
          "model_name": "DescriptionStyleModel",
          "model_module_version": "1.5.0",
          "state": {
            "_model_module": "@jupyter-widgets/controls",
            "_model_module_version": "1.5.0",
            "_model_name": "DescriptionStyleModel",
            "_view_count": null,
            "_view_module": "@jupyter-widgets/base",
            "_view_module_version": "1.2.0",
            "_view_name": "StyleView",
            "description_width": ""
          }
        },
        "2559f74f7ab7482d83334b76951bf21a": {
          "model_module": "@jupyter-widgets/base",
          "model_name": "LayoutModel",
          "model_module_version": "1.2.0",
          "state": {
            "_model_module": "@jupyter-widgets/base",
            "_model_module_version": "1.2.0",
            "_model_name": "LayoutModel",
            "_view_count": null,
            "_view_module": "@jupyter-widgets/base",
            "_view_module_version": "1.2.0",
            "_view_name": "LayoutView",
            "align_content": null,
            "align_items": null,
            "align_self": null,
            "border": null,
            "bottom": null,
            "display": null,
            "flex": null,
            "flex_flow": null,
            "grid_area": null,
            "grid_auto_columns": null,
            "grid_auto_flow": null,
            "grid_auto_rows": null,
            "grid_column": null,
            "grid_gap": null,
            "grid_row": null,
            "grid_template_areas": null,
            "grid_template_columns": null,
            "grid_template_rows": null,
            "height": null,
            "justify_content": null,
            "justify_items": null,
            "left": null,
            "margin": null,
            "max_height": null,
            "max_width": null,
            "min_height": null,
            "min_width": null,
            "object_fit": null,
            "object_position": null,
            "order": null,
            "overflow": null,
            "overflow_x": null,
            "overflow_y": null,
            "padding": null,
            "right": null,
            "top": null,
            "visibility": null,
            "width": null
          }
        },
        "55c5bc54f5af4018a10b4467e42d9c95": {
          "model_module": "@jupyter-widgets/controls",
          "model_name": "ProgressStyleModel",
          "model_module_version": "1.5.0",
          "state": {
            "_model_module": "@jupyter-widgets/controls",
            "_model_module_version": "1.5.0",
            "_model_name": "ProgressStyleModel",
            "_view_count": null,
            "_view_module": "@jupyter-widgets/base",
            "_view_module_version": "1.2.0",
            "_view_name": "StyleView",
            "bar_color": null,
            "description_width": ""
          }
        },
        "a780d1df77d94de3ba828ba5db652f09": {
          "model_module": "@jupyter-widgets/base",
          "model_name": "LayoutModel",
          "model_module_version": "1.2.0",
          "state": {
            "_model_module": "@jupyter-widgets/base",
            "_model_module_version": "1.2.0",
            "_model_name": "LayoutModel",
            "_view_count": null,
            "_view_module": "@jupyter-widgets/base",
            "_view_module_version": "1.2.0",
            "_view_name": "LayoutView",
            "align_content": null,
            "align_items": null,
            "align_self": null,
            "border": null,
            "bottom": null,
            "display": null,
            "flex": null,
            "flex_flow": null,
            "grid_area": null,
            "grid_auto_columns": null,
            "grid_auto_flow": null,
            "grid_auto_rows": null,
            "grid_column": null,
            "grid_gap": null,
            "grid_row": null,
            "grid_template_areas": null,
            "grid_template_columns": null,
            "grid_template_rows": null,
            "height": null,
            "justify_content": null,
            "justify_items": null,
            "left": null,
            "margin": null,
            "max_height": null,
            "max_width": null,
            "min_height": null,
            "min_width": null,
            "object_fit": null,
            "object_position": null,
            "order": null,
            "overflow": null,
            "overflow_x": null,
            "overflow_y": null,
            "padding": null,
            "right": null,
            "top": null,
            "visibility": null,
            "width": null
          }
        },
        "d2b7197f4a0f4460a76b7ca9a14662bc": {
          "model_module": "@jupyter-widgets/controls",
          "model_name": "DescriptionStyleModel",
          "model_module_version": "1.5.0",
          "state": {
            "_model_module": "@jupyter-widgets/controls",
            "_model_module_version": "1.5.0",
            "_model_name": "DescriptionStyleModel",
            "_view_count": null,
            "_view_module": "@jupyter-widgets/base",
            "_view_module_version": "1.2.0",
            "_view_name": "StyleView",
            "description_width": ""
          }
        },
        "3f1a19328231422d9d2f55ee7705e852": {
          "model_module": "@jupyter-widgets/controls",
          "model_name": "HBoxModel",
          "model_module_version": "1.5.0",
          "state": {
            "_dom_classes": [],
            "_model_module": "@jupyter-widgets/controls",
            "_model_module_version": "1.5.0",
            "_model_name": "HBoxModel",
            "_view_count": null,
            "_view_module": "@jupyter-widgets/controls",
            "_view_module_version": "1.5.0",
            "_view_name": "HBoxView",
            "box_style": "",
            "children": [
              "IPY_MODEL_691b7633266748dba9d2b2762ab0a4ea",
              "IPY_MODEL_88ccfcd9aa0b4353b6c2ed88af0f8a11",
              "IPY_MODEL_4e9ea553489f40b4be08eedbcfe1416f"
            ],
            "layout": "IPY_MODEL_e65fe9c8e1c449bf9d96bdcb83c2c53d"
          }
        },
        "691b7633266748dba9d2b2762ab0a4ea": {
          "model_module": "@jupyter-widgets/controls",
          "model_name": "HTMLModel",
          "model_module_version": "1.5.0",
          "state": {
            "_dom_classes": [],
            "_model_module": "@jupyter-widgets/controls",
            "_model_module_version": "1.5.0",
            "_model_name": "HTMLModel",
            "_view_count": null,
            "_view_module": "@jupyter-widgets/controls",
            "_view_module_version": "1.5.0",
            "_view_name": "HTMLView",
            "description": "",
            "description_tooltip": null,
            "layout": "IPY_MODEL_7cd6c424b21641dfab23f4431503473d",
            "placeholder": "​",
            "style": "IPY_MODEL_a7bd8737e32642768bdbab66c96bc545",
            "value": "loss: 9.459826:   0%"
          }
        },
        "88ccfcd9aa0b4353b6c2ed88af0f8a11": {
          "model_module": "@jupyter-widgets/controls",
          "model_name": "FloatProgressModel",
          "model_module_version": "1.5.0",
          "state": {
            "_dom_classes": [],
            "_model_module": "@jupyter-widgets/controls",
            "_model_module_version": "1.5.0",
            "_model_name": "FloatProgressModel",
            "_view_count": null,
            "_view_module": "@jupyter-widgets/controls",
            "_view_module_version": "1.5.0",
            "_view_name": "ProgressView",
            "bar_style": "",
            "description": "",
            "description_tooltip": null,
            "layout": "IPY_MODEL_85a689a2d28340e4b83ea02c5a27c1e1",
            "max": 817,
            "min": 0,
            "orientation": "horizontal",
            "style": "IPY_MODEL_1f8d8ad34ec7406a8ac6584f302e7460",
            "value": 1
          }
        },
        "4e9ea553489f40b4be08eedbcfe1416f": {
          "model_module": "@jupyter-widgets/controls",
          "model_name": "HTMLModel",
          "model_module_version": "1.5.0",
          "state": {
            "_dom_classes": [],
            "_model_module": "@jupyter-widgets/controls",
            "_model_module_version": "1.5.0",
            "_model_name": "HTMLModel",
            "_view_count": null,
            "_view_module": "@jupyter-widgets/controls",
            "_view_module_version": "1.5.0",
            "_view_name": "HTMLView",
            "description": "",
            "description_tooltip": null,
            "layout": "IPY_MODEL_cbe53c1b5d3c4a8a83765d2df6ef57b0",
            "placeholder": "​",
            "style": "IPY_MODEL_4d0de570d3c74e07852521af0c771119",
            "value": " 1/817 [00:02&lt;27:25,  2.02s/it]"
          }
        },
        "e65fe9c8e1c449bf9d96bdcb83c2c53d": {
          "model_module": "@jupyter-widgets/base",
          "model_name": "LayoutModel",
          "model_module_version": "1.2.0",
          "state": {
            "_model_module": "@jupyter-widgets/base",
            "_model_module_version": "1.2.0",
            "_model_name": "LayoutModel",
            "_view_count": null,
            "_view_module": "@jupyter-widgets/base",
            "_view_module_version": "1.2.0",
            "_view_name": "LayoutView",
            "align_content": null,
            "align_items": null,
            "align_self": null,
            "border": null,
            "bottom": null,
            "display": null,
            "flex": null,
            "flex_flow": null,
            "grid_area": null,
            "grid_auto_columns": null,
            "grid_auto_flow": null,
            "grid_auto_rows": null,
            "grid_column": null,
            "grid_gap": null,
            "grid_row": null,
            "grid_template_areas": null,
            "grid_template_columns": null,
            "grid_template_rows": null,
            "height": null,
            "justify_content": null,
            "justify_items": null,
            "left": null,
            "margin": null,
            "max_height": null,
            "max_width": null,
            "min_height": null,
            "min_width": null,
            "object_fit": null,
            "object_position": null,
            "order": null,
            "overflow": null,
            "overflow_x": null,
            "overflow_y": null,
            "padding": null,
            "right": null,
            "top": null,
            "visibility": null,
            "width": null
          }
        },
        "7cd6c424b21641dfab23f4431503473d": {
          "model_module": "@jupyter-widgets/base",
          "model_name": "LayoutModel",
          "model_module_version": "1.2.0",
          "state": {
            "_model_module": "@jupyter-widgets/base",
            "_model_module_version": "1.2.0",
            "_model_name": "LayoutModel",
            "_view_count": null,
            "_view_module": "@jupyter-widgets/base",
            "_view_module_version": "1.2.0",
            "_view_name": "LayoutView",
            "align_content": null,
            "align_items": null,
            "align_self": null,
            "border": null,
            "bottom": null,
            "display": null,
            "flex": null,
            "flex_flow": null,
            "grid_area": null,
            "grid_auto_columns": null,
            "grid_auto_flow": null,
            "grid_auto_rows": null,
            "grid_column": null,
            "grid_gap": null,
            "grid_row": null,
            "grid_template_areas": null,
            "grid_template_columns": null,
            "grid_template_rows": null,
            "height": null,
            "justify_content": null,
            "justify_items": null,
            "left": null,
            "margin": null,
            "max_height": null,
            "max_width": null,
            "min_height": null,
            "min_width": null,
            "object_fit": null,
            "object_position": null,
            "order": null,
            "overflow": null,
            "overflow_x": null,
            "overflow_y": null,
            "padding": null,
            "right": null,
            "top": null,
            "visibility": null,
            "width": null
          }
        },
        "a7bd8737e32642768bdbab66c96bc545": {
          "model_module": "@jupyter-widgets/controls",
          "model_name": "DescriptionStyleModel",
          "model_module_version": "1.5.0",
          "state": {
            "_model_module": "@jupyter-widgets/controls",
            "_model_module_version": "1.5.0",
            "_model_name": "DescriptionStyleModel",
            "_view_count": null,
            "_view_module": "@jupyter-widgets/base",
            "_view_module_version": "1.2.0",
            "_view_name": "StyleView",
            "description_width": ""
          }
        },
        "85a689a2d28340e4b83ea02c5a27c1e1": {
          "model_module": "@jupyter-widgets/base",
          "model_name": "LayoutModel",
          "model_module_version": "1.2.0",
          "state": {
            "_model_module": "@jupyter-widgets/base",
            "_model_module_version": "1.2.0",
            "_model_name": "LayoutModel",
            "_view_count": null,
            "_view_module": "@jupyter-widgets/base",
            "_view_module_version": "1.2.0",
            "_view_name": "LayoutView",
            "align_content": null,
            "align_items": null,
            "align_self": null,
            "border": null,
            "bottom": null,
            "display": null,
            "flex": null,
            "flex_flow": null,
            "grid_area": null,
            "grid_auto_columns": null,
            "grid_auto_flow": null,
            "grid_auto_rows": null,
            "grid_column": null,
            "grid_gap": null,
            "grid_row": null,
            "grid_template_areas": null,
            "grid_template_columns": null,
            "grid_template_rows": null,
            "height": null,
            "justify_content": null,
            "justify_items": null,
            "left": null,
            "margin": null,
            "max_height": null,
            "max_width": null,
            "min_height": null,
            "min_width": null,
            "object_fit": null,
            "object_position": null,
            "order": null,
            "overflow": null,
            "overflow_x": null,
            "overflow_y": null,
            "padding": null,
            "right": null,
            "top": null,
            "visibility": null,
            "width": null
          }
        },
        "1f8d8ad34ec7406a8ac6584f302e7460": {
          "model_module": "@jupyter-widgets/controls",
          "model_name": "ProgressStyleModel",
          "model_module_version": "1.5.0",
          "state": {
            "_model_module": "@jupyter-widgets/controls",
            "_model_module_version": "1.5.0",
            "_model_name": "ProgressStyleModel",
            "_view_count": null,
            "_view_module": "@jupyter-widgets/base",
            "_view_module_version": "1.2.0",
            "_view_name": "StyleView",
            "bar_color": null,
            "description_width": ""
          }
        },
        "cbe53c1b5d3c4a8a83765d2df6ef57b0": {
          "model_module": "@jupyter-widgets/base",
          "model_name": "LayoutModel",
          "model_module_version": "1.2.0",
          "state": {
            "_model_module": "@jupyter-widgets/base",
            "_model_module_version": "1.2.0",
            "_model_name": "LayoutModel",
            "_view_count": null,
            "_view_module": "@jupyter-widgets/base",
            "_view_module_version": "1.2.0",
            "_view_name": "LayoutView",
            "align_content": null,
            "align_items": null,
            "align_self": null,
            "border": null,
            "bottom": null,
            "display": null,
            "flex": null,
            "flex_flow": null,
            "grid_area": null,
            "grid_auto_columns": null,
            "grid_auto_flow": null,
            "grid_auto_rows": null,
            "grid_column": null,
            "grid_gap": null,
            "grid_row": null,
            "grid_template_areas": null,
            "grid_template_columns": null,
            "grid_template_rows": null,
            "height": null,
            "justify_content": null,
            "justify_items": null,
            "left": null,
            "margin": null,
            "max_height": null,
            "max_width": null,
            "min_height": null,
            "min_width": null,
            "object_fit": null,
            "object_position": null,
            "order": null,
            "overflow": null,
            "overflow_x": null,
            "overflow_y": null,
            "padding": null,
            "right": null,
            "top": null,
            "visibility": null,
            "width": null
          }
        },
        "4d0de570d3c74e07852521af0c771119": {
          "model_module": "@jupyter-widgets/controls",
          "model_name": "DescriptionStyleModel",
          "model_module_version": "1.5.0",
          "state": {
            "_model_module": "@jupyter-widgets/controls",
            "_model_module_version": "1.5.0",
            "_model_name": "DescriptionStyleModel",
            "_view_count": null,
            "_view_module": "@jupyter-widgets/base",
            "_view_module_version": "1.2.0",
            "_view_name": "StyleView",
            "description_width": ""
          }
        }
      }
    }
  },
  "nbformat": 4,
  "nbformat_minor": 0
}