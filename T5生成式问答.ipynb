{
  "nbformat": 4,
  "nbformat_minor": 0,
  "metadata": {
    "colab": {
      "provenance": [],
      "gpuType": "T4",
      "mount_file_id": "12NvBPm1DDB9sqWlDCEC6WOvfpGljDozn",
      "authorship_tag": "ABX9TyN84s0NakZjn08DkEvSDwCR",
      "include_colab_link": true
    },
    "kernelspec": {
      "name": "python3",
      "display_name": "Python 3"
    },
    "language_info": {
      "name": "python"
    },
    "widgets": {
      "application/vnd.jupyter.widget-state+json": {
        "446d9e132e95459797308e792f2e216c": {
          "model_module": "@jupyter-widgets/controls",
          "model_name": "HBoxModel",
          "model_module_version": "1.5.0",
          "state": {
            "_dom_classes": [],
            "_model_module": "@jupyter-widgets/controls",
            "_model_module_version": "1.5.0",
            "_model_name": "HBoxModel",
            "_view_count": null,
            "_view_module": "@jupyter-widgets/controls",
            "_view_module_version": "1.5.0",
            "_view_name": "HBoxView",
            "box_style": "",
            "children": [
              "IPY_MODEL_34da48d2fcc44adcbd497c2d6c044105",
              "IPY_MODEL_55112bb10c4a489faeaebb455d935626",
              "IPY_MODEL_159149bb7414445b8ffc49a755802bd3"
            ],
            "layout": "IPY_MODEL_4a523a11282d468ead61810bd47dc28c"
          }
        },
        "34da48d2fcc44adcbd497c2d6c044105": {
          "model_module": "@jupyter-widgets/controls",
          "model_name": "HTMLModel",
          "model_module_version": "1.5.0",
          "state": {
            "_dom_classes": [],
            "_model_module": "@jupyter-widgets/controls",
            "_model_module_version": "1.5.0",
            "_model_name": "HTMLModel",
            "_view_count": null,
            "_view_module": "@jupyter-widgets/controls",
            "_view_module_version": "1.5.0",
            "_view_name": "HTMLView",
            "description": "",
            "description_tooltip": null,
            "layout": "IPY_MODEL_599e9ce982d843f5b6f18294ff253233",
            "placeholder": "​",
            "style": "IPY_MODEL_c7a7458a05694e749474c4fc4bec7352",
            "value": "100%"
          }
        },
        "55112bb10c4a489faeaebb455d935626": {
          "model_module": "@jupyter-widgets/controls",
          "model_name": "FloatProgressModel",
          "model_module_version": "1.5.0",
          "state": {
            "_dom_classes": [],
            "_model_module": "@jupyter-widgets/controls",
            "_model_module_version": "1.5.0",
            "_model_name": "FloatProgressModel",
            "_view_count": null,
            "_view_module": "@jupyter-widgets/controls",
            "_view_module_version": "1.5.0",
            "_view_name": "ProgressView",
            "bar_style": "success",
            "description": "",
            "description_tooltip": null,
            "layout": "IPY_MODEL_5b9396f292a243ee8960c13a3b7fdee9",
            "max": 31,
            "min": 0,
            "orientation": "horizontal",
            "style": "IPY_MODEL_cc741ac828524c6d836a4778d44c5d96",
            "value": 31
          }
        },
        "159149bb7414445b8ffc49a755802bd3": {
          "model_module": "@jupyter-widgets/controls",
          "model_name": "HTMLModel",
          "model_module_version": "1.5.0",
          "state": {
            "_dom_classes": [],
            "_model_module": "@jupyter-widgets/controls",
            "_model_module_version": "1.5.0",
            "_model_name": "HTMLModel",
            "_view_count": null,
            "_view_module": "@jupyter-widgets/controls",
            "_view_module_version": "1.5.0",
            "_view_name": "HTMLView",
            "description": "",
            "description_tooltip": null,
            "layout": "IPY_MODEL_8d0a1c0822504b479c6b38fda73b7fec",
            "placeholder": "​",
            "style": "IPY_MODEL_f69438f8a3634e9bbbd0dbfbe8d07f91",
            "value": " 31/31 [03:43&lt;00:00,  6.87s/it]"
          }
        },
        "4a523a11282d468ead61810bd47dc28c": {
          "model_module": "@jupyter-widgets/base",
          "model_name": "LayoutModel",
          "model_module_version": "1.2.0",
          "state": {
            "_model_module": "@jupyter-widgets/base",
            "_model_module_version": "1.2.0",
            "_model_name": "LayoutModel",
            "_view_count": null,
            "_view_module": "@jupyter-widgets/base",
            "_view_module_version": "1.2.0",
            "_view_name": "LayoutView",
            "align_content": null,
            "align_items": null,
            "align_self": null,
            "border": null,
            "bottom": null,
            "display": null,
            "flex": null,
            "flex_flow": null,
            "grid_area": null,
            "grid_auto_columns": null,
            "grid_auto_flow": null,
            "grid_auto_rows": null,
            "grid_column": null,
            "grid_gap": null,
            "grid_row": null,
            "grid_template_areas": null,
            "grid_template_columns": null,
            "grid_template_rows": null,
            "height": null,
            "justify_content": null,
            "justify_items": null,
            "left": null,
            "margin": null,
            "max_height": null,
            "max_width": null,
            "min_height": null,
            "min_width": null,
            "object_fit": null,
            "object_position": null,
            "order": null,
            "overflow": null,
            "overflow_x": null,
            "overflow_y": null,
            "padding": null,
            "right": null,
            "top": null,
            "visibility": null,
            "width": null
          }
        },
        "599e9ce982d843f5b6f18294ff253233": {
          "model_module": "@jupyter-widgets/base",
          "model_name": "LayoutModel",
          "model_module_version": "1.2.0",
          "state": {
            "_model_module": "@jupyter-widgets/base",
            "_model_module_version": "1.2.0",
            "_model_name": "LayoutModel",
            "_view_count": null,
            "_view_module": "@jupyter-widgets/base",
            "_view_module_version": "1.2.0",
            "_view_name": "LayoutView",
            "align_content": null,
            "align_items": null,
            "align_self": null,
            "border": null,
            "bottom": null,
            "display": null,
            "flex": null,
            "flex_flow": null,
            "grid_area": null,
            "grid_auto_columns": null,
            "grid_auto_flow": null,
            "grid_auto_rows": null,
            "grid_column": null,
            "grid_gap": null,
            "grid_row": null,
            "grid_template_areas": null,
            "grid_template_columns": null,
            "grid_template_rows": null,
            "height": null,
            "justify_content": null,
            "justify_items": null,
            "left": null,
            "margin": null,
            "max_height": null,
            "max_width": null,
            "min_height": null,
            "min_width": null,
            "object_fit": null,
            "object_position": null,
            "order": null,
            "overflow": null,
            "overflow_x": null,
            "overflow_y": null,
            "padding": null,
            "right": null,
            "top": null,
            "visibility": null,
            "width": null
          }
        },
        "c7a7458a05694e749474c4fc4bec7352": {
          "model_module": "@jupyter-widgets/controls",
          "model_name": "DescriptionStyleModel",
          "model_module_version": "1.5.0",
          "state": {
            "_model_module": "@jupyter-widgets/controls",
            "_model_module_version": "1.5.0",
            "_model_name": "DescriptionStyleModel",
            "_view_count": null,
            "_view_module": "@jupyter-widgets/base",
            "_view_module_version": "1.2.0",
            "_view_name": "StyleView",
            "description_width": ""
          }
        },
        "5b9396f292a243ee8960c13a3b7fdee9": {
          "model_module": "@jupyter-widgets/base",
          "model_name": "LayoutModel",
          "model_module_version": "1.2.0",
          "state": {
            "_model_module": "@jupyter-widgets/base",
            "_model_module_version": "1.2.0",
            "_model_name": "LayoutModel",
            "_view_count": null,
            "_view_module": "@jupyter-widgets/base",
            "_view_module_version": "1.2.0",
            "_view_name": "LayoutView",
            "align_content": null,
            "align_items": null,
            "align_self": null,
            "border": null,
            "bottom": null,
            "display": null,
            "flex": null,
            "flex_flow": null,
            "grid_area": null,
            "grid_auto_columns": null,
            "grid_auto_flow": null,
            "grid_auto_rows": null,
            "grid_column": null,
            "grid_gap": null,
            "grid_row": null,
            "grid_template_areas": null,
            "grid_template_columns": null,
            "grid_template_rows": null,
            "height": null,
            "justify_content": null,
            "justify_items": null,
            "left": null,
            "margin": null,
            "max_height": null,
            "max_width": null,
            "min_height": null,
            "min_width": null,
            "object_fit": null,
            "object_position": null,
            "order": null,
            "overflow": null,
            "overflow_x": null,
            "overflow_y": null,
            "padding": null,
            "right": null,
            "top": null,
            "visibility": null,
            "width": null
          }
        },
        "cc741ac828524c6d836a4778d44c5d96": {
          "model_module": "@jupyter-widgets/controls",
          "model_name": "ProgressStyleModel",
          "model_module_version": "1.5.0",
          "state": {
            "_model_module": "@jupyter-widgets/controls",
            "_model_module_version": "1.5.0",
            "_model_name": "ProgressStyleModel",
            "_view_count": null,
            "_view_module": "@jupyter-widgets/base",
            "_view_module_version": "1.2.0",
            "_view_name": "StyleView",
            "bar_color": null,
            "description_width": ""
          }
        },
        "8d0a1c0822504b479c6b38fda73b7fec": {
          "model_module": "@jupyter-widgets/base",
          "model_name": "LayoutModel",
          "model_module_version": "1.2.0",
          "state": {
            "_model_module": "@jupyter-widgets/base",
            "_model_module_version": "1.2.0",
            "_model_name": "LayoutModel",
            "_view_count": null,
            "_view_module": "@jupyter-widgets/base",
            "_view_module_version": "1.2.0",
            "_view_name": "LayoutView",
            "align_content": null,
            "align_items": null,
            "align_self": null,
            "border": null,
            "bottom": null,
            "display": null,
            "flex": null,
            "flex_flow": null,
            "grid_area": null,
            "grid_auto_columns": null,
            "grid_auto_flow": null,
            "grid_auto_rows": null,
            "grid_column": null,
            "grid_gap": null,
            "grid_row": null,
            "grid_template_areas": null,
            "grid_template_columns": null,
            "grid_template_rows": null,
            "height": null,
            "justify_content": null,
            "justify_items": null,
            "left": null,
            "margin": null,
            "max_height": null,
            "max_width": null,
            "min_height": null,
            "min_width": null,
            "object_fit": null,
            "object_position": null,
            "order": null,
            "overflow": null,
            "overflow_x": null,
            "overflow_y": null,
            "padding": null,
            "right": null,
            "top": null,
            "visibility": null,
            "width": null
          }
        },
        "f69438f8a3634e9bbbd0dbfbe8d07f91": {
          "model_module": "@jupyter-widgets/controls",
          "model_name": "DescriptionStyleModel",
          "model_module_version": "1.5.0",
          "state": {
            "_model_module": "@jupyter-widgets/controls",
            "_model_module_version": "1.5.0",
            "_model_name": "DescriptionStyleModel",
            "_view_count": null,
            "_view_module": "@jupyter-widgets/base",
            "_view_module_version": "1.2.0",
            "_view_name": "StyleView",
            "description_width": ""
          }
        },
        "76583e9081d64750b7b00ecde2070d03": {
          "model_module": "@jupyter-widgets/controls",
          "model_name": "HBoxModel",
          "model_module_version": "1.5.0",
          "state": {
            "_dom_classes": [],
            "_model_module": "@jupyter-widgets/controls",
            "_model_module_version": "1.5.0",
            "_model_name": "HBoxModel",
            "_view_count": null,
            "_view_module": "@jupyter-widgets/controls",
            "_view_module_version": "1.5.0",
            "_view_name": "HBoxView",
            "box_style": "",
            "children": [
              "IPY_MODEL_4cc1ef293ea14d2cb522c4e6e5ee468e",
              "IPY_MODEL_797edb6abd5942c69d7c5fdcc010ecfe",
              "IPY_MODEL_0e848dd1f6564f3c90a20a16f34fecd8"
            ],
            "layout": "IPY_MODEL_2285233828964112a5e913d981a84934"
          }
        },
        "4cc1ef293ea14d2cb522c4e6e5ee468e": {
          "model_module": "@jupyter-widgets/controls",
          "model_name": "HTMLModel",
          "model_module_version": "1.5.0",
          "state": {
            "_dom_classes": [],
            "_model_module": "@jupyter-widgets/controls",
            "_model_module_version": "1.5.0",
            "_model_name": "HTMLModel",
            "_view_count": null,
            "_view_module": "@jupyter-widgets/controls",
            "_view_module_version": "1.5.0",
            "_view_name": "HTMLView",
            "description": "",
            "description_tooltip": null,
            "layout": "IPY_MODEL_0d7b05a9a6db47e183264a8a57035e60",
            "placeholder": "​",
            "style": "IPY_MODEL_1da5d11b3e6844078baf743b04774070",
            "value": "loss: 5.033199: 100%"
          }
        },
        "797edb6abd5942c69d7c5fdcc010ecfe": {
          "model_module": "@jupyter-widgets/controls",
          "model_name": "FloatProgressModel",
          "model_module_version": "1.5.0",
          "state": {
            "_dom_classes": [],
            "_model_module": "@jupyter-widgets/controls",
            "_model_module_version": "1.5.0",
            "_model_name": "FloatProgressModel",
            "_view_count": null,
            "_view_module": "@jupyter-widgets/controls",
            "_view_module_version": "1.5.0",
            "_view_name": "ProgressView",
            "bar_style": "",
            "description": "",
            "description_tooltip": null,
            "layout": "IPY_MODEL_31d00299ca1d4e1084d913e1ff6f224f",
            "max": 1634,
            "min": 0,
            "orientation": "horizontal",
            "style": "IPY_MODEL_91c32ced0f9d4e358bfef4e9512cad3b",
            "value": 1634
          }
        },
        "0e848dd1f6564f3c90a20a16f34fecd8": {
          "model_module": "@jupyter-widgets/controls",
          "model_name": "HTMLModel",
          "model_module_version": "1.5.0",
          "state": {
            "_dom_classes": [],
            "_model_module": "@jupyter-widgets/controls",
            "_model_module_version": "1.5.0",
            "_model_name": "HTMLModel",
            "_view_count": null,
            "_view_module": "@jupyter-widgets/controls",
            "_view_module_version": "1.5.0",
            "_view_name": "HTMLView",
            "description": "",
            "description_tooltip": null,
            "layout": "IPY_MODEL_dc8c82ee84e2498cb45d93215c6cb4ad",
            "placeholder": "​",
            "style": "IPY_MODEL_ea80814288c54e918bced19a1fee018a",
            "value": " 1634/1634 [13:00&lt;00:00,  2.41it/s]"
          }
        },
        "2285233828964112a5e913d981a84934": {
          "model_module": "@jupyter-widgets/base",
          "model_name": "LayoutModel",
          "model_module_version": "1.2.0",
          "state": {
            "_model_module": "@jupyter-widgets/base",
            "_model_module_version": "1.2.0",
            "_model_name": "LayoutModel",
            "_view_count": null,
            "_view_module": "@jupyter-widgets/base",
            "_view_module_version": "1.2.0",
            "_view_name": "LayoutView",
            "align_content": null,
            "align_items": null,
            "align_self": null,
            "border": null,
            "bottom": null,
            "display": null,
            "flex": null,
            "flex_flow": null,
            "grid_area": null,
            "grid_auto_columns": null,
            "grid_auto_flow": null,
            "grid_auto_rows": null,
            "grid_column": null,
            "grid_gap": null,
            "grid_row": null,
            "grid_template_areas": null,
            "grid_template_columns": null,
            "grid_template_rows": null,
            "height": null,
            "justify_content": null,
            "justify_items": null,
            "left": null,
            "margin": null,
            "max_height": null,
            "max_width": null,
            "min_height": null,
            "min_width": null,
            "object_fit": null,
            "object_position": null,
            "order": null,
            "overflow": null,
            "overflow_x": null,
            "overflow_y": null,
            "padding": null,
            "right": null,
            "top": null,
            "visibility": null,
            "width": null
          }
        },
        "0d7b05a9a6db47e183264a8a57035e60": {
          "model_module": "@jupyter-widgets/base",
          "model_name": "LayoutModel",
          "model_module_version": "1.2.0",
          "state": {
            "_model_module": "@jupyter-widgets/base",
            "_model_module_version": "1.2.0",
            "_model_name": "LayoutModel",
            "_view_count": null,
            "_view_module": "@jupyter-widgets/base",
            "_view_module_version": "1.2.0",
            "_view_name": "LayoutView",
            "align_content": null,
            "align_items": null,
            "align_self": null,
            "border": null,
            "bottom": null,
            "display": null,
            "flex": null,
            "flex_flow": null,
            "grid_area": null,
            "grid_auto_columns": null,
            "grid_auto_flow": null,
            "grid_auto_rows": null,
            "grid_column": null,
            "grid_gap": null,
            "grid_row": null,
            "grid_template_areas": null,
            "grid_template_columns": null,
            "grid_template_rows": null,
            "height": null,
            "justify_content": null,
            "justify_items": null,
            "left": null,
            "margin": null,
            "max_height": null,
            "max_width": null,
            "min_height": null,
            "min_width": null,
            "object_fit": null,
            "object_position": null,
            "order": null,
            "overflow": null,
            "overflow_x": null,
            "overflow_y": null,
            "padding": null,
            "right": null,
            "top": null,
            "visibility": null,
            "width": null
          }
        },
        "1da5d11b3e6844078baf743b04774070": {
          "model_module": "@jupyter-widgets/controls",
          "model_name": "DescriptionStyleModel",
          "model_module_version": "1.5.0",
          "state": {
            "_model_module": "@jupyter-widgets/controls",
            "_model_module_version": "1.5.0",
            "_model_name": "DescriptionStyleModel",
            "_view_count": null,
            "_view_module": "@jupyter-widgets/base",
            "_view_module_version": "1.2.0",
            "_view_name": "StyleView",
            "description_width": ""
          }
        },
        "31d00299ca1d4e1084d913e1ff6f224f": {
          "model_module": "@jupyter-widgets/base",
          "model_name": "LayoutModel",
          "model_module_version": "1.2.0",
          "state": {
            "_model_module": "@jupyter-widgets/base",
            "_model_module_version": "1.2.0",
            "_model_name": "LayoutModel",
            "_view_count": null,
            "_view_module": "@jupyter-widgets/base",
            "_view_module_version": "1.2.0",
            "_view_name": "LayoutView",
            "align_content": null,
            "align_items": null,
            "align_self": null,
            "border": null,
            "bottom": null,
            "display": null,
            "flex": null,
            "flex_flow": null,
            "grid_area": null,
            "grid_auto_columns": null,
            "grid_auto_flow": null,
            "grid_auto_rows": null,
            "grid_column": null,
            "grid_gap": null,
            "grid_row": null,
            "grid_template_areas": null,
            "grid_template_columns": null,
            "grid_template_rows": null,
            "height": null,
            "justify_content": null,
            "justify_items": null,
            "left": null,
            "margin": null,
            "max_height": null,
            "max_width": null,
            "min_height": null,
            "min_width": null,
            "object_fit": null,
            "object_position": null,
            "order": null,
            "overflow": null,
            "overflow_x": null,
            "overflow_y": null,
            "padding": null,
            "right": null,
            "top": null,
            "visibility": null,
            "width": null
          }
        },
        "91c32ced0f9d4e358bfef4e9512cad3b": {
          "model_module": "@jupyter-widgets/controls",
          "model_name": "ProgressStyleModel",
          "model_module_version": "1.5.0",
          "state": {
            "_model_module": "@jupyter-widgets/controls",
            "_model_module_version": "1.5.0",
            "_model_name": "ProgressStyleModel",
            "_view_count": null,
            "_view_module": "@jupyter-widgets/base",
            "_view_module_version": "1.2.0",
            "_view_name": "StyleView",
            "bar_color": null,
            "description_width": ""
          }
        },
        "dc8c82ee84e2498cb45d93215c6cb4ad": {
          "model_module": "@jupyter-widgets/base",
          "model_name": "LayoutModel",
          "model_module_version": "1.2.0",
          "state": {
            "_model_module": "@jupyter-widgets/base",
            "_model_module_version": "1.2.0",
            "_model_name": "LayoutModel",
            "_view_count": null,
            "_view_module": "@jupyter-widgets/base",
            "_view_module_version": "1.2.0",
            "_view_name": "LayoutView",
            "align_content": null,
            "align_items": null,
            "align_self": null,
            "border": null,
            "bottom": null,
            "display": null,
            "flex": null,
            "flex_flow": null,
            "grid_area": null,
            "grid_auto_columns": null,
            "grid_auto_flow": null,
            "grid_auto_rows": null,
            "grid_column": null,
            "grid_gap": null,
            "grid_row": null,
            "grid_template_areas": null,
            "grid_template_columns": null,
            "grid_template_rows": null,
            "height": null,
            "justify_content": null,
            "justify_items": null,
            "left": null,
            "margin": null,
            "max_height": null,
            "max_width": null,
            "min_height": null,
            "min_width": null,
            "object_fit": null,
            "object_position": null,
            "order": null,
            "overflow": null,
            "overflow_x": null,
            "overflow_y": null,
            "padding": null,
            "right": null,
            "top": null,
            "visibility": null,
            "width": null
          }
        },
        "ea80814288c54e918bced19a1fee018a": {
          "model_module": "@jupyter-widgets/controls",
          "model_name": "DescriptionStyleModel",
          "model_module_version": "1.5.0",
          "state": {
            "_model_module": "@jupyter-widgets/controls",
            "_model_module_version": "1.5.0",
            "_model_name": "DescriptionStyleModel",
            "_view_count": null,
            "_view_module": "@jupyter-widgets/base",
            "_view_module_version": "1.2.0",
            "_view_name": "StyleView",
            "description_width": ""
          }
        },
        "56aa81214b844520bfb7fd8d9d55f470": {
          "model_module": "@jupyter-widgets/controls",
          "model_name": "HBoxModel",
          "model_module_version": "1.5.0",
          "state": {
            "_dom_classes": [],
            "_model_module": "@jupyter-widgets/controls",
            "_model_module_version": "1.5.0",
            "_model_name": "HBoxModel",
            "_view_count": null,
            "_view_module": "@jupyter-widgets/controls",
            "_view_module_version": "1.5.0",
            "_view_name": "HBoxView",
            "box_style": "",
            "children": [
              "IPY_MODEL_6313e8ded9cc4ecda8523c5e690222ef",
              "IPY_MODEL_7023dda94707436e869edf30535059f9",
              "IPY_MODEL_87dbd547ad4f4b06a152886bec8db31b"
            ],
            "layout": "IPY_MODEL_e4c99df5bdfd4938b9fae304e490a4dd"
          }
        },
        "6313e8ded9cc4ecda8523c5e690222ef": {
          "model_module": "@jupyter-widgets/controls",
          "model_name": "HTMLModel",
          "model_module_version": "1.5.0",
          "state": {
            "_dom_classes": [],
            "_model_module": "@jupyter-widgets/controls",
            "_model_module_version": "1.5.0",
            "_model_name": "HTMLModel",
            "_view_count": null,
            "_view_module": "@jupyter-widgets/controls",
            "_view_module_version": "1.5.0",
            "_view_name": "HTMLView",
            "description": "",
            "description_tooltip": null,
            "layout": "IPY_MODEL_a39a22a5da444429868b5fbdca0c0a0a",
            "placeholder": "​",
            "style": "IPY_MODEL_fa5ce883ee7448e28cb20630af65ce27",
            "value": " 91%"
          }
        },
        "7023dda94707436e869edf30535059f9": {
          "model_module": "@jupyter-widgets/controls",
          "model_name": "FloatProgressModel",
          "model_module_version": "1.5.0",
          "state": {
            "_dom_classes": [],
            "_model_module": "@jupyter-widgets/controls",
            "_model_module_version": "1.5.0",
            "_model_name": "FloatProgressModel",
            "_view_count": null,
            "_view_module": "@jupyter-widgets/controls",
            "_view_module_version": "1.5.0",
            "_view_name": "ProgressView",
            "bar_style": "",
            "description": "",
            "description_tooltip": null,
            "layout": "IPY_MODEL_6748f1f84d0c46378c67361a8f2bef90",
            "max": 182,
            "min": 0,
            "orientation": "horizontal",
            "style": "IPY_MODEL_4e3e60131f554367add77b5d6d419169",
            "value": 166
          }
        },
        "87dbd547ad4f4b06a152886bec8db31b": {
          "model_module": "@jupyter-widgets/controls",
          "model_name": "HTMLModel",
          "model_module_version": "1.5.0",
          "state": {
            "_dom_classes": [],
            "_model_module": "@jupyter-widgets/controls",
            "_model_module_version": "1.5.0",
            "_model_name": "HTMLModel",
            "_view_count": null,
            "_view_module": "@jupyter-widgets/controls",
            "_view_module_version": "1.5.0",
            "_view_name": "HTMLView",
            "description": "",
            "description_tooltip": null,
            "layout": "IPY_MODEL_60f31a67f52644829ae4bbbc77e33a19",
            "placeholder": "​",
            "style": "IPY_MODEL_9c2c047898b54ff6a03fef58e9c17fb5",
            "value": " 166/182 [14:43&lt;01:24,  5.25s/it]"
          }
        },
        "e4c99df5bdfd4938b9fae304e490a4dd": {
          "model_module": "@jupyter-widgets/base",
          "model_name": "LayoutModel",
          "model_module_version": "1.2.0",
          "state": {
            "_model_module": "@jupyter-widgets/base",
            "_model_module_version": "1.2.0",
            "_model_name": "LayoutModel",
            "_view_count": null,
            "_view_module": "@jupyter-widgets/base",
            "_view_module_version": "1.2.0",
            "_view_name": "LayoutView",
            "align_content": null,
            "align_items": null,
            "align_self": null,
            "border": null,
            "bottom": null,
            "display": null,
            "flex": null,
            "flex_flow": null,
            "grid_area": null,
            "grid_auto_columns": null,
            "grid_auto_flow": null,
            "grid_auto_rows": null,
            "grid_column": null,
            "grid_gap": null,
            "grid_row": null,
            "grid_template_areas": null,
            "grid_template_columns": null,
            "grid_template_rows": null,
            "height": null,
            "justify_content": null,
            "justify_items": null,
            "left": null,
            "margin": null,
            "max_height": null,
            "max_width": null,
            "min_height": null,
            "min_width": null,
            "object_fit": null,
            "object_position": null,
            "order": null,
            "overflow": null,
            "overflow_x": null,
            "overflow_y": null,
            "padding": null,
            "right": null,
            "top": null,
            "visibility": null,
            "width": null
          }
        },
        "a39a22a5da444429868b5fbdca0c0a0a": {
          "model_module": "@jupyter-widgets/base",
          "model_name": "LayoutModel",
          "model_module_version": "1.2.0",
          "state": {
            "_model_module": "@jupyter-widgets/base",
            "_model_module_version": "1.2.0",
            "_model_name": "LayoutModel",
            "_view_count": null,
            "_view_module": "@jupyter-widgets/base",
            "_view_module_version": "1.2.0",
            "_view_name": "LayoutView",
            "align_content": null,
            "align_items": null,
            "align_self": null,
            "border": null,
            "bottom": null,
            "display": null,
            "flex": null,
            "flex_flow": null,
            "grid_area": null,
            "grid_auto_columns": null,
            "grid_auto_flow": null,
            "grid_auto_rows": null,
            "grid_column": null,
            "grid_gap": null,
            "grid_row": null,
            "grid_template_areas": null,
            "grid_template_columns": null,
            "grid_template_rows": null,
            "height": null,
            "justify_content": null,
            "justify_items": null,
            "left": null,
            "margin": null,
            "max_height": null,
            "max_width": null,
            "min_height": null,
            "min_width": null,
            "object_fit": null,
            "object_position": null,
            "order": null,
            "overflow": null,
            "overflow_x": null,
            "overflow_y": null,
            "padding": null,
            "right": null,
            "top": null,
            "visibility": null,
            "width": null
          }
        },
        "fa5ce883ee7448e28cb20630af65ce27": {
          "model_module": "@jupyter-widgets/controls",
          "model_name": "DescriptionStyleModel",
          "model_module_version": "1.5.0",
          "state": {
            "_model_module": "@jupyter-widgets/controls",
            "_model_module_version": "1.5.0",
            "_model_name": "DescriptionStyleModel",
            "_view_count": null,
            "_view_module": "@jupyter-widgets/base",
            "_view_module_version": "1.2.0",
            "_view_name": "StyleView",
            "description_width": ""
          }
        },
        "6748f1f84d0c46378c67361a8f2bef90": {
          "model_module": "@jupyter-widgets/base",
          "model_name": "LayoutModel",
          "model_module_version": "1.2.0",
          "state": {
            "_model_module": "@jupyter-widgets/base",
            "_model_module_version": "1.2.0",
            "_model_name": "LayoutModel",
            "_view_count": null,
            "_view_module": "@jupyter-widgets/base",
            "_view_module_version": "1.2.0",
            "_view_name": "LayoutView",
            "align_content": null,
            "align_items": null,
            "align_self": null,
            "border": null,
            "bottom": null,
            "display": null,
            "flex": null,
            "flex_flow": null,
            "grid_area": null,
            "grid_auto_columns": null,
            "grid_auto_flow": null,
            "grid_auto_rows": null,
            "grid_column": null,
            "grid_gap": null,
            "grid_row": null,
            "grid_template_areas": null,
            "grid_template_columns": null,
            "grid_template_rows": null,
            "height": null,
            "justify_content": null,
            "justify_items": null,
            "left": null,
            "margin": null,
            "max_height": null,
            "max_width": null,
            "min_height": null,
            "min_width": null,
            "object_fit": null,
            "object_position": null,
            "order": null,
            "overflow": null,
            "overflow_x": null,
            "overflow_y": null,
            "padding": null,
            "right": null,
            "top": null,
            "visibility": null,
            "width": null
          }
        },
        "4e3e60131f554367add77b5d6d419169": {
          "model_module": "@jupyter-widgets/controls",
          "model_name": "ProgressStyleModel",
          "model_module_version": "1.5.0",
          "state": {
            "_model_module": "@jupyter-widgets/controls",
            "_model_module_version": "1.5.0",
            "_model_name": "ProgressStyleModel",
            "_view_count": null,
            "_view_module": "@jupyter-widgets/base",
            "_view_module_version": "1.2.0",
            "_view_name": "StyleView",
            "bar_color": null,
            "description_width": ""
          }
        },
        "60f31a67f52644829ae4bbbc77e33a19": {
          "model_module": "@jupyter-widgets/base",
          "model_name": "LayoutModel",
          "model_module_version": "1.2.0",
          "state": {
            "_model_module": "@jupyter-widgets/base",
            "_model_module_version": "1.2.0",
            "_model_name": "LayoutModel",
            "_view_count": null,
            "_view_module": "@jupyter-widgets/base",
            "_view_module_version": "1.2.0",
            "_view_name": "LayoutView",
            "align_content": null,
            "align_items": null,
            "align_self": null,
            "border": null,
            "bottom": null,
            "display": null,
            "flex": null,
            "flex_flow": null,
            "grid_area": null,
            "grid_auto_columns": null,
            "grid_auto_flow": null,
            "grid_auto_rows": null,
            "grid_column": null,
            "grid_gap": null,
            "grid_row": null,
            "grid_template_areas": null,
            "grid_template_columns": null,
            "grid_template_rows": null,
            "height": null,
            "justify_content": null,
            "justify_items": null,
            "left": null,
            "margin": null,
            "max_height": null,
            "max_width": null,
            "min_height": null,
            "min_width": null,
            "object_fit": null,
            "object_position": null,
            "order": null,
            "overflow": null,
            "overflow_x": null,
            "overflow_y": null,
            "padding": null,
            "right": null,
            "top": null,
            "visibility": null,
            "width": null
          }
        },
        "9c2c047898b54ff6a03fef58e9c17fb5": {
          "model_module": "@jupyter-widgets/controls",
          "model_name": "DescriptionStyleModel",
          "model_module_version": "1.5.0",
          "state": {
            "_model_module": "@jupyter-widgets/controls",
            "_model_module_version": "1.5.0",
            "_model_name": "DescriptionStyleModel",
            "_view_count": null,
            "_view_module": "@jupyter-widgets/base",
            "_view_module_version": "1.2.0",
            "_view_name": "StyleView",
            "description_width": ""
          }
        }
      }
    },
    "accelerator": "GPU"
  },
  "cells": [
    {
      "cell_type": "markdown",
      "metadata": {
        "id": "view-in-github",
        "colab_type": "text"
      },
      "source": [
        "<a href=\"https://colab.research.google.com/github/adnil8130/T5LittleGenQA/blob/main/T5%E7%94%9F%E6%88%90%E5%BC%8F%E9%97%AE%E7%AD%94.ipynb\" target=\"_parent\"><img src=\"https://colab.research.google.com/assets/colab-badge.svg\" alt=\"Open In Colab\"/></a>"
      ]
    },
    {
      "cell_type": "markdown",
      "source": [
        "# 目标\n",
        "训练一个生成式问答模型，base模型采用Google T5-Base(\"uer/t5-base-chinese-cluecorpussmall\")\n",
        "\n",
        "预训练模型地址：https://huggingface.co/uer/t5-base-chinese-cluecorpussmall\n",
        "\n",
        "模型的评价指标采用BLEU-1，BLEU-2，BLEU-3，BLEU-4。"
      ],
      "metadata": {
        "id": "XB0rQXT6RK7Z"
      }
    },
    {
      "cell_type": "markdown",
      "source": [],
      "metadata": {
        "id": "dJQKxYENR7ug"
      }
    },
    {
      "cell_type": "markdown",
      "source": [
        "# 数据集\n",
        "数据集：链接：https://pan.quark.cn/s/6d4a98cd65f2    \n",
        "\n",
        "提取码：bzne\n",
        "\n",
        "数据的格式如下：\n",
        "```\n",
        "{\"context\": \"违规分为:一般违规扣分、严重违规扣分、出售假冒商品违规扣分,淘宝网每年12月31日24:00点会对符合条件的扣分做清零处理,详情如下:|温馨提醒:由于出售假冒商品24≤N<48分,当年的24分不清零,所以会存在第一年和第二年的不同计分情况。\", \"answer\": \"12月31日24:00\", \"question\": \"淘宝扣分什么时候清零\", \"id\": 203}\n",
        "```"
      ],
      "metadata": {
        "id": "9-mM3YxoRqpe"
      }
    },
    {
      "cell_type": "code",
      "source": [
        "import transformers\n",
        "import numpy as np\n",
        "import torch\n",
        "transformers.__version__"
      ],
      "metadata": {
        "colab": {
          "base_uri": "https://localhost:8080/",
          "height": 35
        },
        "id": "4XUvEc7ouncS",
        "outputId": "ea905f03-7864-4052-fa21-ce10ffe56091"
      },
      "execution_count": 89,
      "outputs": [
        {
          "output_type": "execute_result",
          "data": {
            "text/plain": [
              "'4.48.3'"
            ],
            "application/vnd.google.colaboratory.intrinsic+json": {
              "type": "string"
            }
          },
          "metadata": {},
          "execution_count": 89
        }
      ]
    },
    {
      "cell_type": "markdown",
      "source": [
        "# 1. 准备数据"
      ],
      "metadata": {
        "id": "elmV_poiR3ZE"
      }
    },
    {
      "cell_type": "code",
      "source": [
        "from torch.utils.data import Dataset, random_split\n",
        "import json"
      ],
      "metadata": {
        "id": "GQKExfTQ5uJn"
      },
      "execution_count": 90,
      "outputs": []
    },
    {
      "cell_type": "code",
      "source": [
        "! pwd"
      ],
      "metadata": {
        "colab": {
          "base_uri": "https://localhost:8080/"
        },
        "id": "GM1pE8joHiA9",
        "outputId": "8f5c8814-9c03-4d56-f691-61668be39e9b"
      },
      "execution_count": 91,
      "outputs": [
        {
          "output_type": "stream",
          "name": "stdout",
          "text": [
            "/content\n"
          ]
        }
      ]
    },
    {
      "cell_type": "code",
      "source": [
        "max_context_len = 0\n",
        "max_question_len = 0\n",
        "max_answer_len = 0\n",
        "context = \"\"\n",
        "questiont = \"\"\n",
        "answer = \"\"\n",
        "\n",
        "train_data_address = '/content/drive/MyDrive/train.json'\n",
        "dev_data_address = '/content/drive/MyDrive/dev.json'\n",
        "\n",
        "with open(train_data_address, 'rt', encoding='utf-8') as f:\n",
        "  for idx, line in enumerate(f):\n",
        "    sample = json.loads(line.strip())\n",
        "    if len(sample[\"context\"]) > max_question_len:\n",
        "        max_context_len = len(sample[\"context\"])\n",
        "        context = sample[\"context\"]\n",
        "    if len(sample[\"question\"]) > max_question_len:\n",
        "        max_question_len = len(sample[\"question\"])\n",
        "        question = sample[\"question\"]\n",
        "    if len(sample[\"answer\"]) > max_answer_len:\n",
        "        max_answer_len = len(sample[\"answer\"])\n",
        "        answer = sample[\"answer\"]\n",
        "\n",
        "with open(dev_data_address, 'rt', encoding='utf-8') as f:\n",
        "  for idx, line in enumerate(f):\n",
        "    sample = json.loads(line.strip())\n",
        "    if len(sample[\"context\"]) > max_question_len:\n",
        "        max_context_len = len(sample[\"context\"])\n",
        "        context = sample[\"context\"]\n",
        "    if len(sample[\"question\"]) > max_question_len:\n",
        "        max_question_len = len(sample[\"question\"])\n",
        "        question = sample[\"question\"]\n",
        "    if len(sample[\"answer\"]) > max_answer_len:\n",
        "        max_answer_len = len(sample[\"answer\"])\n",
        "        answer = sample[\"answer\"]\n",
        "\n",
        "print(\"最长context\", max_context_len, context)\n",
        "print(\"最长question\", max_question_len, question)\n",
        "print(\"最长answer\", max_answer_len, answer)"
      ],
      "metadata": {
        "id": "o1EUw3OTY-vk",
        "colab": {
          "base_uri": "https://localhost:8080/"
        },
        "outputId": "0ec77d95-2403-4303-8878-424598f7ab6e"
      },
      "execution_count": 92,
      "outputs": [
        {
          "output_type": "stream",
          "name": "stdout",
          "text": [
            "最长context 107 2015下半年教师资格证考试时间为11月1日，考生可于2015年10月26日—10月31日登录报名系统，根据提示下载pdf准考证文件。下载后，仔细核对个人信息，并直接打印成准考，按准考证上的要求到指定地点参加考试。\n",
            "最长question 42 痞子猪身上是什么字母? (问题由猫小逗提供)【答题格式为da+答案,例如答案是爱消除\n",
            "最长answer 110 如果下雨的时候你拖着行李箱子站在屋檐下面那么其实我没有足够的时间找一个好一点的理由抛弃家里面的狗坐上K667次列车到你在的地方找个商店买一把伞然后给我妹妹弹吉他因为她要参加比赛所以我回不去了我也不会给你说我泡面的碗还没洗\n"
          ]
        }
      ]
    },
    {
      "cell_type": "markdown",
      "source": [
        "## 构建数据集"
      ],
      "metadata": {
        "id": "BUS6E7I3STnw"
      }
    },
    {
      "cell_type": "code",
      "source": [
        "train_ratio = 0.9\n",
        "max_dataset_size = 22000\n",
        "train_set_size = 20000\n",
        "valid_set_size = 2000\n",
        "\n",
        "class GenQA(Dataset):\n",
        "  def __init__(self, data_file):\n",
        "    self.data = self.load_data(data_file)\n",
        "\n",
        "  def load_data(self, data_file):\n",
        "    Data = {}\n",
        "    with open(data_file, 'rt', encoding='utf-8') as f:\n",
        "      for idx, line in enumerate(f):\n",
        "        if idx >= max_dataset_size:\n",
        "            break\n",
        "        sample = json.loads(line.strip())\n",
        "        Data[idx] = sample\n",
        "    return Data\n",
        "\n",
        "  def __len__(self):\n",
        "    return len(self.data)\n",
        "\n",
        "  def __getitem__(self, idx):\n",
        "    return self.data[idx]\n",
        "\n",
        "data = GenQA(train_data_address)\n",
        "data_size = len(data)\n",
        "\n",
        "train_size = int(train_ratio * data_size)\n",
        "valid_size = data_size - train_size\n",
        "train_data, valid_data = random_split(data, [train_size, valid_size])\n",
        "test_data = GenQA(dev_data_address)"
      ],
      "metadata": {
        "id": "Z8ogSFxcSKWm"
      },
      "execution_count": 93,
      "outputs": []
    },
    {
      "cell_type": "code",
      "source": [
        "print(f'train set size: {len(train_data)}')\n",
        "print(f'valid set size: {len(valid_data)}')\n",
        "print(f'test set size: {len(test_data)}')\n",
        "print(next(iter(train_data)))"
      ],
      "metadata": {
        "colab": {
          "base_uri": "https://localhost:8080/"
        },
        "id": "zo_XnYqUSxi4",
        "outputId": "248344b8-97eb-4277-c993-55ee7b8fb5e8"
      },
      "execution_count": 94,
      "outputs": [
        {
          "output_type": "stream",
          "name": "stdout",
          "text": [
            "train set size: 13068\n",
            "valid set size: 1452\n",
            "test set size: 984\n",
            "{'context': '阿瓦隆（Avalon）是亚瑟王传说中的精灵国度。亚瑟在与莫德雷德的激战中死亡（一说重伤），一艘船将他带到了阿瓦隆岛。http://baike.baidu.com/subview/527381/9410559.htm?fromtitle=Avalon&fromid=9953433&type=search', 'answer': '阿瓦隆岛', 'question': '亚瑟王长眠于何处', 'id': 3103}\n"
          ]
        }
      ]
    },
    {
      "cell_type": "markdown",
      "source": [
        "## 数据预处理"
      ],
      "metadata": {
        "id": "jnqpVHVbU8NO"
      }
    },
    {
      "cell_type": "code",
      "source": [
        "from transformers import AutoTokenizer\n",
        "model_checkpoint = 'uer/t5-base-chinese-cluecorpussmall'\n",
        "# model_checkpoint = 'uer/t5-small-chinese-cluecorpussmall'\n",
        "tokenizer = AutoTokenizer.from_pretrained(model_checkpoint,return_token_type_ids=False)"
      ],
      "metadata": {
        "id": "Le1FG7QBU-O0"
      },
      "execution_count": 95,
      "outputs": []
    },
    {
      "cell_type": "code",
      "source": [
        "context = train_data[0][\"context\"]\n",
        "question = train_data[0][\"question\"]\n",
        "answer = train_data[0][\"answer\"]\n",
        "\n",
        "inputs = tokenizer(context, question)\n",
        "targets = tokenizer(answer)"
      ],
      "metadata": {
        "id": "GY1qyko-VQKd"
      },
      "execution_count": 96,
      "outputs": []
    },
    {
      "cell_type": "code",
      "source": [
        "print(tokenizer.convert_ids_to_tokens(inputs[\"input_ids\"]))\n",
        "print(tokenizer.convert_ids_to_tokens(targets[\"input_ids\"]))"
      ],
      "metadata": {
        "colab": {
          "base_uri": "https://localhost:8080/"
        },
        "id": "caY0L8I9Vies",
        "outputId": "ad5a1321-ed9d-409d-98ff-1bd189b355a0"
      },
      "execution_count": 97,
      "outputs": [
        {
          "output_type": "stream",
          "name": "stdout",
          "text": [
            "['[CLS]', '阿', '瓦', '隆', '（', '[UNK]', '）', '是', '亚', '瑟', '王', '传', '说', '中', '的', '精', '灵', '国', '度', '。', '亚', '瑟', '在', '与', '莫', '德', '雷', '德', '的', '激', '战', '中', '死', '亡', '（', '一', '说', '重', '伤', '）', '，', '一', '艘', '船', '将', '他', '带', '到', '了', '阿', '瓦', '隆', '岛', '。', 'http', ':', '/', '/', 'ba', '##ike', '.', 'baidu', '.', 'com', '/', 'su', '##b', '##view', '/', '52', '##73', '##81', '/', '94', '##10', '##55', '##9', '.', 'htm', '?', 'from', '##ti', '##tle', '=', '[UNK]', '&', 'from', '##id', '=', '99', '##53', '##43', '##3', '&', 'type', '=', 'search', '[SEP]', '亚', '瑟', '王', '长', '眠', '于', '何', '处', '[SEP]']\n",
            "['[CLS]', '阿', '瓦', '隆', '岛', '[SEP]']\n"
          ]
        }
      ]
    },
    {
      "cell_type": "code",
      "source": [
        "import torch\n",
        "\n",
        "max_input_length = 256\n",
        "max_target_length = 256\n",
        "sample_cnt = 4\n",
        "\n",
        "inputs = [train_data[s_idx][\"context\"] + train_data[s_idx][\"question\"] for s_idx in range(sample_cnt)]\n",
        "targets = [train_data[s_idx][\"answer\"] for s_idx in range(sample_cnt)]\n",
        "\n",
        "model_inputs = tokenizer(\n",
        "    inputs,\n",
        "    padding=True,\n",
        "    max_length=max_input_length,\n",
        "    truncation=True,\n",
        "    return_tensors=\"pt\",\n",
        "    return_token_type_ids=False\n",
        ")\n",
        "labels = tokenizer(\n",
        "    text_target=targets,\n",
        "    padding=True,\n",
        "    max_length=max_target_length,\n",
        "    truncation=True,\n",
        "    return_tensors=\"pt\",\n",
        "    return_token_type_ids=False\n",
        ")[\"input_ids\"]\n",
        "\n",
        "end_token_index = torch.where(labels == 102)[-1]\n",
        "for idx, end_idx in enumerate(end_token_index):\n",
        "    labels[idx][end_idx+1:] = -100\n",
        "\n",
        "print('batch_X shape:', {k: v.shape for k, v in model_inputs.items()})\n",
        "print('batch_y shape:', labels.shape)\n",
        "print(model_inputs)\n",
        "print(labels)"
      ],
      "metadata": {
        "colab": {
          "base_uri": "https://localhost:8080/"
        },
        "collapsed": true,
        "id": "MjjjsKUBVu36",
        "outputId": "9d1530d1-b7c0-463a-aa11-4df1cf30ec18"
      },
      "execution_count": 98,
      "outputs": [
        {
          "output_type": "stream",
          "name": "stdout",
          "text": [
            "batch_X shape: {'input_ids': torch.Size([4, 256]), 'attention_mask': torch.Size([4, 256])}\n",
            "batch_y shape: torch.Size([4, 13])\n",
            "{'input_ids': tensor([[ 101, 7350, 4482,  ...,    0,    0,    0],\n",
            "        [ 101, 7674, 1044,  ...,    0,    0,    0],\n",
            "        [ 101,  782, 4638,  ...,  119, 8115,  102],\n",
            "        [ 101, 2456, 6392,  ..., 6821, 7027,  102]]), 'attention_mask': tensor([[1, 1, 1,  ..., 0, 0, 0],\n",
            "        [1, 1, 1,  ..., 0, 0, 0],\n",
            "        [1, 1, 1,  ..., 1, 1, 1],\n",
            "        [1, 1, 1,  ..., 1, 1, 1]])}\n",
            "tensor([[ 101, 7350, 4482, 7384, 2270,  102, -100, -100, -100, -100, -100, -100,\n",
            "         -100],\n",
            "        [ 101, 8115,  119,  123, 1330, 5101,  190, 8311,  119,  123, 1330, 5101,\n",
            "          102],\n",
            "        [ 101,  121,  119, 9048,  102, -100, -100, -100, -100, -100, -100, -100,\n",
            "         -100],\n",
            "        [ 101,  124, 1039,  102, -100, -100, -100, -100, -100, -100, -100, -100,\n",
            "         -100]])\n"
          ]
        }
      ]
    },
    {
      "cell_type": "markdown",
      "source": [],
      "metadata": {
        "id": "XBitfLngKwq2"
      }
    },
    {
      "cell_type": "code",
      "source": [
        "import torch\n",
        "from torch.utils.data import DataLoader\n",
        "from transformers import AutoModelForSeq2SeqLM\n",
        "import gc\n",
        "\n",
        "\n",
        "max_length = 256\n",
        "train_batch_size = 8\n",
        "test_batch_size = 32\n",
        "\n",
        "device = 'cuda' if torch.cuda.is_available() else xm.xla_device()\n",
        "print(f'Using {device} device')\n",
        "\n",
        "def clean_cuda(device):\n",
        "    if device == 'cuda':\n",
        "        # 清理无用变量\n",
        "        gc.collect()\n",
        "        torch.cuda.empty_cache()\n",
        "\n",
        "        # 查看清理后剩余显存\n",
        "        print(f\"释放后可用显存: {torch.cuda.mem_get_info()[0]/1024**3:.2f} GB\")\n",
        "\n",
        "clean_cuda(device)\n",
        "model = AutoModelForSeq2SeqLM.from_pretrained(model_checkpoint)\n",
        "model = model.to(device)\n",
        "\n",
        "def collote_fn(batch_samples):\n",
        "    batch_inputs, batch_targets = [], []\n",
        "    for sample in batch_samples:\n",
        "        batch_inputs.append(sample[\"context\"] + sample[\"question\"])\n",
        "        batch_targets.append(sample['answer'])\n",
        "    batch_data = tokenizer(\n",
        "        batch_inputs,\n",
        "        text_target=batch_targets,\n",
        "        padding=True,\n",
        "        max_length=max_length,\n",
        "        truncation=True,\n",
        "        return_tensors=\"pt\",\n",
        "        return_token_type_ids=False\n",
        "    )\n",
        "    batch_data['decoder_input_ids'] = model.prepare_decoder_input_ids_from_labels(batch_data['labels'])\n",
        "    end_token_index = torch.where(batch_data['labels'] == 102)[-1]\n",
        "    for idx, end_idx in enumerate(end_token_index):\n",
        "        batch_data['labels'][idx][end_idx+1:] = -100\n",
        "    return batch_data\n",
        "\n",
        "train_dataloader = DataLoader(train_data, batch_size=train_batch_size, shuffle=True, collate_fn=collote_fn)\n",
        "valid_dataloader = DataLoader(valid_data, batch_size=test_batch_size, shuffle=False, collate_fn=collote_fn)"
      ],
      "metadata": {
        "colab": {
          "base_uri": "https://localhost:8080/",
          "height": 53
        },
        "id": "9WBkuH4sdMOq",
        "outputId": "6fd5756c-75f6-475b-d5c0-4890cfad6978"
      },
      "execution_count": 111,
      "outputs": [
        {
          "output_type": "stream",
          "name": "stdout",
          "text": [
            "Using cuda device\n",
            "释放后可用显存: 11.75 GB\n"
          ]
        }
      ]
    },
    {
      "cell_type": "code",
      "source": [
        "batch = next(iter(train_dataloader))\n",
        "print(batch.keys())\n",
        "print('batch shape:', {k: v.shape for k, v in batch.items()})\n",
        "print(batch)"
      ],
      "metadata": {
        "colab": {
          "base_uri": "https://localhost:8080/"
        },
        "id": "lR9ghtPidvfn",
        "outputId": "e151c9cf-ea7f-4dd2-9000-bc4375f1dec7"
      },
      "execution_count": 100,
      "outputs": [
        {
          "output_type": "stream",
          "name": "stdout",
          "text": [
            "dict_keys(['input_ids', 'attention_mask', 'labels', 'decoder_input_ids'])\n",
            "batch shape: {'input_ids': torch.Size([32, 256]), 'attention_mask': torch.Size([32, 256]), 'labels': torch.Size([32, 10]), 'decoder_input_ids': torch.Size([32, 10])}\n",
            "{'input_ids': tensor([[ 101, 2791, 4371,  ...,  671, 3613,  102],\n",
            "        [ 101, 1765, 4026,  ...,  782, 4638,  102],\n",
            "        [ 101, 4343, 1762,  ..., 6121,  749,  102],\n",
            "        ...,\n",
            "        [ 101, 2418, 6421,  ..., 8024,  872,  102],\n",
            "        [ 101, 5283, 7188,  ...,    0,    0,    0],\n",
            "        [ 101, 3336, 4502,  ..., 1914, 7415,  102]]), 'attention_mask': tensor([[1, 1, 1,  ..., 1, 1, 1],\n",
            "        [1, 1, 1,  ..., 1, 1, 1],\n",
            "        [1, 1, 1,  ..., 1, 1, 1],\n",
            "        ...,\n",
            "        [1, 1, 1,  ..., 1, 1, 1],\n",
            "        [1, 1, 1,  ..., 0, 0, 0],\n",
            "        [1, 1, 1,  ..., 1, 1, 1]]), 'labels': tensor([[  101,   671,   702,   102,  -100,  -100,  -100,  -100,  -100,  -100],\n",
            "        [  101,  7478,  2382,  5708,   102,  -100,  -100,  -100,  -100,  -100],\n",
            "        [  101,  4343,   102,  -100,  -100,  -100,  -100,  -100,  -100,  -100],\n",
            "        [  101,  1315,  4178,  2466,  4510,  4178,  3717,  1690,   102,  -100],\n",
            "        [  101,  4333,  6501,   102,  -100,  -100,  -100,  -100,  -100,  -100],\n",
            "        [  101,   124,  2399,  6574,   924,   102,  -100,  -100,  -100,  -100],\n",
            "        [  101,  9928,  8157,  1283,   783,  1779,  4778,   102,  -100,  -100],\n",
            "        [  101,  8119,  2399,  8111,  3299,  8114,  3189,   102,  -100,  -100],\n",
            "        [  101,   122,  5101,  8419,   102,  -100,  -100,  -100,  -100,  -100],\n",
            "        [  101,   676,  3418,   102,  -100,  -100,  -100,  -100,  -100,  -100],\n",
            "        [  101,  7434,  5709,  1957,  4868,  7987,   102,  -100,  -100,  -100],\n",
            "        [  101,  4422,   102,  -100,  -100,  -100,  -100,  -100,  -100,  -100],\n",
            "        [  101,   122,   119,   123,  8225,   118,   122,   119,   100,   102],\n",
            "        [  101,   723,  7987,  5763,   102,  -100,  -100,  -100,  -100,  -100],\n",
            "        [  101,  3225,   102,  -100,  -100,  -100,  -100,  -100,  -100,  -100],\n",
            "        [  101, 10873,  8161,   119,   128,   674,  6775,   102,  -100,  -100],\n",
            "        [  101,  3330,   837,   102,  -100,  -100,  -100,  -100,  -100,  -100],\n",
            "        [  101,   123,   118,   118,   124,  1921,   102,  -100,  -100,  -100],\n",
            "        [  101,  5872,  5701,  2270,  2356,   102,  -100,  -100,  -100,  -100],\n",
            "        [  101,  3996,  5513,  2398,  5498,   102,  -100,  -100,  -100,  -100],\n",
            "        [  101,   100,  7607,  3322,   102,  -100,  -100,  -100,  -100,  -100],\n",
            "        [  101,   123,   674,  1168,   124,   674,  2340,  1381,   102,  -100],\n",
            "        [  101,  6145,  7333,  2768,   102,  -100,  -100,  -100,  -100,  -100],\n",
            "        [  101,  5774,  7029,  3724,  4495,   100,   118,  8150,   102,  -100],\n",
            "        [  101,   123,  5101,  1168,   123,   119,   127,  5101,   102,  -100],\n",
            "        [  101,  9805,  4157,  1318,   102,  -100,  -100,  -100,  -100,  -100],\n",
            "        [  101,  5739,  5838,  1046,   102,  -100,  -100,  -100,  -100,  -100],\n",
            "        [  101, 10719,   102,  -100,  -100,  -100,  -100,  -100,  -100,  -100],\n",
            "        [  101,  5381,  6858,   758,  1277,  2609,  4448,  4377,   102,  -100],\n",
            "        [  101,  5709,  1283,  7755,   102,  -100,  -100,  -100,  -100,  -100],\n",
            "        [  101,  9491,  8157,  2428,   102,  -100,  -100,  -100,  -100,  -100],\n",
            "        [  101,  1538,  3308,   102,  -100,  -100,  -100,  -100,  -100,  -100]]), 'decoder_input_ids': tensor([[  101,   101,   671,   702,   102,     0,     0,     0,     0,     0],\n",
            "        [  101,   101,  7478,  2382,  5708,   102,     0,     0,     0,     0],\n",
            "        [  101,   101,  4343,   102,     0,     0,     0,     0,     0,     0],\n",
            "        [  101,   101,  1315,  4178,  2466,  4510,  4178,  3717,  1690,   102],\n",
            "        [  101,   101,  4333,  6501,   102,     0,     0,     0,     0,     0],\n",
            "        [  101,   101,   124,  2399,  6574,   924,   102,     0,     0,     0],\n",
            "        [  101,   101,  9928,  8157,  1283,   783,  1779,  4778,   102,     0],\n",
            "        [  101,   101,  8119,  2399,  8111,  3299,  8114,  3189,   102,     0],\n",
            "        [  101,   101,   122,  5101,  8419,   102,     0,     0,     0,     0],\n",
            "        [  101,   101,   676,  3418,   102,     0,     0,     0,     0,     0],\n",
            "        [  101,   101,  7434,  5709,  1957,  4868,  7987,   102,     0,     0],\n",
            "        [  101,   101,  4422,   102,     0,     0,     0,     0,     0,     0],\n",
            "        [  101,   101,   122,   119,   123,  8225,   118,   122,   119,   100],\n",
            "        [  101,   101,   723,  7987,  5763,   102,     0,     0,     0,     0],\n",
            "        [  101,   101,  3225,   102,     0,     0,     0,     0,     0,     0],\n",
            "        [  101,   101, 10873,  8161,   119,   128,   674,  6775,   102,     0],\n",
            "        [  101,   101,  3330,   837,   102,     0,     0,     0,     0,     0],\n",
            "        [  101,   101,   123,   118,   118,   124,  1921,   102,     0,     0],\n",
            "        [  101,   101,  5872,  5701,  2270,  2356,   102,     0,     0,     0],\n",
            "        [  101,   101,  3996,  5513,  2398,  5498,   102,     0,     0,     0],\n",
            "        [  101,   101,   100,  7607,  3322,   102,     0,     0,     0,     0],\n",
            "        [  101,   101,   123,   674,  1168,   124,   674,  2340,  1381,   102],\n",
            "        [  101,   101,  6145,  7333,  2768,   102,     0,     0,     0,     0],\n",
            "        [  101,   101,  5774,  7029,  3724,  4495,   100,   118,  8150,   102],\n",
            "        [  101,   101,   123,  5101,  1168,   123,   119,   127,  5101,   102],\n",
            "        [  101,   101,  9805,  4157,  1318,   102,     0,     0,     0,     0],\n",
            "        [  101,   101,  5739,  5838,  1046,   102,     0,     0,     0,     0],\n",
            "        [  101,   101, 10719,   102,     0,     0,     0,     0,     0,     0],\n",
            "        [  101,   101,  5381,  6858,   758,  1277,  2609,  4448,  4377,   102],\n",
            "        [  101,   101,  5709,  1283,  7755,   102,     0,     0,     0,     0],\n",
            "        [  101,   101,  9491,  8157,  2428,   102,     0,     0,     0,     0],\n",
            "        [  101,   101,  1538,  3308,   102,     0,     0,     0,     0,     0]])}\n"
          ]
        }
      ]
    },
    {
      "cell_type": "markdown",
      "source": [
        "# 2. 模型训练"
      ],
      "metadata": {
        "id": "VJdOb5nxesPB"
      }
    },
    {
      "cell_type": "markdown",
      "source": [
        "## 优化模型参数"
      ],
      "metadata": {
        "id": "ZHyz8nghijIG"
      }
    },
    {
      "cell_type": "code",
      "source": [
        "loss_record_step = []"
      ],
      "metadata": {
        "id": "3zWaX_ADnfB9"
      },
      "execution_count": null,
      "outputs": []
    },
    {
      "cell_type": "code",
      "source": [
        "from tqdm.auto import tqdm\n",
        "\n",
        "def train_loop(dataloader, model, optimizer, lr_scheduler, epoch, total_loss):\n",
        "    progress_bar = tqdm(range(len(dataloader)))\n",
        "    progress_bar.set_description(f'loss: {0:>7f}')\n",
        "    finish_batch_num = (epoch-1) * len(dataloader)\n",
        "\n",
        "    model.train()\n",
        "    loss_record_step = []\n",
        "    for batch, batch_data in enumerate(dataloader, start=1):\n",
        "        batch_data = batch_data.to(device)\n",
        "        # print(batch_data)\n",
        "        outputs = model(**batch_data)\n",
        "        loss = outputs.loss\n",
        "\n",
        "        optimizer.zero_grad()\n",
        "        loss.backward()\n",
        "        optimizer.step()\n",
        "        lr_scheduler.step()\n",
        "\n",
        "        total_loss += loss.item()\n",
        "        loss_record_step.append(loss.item())\n",
        "        progress_bar.set_description(f'loss: {total_loss/(finish_batch_num + batch):>7f}')\n",
        "        progress_bar.update(1)\n",
        "    return total_loss, loss_record_step"
      ],
      "metadata": {
        "id": "CRDgt2jwey54"
      },
      "execution_count": 124,
      "outputs": []
    },
    {
      "cell_type": "markdown",
      "source": [
        "## 评估指标"
      ],
      "metadata": {
        "id": "ehnFChOsio3D"
      }
    },
    {
      "cell_type": "code",
      "source": [
        "! pip install sacrebleu"
      ],
      "metadata": {
        "collapsed": true,
        "id": "LpRNVcWRfiEO",
        "colab": {
          "base_uri": "https://localhost:8080/"
        },
        "outputId": "f6c0a40b-7277-4973-d923-e10f0b18584d"
      },
      "execution_count": 102,
      "outputs": [
        {
          "output_type": "stream",
          "name": "stdout",
          "text": [
            "Requirement already satisfied: sacrebleu in /usr/local/lib/python3.11/dist-packages (2.5.1)\n",
            "Requirement already satisfied: portalocker in /usr/local/lib/python3.11/dist-packages (from sacrebleu) (3.1.1)\n",
            "Requirement already satisfied: regex in /usr/local/lib/python3.11/dist-packages (from sacrebleu) (2024.11.6)\n",
            "Requirement already satisfied: tabulate>=0.8.9 in /usr/local/lib/python3.11/dist-packages (from sacrebleu) (0.9.0)\n",
            "Requirement already satisfied: numpy>=1.17 in /usr/local/lib/python3.11/dist-packages (from sacrebleu) (1.26.4)\n",
            "Requirement already satisfied: colorama in /usr/local/lib/python3.11/dist-packages (from sacrebleu) (0.4.6)\n",
            "Requirement already satisfied: lxml in /usr/local/lib/python3.11/dist-packages (from sacrebleu) (5.3.1)\n"
          ]
        }
      ]
    },
    {
      "cell_type": "code",
      "source": [
        "from sacrebleu.metrics import BLEU\n",
        "\n",
        "predictions = [\n",
        "    \"This plugin lets you translate web pages between several languages automatically.\"\n",
        "]\n",
        "bad_predictions_1 = [\"This This This This\"]\n",
        "bad_predictions_2 = [\"This plugin\"]\n",
        "references = [\n",
        "    [\n",
        "        \"This plugin allows you to automatically translate web pages between several languages.\"\n",
        "    ]\n",
        "]\n",
        "\n",
        "bleu1 = BLEU(max_ngram_order=1)\n",
        "print(\"==========BLEU-1==========\")\n",
        "print(bleu1.corpus_score(predictions, references).score)\n",
        "print(bleu1.corpus_score(bad_predictions_1, references).score)\n",
        "print(bleu1.corpus_score(bad_predictions_2, references).score)\n",
        "\n",
        "bleu2 = BLEU(max_ngram_order=2)\n",
        "print(\"==========BLEU-2==========\")\n",
        "print(bleu2.corpus_score(predictions, references).score)\n",
        "print(bleu2.corpus_score(bad_predictions_1, references).score)\n",
        "print(bleu2.corpus_score(bad_predictions_2, references).score)\n",
        "\n",
        "bleu3 = BLEU(max_ngram_order=3)\n",
        "print(\"==========BLEU-3==========\")\n",
        "print(bleu3.corpus_score(predictions, references).score)\n",
        "print(bleu3.corpus_score(bad_predictions_1, references).score)\n",
        "print(bleu3.corpus_score(bad_predictions_2, references).score)\n",
        "\n",
        "bleu4 = BLEU(max_ngram_order=4)\n",
        "print(\"==========BLEU-4==========\")\n",
        "print(bleu4.corpus_score(predictions, references).score)\n",
        "print(bleu4.corpus_score(bad_predictions_1, references).score)\n",
        "print(bleu4.corpus_score(bad_predictions_2, references).score)"
      ],
      "metadata": {
        "colab": {
          "base_uri": "https://localhost:8080/"
        },
        "id": "IB3M-Slvffim",
        "outputId": "b796b1d1-ea05-412d-fc03-7ef05cd31700"
      },
      "execution_count": 103,
      "outputs": [
        {
          "output_type": "stream",
          "name": "stdout",
          "text": [
            "==========BLEU-1==========\n",
            "84.33740467435464\n",
            "2.634980614046608\n",
            "0.40867714384640685\n",
            "==========BLEU-2==========\n",
            "65.05696445772017\n",
            "2.1514526621798953\n",
            "0.40867714384640685\n",
            "==========BLEU-3==========\n",
            "53.804523766396244\n",
            "1.8269935164445736\n",
            "0.0\n",
            "==========BLEU-4==========\n",
            "46.750469682990165\n",
            "1.683602693167689\n",
            "0.0\n"
          ]
        }
      ]
    },
    {
      "cell_type": "code",
      "source": [
        "def test_loop(dataloader, model):\n",
        "    preds, labels = [], []\n",
        "\n",
        "    model.eval()\n",
        "    for batch_data in tqdm(dataloader):\n",
        "        batch_data = batch_data.to(device)\n",
        "        with torch.no_grad():\n",
        "            generated_tokens = model.generate(\n",
        "                batch_data[\"input_ids\"],\n",
        "                attention_mask=batch_data[\"attention_mask\"],\n",
        "                max_length=max_length,\n",
        "            ).cpu().numpy()\n",
        "        label_tokens = batch_data[\"labels\"].cpu().numpy()\n",
        "\n",
        "        decoded_preds = tokenizer.batch_decode(generated_tokens, skip_special_tokens=True)\n",
        "        label_tokens = np.where(label_tokens != -100, label_tokens, tokenizer.pad_token_id)\n",
        "        decoded_labels = tokenizer.batch_decode(label_tokens, skip_special_tokens=True)\n",
        "\n",
        "        preds += [pred.strip() for pred in decoded_preds]\n",
        "        labels += [[label.strip()] for label in decoded_labels]\n",
        "    return bleu1.corpus_score(preds, labels).score, bleu2.corpus_score(preds, labels).score, bleu3.corpus_score(preds, labels).score, bleu4.corpus_score(preds, labels).score"
      ],
      "metadata": {
        "id": "VxlqEdXEhvlq"
      },
      "execution_count": 104,
      "outputs": []
    },
    {
      "cell_type": "markdown",
      "source": [
        "## 保存模型"
      ],
      "metadata": {
        "id": "L46eosJXsuju"
      }
    },
    {
      "cell_type": "code",
      "source": [
        "def test_loop(dataloader, model):\n",
        "    preds, labels = [], []\n",
        "\n",
        "    model.eval()\n",
        "    for batch_data in tqdm(dataloader):\n",
        "        batch_data = batch_data.to(device)\n",
        "        with torch.no_grad():\n",
        "            generated_tokens = model.generate(\n",
        "                batch_data[\"input_ids\"],\n",
        "                attention_mask=batch_data[\"attention_mask\"],\n",
        "                max_length=max_length,\n",
        "            ).cpu().numpy()\n",
        "        label_tokens = batch_data[\"labels\"].cpu().numpy()\n",
        "\n",
        "        decoded_preds = tokenizer.batch_decode(generated_tokens, skip_special_tokens=True)\n",
        "        label_tokens = np.where(label_tokens != -100, label_tokens, tokenizer.pad_token_id)\n",
        "        decoded_labels = tokenizer.batch_decode(label_tokens, skip_special_tokens=True)\n",
        "\n",
        "        preds += [pred.strip() for pred in decoded_preds]\n",
        "        labels += [[label.strip()] for label in decoded_labels]\n",
        "    return bleu1.corpus_score(preds, labels).score, bleu2.corpus_score(preds, labels).score, bleu3.corpus_score(preds, labels).score, bleu4.corpus_score(preds, labels).score"
      ],
      "metadata": {
        "id": "lJ6ig1cXAxwT"
      },
      "execution_count": 105,
      "outputs": []
    },
    {
      "cell_type": "code",
      "source": [
        "# test_data = GenQA(dev_data_address)\n",
        "# test_dataloader = DataLoader(test_data, batch_size=batch_size, shuffle=False, collate_fn=collote_fn)\n",
        "\n",
        "# test_loop(test_dataloader, model)"
      ],
      "metadata": {
        "colab": {
          "base_uri": "https://localhost:8080/",
          "height": 67,
          "referenced_widgets": [
            "446d9e132e95459797308e792f2e216c",
            "34da48d2fcc44adcbd497c2d6c044105",
            "55112bb10c4a489faeaebb455d935626",
            "159149bb7414445b8ffc49a755802bd3",
            "4a523a11282d468ead61810bd47dc28c",
            "599e9ce982d843f5b6f18294ff253233",
            "c7a7458a05694e749474c4fc4bec7352",
            "5b9396f292a243ee8960c13a3b7fdee9",
            "cc741ac828524c6d836a4778d44c5d96",
            "8d0a1c0822504b479c6b38fda73b7fec",
            "f69438f8a3634e9bbbd0dbfbe8d07f91"
          ]
        },
        "id": "gI25jCsQwp7w",
        "outputId": "d709e132-e154-48e9-9db4-3cfffd141d95"
      },
      "execution_count": 106,
      "outputs": [
        {
          "output_type": "display_data",
          "data": {
            "text/plain": [
              "  0%|          | 0/31 [00:00<?, ?it/s]"
            ],
            "application/vnd.jupyter.widget-view+json": {
              "version_major": 2,
              "version_minor": 0,
              "model_id": "446d9e132e95459797308e792f2e216c"
            }
          },
          "metadata": {}
        },
        {
          "output_type": "execute_result",
          "data": {
            "text/plain": [
              "(0.0, 0.0, 0.0, 0.0)"
            ]
          },
          "metadata": {},
          "execution_count": 106
        }
      ]
    },
    {
      "cell_type": "code",
      "source": [
        "import matplotlib.pyplot as plt\n",
        "import numpy as np\n",
        "\n",
        "def save_data_and_plot(data, txt_file_path, img_file_path):\n",
        "    # ===================== 写入文件部分 =====================\n",
        "    # 追加写入数据（自动创建文件）\n",
        "    with open(txt_file_path, 'a') as f:\n",
        "        # 将数字转为字符串并换行写入\n",
        "        f.write('\\n'.join(map(str, original_data)))\n",
        "        f.write('\\n')  # 添加换行符分隔不同写入批次\n",
        "\n",
        "    # ===================== 读取文件部分 =====================\n",
        "    # 从文件读取所有数字\n",
        "    loaded_data = []\n",
        "    try:\n",
        "        with open(txt_file_path, 'r') as f:\n",
        "            for line in f:\n",
        "                # 去除空白字符并尝试转换为浮点数\n",
        "                cleaned_line = line.strip()\n",
        "                if cleaned_line:\n",
        "                    loaded_data.append(float(cleaned_line))\n",
        "    except FileNotFoundError:\n",
        "        print(\"错误：文件不存在\")\n",
        "        exit()\n",
        "\n",
        "    # ===================== 绘图部分 =====================\n",
        "    plt.figure(figsize=(10, 6))\n",
        "    plt.plot(loaded_data,\n",
        "            color='green',\n",
        "            linestyle='--',\n",
        "            marker='s',\n",
        "            markersize=8,\n",
        "            linewidth=2)\n",
        "\n",
        "    # 图表装饰\n",
        "    plt.title(\"数值变化曲线\", fontsize=14, pad=20)\n",
        "    plt.xlabel(\"数据索引\", fontsize=12, labelpad=10)\n",
        "    plt.ylabel(\"测量值\", fontsize=12, labelpad=10)\n",
        "    plt.grid(True, alpha=0.4, linestyle=':')\n",
        "\n",
        "    # 自动调整坐标轴范围\n",
        "    plt.xlim(0, len(loaded_data)-1)\n",
        "    plt.ylim(min(loaded_data)-1, max(loaded_data)+1)\n",
        "\n",
        "    # 保存和显示\n",
        "    plt.savefig(img_file_path, dpi=300, bbox_inches='tight')\n",
        "    plt.close()  # 关闭图表释放内存\n",
        "\n",
        "    print(\"操作结果：\")\n",
        "    print(f\"- 数据已保存至 {txt_file_path}\")\n",
        "    print(f\"- 生成曲线图：{img_file_path}\")\n",
        "    print(f\"- 加载数据量：{len(loaded_data)} 条\")"
      ],
      "metadata": {
        "id": "byUCeeMq3r7v"
      },
      "execution_count": 8,
      "outputs": []
    },
    {
      "cell_type": "code",
      "source": [
        "loss_record = []"
      ],
      "metadata": {
        "id": "qse4LPTwOUI8"
      },
      "execution_count": 107,
      "outputs": []
    },
    {
      "cell_type": "code",
      "source": [
        "from transformers import AdamW, get_scheduler\n",
        "\n",
        "learning_rate = 2e-5\n",
        "epoch_num = 50\n",
        "\n",
        "optimizer = AdamW(model.parameters(), lr=learning_rate)\n",
        "lr_scheduler = get_scheduler(\n",
        "    \"linear\",\n",
        "    optimizer=optimizer,\n",
        "    num_warmup_steps=0,\n",
        "    num_training_steps=epoch_num*len(train_dataloader),\n",
        ")\n",
        "\n",
        "total_loss = 0.\n",
        "best_bleu1 = 0.\n",
        "best_bleu2 = 0.\n",
        "best_bleu3 = 0.\n",
        "best_bleu4 = 0.\n",
        "best_bleu_weighted_add = 0.\n",
        "txt_file_path = '/content/drive/MyDrive/lossdata.txt'\n",
        "img_file_path = '/content/drive/MyDrive/lossdata.png'\n",
        "\n",
        "for t in range(epoch_num):\n",
        "    clean_cuda(device)\n",
        "    print(f\"Epoch {t+1}/{epoch_num}\\n-------------------------------\")\n",
        "\n",
        "    total_loss, loss_record_step = train_loop(train_dataloader, model, optimizer, lr_scheduler, t+1, total_loss)\n",
        "    save_data_and_plot(loss_record_step, txt_file_path, img_file_path)\n",
        "    clean_cuda(device)\n",
        "    valid_bleu1, valid_bleu2, valid_bleu3, valid_bleu4 = test_loop(valid_dataloader, model)\n",
        "    print(f\"BLEU1: {valid_bleu1:>0.2f}\\n\")\n",
        "    if valid_bleu1 > best_bleu1:\n",
        "        best_bleu1 = valid_bleu1\n",
        "    print(f\"BLEU2: {valid_bleu2:>0.2f}\\n\")\n",
        "    if valid_bleu2 > best_bleu2:\n",
        "        best_bleu2 = valid_bleu2\n",
        "    print(f\"BLEU3: {valid_bleu3:>0.2f}\\n\")\n",
        "    if valid_bleu3 > best_bleu3:\n",
        "        best_bleu3 = valid_bleu3\n",
        "    print(f\"BLEU4: {valid_bleu4:>0.2f}\\n\")\n",
        "    if valid_bleu4 > best_bleu4:\n",
        "        best_bleu4 = valid_bleu4\n",
        "\n",
        "    valid_bleu = 0.1 * valid_bleu1 + 0.2 * valid_bleu2 + 0.3 * valid_bleu3 + 0.4 * valid_bleu4\n",
        "    if valid_bleu > best_bleu_weighted_add or epoch_num % 2 == 0:\n",
        "        best_bleu_weighted_add = valid_bleu\n",
        "        print('saving new weights...\\n')\n",
        "        torch.save(model.state_dict(), f'/content/drive/MyDrive/epoch_{t+1}_loss_{loss_record_step[-1]:0.7f}_valid_bleu_{valid_bleu:0.2f}_model_weights.bin')\n",
        "    clean_cuda(device)\n",
        "print(\"Done!\")"
      ],
      "metadata": {
        "colab": {
          "base_uri": "https://localhost:8080/",
          "height": 135,
          "referenced_widgets": [
            "76583e9081d64750b7b00ecde2070d03",
            "4cc1ef293ea14d2cb522c4e6e5ee468e",
            "797edb6abd5942c69d7c5fdcc010ecfe",
            "0e848dd1f6564f3c90a20a16f34fecd8",
            "2285233828964112a5e913d981a84934",
            "0d7b05a9a6db47e183264a8a57035e60",
            "1da5d11b3e6844078baf743b04774070",
            "31d00299ca1d4e1084d913e1ff6f224f",
            "91c32ced0f9d4e358bfef4e9512cad3b",
            "dc8c82ee84e2498cb45d93215c6cb4ad",
            "ea80814288c54e918bced19a1fee018a",
            "56aa81214b844520bfb7fd8d9d55f470",
            "6313e8ded9cc4ecda8523c5e690222ef",
            "7023dda94707436e869edf30535059f9",
            "87dbd547ad4f4b06a152886bec8db31b",
            "e4c99df5bdfd4938b9fae304e490a4dd",
            "a39a22a5da444429868b5fbdca0c0a0a",
            "fa5ce883ee7448e28cb20630af65ce27",
            "6748f1f84d0c46378c67361a8f2bef90",
            "4e3e60131f554367add77b5d6d419169",
            "60f31a67f52644829ae4bbbc77e33a19",
            "9c2c047898b54ff6a03fef58e9c17fb5"
          ]
        },
        "id": "2UZZUYopsts1",
        "outputId": "05231a38-6d89-4716-e252-50725bbd572b"
      },
      "execution_count": null,
      "outputs": [
        {
          "output_type": "stream",
          "name": "stdout",
          "text": [
            "释放后可用显存: 8.85 GB\n",
            "Epoch 1/50\n",
            "-------------------------------\n"
          ]
        },
        {
          "output_type": "display_data",
          "data": {
            "text/plain": [
              "  0%|          | 0/1634 [00:00<?, ?it/s]"
            ],
            "application/vnd.jupyter.widget-view+json": {
              "version_major": 2,
              "version_minor": 0,
              "model_id": "76583e9081d64750b7b00ecde2070d03"
            }
          },
          "metadata": {}
        },
        {
          "output_type": "display_data",
          "data": {
            "text/plain": [
              "  0%|          | 0/182 [00:00<?, ?it/s]"
            ],
            "application/vnd.jupyter.widget-view+json": {
              "version_major": 2,
              "version_minor": 0,
              "model_id": "56aa81214b844520bfb7fd8d9d55f470"
            }
          },
          "metadata": {}
        }
      ]
    },
    {
      "cell_type": "code",
      "source": [
        "test_data = GenQA(dev_data_address)\n",
        "test_dataloader = DataLoader(test_data, batch_size=test_batch_size, shuffle=False, collate_fn=collote_fn)\n",
        "\n",
        "import json\n",
        "\n",
        "model.load_state_dict(torch.load('epoch_1_valid_bleu_53.38_model_weights.bin'))\n",
        "\n",
        "model.eval()\n",
        "with torch.no_grad():\n",
        "    print('evaluating on test set...')\n",
        "    sources, preds, labels = [], [], []\n",
        "    for batch_data in tqdm(test_dataloader):\n",
        "        batch_data = batch_data.to(device)\n",
        "        generated_tokens = model.generate(\n",
        "            batch_data[\"input_ids\"],\n",
        "            attention_mask=batch_data[\"attention_mask\"],\n",
        "            max_length=max_length,\n",
        "        ).cpu().numpy()\n",
        "        label_tokens = batch_data[\"labels\"].cpu().numpy()\n",
        "\n",
        "        decoded_sources = tokenizer.batch_decode(\n",
        "            batch_data[\"input_ids\"].cpu().numpy(),\n",
        "            skip_special_tokens=True,\n",
        "            use_source_tokenizer=True\n",
        "        )\n",
        "        decoded_preds = tokenizer.batch_decode(generated_tokens, skip_special_tokens=True)\n",
        "        print(\"input:\", decoded_sources)\n",
        "        print(\"input:\", decode_preds)\n",
        "        label_tokens = np.where(label_tokens != -100, label_tokens, tokenizer.pad_token_id)\n",
        "        decoded_labels = tokenizer.batch_decode(label_tokens, skip_special_tokens=True)\n",
        "\n",
        "        sources += [source.strip() for source in decoded_sources]\n",
        "        preds += [pred.strip() for pred in decoded_preds]\n",
        "        labels += [[label.strip()] for label in decoded_labels]\n",
        "    bleu_score = bleu.corpus_score(preds, labels).score\n",
        "    print(f\"Test BLEU: {bleu_score:>0.2f}\\n\")\n",
        "    results = []\n",
        "    print('saving predicted results...')\n",
        "    for source, pred, label in zip(sources, preds, labels):\n",
        "        results.append({\n",
        "            \"sentence\": source,\n",
        "            \"prediction\": pred,\n",
        "            \"translation\": label[0]\n",
        "        })\n",
        "    with open('test_data_pred.json', 'wt', encoding='utf-8') as f:\n",
        "        for exapmle_result in results:\n",
        "            f.write(json.dumps(exapmle_result, ensure_ascii=False) + '\\n')"
      ],
      "metadata": {
        "id": "-HT0VGC_AVML"
      },
      "execution_count": null,
      "outputs": []
    },
    {
      "cell_type": "code",
      "source": [],
      "metadata": {
        "id": "T3TOFYQRKYjP"
      },
      "execution_count": null,
      "outputs": []
    }
  ]
}